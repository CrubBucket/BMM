{
  "nbformat": 4,
  "nbformat_minor": 0,
  "metadata": {
    "colab": {
      "provenance": [],
      "gpuType": "T4",
      "toc_visible": true
    },
    "kernelspec": {
      "name": "python3",
      "display_name": "Python 3"
    },
    "language_info": {
      "name": "python"
    },
    "accelerator": "GPU",
    "gpuClass": "standard",
    "widgets": {
      "application/vnd.jupyter.widget-state+json": {
        "6b966420efb64133bfec27fc0e5f90ad": {
          "model_module": "@jupyter-widgets/controls",
          "model_name": "HBoxModel",
          "model_module_version": "1.5.0",
          "state": {
            "_dom_classes": [],
            "_model_module": "@jupyter-widgets/controls",
            "_model_module_version": "1.5.0",
            "_model_name": "HBoxModel",
            "_view_count": null,
            "_view_module": "@jupyter-widgets/controls",
            "_view_module_version": "1.5.0",
            "_view_name": "HBoxView",
            "box_style": "",
            "children": [
              "IPY_MODEL_b38f44af3ac64e22b287784da7ed22d0",
              "IPY_MODEL_de548f3c68a94f509ce67a4d64e4cce2",
              "IPY_MODEL_6145a0390d66427d93211ad027cd77db"
            ],
            "layout": "IPY_MODEL_674c159e57c8497082c3068623b7d4a1"
          }
        },
        "b38f44af3ac64e22b287784da7ed22d0": {
          "model_module": "@jupyter-widgets/controls",
          "model_name": "HTMLModel",
          "model_module_version": "1.5.0",
          "state": {
            "_dom_classes": [],
            "_model_module": "@jupyter-widgets/controls",
            "_model_module_version": "1.5.0",
            "_model_name": "HTMLModel",
            "_view_count": null,
            "_view_module": "@jupyter-widgets/controls",
            "_view_module_version": "1.5.0",
            "_view_name": "HTMLView",
            "description": "",
            "description_tooltip": null,
            "layout": "IPY_MODEL_1d6866c13fb14b8c852fd28474c1ee1d",
            "placeholder": "​",
            "style": "IPY_MODEL_009ae0a981a64394b4801fd136e8c7d7",
            "value": "Dl Completed...: 100%"
          }
        },
        "de548f3c68a94f509ce67a4d64e4cce2": {
          "model_module": "@jupyter-widgets/controls",
          "model_name": "FloatProgressModel",
          "model_module_version": "1.5.0",
          "state": {
            "_dom_classes": [],
            "_model_module": "@jupyter-widgets/controls",
            "_model_module_version": "1.5.0",
            "_model_name": "FloatProgressModel",
            "_view_count": null,
            "_view_module": "@jupyter-widgets/controls",
            "_view_module_version": "1.5.0",
            "_view_name": "ProgressView",
            "bar_style": "success",
            "description": "",
            "description_tooltip": null,
            "layout": "IPY_MODEL_fd591c12df90434c9fbe7430fd4aca38",
            "max": 5,
            "min": 0,
            "orientation": "horizontal",
            "style": "IPY_MODEL_0c741d83262243cfa025138120680324",
            "value": 5
          }
        },
        "6145a0390d66427d93211ad027cd77db": {
          "model_module": "@jupyter-widgets/controls",
          "model_name": "HTMLModel",
          "model_module_version": "1.5.0",
          "state": {
            "_dom_classes": [],
            "_model_module": "@jupyter-widgets/controls",
            "_model_module_version": "1.5.0",
            "_model_name": "HTMLModel",
            "_view_count": null,
            "_view_module": "@jupyter-widgets/controls",
            "_view_module_version": "1.5.0",
            "_view_name": "HTMLView",
            "description": "",
            "description_tooltip": null,
            "layout": "IPY_MODEL_c16bd0e021f84155bd6ece94de66028b",
            "placeholder": "​",
            "style": "IPY_MODEL_fe98a319defa4ea187904578c1b98950",
            "value": " 5/5 [00:00&lt;00:00,  9.81 file/s]"
          }
        },
        "674c159e57c8497082c3068623b7d4a1": {
          "model_module": "@jupyter-widgets/base",
          "model_name": "LayoutModel",
          "model_module_version": "1.2.0",
          "state": {
            "_model_module": "@jupyter-widgets/base",
            "_model_module_version": "1.2.0",
            "_model_name": "LayoutModel",
            "_view_count": null,
            "_view_module": "@jupyter-widgets/base",
            "_view_module_version": "1.2.0",
            "_view_name": "LayoutView",
            "align_content": null,
            "align_items": null,
            "align_self": null,
            "border": null,
            "bottom": null,
            "display": null,
            "flex": null,
            "flex_flow": null,
            "grid_area": null,
            "grid_auto_columns": null,
            "grid_auto_flow": null,
            "grid_auto_rows": null,
            "grid_column": null,
            "grid_gap": null,
            "grid_row": null,
            "grid_template_areas": null,
            "grid_template_columns": null,
            "grid_template_rows": null,
            "height": null,
            "justify_content": null,
            "justify_items": null,
            "left": null,
            "margin": null,
            "max_height": null,
            "max_width": null,
            "min_height": null,
            "min_width": null,
            "object_fit": null,
            "object_position": null,
            "order": null,
            "overflow": null,
            "overflow_x": null,
            "overflow_y": null,
            "padding": null,
            "right": null,
            "top": null,
            "visibility": null,
            "width": null
          }
        },
        "1d6866c13fb14b8c852fd28474c1ee1d": {
          "model_module": "@jupyter-widgets/base",
          "model_name": "LayoutModel",
          "model_module_version": "1.2.0",
          "state": {
            "_model_module": "@jupyter-widgets/base",
            "_model_module_version": "1.2.0",
            "_model_name": "LayoutModel",
            "_view_count": null,
            "_view_module": "@jupyter-widgets/base",
            "_view_module_version": "1.2.0",
            "_view_name": "LayoutView",
            "align_content": null,
            "align_items": null,
            "align_self": null,
            "border": null,
            "bottom": null,
            "display": null,
            "flex": null,
            "flex_flow": null,
            "grid_area": null,
            "grid_auto_columns": null,
            "grid_auto_flow": null,
            "grid_auto_rows": null,
            "grid_column": null,
            "grid_gap": null,
            "grid_row": null,
            "grid_template_areas": null,
            "grid_template_columns": null,
            "grid_template_rows": null,
            "height": null,
            "justify_content": null,
            "justify_items": null,
            "left": null,
            "margin": null,
            "max_height": null,
            "max_width": null,
            "min_height": null,
            "min_width": null,
            "object_fit": null,
            "object_position": null,
            "order": null,
            "overflow": null,
            "overflow_x": null,
            "overflow_y": null,
            "padding": null,
            "right": null,
            "top": null,
            "visibility": null,
            "width": null
          }
        },
        "009ae0a981a64394b4801fd136e8c7d7": {
          "model_module": "@jupyter-widgets/controls",
          "model_name": "DescriptionStyleModel",
          "model_module_version": "1.5.0",
          "state": {
            "_model_module": "@jupyter-widgets/controls",
            "_model_module_version": "1.5.0",
            "_model_name": "DescriptionStyleModel",
            "_view_count": null,
            "_view_module": "@jupyter-widgets/base",
            "_view_module_version": "1.2.0",
            "_view_name": "StyleView",
            "description_width": ""
          }
        },
        "fd591c12df90434c9fbe7430fd4aca38": {
          "model_module": "@jupyter-widgets/base",
          "model_name": "LayoutModel",
          "model_module_version": "1.2.0",
          "state": {
            "_model_module": "@jupyter-widgets/base",
            "_model_module_version": "1.2.0",
            "_model_name": "LayoutModel",
            "_view_count": null,
            "_view_module": "@jupyter-widgets/base",
            "_view_module_version": "1.2.0",
            "_view_name": "LayoutView",
            "align_content": null,
            "align_items": null,
            "align_self": null,
            "border": null,
            "bottom": null,
            "display": null,
            "flex": null,
            "flex_flow": null,
            "grid_area": null,
            "grid_auto_columns": null,
            "grid_auto_flow": null,
            "grid_auto_rows": null,
            "grid_column": null,
            "grid_gap": null,
            "grid_row": null,
            "grid_template_areas": null,
            "grid_template_columns": null,
            "grid_template_rows": null,
            "height": null,
            "justify_content": null,
            "justify_items": null,
            "left": null,
            "margin": null,
            "max_height": null,
            "max_width": null,
            "min_height": null,
            "min_width": null,
            "object_fit": null,
            "object_position": null,
            "order": null,
            "overflow": null,
            "overflow_x": null,
            "overflow_y": null,
            "padding": null,
            "right": null,
            "top": null,
            "visibility": null,
            "width": null
          }
        },
        "0c741d83262243cfa025138120680324": {
          "model_module": "@jupyter-widgets/controls",
          "model_name": "ProgressStyleModel",
          "model_module_version": "1.5.0",
          "state": {
            "_model_module": "@jupyter-widgets/controls",
            "_model_module_version": "1.5.0",
            "_model_name": "ProgressStyleModel",
            "_view_count": null,
            "_view_module": "@jupyter-widgets/base",
            "_view_module_version": "1.2.0",
            "_view_name": "StyleView",
            "bar_color": null,
            "description_width": ""
          }
        },
        "c16bd0e021f84155bd6ece94de66028b": {
          "model_module": "@jupyter-widgets/base",
          "model_name": "LayoutModel",
          "model_module_version": "1.2.0",
          "state": {
            "_model_module": "@jupyter-widgets/base",
            "_model_module_version": "1.2.0",
            "_model_name": "LayoutModel",
            "_view_count": null,
            "_view_module": "@jupyter-widgets/base",
            "_view_module_version": "1.2.0",
            "_view_name": "LayoutView",
            "align_content": null,
            "align_items": null,
            "align_self": null,
            "border": null,
            "bottom": null,
            "display": null,
            "flex": null,
            "flex_flow": null,
            "grid_area": null,
            "grid_auto_columns": null,
            "grid_auto_flow": null,
            "grid_auto_rows": null,
            "grid_column": null,
            "grid_gap": null,
            "grid_row": null,
            "grid_template_areas": null,
            "grid_template_columns": null,
            "grid_template_rows": null,
            "height": null,
            "justify_content": null,
            "justify_items": null,
            "left": null,
            "margin": null,
            "max_height": null,
            "max_width": null,
            "min_height": null,
            "min_width": null,
            "object_fit": null,
            "object_position": null,
            "order": null,
            "overflow": null,
            "overflow_x": null,
            "overflow_y": null,
            "padding": null,
            "right": null,
            "top": null,
            "visibility": null,
            "width": null
          }
        },
        "fe98a319defa4ea187904578c1b98950": {
          "model_module": "@jupyter-widgets/controls",
          "model_name": "DescriptionStyleModel",
          "model_module_version": "1.5.0",
          "state": {
            "_model_module": "@jupyter-widgets/controls",
            "_model_module_version": "1.5.0",
            "_model_name": "DescriptionStyleModel",
            "_view_count": null,
            "_view_module": "@jupyter-widgets/base",
            "_view_module_version": "1.2.0",
            "_view_name": "StyleView",
            "description_width": ""
          }
        }
      }
    }
  },
  "cells": [
    {
      "cell_type": "markdown",
      "source": [
        "# Lab 6\n",
        "\n",
        "__Author: Skorik Sergey__ "
      ],
      "metadata": {
        "id": "4R_Mk5YMVtjQ"
      }
    },
    {
      "cell_type": "markdown",
      "source": [
        "## The Task\n",
        "\n",
        "Train at least 100 MLP models on a toy dataset. Visualize their parameter projection onto 2d-space with color corresponding to accuracy."
      ],
      "metadata": {
        "id": "tL1u70BsVy5O"
      }
    },
    {
      "cell_type": "markdown",
      "source": [
        "## Theory\n",
        "\n",
        "*Hypothesis:* Unsupervised learning methods can help in neural architecture search ([article](https://proceedings.neurips.cc/paper/2020/hash/937936029af671cf479fa893db91cbdd-Abstract.html)). \n",
        "\n",
        "To test the hypothesis, it is proposed to train a large (100) number of models and look at how the unsupervised methods divide these models into classes depending on their quality."
      ],
      "metadata": {
        "id": "po8SqySfV8kw"
      }
    },
    {
      "cell_type": "markdown",
      "source": [
        "## Experiments"
      ],
      "metadata": {
        "id": "-P_4k3PlYI8l"
      }
    },
    {
      "cell_type": "markdown",
      "source": [
        "### Imports"
      ],
      "metadata": {
        "id": "YLmrmlVpYjKe"
      }
    },
    {
      "cell_type": "code",
      "execution_count": 1,
      "metadata": {
        "id": "xAf_ZT8_VW17"
      },
      "outputs": [],
      "source": [
        "## JAX imports\n",
        "import jax\n",
        "import jax.numpy as jnp\n",
        "from jax import random\n",
        "\n",
        "import numpy as np\n",
        "\n",
        "## Flax (NN in JAX)\n",
        "try:\n",
        "    import flax\n",
        "except ModuleNotFoundError: # Install flax if missing\n",
        "    !pip install --quiet flax\n",
        "    import flax\n",
        "from flax import linen as nn\n",
        "from flax.training.train_state import TrainState\n",
        "\n",
        "## Optax (Optimizers in JAX)\n",
        "try:\n",
        "    import optax\n",
        "except ModuleNotFoundError: # Install optax if missing\n",
        "    !pip install --quiet optax\n",
        "    import optax\n",
        "\n",
        "## import tensorflow dataset\n",
        "import tensorflow_datasets as tfds\n",
        "from sklearn.model_selection import train_test_split\n",
        "\n",
        "##Logging\n",
        "from tqdm import tqdm\n",
        "import matplotlib.pyplot as plt\n",
        "\n",
        "## Usupervised learning methods\n",
        "from sklearn.manifold import TSNE\n",
        "from sklearn.decomposition import PCA"
      ]
    },
    {
      "cell_type": "markdown",
      "source": [
        "### Load data"
      ],
      "metadata": {
        "id": "VsbQbuq5Y256"
      }
    },
    {
      "cell_type": "code",
      "source": [
        "class BaseConfig:\n",
        "    batch_size=32\n",
        "    num_classes = 10\n",
        "    max_networks = 100\n",
        "    pass"
      ],
      "metadata": {
        "id": "1Ek1xa4CiIEg"
      },
      "execution_count": 2,
      "outputs": []
    },
    {
      "cell_type": "code",
      "source": [
        "data_dir = '/tmp/tfds/'\n",
        "mnist_data, info = tfds.load(name=\"mnist\", batch_size=-1, data_dir=data_dir, with_info=True)\n",
        "mnist_data = tfds.as_numpy(mnist_data)\n",
        "train_data, test_data = mnist_data['train'], mnist_data['test']\n",
        "h, w, c = info.features['image'].shape\n",
        "num_pixels = h * w * c\n",
        "\n",
        "# Full train set\n",
        "X_train, y_train = train_data['image'], train_data['label']\n",
        "X_train = jnp.reshape(X_train, (len(X_train), num_pixels))\n",
        "\n",
        "# Full test set\n",
        "X_test, y_test = test_data['image'], test_data['label']\n",
        "X_test = jnp.reshape(X_test, (len(X_test), num_pixels))\n",
        "\n",
        "# Train val split\n",
        "X_train, X_val, y_train, y_val = train_test_split(X_train, y_train, test_size=0.20, random_state=42)"
      ],
      "metadata": {
        "id": "TIjANftwiJmC",
        "colab": {
          "base_uri": "https://localhost:8080/",
          "height": 84,
          "referenced_widgets": [
            "6b966420efb64133bfec27fc0e5f90ad",
            "b38f44af3ac64e22b287784da7ed22d0",
            "de548f3c68a94f509ce67a4d64e4cce2",
            "6145a0390d66427d93211ad027cd77db",
            "674c159e57c8497082c3068623b7d4a1",
            "1d6866c13fb14b8c852fd28474c1ee1d",
            "009ae0a981a64394b4801fd136e8c7d7",
            "fd591c12df90434c9fbe7430fd4aca38",
            "0c741d83262243cfa025138120680324",
            "c16bd0e021f84155bd6ece94de66028b",
            "fe98a319defa4ea187904578c1b98950"
          ]
        },
        "outputId": "645bb631-9de9-44d8-96c6-b84544bff845"
      },
      "execution_count": 3,
      "outputs": [
        {
          "output_type": "stream",
          "name": "stdout",
          "text": [
            "Downloading and preparing dataset Unknown size (download: Unknown size, generated: Unknown size, total: Unknown size) to /tmp/tfds/mnist/3.0.1...\n"
          ]
        },
        {
          "output_type": "display_data",
          "data": {
            "text/plain": [
              "Dl Completed...:   0%|          | 0/5 [00:00<?, ? file/s]"
            ],
            "application/vnd.jupyter.widget-view+json": {
              "version_major": 2,
              "version_minor": 0,
              "model_id": "6b966420efb64133bfec27fc0e5f90ad"
            }
          },
          "metadata": {}
        },
        {
          "output_type": "stream",
          "name": "stdout",
          "text": [
            "Dataset mnist downloaded and prepared to /tmp/tfds/mnist/3.0.1. Subsequent calls will reuse this data.\n"
          ]
        }
      ]
    },
    {
      "cell_type": "code",
      "source": [
        "plt.imshow(X_train[0].reshape(28, 28))\n",
        "plt.title(f\"Label: {y_train[0]}\")\n",
        "plt.show()"
      ],
      "metadata": {
        "colab": {
          "base_uri": "https://localhost:8080/",
          "height": 452
        },
        "id": "h-DYcK96Y7OW",
        "outputId": "4fc10835-f958-4701-c53a-d8212e112638"
      },
      "execution_count": 4,
      "outputs": [
        {
          "output_type": "display_data",
          "data": {
            "text/plain": [
              "<Figure size 640x480 with 1 Axes>"
            ],
            "image/png": "[encoded data removed]"
          },
          "metadata": {}
        }
      ]
    },
    {
      "cell_type": "markdown",
      "source": [
        "### Pipeline"
      ],
      "metadata": {
        "id": "F7GIhJSHaGJz"
      }
    },
    {
      "cell_type": "code",
      "source": [
        "class MLP(nn.Module):\n",
        "    hiddens: list\n",
        "\n",
        "    @nn.compact\n",
        "    def __call__(self, x):\n",
        "        for hidden_size in self.hiddens:\n",
        "            x = nn.Dense(hidden_size)(x)\n",
        "            x = nn.relu(x)\n",
        "        return nn.Dense(BaseConfig.num_classes)(x)"
      ],
      "metadata": {
        "id": "Gt3RiDwqbazW"
      },
      "execution_count": 5,
      "outputs": []
    },
    {
      "cell_type": "code",
      "source": [
        "def create_train_state(rng, tx, hiddens):\n",
        "    \"\"\"Creates initial `TrainState`.\"\"\"\n",
        "    model = MLP(hiddens)\n",
        "    params = model.init(rng, jnp.ones(shape=X_train[0].shape))['params'] # initialize parameters by passing a template input\n",
        "    return TrainState.create(apply_fn=model.apply, params=params, tx=tx)"
      ],
      "metadata": {
        "id": "TaqXFQZ0dmM-"
      },
      "execution_count": 6,
      "outputs": []
    },
    {
      "cell_type": "code",
      "source": [
        "@jax.jit\n",
        "def loss_fn(logits, labels):\n",
        "    labels_onehot = jax.nn.one_hot(labels, num_classes=BaseConfig.num_classes)\n",
        "    return optax.softmax_cross_entropy(logits=logits, labels=labels_onehot).mean()\n",
        "\n",
        "@jax.jit\n",
        "def train_step(state, input, labels):\n",
        "    def loss_f(params):\n",
        "        logits = state.apply_fn({'params': params}, input)\n",
        "        return loss_fn(logits, labels)\n",
        "    grad_fn = jax.value_and_grad(loss_f)\n",
        "    loss, grads = grad_fn(state.params)\n",
        "    state = state.apply_gradients(grads=grads)\n",
        "    return state, loss\n",
        "\n",
        "@jax.jit\n",
        "def validate(X_val, y_val, state):\n",
        "    logits = state.apply_fn({'params': state.params}, X_val)\n",
        "    return loss_fn(logits, y_val)\n",
        "\n",
        "def train_epoch(state, epoch, X_train, y_train):\n",
        "    \"\"\"Train for a single epoch.\"\"\"\n",
        "    train_loss = []\n",
        "    bs = BaseConfig.batch_size\n",
        "    for it in range(X_train.shape[0] // bs):\n",
        "        input = X_train[it*bs:(it+1)*bs]\n",
        "        labels = y_train[it*bs:(it+1)*bs]\n",
        "        state, loss = train_step(state, input, labels)\n",
        "        train_loss.append(loss.item())\n",
        "    return state, train_loss\n",
        "\n",
        "def train_model(X_train, y_train, X_test, y_test, state, epochs=100, epochs_no_improve=10):\n",
        "    best_loss = jnp.inf\n",
        "    best_model = None\n",
        "    patience = 0\n",
        "    train_losses = []\n",
        "    for epoch in tqdm(range(epochs)):\n",
        "        state, train_loss = train_epoch(state, epoch, X_train, y_train)\n",
        "        validate_loss = validate(X_test, y_test, state)\n",
        "        train_losses.extend(train_loss)\n",
        "        if validate_loss < best_loss:\n",
        "            best_loss = validate_loss\n",
        "            best_model = state.params\n",
        "            patience = 0\n",
        "        if patience == epochs_no_improve:\n",
        "            print(\"Early stopping\")\n",
        "            return best_model, train_losses, best_loss\n",
        "        patience += 1\n",
        "    return best_model, train_losses, best_loss\n",
        "\n",
        "def calculate_acc(params, hidden, x, y):\n",
        "    model = MLP(hidden)\n",
        "    preds = nn.activation.softmax(model.apply({'params': params}, x))\n",
        "    ids = jnp.argmax(preds, axis=-1)\n",
        "    return jnp.mean(ids == y)\n",
        "\n",
        "\n",
        "def flat_params(params, num_layers):\n",
        "    flattened_params = jnp.array([])\n",
        "    num_layers.insert(0, 784)\n",
        "    num_layers.append(10)\n",
        "    for i in range(len(num_layers)-1):\n",
        "        weight = params[f'Dense_{i}']['kernel'].reshape(num_layers[i]*num_layers[i+1])\n",
        "        bias = params[f'Dense_{i}']['bias']\n",
        "        flattened_params = jnp.concatenate((flattened_params, weight))\n",
        "        flattened_params = jnp.concatenate((flattened_params, bias))\n",
        "    return flattened_params\n",
        "\n",
        "def training_procedure(num_networks, hiddens, X_train, y_train, X_val, y_val, X_test, y_test):\n",
        "    # train_losses = []\n",
        "    val_losses = []\n",
        "    test_accs = []\n",
        "    params = []\n",
        "\n",
        "    for i in range(num_networks):\n",
        "        print(f\"Model {i}:\")\n",
        "        ids = np.random.choice(X_train.shape[0], size=(X_train.shape[0]))\n",
        "        state = create_train_state(random.PRNGKey(i+3), optax.adam(1e-3), hiddens[i])\n",
        "        best_params, train_loss, val_loss = train_model(X_train[ids], y_train[ids], X_val, y_val, state)\n",
        "        test_acc = calculate_acc(best_params, hiddens[i], X_test, y_test)\n",
        "        print('Model: %d best_loss: %.4f test_acc: %.4f' % (i, val_loss, test_acc))\n",
        "        params.append(flat_params(best_params, hiddens[i]))\n",
        "        # train_losses.append(train_loss)\n",
        "        val_losses.append(val_loss)\n",
        "        test_accs.append(test_acc)\n",
        "        print(\"-----------------------------\")\n",
        "\n",
        "    return val_losses, test_accs, params"
      ],
      "metadata": {
        "id": "WtGvuk2jeo1A"
      },
      "execution_count": 7,
      "outputs": []
    },
    {
      "cell_type": "code",
      "source": [
        "def plot_params_projection(params_projection, figtitle):\n",
        "    plt.figure(figsize=(10,6))\n",
        "    plt.scatter(x = params_projection[:,0], \n",
        "                y = params_projection[:, 1], \n",
        "                c = test_accs)\n",
        "    plt.xlabel('x-dim', fontsize=14)\n",
        "    plt.ylabel('y-dim', fontsize=14)\n",
        "    plt.title(figtitle, fontsize=16)\n",
        "    plt.colorbar()\n",
        "    plt.plot()"
      ],
      "metadata": {
        "id": "y9I1UoEwMMZH"
      },
      "execution_count": 8,
      "outputs": []
    },
    {
      "cell_type": "markdown",
      "source": [
        "#### Experiment 1: simple MLP's training"
      ],
      "metadata": {
        "id": "ijf5y5ufuOmV"
      }
    },
    {
      "cell_type": "markdown",
      "source": [
        "__training__"
      ],
      "metadata": {
        "id": "XnWSX_9zusnN"
      }
    },
    {
      "cell_type": "code",
      "source": [
        "hiddens = [[128] for _ in range(BaseConfig.max_networks)]\n",
        "\n",
        "val_losses, test_accs, params = training_procedure(BaseConfig.max_networks, hiddens, X_train, y_train, X_val, y_val, X_test, y_test)"
      ],
      "metadata": {
        "colab": {
          "base_uri": "https://localhost:8080/"
        },
        "id": "WWO7UWvIuUg7",
        "outputId": "809d75eb-da4a-4e41-9b6c-116985ec8f2d"
      },
      "execution_count": 9,
      "outputs": [
        {
          "output_type": "stream",
          "name": "stdout",
          "text": [
            "Model 0:\n"
          ]
        },
        {
          "output_type": "stream",
          "name": "stderr",
          "text": [
            " 16%|█▌        | 16/100 [00:22<01:59,  1.42s/it]"
          ]
        },
        {
          "output_type": "stream",
          "name": "stdout",
          "text": [
            "Early stopping\n"
          ]
        },
        {
          "output_type": "stream",
          "name": "stderr",
          "text": [
            "\n"
          ]
        },
        {
          "output_type": "stream",
          "name": "stdout",
          "text": [
            "Model: 0 best_loss: 0.3469 test_acc: 0.9452\n",
            "-----------------------------\n",
            "Model 1:\n"
          ]
        },
        {
          "output_type": "stream",
          "name": "stderr",
          "text": [
            " 13%|█▎        | 13/100 [00:18<02:01,  1.40s/it]\n"
          ]
        },
        {
          "output_type": "stream",
          "name": "stdout",
          "text": [
            "Early stopping\n",
            "Model: 1 best_loss: 0.2688 test_acc: 0.9459\n",
            "-----------------------------\n",
            "Model 2:\n"
          ]
        },
        {
          "output_type": "stream",
          "name": "stderr",
          "text": [
            " 14%|█▍        | 14/100 [00:20<02:04,  1.44s/it]\n"
          ]
        },
        {
          "output_type": "stream",
          "name": "stdout",
          "text": [
            "Early stopping\n",
            "Model: 2 best_loss: 0.3212 test_acc: 0.9366\n",
            "-----------------------------\n",
            "Model 3:\n"
          ]
        },
        {
          "output_type": "stream",
          "name": "stderr",
          "text": [
            " 15%|█▌        | 15/100 [00:20<01:56,  1.37s/it]\n"
          ]
        },
        {
          "output_type": "stream",
          "name": "stdout",
          "text": [
            "Early stopping\n",
            "Model: 3 best_loss: 0.3075 test_acc: 0.9397\n",
            "-----------------------------\n",
            "Model 4:\n"
          ]
        },
        {
          "output_type": "stream",
          "name": "stderr",
          "text": [
            " 12%|█▏        | 12/100 [00:16<02:02,  1.39s/it]\n"
          ]
        },
        {
          "output_type": "stream",
          "name": "stdout",
          "text": [
            "Early stopping\n",
            "Model: 4 best_loss: 0.3144 test_acc: 0.9362\n",
            "-----------------------------\n",
            "Model 5:\n"
          ]
        },
        {
          "output_type": "stream",
          "name": "stderr",
          "text": [
            " 14%|█▍        | 14/100 [00:19<02:00,  1.40s/it]\n"
          ]
        },
        {
          "output_type": "stream",
          "name": "stdout",
          "text": [
            "Early stopping\n",
            "Model: 5 best_loss: 0.3058 test_acc: 0.9411\n",
            "-----------------------------\n",
            "Model 6:\n"
          ]
        },
        {
          "output_type": "stream",
          "name": "stderr",
          "text": [
            " 13%|█▎        | 13/100 [00:18<02:02,  1.41s/it]\n"
          ]
        },
        {
          "output_type": "stream",
          "name": "stdout",
          "text": [
            "Early stopping\n",
            "Model: 6 best_loss: 0.3056 test_acc: 0.9428\n",
            "-----------------------------\n",
            "Model 7:\n"
          ]
        },
        {
          "output_type": "stream",
          "name": "stderr",
          "text": [
            " 14%|█▍        | 14/100 [00:19<01:58,  1.38s/it]\n"
          ]
        },
        {
          "output_type": "stream",
          "name": "stdout",
          "text": [
            "Early stopping\n",
            "Model: 7 best_loss: 0.3188 test_acc: 0.9388\n",
            "-----------------------------\n",
            "Model 8:\n"
          ]
        },
        {
          "output_type": "stream",
          "name": "stderr",
          "text": [
            " 14%|█▍        | 14/100 [00:19<02:01,  1.41s/it]\n"
          ]
        },
        {
          "output_type": "stream",
          "name": "stdout",
          "text": [
            "Early stopping\n",
            "Model: 8 best_loss: 0.2944 test_acc: 0.9426\n",
            "-----------------------------\n",
            "Model 9:\n"
          ]
        },
        {
          "output_type": "stream",
          "name": "stderr",
          "text": [
            " 12%|█▏        | 12/100 [00:16<02:00,  1.37s/it]\n"
          ]
        },
        {
          "output_type": "stream",
          "name": "stdout",
          "text": [
            "Early stopping\n",
            "Model: 9 best_loss: 0.3090 test_acc: 0.9365\n",
            "-----------------------------\n",
            "Model 10:\n"
          ]
        },
        {
          "output_type": "stream",
          "name": "stderr",
          "text": [
            " 15%|█▌        | 15/100 [00:20<01:56,  1.37s/it]\n"
          ]
        },
        {
          "output_type": "stream",
          "name": "stdout",
          "text": [
            "Early stopping\n",
            "Model: 10 best_loss: 0.3086 test_acc: 0.9481\n",
            "-----------------------------\n",
            "Model 11:\n"
          ]
        },
        {
          "output_type": "stream",
          "name": "stderr",
          "text": [
            " 12%|█▏        | 12/100 [00:20<02:27,  1.68s/it]\n"
          ]
        },
        {
          "output_type": "stream",
          "name": "stdout",
          "text": [
            "Early stopping\n",
            "Model: 11 best_loss: 0.3148 test_acc: 0.9352\n",
            "-----------------------------\n",
            "Model 12:\n"
          ]
        },
        {
          "output_type": "stream",
          "name": "stderr",
          "text": [
            " 13%|█▎        | 13/100 [00:18<02:01,  1.40s/it]\n"
          ]
        },
        {
          "output_type": "stream",
          "name": "stdout",
          "text": [
            "Early stopping\n",
            "Model: 12 best_loss: 0.3324 test_acc: 0.9319\n",
            "-----------------------------\n",
            "Model 13:\n"
          ]
        },
        {
          "output_type": "stream",
          "name": "stderr",
          "text": [
            " 14%|█▍        | 14/100 [00:19<01:57,  1.37s/it]\n"
          ]
        },
        {
          "output_type": "stream",
          "name": "stdout",
          "text": [
            "Early stopping\n",
            "Model: 13 best_loss: 0.3059 test_acc: 0.9445\n",
            "-----------------------------\n",
            "Model 14:\n"
          ]
        },
        {
          "output_type": "stream",
          "name": "stderr",
          "text": [
            " 12%|█▏        | 12/100 [00:16<02:04,  1.41s/it]\n"
          ]
        },
        {
          "output_type": "stream",
          "name": "stdout",
          "text": [
            "Early stopping\n",
            "Model: 14 best_loss: 0.2905 test_acc: 0.9404\n",
            "-----------------------------\n",
            "Model 15:\n"
          ]
        },
        {
          "output_type": "stream",
          "name": "stderr",
          "text": [
            " 12%|█▏        | 12/100 [00:16<02:01,  1.38s/it]\n"
          ]
        },
        {
          "output_type": "stream",
          "name": "stdout",
          "text": [
            "Early stopping\n",
            "Model: 15 best_loss: 0.3141 test_acc: 0.9320\n",
            "-----------------------------\n",
            "Model 16:\n"
          ]
        },
        {
          "output_type": "stream",
          "name": "stderr",
          "text": [
            " 15%|█▌        | 15/100 [00:20<01:58,  1.39s/it]\n"
          ]
        },
        {
          "output_type": "stream",
          "name": "stdout",
          "text": [
            "Early stopping\n",
            "Model: 16 best_loss: 0.3235 test_acc: 0.9422\n",
            "-----------------------------\n",
            "Model 17:\n"
          ]
        },
        {
          "output_type": "stream",
          "name": "stderr",
          "text": [
            " 11%|█         | 11/100 [00:15<02:04,  1.40s/it]\n"
          ]
        },
        {
          "output_type": "stream",
          "name": "stdout",
          "text": [
            "Early stopping\n",
            "Model: 17 best_loss: 0.3234 test_acc: 0.9300\n",
            "-----------------------------\n",
            "Model 18:\n"
          ]
        },
        {
          "output_type": "stream",
          "name": "stderr",
          "text": [
            " 12%|█▏        | 12/100 [00:17<02:05,  1.42s/it]\n"
          ]
        },
        {
          "output_type": "stream",
          "name": "stdout",
          "text": [
            "Early stopping\n",
            "Model: 18 best_loss: 0.3221 test_acc: 0.9346\n",
            "-----------------------------\n",
            "Model 19:\n"
          ]
        },
        {
          "output_type": "stream",
          "name": "stderr",
          "text": [
            " 12%|█▏        | 12/100 [00:17<02:06,  1.44s/it]\n"
          ]
        },
        {
          "output_type": "stream",
          "name": "stdout",
          "text": [
            "Early stopping\n",
            "Model: 19 best_loss: 0.3089 test_acc: 0.9333\n",
            "-----------------------------\n",
            "Model 20:\n"
          ]
        },
        {
          "output_type": "stream",
          "name": "stderr",
          "text": [
            " 14%|█▍        | 14/100 [00:19<01:58,  1.38s/it]\n"
          ]
        },
        {
          "output_type": "stream",
          "name": "stdout",
          "text": [
            "Early stopping\n",
            "Model: 20 best_loss: 0.2935 test_acc: 0.9454\n",
            "-----------------------------\n",
            "Model 21:\n"
          ]
        },
        {
          "output_type": "stream",
          "name": "stderr",
          "text": [
            " 13%|█▎        | 13/100 [00:18<02:02,  1.41s/it]\n"
          ]
        },
        {
          "output_type": "stream",
          "name": "stdout",
          "text": [
            "Early stopping\n",
            "Model: 21 best_loss: 0.3212 test_acc: 0.9399\n",
            "-----------------------------\n",
            "Model 22:\n"
          ]
        },
        {
          "output_type": "stream",
          "name": "stderr",
          "text": [
            " 14%|█▍        | 14/100 [00:19<01:59,  1.38s/it]\n"
          ]
        },
        {
          "output_type": "stream",
          "name": "stdout",
          "text": [
            "Early stopping\n",
            "Model: 22 best_loss: 0.2783 test_acc: 0.9388\n",
            "-----------------------------\n",
            "Model 23:\n"
          ]
        },
        {
          "output_type": "stream",
          "name": "stderr",
          "text": [
            " 14%|█▍        | 14/100 [00:19<02:00,  1.40s/it]\n"
          ]
        },
        {
          "output_type": "stream",
          "name": "stdout",
          "text": [
            "Early stopping\n",
            "Model: 23 best_loss: 0.2973 test_acc: 0.9411\n",
            "-----------------------------\n",
            "Model 24:\n"
          ]
        },
        {
          "output_type": "stream",
          "name": "stderr",
          "text": [
            " 14%|█▍        | 14/100 [00:19<01:58,  1.38s/it]\n"
          ]
        },
        {
          "output_type": "stream",
          "name": "stdout",
          "text": [
            "Early stopping\n",
            "Model: 24 best_loss: 0.3317 test_acc: 0.9433\n",
            "-----------------------------\n",
            "Model 25:\n"
          ]
        },
        {
          "output_type": "stream",
          "name": "stderr",
          "text": [
            " 14%|█▍        | 14/100 [00:19<02:01,  1.41s/it]\n"
          ]
        },
        {
          "output_type": "stream",
          "name": "stdout",
          "text": [
            "Early stopping\n",
            "Model: 25 best_loss: 0.3122 test_acc: 0.9417\n",
            "-----------------------------\n",
            "Model 26:\n"
          ]
        },
        {
          "output_type": "stream",
          "name": "stderr",
          "text": [
            " 13%|█▎        | 13/100 [00:18<02:03,  1.42s/it]\n"
          ]
        },
        {
          "output_type": "stream",
          "name": "stdout",
          "text": [
            "Early stopping\n",
            "Model: 26 best_loss: 0.3193 test_acc: 0.9367\n",
            "-----------------------------\n",
            "Model 27:\n"
          ]
        },
        {
          "output_type": "stream",
          "name": "stderr",
          "text": [
            " 14%|█▍        | 14/100 [00:19<01:59,  1.39s/it]\n"
          ]
        },
        {
          "output_type": "stream",
          "name": "stdout",
          "text": [
            "Early stopping\n",
            "Model: 27 best_loss: 0.3223 test_acc: 0.9367\n",
            "-----------------------------\n",
            "Model 28:\n"
          ]
        },
        {
          "output_type": "stream",
          "name": "stderr",
          "text": [
            " 13%|█▎        | 13/100 [00:18<02:04,  1.43s/it]\n"
          ]
        },
        {
          "output_type": "stream",
          "name": "stdout",
          "text": [
            "Early stopping\n",
            "Model: 28 best_loss: 0.2973 test_acc: 0.9434\n",
            "-----------------------------\n",
            "Model 29:\n"
          ]
        },
        {
          "output_type": "stream",
          "name": "stderr",
          "text": [
            " 11%|█         | 11/100 [00:15<02:05,  1.41s/it]\n"
          ]
        },
        {
          "output_type": "stream",
          "name": "stdout",
          "text": [
            "Early stopping\n",
            "Model: 29 best_loss: 0.3262 test_acc: 0.9295\n",
            "-----------------------------\n",
            "Model 30:\n"
          ]
        },
        {
          "output_type": "stream",
          "name": "stderr",
          "text": [
            " 12%|█▏        | 12/100 [00:16<02:03,  1.41s/it]\n"
          ]
        },
        {
          "output_type": "stream",
          "name": "stdout",
          "text": [
            "Early stopping\n",
            "Model: 30 best_loss: 0.2916 test_acc: 0.9382\n",
            "-----------------------------\n",
            "Model 31:\n"
          ]
        },
        {
          "output_type": "stream",
          "name": "stderr",
          "text": [
            " 15%|█▌        | 15/100 [00:21<02:00,  1.42s/it]\n"
          ]
        },
        {
          "output_type": "stream",
          "name": "stdout",
          "text": [
            "Early stopping\n",
            "Model: 31 best_loss: 0.3076 test_acc: 0.9396\n",
            "-----------------------------\n",
            "Model 32:\n"
          ]
        },
        {
          "output_type": "stream",
          "name": "stderr",
          "text": [
            " 14%|█▍        | 14/100 [00:19<02:01,  1.42s/it]\n"
          ]
        },
        {
          "output_type": "stream",
          "name": "stdout",
          "text": [
            "Early stopping\n",
            "Model: 32 best_loss: 0.2979 test_acc: 0.9460\n",
            "-----------------------------\n",
            "Model 33:\n"
          ]
        },
        {
          "output_type": "stream",
          "name": "stderr",
          "text": [
            " 14%|█▍        | 14/100 [00:19<01:58,  1.38s/it]\n"
          ]
        },
        {
          "output_type": "stream",
          "name": "stdout",
          "text": [
            "Early stopping\n",
            "Model: 33 best_loss: 0.3051 test_acc: 0.9449\n",
            "-----------------------------\n",
            "Model 34:\n"
          ]
        },
        {
          "output_type": "stream",
          "name": "stderr",
          "text": [
            " 12%|█▏        | 12/100 [00:17<02:07,  1.45s/it]\n"
          ]
        },
        {
          "output_type": "stream",
          "name": "stdout",
          "text": [
            "Early stopping\n",
            "Model: 34 best_loss: 0.2965 test_acc: 0.9444\n",
            "-----------------------------\n",
            "Model 35:\n"
          ]
        },
        {
          "output_type": "stream",
          "name": "stderr",
          "text": [
            " 12%|█▏        | 12/100 [00:16<02:02,  1.40s/it]\n"
          ]
        },
        {
          "output_type": "stream",
          "name": "stdout",
          "text": [
            "Early stopping\n",
            "Model: 35 best_loss: 0.2938 test_acc: 0.9400\n",
            "-----------------------------\n",
            "Model 36:\n"
          ]
        },
        {
          "output_type": "stream",
          "name": "stderr",
          "text": [
            " 15%|█▌        | 15/100 [00:21<01:59,  1.40s/it]\n"
          ]
        },
        {
          "output_type": "stream",
          "name": "stdout",
          "text": [
            "Early stopping\n",
            "Model: 36 best_loss: 0.3234 test_acc: 0.9387\n",
            "-----------------------------\n",
            "Model 37:\n"
          ]
        },
        {
          "output_type": "stream",
          "name": "stderr",
          "text": [
            " 13%|█▎        | 13/100 [00:18<02:01,  1.40s/it]\n"
          ]
        },
        {
          "output_type": "stream",
          "name": "stdout",
          "text": [
            "Early stopping\n",
            "Model: 37 best_loss: 0.3083 test_acc: 0.9348\n",
            "-----------------------------\n",
            "Model 38:\n"
          ]
        },
        {
          "output_type": "stream",
          "name": "stderr",
          "text": [
            " 13%|█▎        | 13/100 [00:19<02:08,  1.47s/it]\n"
          ]
        },
        {
          "output_type": "stream",
          "name": "stdout",
          "text": [
            "Early stopping\n",
            "Model: 38 best_loss: 0.3192 test_acc: 0.9291\n",
            "-----------------------------\n",
            "Model 39:\n"
          ]
        },
        {
          "output_type": "stream",
          "name": "stderr",
          "text": [
            " 14%|█▍        | 14/100 [00:19<01:59,  1.39s/it]\n"
          ]
        },
        {
          "output_type": "stream",
          "name": "stdout",
          "text": [
            "Early stopping\n",
            "Model: 39 best_loss: 0.3030 test_acc: 0.9417\n",
            "-----------------------------\n",
            "Model 40:\n"
          ]
        },
        {
          "output_type": "stream",
          "name": "stderr",
          "text": [
            " 14%|█▍        | 14/100 [00:20<02:03,  1.44s/it]\n"
          ]
        },
        {
          "output_type": "stream",
          "name": "stdout",
          "text": [
            "Early stopping\n",
            "Model: 40 best_loss: 0.3178 test_acc: 0.9357\n",
            "-----------------------------\n",
            "Model 41:\n"
          ]
        },
        {
          "output_type": "stream",
          "name": "stderr",
          "text": [
            " 14%|█▍        | 14/100 [00:20<02:03,  1.44s/it]\n"
          ]
        },
        {
          "output_type": "stream",
          "name": "stdout",
          "text": [
            "Early stopping\n",
            "Model: 41 best_loss: 0.3361 test_acc: 0.9449\n",
            "-----------------------------\n",
            "Model 42:\n"
          ]
        },
        {
          "output_type": "stream",
          "name": "stderr",
          "text": [
            " 12%|█▏        | 12/100 [00:17<02:06,  1.44s/it]\n"
          ]
        },
        {
          "output_type": "stream",
          "name": "stdout",
          "text": [
            "Early stopping\n",
            "Model: 42 best_loss: 0.2967 test_acc: 0.9337\n",
            "-----------------------------\n",
            "Model 43:\n"
          ]
        },
        {
          "output_type": "stream",
          "name": "stderr",
          "text": [
            " 16%|█▌        | 16/100 [00:22<01:57,  1.40s/it]\n"
          ]
        },
        {
          "output_type": "stream",
          "name": "stdout",
          "text": [
            "Early stopping\n",
            "Model: 43 best_loss: 0.3308 test_acc: 0.9486\n",
            "-----------------------------\n",
            "Model 44:\n"
          ]
        },
        {
          "output_type": "stream",
          "name": "stderr",
          "text": [
            " 12%|█▏        | 12/100 [00:17<02:05,  1.43s/it]\n"
          ]
        },
        {
          "output_type": "stream",
          "name": "stdout",
          "text": [
            "Early stopping\n",
            "Model: 44 best_loss: 0.3362 test_acc: 0.9356\n",
            "-----------------------------\n",
            "Model 45:\n"
          ]
        },
        {
          "output_type": "stream",
          "name": "stderr",
          "text": [
            " 12%|█▏        | 12/100 [00:17<02:08,  1.46s/it]\n"
          ]
        },
        {
          "output_type": "stream",
          "name": "stdout",
          "text": [
            "Early stopping\n",
            "Model: 45 best_loss: 0.3321 test_acc: 0.9252\n",
            "-----------------------------\n",
            "Model 46:\n"
          ]
        },
        {
          "output_type": "stream",
          "name": "stderr",
          "text": [
            " 17%|█▋        | 17/100 [00:23<01:56,  1.40s/it]\n"
          ]
        },
        {
          "output_type": "stream",
          "name": "stdout",
          "text": [
            "Early stopping\n",
            "Model: 46 best_loss: 0.3271 test_acc: 0.9402\n",
            "-----------------------------\n",
            "Model 47:\n"
          ]
        },
        {
          "output_type": "stream",
          "name": "stderr",
          "text": [
            " 13%|█▎        | 13/100 [00:18<02:03,  1.42s/it]\n"
          ]
        },
        {
          "output_type": "stream",
          "name": "stdout",
          "text": [
            "Early stopping\n",
            "Model: 47 best_loss: 0.3282 test_acc: 0.9379\n",
            "-----------------------------\n",
            "Model 48:\n"
          ]
        },
        {
          "output_type": "stream",
          "name": "stderr",
          "text": [
            " 12%|█▏        | 12/100 [00:17<02:07,  1.45s/it]\n"
          ]
        },
        {
          "output_type": "stream",
          "name": "stdout",
          "text": [
            "Early stopping\n",
            "Model: 48 best_loss: 0.2949 test_acc: 0.9308\n",
            "-----------------------------\n",
            "Model 49:\n"
          ]
        },
        {
          "output_type": "stream",
          "name": "stderr",
          "text": [
            " 12%|█▏        | 12/100 [00:17<02:09,  1.47s/it]\n"
          ]
        },
        {
          "output_type": "stream",
          "name": "stdout",
          "text": [
            "Early stopping\n",
            "Model: 49 best_loss: 0.3210 test_acc: 0.9302\n",
            "-----------------------------\n",
            "Model 50:\n"
          ]
        },
        {
          "output_type": "stream",
          "name": "stderr",
          "text": [
            " 13%|█▎        | 13/100 [00:18<02:05,  1.44s/it]\n"
          ]
        },
        {
          "output_type": "stream",
          "name": "stdout",
          "text": [
            "Early stopping\n",
            "Model: 50 best_loss: 0.3467 test_acc: 0.9346\n",
            "-----------------------------\n",
            "Model 51:\n"
          ]
        },
        {
          "output_type": "stream",
          "name": "stderr",
          "text": [
            " 14%|█▍        | 14/100 [00:20<02:05,  1.46s/it]\n"
          ]
        },
        {
          "output_type": "stream",
          "name": "stdout",
          "text": [
            "Early stopping\n",
            "Model: 51 best_loss: 0.2744 test_acc: 0.9430\n",
            "-----------------------------\n",
            "Model 52:\n"
          ]
        },
        {
          "output_type": "stream",
          "name": "stderr",
          "text": [
            " 15%|█▌        | 15/100 [00:21<02:02,  1.44s/it]\n"
          ]
        },
        {
          "output_type": "stream",
          "name": "stdout",
          "text": [
            "Early stopping\n",
            "Model: 52 best_loss: 0.3331 test_acc: 0.9367\n",
            "-----------------------------\n",
            "Model 53:\n"
          ]
        },
        {
          "output_type": "stream",
          "name": "stderr",
          "text": [
            " 16%|█▌        | 16/100 [00:22<01:59,  1.42s/it]\n"
          ]
        },
        {
          "output_type": "stream",
          "name": "stdout",
          "text": [
            "Early stopping\n",
            "Model: 53 best_loss: 0.3334 test_acc: 0.9456\n",
            "-----------------------------\n",
            "Model 54:\n"
          ]
        },
        {
          "output_type": "stream",
          "name": "stderr",
          "text": [
            " 14%|█▍        | 14/100 [00:20<02:02,  1.43s/it]\n"
          ]
        },
        {
          "output_type": "stream",
          "name": "stdout",
          "text": [
            "Early stopping\n",
            "Model: 54 best_loss: 0.3209 test_acc: 0.9393\n",
            "-----------------------------\n",
            "Model 55:\n"
          ]
        },
        {
          "output_type": "stream",
          "name": "stderr",
          "text": [
            " 14%|█▍        | 14/100 [00:20<02:04,  1.44s/it]\n"
          ]
        },
        {
          "output_type": "stream",
          "name": "stdout",
          "text": [
            "Early stopping\n",
            "Model: 55 best_loss: 0.3162 test_acc: 0.9469\n",
            "-----------------------------\n",
            "Model 56:\n"
          ]
        },
        {
          "output_type": "stream",
          "name": "stderr",
          "text": [
            " 15%|█▌        | 15/100 [00:21<02:01,  1.42s/it]\n"
          ]
        },
        {
          "output_type": "stream",
          "name": "stdout",
          "text": [
            "Early stopping\n",
            "Model: 56 best_loss: 0.3239 test_acc: 0.9404\n",
            "-----------------------------\n",
            "Model 57:\n"
          ]
        },
        {
          "output_type": "stream",
          "name": "stderr",
          "text": [
            " 12%|█▏        | 12/100 [00:17<02:06,  1.44s/it]\n"
          ]
        },
        {
          "output_type": "stream",
          "name": "stdout",
          "text": [
            "Early stopping\n",
            "Model: 57 best_loss: 0.3132 test_acc: 0.9300\n",
            "-----------------------------\n",
            "Model 58:\n"
          ]
        },
        {
          "output_type": "stream",
          "name": "stderr",
          "text": [
            " 12%|█▏        | 12/100 [00:17<02:09,  1.47s/it]\n"
          ]
        },
        {
          "output_type": "stream",
          "name": "stdout",
          "text": [
            "Early stopping\n",
            "Model: 58 best_loss: 0.2955 test_acc: 0.9364\n",
            "-----------------------------\n",
            "Model 59:\n"
          ]
        },
        {
          "output_type": "stream",
          "name": "stderr",
          "text": [
            " 13%|█▎        | 13/100 [00:18<02:04,  1.43s/it]\n"
          ]
        },
        {
          "output_type": "stream",
          "name": "stdout",
          "text": [
            "Early stopping\n",
            "Model: 59 best_loss: 0.3420 test_acc: 0.9443\n",
            "-----------------------------\n",
            "Model 60:\n"
          ]
        },
        {
          "output_type": "stream",
          "name": "stderr",
          "text": [
            " 11%|█         | 11/100 [00:16<02:10,  1.47s/it]\n"
          ]
        },
        {
          "output_type": "stream",
          "name": "stdout",
          "text": [
            "Early stopping\n",
            "Model: 60 best_loss: 0.3136 test_acc: 0.9410\n",
            "-----------------------------\n",
            "Model 61:\n"
          ]
        },
        {
          "output_type": "stream",
          "name": "stderr",
          "text": [
            " 17%|█▋        | 17/100 [00:24<01:58,  1.43s/it]\n"
          ]
        },
        {
          "output_type": "stream",
          "name": "stdout",
          "text": [
            "Early stopping\n",
            "Model: 61 best_loss: 0.3442 test_acc: 0.9451\n",
            "-----------------------------\n",
            "Model 62:\n"
          ]
        },
        {
          "output_type": "stream",
          "name": "stderr",
          "text": [
            " 12%|█▏        | 12/100 [00:18<02:13,  1.51s/it]\n"
          ]
        },
        {
          "output_type": "stream",
          "name": "stdout",
          "text": [
            "Early stopping\n",
            "Model: 62 best_loss: 0.3365 test_acc: 0.9339\n",
            "-----------------------------\n",
            "Model 63:\n"
          ]
        },
        {
          "output_type": "stream",
          "name": "stderr",
          "text": [
            " 13%|█▎        | 13/100 [00:19<02:07,  1.46s/it]\n"
          ]
        },
        {
          "output_type": "stream",
          "name": "stdout",
          "text": [
            "Early stopping\n",
            "Model: 63 best_loss: 0.3284 test_acc: 0.9331\n",
            "-----------------------------\n",
            "Model 64:\n"
          ]
        },
        {
          "output_type": "stream",
          "name": "stderr",
          "text": [
            " 12%|█▏        | 12/100 [00:18<02:13,  1.51s/it]\n"
          ]
        },
        {
          "output_type": "stream",
          "name": "stdout",
          "text": [
            "Early stopping\n",
            "Model: 64 best_loss: 0.3442 test_acc: 0.9322\n",
            "-----------------------------\n",
            "Model 65:\n"
          ]
        },
        {
          "output_type": "stream",
          "name": "stderr",
          "text": [
            " 12%|█▏        | 12/100 [00:17<02:09,  1.48s/it]\n"
          ]
        },
        {
          "output_type": "stream",
          "name": "stdout",
          "text": [
            "Early stopping\n",
            "Model: 65 best_loss: 0.3049 test_acc: 0.9347\n",
            "-----------------------------\n",
            "Model 66:\n"
          ]
        },
        {
          "output_type": "stream",
          "name": "stderr",
          "text": [
            " 15%|█▌        | 15/100 [00:22<02:05,  1.48s/it]\n"
          ]
        },
        {
          "output_type": "stream",
          "name": "stdout",
          "text": [
            "Early stopping\n",
            "Model: 66 best_loss: 0.3356 test_acc: 0.9400\n",
            "-----------------------------\n",
            "Model 67:\n"
          ]
        },
        {
          "output_type": "stream",
          "name": "stderr",
          "text": [
            " 15%|█▌        | 15/100 [00:22<02:05,  1.47s/it]\n"
          ]
        },
        {
          "output_type": "stream",
          "name": "stdout",
          "text": [
            "Early stopping\n",
            "Model: 67 best_loss: 0.3097 test_acc: 0.9386\n",
            "-----------------------------\n",
            "Model 68:\n"
          ]
        },
        {
          "output_type": "stream",
          "name": "stderr",
          "text": [
            " 14%|█▍        | 14/100 [00:20<02:06,  1.47s/it]\n"
          ]
        },
        {
          "output_type": "stream",
          "name": "stdout",
          "text": [
            "Early stopping\n",
            "Model: 68 best_loss: 0.3073 test_acc: 0.9413\n",
            "-----------------------------\n",
            "Model 69:\n"
          ]
        },
        {
          "output_type": "stream",
          "name": "stderr",
          "text": [
            " 16%|█▌        | 16/100 [00:22<02:00,  1.44s/it]\n"
          ]
        },
        {
          "output_type": "stream",
          "name": "stdout",
          "text": [
            "Early stopping\n",
            "Model: 69 best_loss: 0.3332 test_acc: 0.9462\n",
            "-----------------------------\n",
            "Model 70:\n"
          ]
        },
        {
          "output_type": "stream",
          "name": "stderr",
          "text": [
            " 15%|█▌        | 15/100 [00:21<02:03,  1.45s/it]\n"
          ]
        },
        {
          "output_type": "stream",
          "name": "stdout",
          "text": [
            "Early stopping\n",
            "Model: 70 best_loss: 0.3098 test_acc: 0.9428\n",
            "-----------------------------\n",
            "Model 71:\n"
          ]
        },
        {
          "output_type": "stream",
          "name": "stderr",
          "text": [
            " 11%|█         | 11/100 [00:16<02:17,  1.54s/it]\n"
          ]
        },
        {
          "output_type": "stream",
          "name": "stdout",
          "text": [
            "Early stopping\n",
            "Model: 71 best_loss: 0.3284 test_acc: 0.9289\n",
            "-----------------------------\n",
            "Model 72:\n"
          ]
        },
        {
          "output_type": "stream",
          "name": "stderr",
          "text": [
            " 13%|█▎        | 13/100 [00:18<02:06,  1.46s/it]\n"
          ]
        },
        {
          "output_type": "stream",
          "name": "stdout",
          "text": [
            "Early stopping\n",
            "Model: 72 best_loss: 0.2696 test_acc: 0.9432\n",
            "-----------------------------\n",
            "Model 73:\n"
          ]
        },
        {
          "output_type": "stream",
          "name": "stderr",
          "text": [
            " 13%|█▎        | 13/100 [00:19<02:10,  1.50s/it]\n"
          ]
        },
        {
          "output_type": "stream",
          "name": "stdout",
          "text": [
            "Early stopping\n",
            "Model: 73 best_loss: 0.3289 test_acc: 0.9277\n",
            "-----------------------------\n",
            "Model 74:\n"
          ]
        },
        {
          "output_type": "stream",
          "name": "stderr",
          "text": [
            " 14%|█▍        | 14/100 [00:20<02:06,  1.47s/it]\n"
          ]
        },
        {
          "output_type": "stream",
          "name": "stdout",
          "text": [
            "Early stopping\n",
            "Model: 74 best_loss: 0.2959 test_acc: 0.9429\n",
            "-----------------------------\n",
            "Model 75:\n"
          ]
        },
        {
          "output_type": "stream",
          "name": "stderr",
          "text": [
            " 13%|█▎        | 13/100 [00:19<02:11,  1.51s/it]\n"
          ]
        },
        {
          "output_type": "stream",
          "name": "stdout",
          "text": [
            "Early stopping\n",
            "Model: 75 best_loss: 0.2618 test_acc: 0.9418\n",
            "-----------------------------\n",
            "Model 76:\n"
          ]
        },
        {
          "output_type": "stream",
          "name": "stderr",
          "text": [
            " 13%|█▎        | 13/100 [00:19<02:11,  1.51s/it]\n"
          ]
        },
        {
          "output_type": "stream",
          "name": "stdout",
          "text": [
            "Early stopping\n",
            "Model: 76 best_loss: 0.3093 test_acc: 0.9377\n",
            "-----------------------------\n",
            "Model 77:\n"
          ]
        },
        {
          "output_type": "stream",
          "name": "stderr",
          "text": [
            " 13%|█▎        | 13/100 [00:19<02:08,  1.48s/it]\n"
          ]
        },
        {
          "output_type": "stream",
          "name": "stdout",
          "text": [
            "Early stopping\n",
            "Model: 77 best_loss: 0.3168 test_acc: 0.9311\n",
            "-----------------------------\n",
            "Model 78:\n"
          ]
        },
        {
          "output_type": "stream",
          "name": "stderr",
          "text": [
            " 11%|█         | 11/100 [00:17<02:22,  1.60s/it]\n"
          ]
        },
        {
          "output_type": "stream",
          "name": "stdout",
          "text": [
            "Early stopping\n",
            "Model: 78 best_loss: 0.3245 test_acc: 0.9289\n",
            "-----------------------------\n",
            "Model 79:\n"
          ]
        },
        {
          "output_type": "stream",
          "name": "stderr",
          "text": [
            " 12%|█▏        | 12/100 [00:18<02:12,  1.51s/it]\n"
          ]
        },
        {
          "output_type": "stream",
          "name": "stdout",
          "text": [
            "Early stopping\n",
            "Model: 79 best_loss: 0.3198 test_acc: 0.9312\n",
            "-----------------------------\n",
            "Model 80:\n"
          ]
        },
        {
          "output_type": "stream",
          "name": "stderr",
          "text": [
            " 12%|█▏        | 12/100 [00:18<02:15,  1.54s/it]\n"
          ]
        },
        {
          "output_type": "stream",
          "name": "stdout",
          "text": [
            "Early stopping\n",
            "Model: 80 best_loss: 0.3427 test_acc: 0.9387\n",
            "-----------------------------\n",
            "Model 81:\n"
          ]
        },
        {
          "output_type": "stream",
          "name": "stderr",
          "text": [
            " 12%|█▏        | 12/100 [00:17<02:11,  1.50s/it]\n"
          ]
        },
        {
          "output_type": "stream",
          "name": "stdout",
          "text": [
            "Early stopping\n",
            "Model: 81 best_loss: 0.3149 test_acc: 0.9371\n",
            "-----------------------------\n",
            "Model 82:\n"
          ]
        },
        {
          "output_type": "stream",
          "name": "stderr",
          "text": [
            " 12%|█▏        | 12/100 [00:18<02:14,  1.53s/it]\n"
          ]
        },
        {
          "output_type": "stream",
          "name": "stdout",
          "text": [
            "Early stopping\n",
            "Model: 82 best_loss: 0.3248 test_acc: 0.9281\n",
            "-----------------------------\n",
            "Model 83:\n"
          ]
        },
        {
          "output_type": "stream",
          "name": "stderr",
          "text": [
            " 15%|█▌        | 15/100 [00:21<02:04,  1.46s/it]\n"
          ]
        },
        {
          "output_type": "stream",
          "name": "stdout",
          "text": [
            "Early stopping\n",
            "Model: 83 best_loss: 0.3002 test_acc: 0.9349\n",
            "-----------------------------\n",
            "Model 84:\n"
          ]
        },
        {
          "output_type": "stream",
          "name": "stderr",
          "text": [
            " 13%|█▎        | 13/100 [00:19<02:10,  1.50s/it]\n"
          ]
        },
        {
          "output_type": "stream",
          "name": "stdout",
          "text": [
            "Early stopping\n",
            "Model: 84 best_loss: 0.3255 test_acc: 0.9385\n",
            "-----------------------------\n",
            "Model 85:\n"
          ]
        },
        {
          "output_type": "stream",
          "name": "stderr",
          "text": [
            " 14%|█▍        | 14/100 [00:20<02:07,  1.49s/it]\n"
          ]
        },
        {
          "output_type": "stream",
          "name": "stdout",
          "text": [
            "Early stopping\n",
            "Model: 85 best_loss: 0.2616 test_acc: 0.9384\n",
            "-----------------------------\n",
            "Model 86:\n"
          ]
        },
        {
          "output_type": "stream",
          "name": "stderr",
          "text": [
            " 15%|█▌        | 15/100 [00:22<02:05,  1.48s/it]\n"
          ]
        },
        {
          "output_type": "stream",
          "name": "stdout",
          "text": [
            "Early stopping\n",
            "Model: 86 best_loss: 0.3226 test_acc: 0.9369\n",
            "-----------------------------\n",
            "Model 87:\n"
          ]
        },
        {
          "output_type": "stream",
          "name": "stderr",
          "text": [
            " 12%|█▏        | 12/100 [00:17<02:10,  1.49s/it]\n"
          ]
        },
        {
          "output_type": "stream",
          "name": "stdout",
          "text": [
            "Early stopping\n",
            "Model: 87 best_loss: 0.3454 test_acc: 0.9320\n",
            "-----------------------------\n",
            "Model 88:\n"
          ]
        },
        {
          "output_type": "stream",
          "name": "stderr",
          "text": [
            " 14%|█▍        | 14/100 [00:20<02:08,  1.49s/it]\n"
          ]
        },
        {
          "output_type": "stream",
          "name": "stdout",
          "text": [
            "Early stopping\n",
            "Model: 88 best_loss: 0.3148 test_acc: 0.9342\n",
            "-----------------------------\n",
            "Model 89:\n"
          ]
        },
        {
          "output_type": "stream",
          "name": "stderr",
          "text": [
            " 16%|█▌        | 16/100 [00:23<02:03,  1.47s/it]\n"
          ]
        },
        {
          "output_type": "stream",
          "name": "stdout",
          "text": [
            "Early stopping\n",
            "Model: 89 best_loss: 0.2971 test_acc: 0.9483\n",
            "-----------------------------\n",
            "Model 90:\n"
          ]
        },
        {
          "output_type": "stream",
          "name": "stderr",
          "text": [
            " 14%|█▍        | 14/100 [00:20<02:05,  1.46s/it]\n"
          ]
        },
        {
          "output_type": "stream",
          "name": "stdout",
          "text": [
            "Early stopping\n",
            "Model: 90 best_loss: 0.3338 test_acc: 0.9402\n",
            "-----------------------------\n",
            "Model 91:\n"
          ]
        },
        {
          "output_type": "stream",
          "name": "stderr",
          "text": [
            " 16%|█▌        | 16/100 [00:23<02:05,  1.49s/it]\n"
          ]
        },
        {
          "output_type": "stream",
          "name": "stdout",
          "text": [
            "Early stopping\n",
            "Model: 91 best_loss: 0.3419 test_acc: 0.9520\n",
            "-----------------------------\n",
            "Model 92:\n"
          ]
        },
        {
          "output_type": "stream",
          "name": "stderr",
          "text": [
            " 14%|█▍        | 14/100 [00:21<02:10,  1.51s/it]\n"
          ]
        },
        {
          "output_type": "stream",
          "name": "stdout",
          "text": [
            "Early stopping\n",
            "Model: 92 best_loss: 0.3015 test_acc: 0.9433\n",
            "-----------------------------\n",
            "Model 93:\n"
          ]
        },
        {
          "output_type": "stream",
          "name": "stderr",
          "text": [
            " 14%|█▍        | 14/100 [00:21<02:10,  1.52s/it]\n"
          ]
        },
        {
          "output_type": "stream",
          "name": "stdout",
          "text": [
            "Early stopping\n",
            "Model: 93 best_loss: 0.3212 test_acc: 0.9377\n",
            "-----------------------------\n",
            "Model 94:\n"
          ]
        },
        {
          "output_type": "stream",
          "name": "stderr",
          "text": [
            " 16%|█▌        | 16/100 [00:23<02:05,  1.49s/it]\n"
          ]
        },
        {
          "output_type": "stream",
          "name": "stdout",
          "text": [
            "Early stopping\n",
            "Model: 94 best_loss: 0.3007 test_acc: 0.9455\n",
            "-----------------------------\n",
            "Model 95:\n"
          ]
        },
        {
          "output_type": "stream",
          "name": "stderr",
          "text": [
            " 14%|█▍        | 14/100 [00:20<02:07,  1.49s/it]\n"
          ]
        },
        {
          "output_type": "stream",
          "name": "stdout",
          "text": [
            "Early stopping\n",
            "Model: 95 best_loss: 0.3233 test_acc: 0.9381\n",
            "-----------------------------\n",
            "Model 96:\n"
          ]
        },
        {
          "output_type": "stream",
          "name": "stderr",
          "text": [
            " 12%|█▏        | 12/100 [00:18<02:16,  1.55s/it]\n"
          ]
        },
        {
          "output_type": "stream",
          "name": "stdout",
          "text": [
            "Early stopping\n",
            "Model: 96 best_loss: 0.3064 test_acc: 0.9321\n",
            "-----------------------------\n",
            "Model 97:\n"
          ]
        },
        {
          "output_type": "stream",
          "name": "stderr",
          "text": [
            " 14%|█▍        | 14/100 [00:21<02:10,  1.52s/it]\n"
          ]
        },
        {
          "output_type": "stream",
          "name": "stdout",
          "text": [
            "Early stopping\n",
            "Model: 97 best_loss: 0.3190 test_acc: 0.9448\n",
            "-----------------------------\n",
            "Model 98:\n"
          ]
        },
        {
          "output_type": "stream",
          "name": "stderr",
          "text": [
            " 14%|█▍        | 14/100 [00:20<02:07,  1.49s/it]\n"
          ]
        },
        {
          "output_type": "stream",
          "name": "stdout",
          "text": [
            "Early stopping\n",
            "Model: 98 best_loss: 0.3097 test_acc: 0.9386\n",
            "-----------------------------\n",
            "Model 99:\n"
          ]
        },
        {
          "output_type": "stream",
          "name": "stderr",
          "text": [
            " 12%|█▏        | 12/100 [00:18<02:18,  1.57s/it]"
          ]
        },
        {
          "output_type": "stream",
          "name": "stdout",
          "text": [
            "Early stopping\n",
            "Model: 99 best_loss: 0.3213 test_acc: 0.9311\n",
            "-----------------------------\n"
          ]
        },
        {
          "output_type": "stream",
          "name": "stderr",
          "text": [
            "\n"
          ]
        }
      ]
    },
    {
      "cell_type": "markdown",
      "source": [
        "__parameter projection__"
      ],
      "metadata": {
        "id": "9sHZUEUQuuG7"
      }
    },
    {
      "cell_type": "code",
      "source": [
        "np.array(params).shape"
      ],
      "metadata": {
        "colab": {
          "base_uri": "https://localhost:8080/"
        },
        "id": "JJF_Ff2x2mzz",
        "outputId": "c5843da8-fbd6-4dd0-a4fe-81c44cb16b99"
      },
      "execution_count": 12,
      "outputs": [
        {
          "output_type": "execute_result",
          "data": {
            "text/plain": [
              "(100, 101770)"
            ]
          },
          "metadata": {},
          "execution_count": 12
        }
      ]
    },
    {
      "cell_type": "code",
      "source": [
        "pca = PCA(2)\n",
        "params_projection = pca.fit_transform(np.array(params))\n",
        "plot_params_projection(params_projection, 'PCA parameter projection')"
      ],
      "metadata": {
        "colab": {
          "base_uri": "https://localhost:8080/",
          "height": 571
        },
        "id": "ljUnjwhUXGWd",
        "outputId": "58ee4254-7816-4ba8-ce02-26be9babbfe0"
      },
      "execution_count": 11,
      "outputs": [
        {
          "output_type": "display_data",
          "data": {
            "text/plain": [
              "<Figure size 1000x600 with 2 Axes>"
            ],
            "image/png": "[encoded data removed]"
          },
          "metadata": {}
        }
      ]
    },
    {
      "cell_type": "markdown",
      "source": [
        "__According to sklearn tsne reccomendation, we preliminary reduce vector dimension to 50 number of features__"
      ],
      "metadata": {
        "id": "2sp21d6PKpXB"
      }
    },
    {
      "cell_type": "code",
      "source": [
        "pca = PCA(50)\n",
        "tsne = TSNE()\n",
        "reduce_params = pca.fit_transform(np.array(params))\n",
        "params_projection = tsne.fit_transform(reduce_params)"
      ],
      "metadata": {
        "id": "KbxbqcgFKbOR"
      },
      "execution_count": 13,
      "outputs": []
    },
    {
      "cell_type": "code",
      "source": [
        "plot_params_projection(params_projection, 'TSNE parameter projection')"
      ],
      "metadata": {
        "colab": {
          "base_uri": "https://localhost:8080/",
          "height": 571
        },
        "id": "ojC3Ti5ogeIn",
        "outputId": "e49001e8-1441-43ef-fe84-01dad4e41cb6"
      },
      "execution_count": 14,
      "outputs": [
        {
          "output_type": "display_data",
          "data": {
            "text/plain": [
              "<Figure size 1000x600 with 2 Axes>"
            ],
            "image/png": "[encoded data removed]"
          },
          "metadata": {}
        }
      ]
    },
    {
      "cell_type": "markdown",
      "source": [
        "#### Experiment 2: latent space variation"
      ],
      "metadata": {
        "id": "uvULysTre3rF"
      }
    },
    {
      "cell_type": "code",
      "source": [
        "hiddens = []\n",
        "\n",
        "hiddens_1 = random.randint(random.PRNGKey(0), shape=(33, ), minval=128, maxval=257)\n",
        "hiddens_1 = [[int(h), 32] for h in hiddens_1]\n",
        "\n",
        "hiddens_2_1 = random.randint(random.PRNGKey(1), shape=(34, ), minval=256, maxval=500)\n",
        "hiddens_2_2 = random.randint(random.PRNGKey(1), shape=(34, ), minval=128, maxval=256)\n",
        "hiddens_2 = [[h1, h2, 32] for h1, h2 in zip(hiddens_2_1, hiddens_2_2)]\n",
        "\n",
        "hiddens_3_1 = random.randint(random.PRNGKey(2), shape=(33, ), minval=256, maxval=500)\n",
        "hiddens_3_2 = random.randint(random.PRNGKey(2), shape=(33, ), minval=128, maxval=256)\n",
        "hiddens_3_3 = random.randint(random.PRNGKey(2), shape=(33, ), minval=64, maxval=128)\n",
        "hiddens_3 = [[h1, h2, h3, 32] for h1, h2, h3 in zip(hiddens_3_1, hiddens_3_2, hiddens_3_3)]\n",
        "\n",
        "hiddens.extend(hiddens_1)\n",
        "hiddens.extend(hiddens_2)\n",
        "hiddens.extend(hiddens_3)\n",
        "\n",
        "print(len(hiddens))"
      ],
      "metadata": {
        "colab": {
          "base_uri": "https://localhost:8080/"
        },
        "id": "Z-LAIVFNk-6p",
        "outputId": "5e6bda60-847f-4031-9d79-0d8b6b4a9e17"
      },
      "execution_count": null,
      "outputs": [
        {
          "output_type": "stream",
          "name": "stdout",
          "text": [
            "100\n"
          ]
        }
      ]
    },
    {
      "cell_type": "markdown",
      "source": [
        "__training__"
      ],
      "metadata": {
        "id": "nwGfz1Z3u1AV"
      }
    },
    {
      "cell_type": "code",
      "source": [
        "val_losses, test_accs, params = training_procedure(BaseConfig.max_networks, hiddens, X_train, y_train, X_val, y_val, X_test, y_test)"
      ],
      "metadata": {
        "id": "shWM-AYBu2rf",
        "colab": {
          "base_uri": "https://localhost:8080/"
        },
        "outputId": "ebbcbd13-79a6-4af8-9c55-64a1513bbe57"
      },
      "execution_count": null,
      "outputs": [
        {
          "output_type": "stream",
          "name": "stdout",
          "text": [
            "Model 0:\n"
          ]
        },
        {
          "output_type": "stream",
          "name": "stderr",
          "text": [
            " 18%|█▊        | 18/100 [00:28<02:07,  1.56s/it]"
          ]
        },
        {
          "output_type": "stream",
          "name": "stdout",
          "text": [
            "Early stopping\n"
          ]
        },
        {
          "output_type": "stream",
          "name": "stderr",
          "text": [
            "\n"
          ]
        },
        {
          "output_type": "stream",
          "name": "stdout",
          "text": [
            "Model: 0 best_loss: 0.1949 test_acc: 0.9625\n",
            "-----------------------------\n",
            "Model 1:\n"
          ]
        },
        {
          "output_type": "stream",
          "name": "stderr",
          "text": [
            " 12%|█▏        | 12/100 [00:18<02:18,  1.57s/it]"
          ]
        },
        {
          "output_type": "stream",
          "name": "stdout",
          "text": [
            "Early stopping\n"
          ]
        },
        {
          "output_type": "stream",
          "name": "stderr",
          "text": [
            "\n"
          ]
        },
        {
          "output_type": "stream",
          "name": "stdout",
          "text": [
            "Model: 1 best_loss: 0.2577 test_acc: 0.9418\n",
            "-----------------------------\n",
            "Model 2:\n"
          ]
        },
        {
          "output_type": "stream",
          "name": "stderr",
          "text": [
            " 19%|█▉        | 19/100 [00:27<01:58,  1.47s/it]"
          ]
        },
        {
          "output_type": "stream",
          "name": "stdout",
          "text": [
            "Early stopping\n"
          ]
        },
        {
          "output_type": "stream",
          "name": "stderr",
          "text": [
            "\n"
          ]
        },
        {
          "output_type": "stream",
          "name": "stdout",
          "text": [
            "Model: 2 best_loss: 0.1941 test_acc: 0.9674\n",
            "-----------------------------\n",
            "Model 3:\n"
          ]
        },
        {
          "output_type": "stream",
          "name": "stderr",
          "text": [
            " 17%|█▋        | 17/100 [00:25<02:04,  1.50s/it]"
          ]
        },
        {
          "output_type": "stream",
          "name": "stdout",
          "text": [
            "Early stopping\n"
          ]
        },
        {
          "output_type": "stream",
          "name": "stderr",
          "text": [
            "\n"
          ]
        },
        {
          "output_type": "stream",
          "name": "stdout",
          "text": [
            "Model: 3 best_loss: 0.1934 test_acc: 0.9600\n",
            "-----------------------------\n",
            "Model 4:\n"
          ]
        },
        {
          "output_type": "stream",
          "name": "stderr",
          "text": [
            " 19%|█▉        | 19/100 [00:29<02:05,  1.54s/it]"
          ]
        },
        {
          "output_type": "stream",
          "name": "stdout",
          "text": [
            "Early stopping\n"
          ]
        },
        {
          "output_type": "stream",
          "name": "stderr",
          "text": [
            "\n"
          ]
        },
        {
          "output_type": "stream",
          "name": "stdout",
          "text": [
            "Model: 4 best_loss: 0.1924 test_acc: 0.9648\n",
            "-----------------------------\n",
            "Model 5:\n"
          ]
        },
        {
          "output_type": "stream",
          "name": "stderr",
          "text": [
            " 15%|█▌        | 15/100 [00:22<02:09,  1.52s/it]"
          ]
        },
        {
          "output_type": "stream",
          "name": "stdout",
          "text": [
            "Early stopping\n"
          ]
        },
        {
          "output_type": "stream",
          "name": "stderr",
          "text": [
            "\n"
          ]
        },
        {
          "output_type": "stream",
          "name": "stdout",
          "text": [
            "Model: 5 best_loss: 0.2001 test_acc: 0.9568\n",
            "-----------------------------\n",
            "Model 6:\n"
          ]
        },
        {
          "output_type": "stream",
          "name": "stderr",
          "text": [
            " 18%|█▊        | 18/100 [00:26<02:00,  1.47s/it]"
          ]
        },
        {
          "output_type": "stream",
          "name": "stdout",
          "text": [
            "Early stopping\n"
          ]
        },
        {
          "output_type": "stream",
          "name": "stderr",
          "text": [
            "\n"
          ]
        },
        {
          "output_type": "stream",
          "name": "stdout",
          "text": [
            "Model: 6 best_loss: 0.2047 test_acc: 0.9631\n",
            "-----------------------------\n",
            "Model 7:\n"
          ]
        },
        {
          "output_type": "stream",
          "name": "stderr",
          "text": [
            " 17%|█▋        | 17/100 [00:24<02:01,  1.47s/it]"
          ]
        },
        {
          "output_type": "stream",
          "name": "stdout",
          "text": [
            "Early stopping\n"
          ]
        },
        {
          "output_type": "stream",
          "name": "stderr",
          "text": [
            "\n"
          ]
        },
        {
          "output_type": "stream",
          "name": "stdout",
          "text": [
            "Model: 7 best_loss: 0.1803 test_acc: 0.9626\n",
            "-----------------------------\n",
            "Model 8:\n"
          ]
        },
        {
          "output_type": "stream",
          "name": "stderr",
          "text": [
            " 18%|█▊        | 18/100 [00:26<02:00,  1.47s/it]"
          ]
        },
        {
          "output_type": "stream",
          "name": "stdout",
          "text": [
            "Early stopping\n"
          ]
        },
        {
          "output_type": "stream",
          "name": "stderr",
          "text": [
            "\n"
          ]
        },
        {
          "output_type": "stream",
          "name": "stdout",
          "text": [
            "Model: 8 best_loss: 0.2117 test_acc: 0.9604\n",
            "-----------------------------\n",
            "Model 9:\n"
          ]
        },
        {
          "output_type": "stream",
          "name": "stderr",
          "text": [
            " 16%|█▌        | 16/100 [00:23<02:05,  1.50s/it]"
          ]
        },
        {
          "output_type": "stream",
          "name": "stdout",
          "text": [
            "Early stopping\n"
          ]
        },
        {
          "output_type": "stream",
          "name": "stderr",
          "text": [
            "\n"
          ]
        },
        {
          "output_type": "stream",
          "name": "stdout",
          "text": [
            "Model: 9 best_loss: 0.1965 test_acc: 0.9572\n",
            "-----------------------------\n",
            "Model 10:\n"
          ]
        },
        {
          "output_type": "stream",
          "name": "stderr",
          "text": [
            " 17%|█▋        | 17/100 [00:25<02:04,  1.50s/it]"
          ]
        },
        {
          "output_type": "stream",
          "name": "stdout",
          "text": [
            "Early stopping\n"
          ]
        },
        {
          "output_type": "stream",
          "name": "stderr",
          "text": [
            "\n"
          ]
        },
        {
          "output_type": "stream",
          "name": "stdout",
          "text": [
            "Model: 10 best_loss: 0.2111 test_acc: 0.9652\n",
            "-----------------------------\n",
            "Model 11:\n"
          ]
        },
        {
          "output_type": "stream",
          "name": "stderr",
          "text": [
            " 16%|█▌        | 16/100 [00:24<02:07,  1.52s/it]"
          ]
        },
        {
          "output_type": "stream",
          "name": "stdout",
          "text": [
            "Early stopping\n"
          ]
        },
        {
          "output_type": "stream",
          "name": "stderr",
          "text": [
            "\n"
          ]
        },
        {
          "output_type": "stream",
          "name": "stdout",
          "text": [
            "Model: 11 best_loss: 0.2021 test_acc: 0.9594\n",
            "-----------------------------\n",
            "Model 12:\n"
          ]
        },
        {
          "output_type": "stream",
          "name": "stderr",
          "text": [
            " 14%|█▍        | 14/100 [00:21<02:11,  1.53s/it]"
          ]
        },
        {
          "output_type": "stream",
          "name": "stdout",
          "text": [
            "Early stopping\n"
          ]
        },
        {
          "output_type": "stream",
          "name": "stderr",
          "text": [
            "\n"
          ]
        },
        {
          "output_type": "stream",
          "name": "stdout",
          "text": [
            "Model: 12 best_loss: 0.1859 test_acc: 0.9605\n",
            "-----------------------------\n",
            "Model 13:\n"
          ]
        },
        {
          "output_type": "stream",
          "name": "stderr",
          "text": [
            " 13%|█▎        | 13/100 [00:18<02:06,  1.45s/it]\n"
          ]
        },
        {
          "output_type": "stream",
          "name": "stdout",
          "text": [
            "Early stopping\n",
            "Model: 13 best_loss: 0.2080 test_acc: 0.9512\n",
            "-----------------------------\n",
            "Model 14:\n"
          ]
        },
        {
          "output_type": "stream",
          "name": "stderr",
          "text": [
            " 15%|█▌        | 15/100 [00:22<02:05,  1.48s/it]\n"
          ]
        },
        {
          "output_type": "stream",
          "name": "stdout",
          "text": [
            "Early stopping\n",
            "Model: 14 best_loss: 0.1970 test_acc: 0.9610\n",
            "-----------------------------\n",
            "Model 15:\n"
          ]
        },
        {
          "output_type": "stream",
          "name": "stderr",
          "text": [
            " 15%|█▌        | 15/100 [00:22<02:05,  1.48s/it]"
          ]
        },
        {
          "output_type": "stream",
          "name": "stdout",
          "text": [
            "Early stopping\n",
            "Model: 15 best_loss: 0.1962 test_acc: 0.9582\n",
            "-----------------------------\n",
            "Model 16:\n"
          ]
        },
        {
          "output_type": "stream",
          "name": "stderr",
          "text": [
            "\n",
            " 15%|█▌        | 15/100 [00:22<02:08,  1.52s/it]"
          ]
        },
        {
          "output_type": "stream",
          "name": "stdout",
          "text": [
            "Early stopping\n"
          ]
        },
        {
          "output_type": "stream",
          "name": "stderr",
          "text": [
            "\n"
          ]
        },
        {
          "output_type": "stream",
          "name": "stdout",
          "text": [
            "Model: 16 best_loss: 0.1883 test_acc: 0.9635\n",
            "-----------------------------\n",
            "Model 17:\n"
          ]
        },
        {
          "output_type": "stream",
          "name": "stderr",
          "text": [
            " 13%|█▎        | 13/100 [00:20<02:14,  1.55s/it]"
          ]
        },
        {
          "output_type": "stream",
          "name": "stdout",
          "text": [
            "Early stopping\n"
          ]
        },
        {
          "output_type": "stream",
          "name": "stderr",
          "text": [
            "\n"
          ]
        },
        {
          "output_type": "stream",
          "name": "stdout",
          "text": [
            "Model: 17 best_loss: 0.1946 test_acc: 0.9563\n",
            "-----------------------------\n",
            "Model 18:\n"
          ]
        },
        {
          "output_type": "stream",
          "name": "stderr",
          "text": [
            " 15%|█▌        | 15/100 [00:23<02:12,  1.56s/it]"
          ]
        },
        {
          "output_type": "stream",
          "name": "stdout",
          "text": [
            "Early stopping\n"
          ]
        },
        {
          "output_type": "stream",
          "name": "stderr",
          "text": [
            "\n"
          ]
        },
        {
          "output_type": "stream",
          "name": "stdout",
          "text": [
            "Model: 18 best_loss: 0.2077 test_acc: 0.9543\n",
            "-----------------------------\n",
            "Model 19:\n"
          ]
        },
        {
          "output_type": "stream",
          "name": "stderr",
          "text": [
            " 13%|█▎        | 13/100 [00:20<02:15,  1.56s/it]"
          ]
        },
        {
          "output_type": "stream",
          "name": "stdout",
          "text": [
            "Early stopping\n"
          ]
        },
        {
          "output_type": "stream",
          "name": "stderr",
          "text": [
            "\n"
          ]
        },
        {
          "output_type": "stream",
          "name": "stdout",
          "text": [
            "Model: 19 best_loss: 0.2109 test_acc: 0.9508\n",
            "-----------------------------\n",
            "Model 20:\n"
          ]
        },
        {
          "output_type": "stream",
          "name": "stderr",
          "text": [
            " 16%|█▌        | 16/100 [00:23<02:04,  1.48s/it]"
          ]
        },
        {
          "output_type": "stream",
          "name": "stdout",
          "text": [
            "Early stopping\n"
          ]
        },
        {
          "output_type": "stream",
          "name": "stderr",
          "text": [
            "\n"
          ]
        },
        {
          "output_type": "stream",
          "name": "stdout",
          "text": [
            "Model: 20 best_loss: 0.1797 test_acc: 0.9615\n",
            "-----------------------------\n",
            "Model 21:\n"
          ]
        },
        {
          "output_type": "stream",
          "name": "stderr",
          "text": [
            " 14%|█▍        | 14/100 [00:20<02:08,  1.49s/it]"
          ]
        },
        {
          "output_type": "stream",
          "name": "stdout",
          "text": [
            "Early stopping\n"
          ]
        },
        {
          "output_type": "stream",
          "name": "stderr",
          "text": [
            "\n"
          ]
        },
        {
          "output_type": "stream",
          "name": "stdout",
          "text": [
            "Model: 21 best_loss: 0.1884 test_acc: 0.9578\n",
            "-----------------------------\n",
            "Model 22:\n"
          ]
        },
        {
          "output_type": "stream",
          "name": "stderr",
          "text": [
            " 15%|█▌        | 15/100 [00:22<02:05,  1.47s/it]"
          ]
        },
        {
          "output_type": "stream",
          "name": "stdout",
          "text": [
            "Early stopping\n"
          ]
        },
        {
          "output_type": "stream",
          "name": "stderr",
          "text": [
            "\n"
          ]
        },
        {
          "output_type": "stream",
          "name": "stdout",
          "text": [
            "Model: 22 best_loss: 0.2023 test_acc: 0.9589\n",
            "-----------------------------\n",
            "Model 23:\n"
          ]
        },
        {
          "output_type": "stream",
          "name": "stderr",
          "text": [
            " 15%|█▌        | 15/100 [00:22<02:06,  1.49s/it]\n"
          ]
        },
        {
          "output_type": "stream",
          "name": "stdout",
          "text": [
            "Early stopping\n",
            "Model: 23 best_loss: 0.1968 test_acc: 0.9544\n",
            "-----------------------------\n",
            "Model 24:\n"
          ]
        },
        {
          "output_type": "stream",
          "name": "stderr",
          "text": [
            " 17%|█▋        | 17/100 [00:24<02:01,  1.46s/it]\n"
          ]
        },
        {
          "output_type": "stream",
          "name": "stdout",
          "text": [
            "Early stopping\n",
            "Model: 24 best_loss: 0.2120 test_acc: 0.9626\n",
            "-----------------------------\n",
            "Model 25:\n"
          ]
        },
        {
          "output_type": "stream",
          "name": "stderr",
          "text": [
            " 15%|█▌        | 15/100 [00:22<02:06,  1.49s/it]\n"
          ]
        },
        {
          "output_type": "stream",
          "name": "stdout",
          "text": [
            "Early stopping\n",
            "Model: 25 best_loss: 0.2012 test_acc: 0.9576\n",
            "-----------------------------\n",
            "Model 26:\n"
          ]
        },
        {
          "output_type": "stream",
          "name": "stderr",
          "text": [
            " 16%|█▌        | 16/100 [00:23<02:03,  1.47s/it]"
          ]
        },
        {
          "output_type": "stream",
          "name": "stdout",
          "text": [
            "Early stopping\n",
            "Model: 26 best_loss: 0.1940 test_acc: 0.9606\n",
            "-----------------------------\n",
            "Model 27:\n"
          ]
        },
        {
          "output_type": "stream",
          "name": "stderr",
          "text": [
            "\n",
            " 17%|█▋        | 17/100 [00:24<02:01,  1.47s/it]"
          ]
        },
        {
          "output_type": "stream",
          "name": "stdout",
          "text": [
            "Early stopping\n"
          ]
        },
        {
          "output_type": "stream",
          "name": "stderr",
          "text": [
            "\n"
          ]
        },
        {
          "output_type": "stream",
          "name": "stdout",
          "text": [
            "Model: 27 best_loss: 0.2007 test_acc: 0.9613\n",
            "-----------------------------\n",
            "Model 28:\n"
          ]
        },
        {
          "output_type": "stream",
          "name": "stderr",
          "text": [
            " 15%|█▌        | 15/100 [00:22<02:07,  1.50s/it]"
          ]
        },
        {
          "output_type": "stream",
          "name": "stdout",
          "text": [
            "Early stopping\n",
            "Model: 28 best_loss: 0.1852 test_acc: 0.9584\n",
            "-----------------------------\n",
            "Model 29:\n"
          ]
        },
        {
          "output_type": "stream",
          "name": "stderr",
          "text": [
            "\n",
            " 16%|█▌        | 16/100 [00:24<02:08,  1.53s/it]"
          ]
        },
        {
          "output_type": "stream",
          "name": "stdout",
          "text": [
            "Early stopping\n"
          ]
        },
        {
          "output_type": "stream",
          "name": "stderr",
          "text": [
            "\n"
          ]
        },
        {
          "output_type": "stream",
          "name": "stdout",
          "text": [
            "Model: 29 best_loss: 0.2255 test_acc: 0.9589\n",
            "-----------------------------\n",
            "Model 30:\n"
          ]
        },
        {
          "output_type": "stream",
          "name": "stderr",
          "text": [
            " 15%|█▌        | 15/100 [00:22<02:10,  1.53s/it]"
          ]
        },
        {
          "output_type": "stream",
          "name": "stdout",
          "text": [
            "Early stopping\n"
          ]
        },
        {
          "output_type": "stream",
          "name": "stderr",
          "text": [
            "\n"
          ]
        },
        {
          "output_type": "stream",
          "name": "stdout",
          "text": [
            "Model: 30 best_loss: 0.1872 test_acc: 0.9606\n",
            "-----------------------------\n",
            "Model 31:\n"
          ]
        },
        {
          "output_type": "stream",
          "name": "stderr",
          "text": [
            " 16%|█▌        | 16/100 [00:24<02:06,  1.51s/it]"
          ]
        },
        {
          "output_type": "stream",
          "name": "stdout",
          "text": [
            "Early stopping\n"
          ]
        },
        {
          "output_type": "stream",
          "name": "stderr",
          "text": [
            "\n"
          ]
        },
        {
          "output_type": "stream",
          "name": "stdout",
          "text": [
            "Model: 31 best_loss: 0.1688 test_acc: 0.9609\n",
            "-----------------------------\n",
            "Model 32:\n"
          ]
        },
        {
          "output_type": "stream",
          "name": "stderr",
          "text": [
            " 17%|█▋        | 17/100 [00:25<02:03,  1.49s/it]"
          ]
        },
        {
          "output_type": "stream",
          "name": "stdout",
          "text": [
            "Early stopping\n"
          ]
        },
        {
          "output_type": "stream",
          "name": "stderr",
          "text": [
            "\n"
          ]
        },
        {
          "output_type": "stream",
          "name": "stdout",
          "text": [
            "Model: 32 best_loss: 0.1803 test_acc: 0.9640\n",
            "-----------------------------\n",
            "Model 33:\n"
          ]
        },
        {
          "output_type": "stream",
          "name": "stderr",
          "text": [
            " 21%|██        | 21/100 [00:31<02:00,  1.52s/it]"
          ]
        },
        {
          "output_type": "stream",
          "name": "stdout",
          "text": [
            "Early stopping\n"
          ]
        },
        {
          "output_type": "stream",
          "name": "stderr",
          "text": [
            "\n"
          ]
        },
        {
          "output_type": "stream",
          "name": "stdout",
          "text": [
            "Model: 33 best_loss: 0.1725 test_acc: 0.9711\n",
            "-----------------------------\n",
            "Model 34:\n"
          ]
        },
        {
          "output_type": "stream",
          "name": "stderr",
          "text": [
            " 15%|█▌        | 15/100 [00:23<02:12,  1.56s/it]"
          ]
        },
        {
          "output_type": "stream",
          "name": "stdout",
          "text": [
            "Early stopping\n"
          ]
        },
        {
          "output_type": "stream",
          "name": "stderr",
          "text": [
            "\n"
          ]
        },
        {
          "output_type": "stream",
          "name": "stdout",
          "text": [
            "Model: 34 best_loss: 0.1506 test_acc: 0.9678\n",
            "-----------------------------\n",
            "Model 35:\n"
          ]
        },
        {
          "output_type": "stream",
          "name": "stderr",
          "text": [
            " 15%|█▌        | 15/100 [00:24<02:16,  1.61s/it]"
          ]
        },
        {
          "output_type": "stream",
          "name": "stdout",
          "text": [
            "Early stopping\n"
          ]
        },
        {
          "output_type": "stream",
          "name": "stderr",
          "text": [
            "\n"
          ]
        },
        {
          "output_type": "stream",
          "name": "stdout",
          "text": [
            "Model: 35 best_loss: 0.1747 test_acc: 0.9623\n",
            "-----------------------------\n",
            "Model 36:\n"
          ]
        },
        {
          "output_type": "stream",
          "name": "stderr",
          "text": [
            " 14%|█▍        | 14/100 [00:22<02:19,  1.62s/it]"
          ]
        },
        {
          "output_type": "stream",
          "name": "stdout",
          "text": [
            "Early stopping\n"
          ]
        },
        {
          "output_type": "stream",
          "name": "stderr",
          "text": [
            "\n"
          ]
        },
        {
          "output_type": "stream",
          "name": "stdout",
          "text": [
            "Model: 36 best_loss: 0.1780 test_acc: 0.9631\n",
            "-----------------------------\n",
            "Model 37:\n"
          ]
        },
        {
          "output_type": "stream",
          "name": "stderr",
          "text": [
            " 15%|█▌        | 15/100 [00:24<02:17,  1.61s/it]"
          ]
        },
        {
          "output_type": "stream",
          "name": "stdout",
          "text": [
            "Early stopping\n"
          ]
        },
        {
          "output_type": "stream",
          "name": "stderr",
          "text": [
            "\n"
          ]
        },
        {
          "output_type": "stream",
          "name": "stdout",
          "text": [
            "Model: 37 best_loss: 0.1838 test_acc: 0.9621\n",
            "-----------------------------\n",
            "Model 38:\n"
          ]
        },
        {
          "output_type": "stream",
          "name": "stderr",
          "text": [
            " 13%|█▎        | 13/100 [00:20<02:19,  1.61s/it]"
          ]
        },
        {
          "output_type": "stream",
          "name": "stdout",
          "text": [
            "Early stopping\n"
          ]
        },
        {
          "output_type": "stream",
          "name": "stderr",
          "text": [
            "\n"
          ]
        },
        {
          "output_type": "stream",
          "name": "stdout",
          "text": [
            "Model: 38 best_loss: 0.1577 test_acc: 0.9588\n",
            "-----------------------------\n",
            "Model 39:\n"
          ]
        },
        {
          "output_type": "stream",
          "name": "stderr",
          "text": [
            " 14%|█▍        | 14/100 [00:22<02:18,  1.61s/it]"
          ]
        },
        {
          "output_type": "stream",
          "name": "stdout",
          "text": [
            "Early stopping\n"
          ]
        },
        {
          "output_type": "stream",
          "name": "stderr",
          "text": [
            "\n"
          ]
        },
        {
          "output_type": "stream",
          "name": "stdout",
          "text": [
            "Model: 39 best_loss: 0.1485 test_acc: 0.9661\n",
            "-----------------------------\n",
            "Model 40:\n"
          ]
        },
        {
          "output_type": "stream",
          "name": "stderr",
          "text": [
            " 16%|█▌        | 16/100 [00:26<02:18,  1.64s/it]"
          ]
        },
        {
          "output_type": "stream",
          "name": "stdout",
          "text": [
            "Early stopping\n"
          ]
        },
        {
          "output_type": "stream",
          "name": "stderr",
          "text": [
            "\n"
          ]
        },
        {
          "output_type": "stream",
          "name": "stdout",
          "text": [
            "Model: 40 best_loss: 0.1560 test_acc: 0.9694\n",
            "-----------------------------\n",
            "Model 41:\n"
          ]
        },
        {
          "output_type": "stream",
          "name": "stderr",
          "text": [
            " 14%|█▍        | 14/100 [00:22<02:21,  1.64s/it]"
          ]
        },
        {
          "output_type": "stream",
          "name": "stdout",
          "text": [
            "Early stopping\n"
          ]
        },
        {
          "output_type": "stream",
          "name": "stderr",
          "text": [
            "\n"
          ]
        },
        {
          "output_type": "stream",
          "name": "stdout",
          "text": [
            "Model: 41 best_loss: 0.1540 test_acc: 0.9667\n",
            "-----------------------------\n",
            "Model 42:\n"
          ]
        },
        {
          "output_type": "stream",
          "name": "stderr",
          "text": [
            " 12%|█▏        | 12/100 [00:20<02:27,  1.67s/it]"
          ]
        },
        {
          "output_type": "stream",
          "name": "stdout",
          "text": [
            "Early stopping\n"
          ]
        },
        {
          "output_type": "stream",
          "name": "stderr",
          "text": [
            "\n"
          ]
        },
        {
          "output_type": "stream",
          "name": "stdout",
          "text": [
            "Model: 42 best_loss: 0.1747 test_acc: 0.9583\n",
            "-----------------------------\n",
            "Model 43:\n"
          ]
        },
        {
          "output_type": "stream",
          "name": "stderr",
          "text": [
            " 13%|█▎        | 13/100 [00:20<02:17,  1.58s/it]"
          ]
        },
        {
          "output_type": "stream",
          "name": "stdout",
          "text": [
            "Early stopping\n"
          ]
        },
        {
          "output_type": "stream",
          "name": "stderr",
          "text": [
            "\n"
          ]
        },
        {
          "output_type": "stream",
          "name": "stdout",
          "text": [
            "Model: 43 best_loss: 0.1762 test_acc: 0.9612\n",
            "-----------------------------\n",
            "Model 44:\n"
          ]
        },
        {
          "output_type": "stream",
          "name": "stderr",
          "text": [
            " 15%|█▌        | 15/100 [00:24<02:18,  1.63s/it]"
          ]
        },
        {
          "output_type": "stream",
          "name": "stdout",
          "text": [
            "Early stopping\n"
          ]
        },
        {
          "output_type": "stream",
          "name": "stderr",
          "text": [
            "\n"
          ]
        },
        {
          "output_type": "stream",
          "name": "stdout",
          "text": [
            "Model: 44 best_loss: 0.1560 test_acc: 0.9671\n",
            "-----------------------------\n",
            "Model 45:\n"
          ]
        },
        {
          "output_type": "stream",
          "name": "stderr",
          "text": [
            " 16%|█▌        | 16/100 [00:26<02:18,  1.64s/it]"
          ]
        },
        {
          "output_type": "stream",
          "name": "stdout",
          "text": [
            "Early stopping\n"
          ]
        },
        {
          "output_type": "stream",
          "name": "stderr",
          "text": [
            "\n"
          ]
        },
        {
          "output_type": "stream",
          "name": "stdout",
          "text": [
            "Model: 45 best_loss: 0.1698 test_acc: 0.9689\n",
            "-----------------------------\n",
            "Model 46:\n"
          ]
        },
        {
          "output_type": "stream",
          "name": "stderr",
          "text": [
            " 14%|█▍        | 14/100 [00:22<02:18,  1.61s/it]"
          ]
        },
        {
          "output_type": "stream",
          "name": "stdout",
          "text": [
            "Early stopping\n"
          ]
        },
        {
          "output_type": "stream",
          "name": "stderr",
          "text": [
            "\n"
          ]
        },
        {
          "output_type": "stream",
          "name": "stdout",
          "text": [
            "Model: 46 best_loss: 0.2099 test_acc: 0.9591\n",
            "-----------------------------\n",
            "Model 47:\n"
          ]
        },
        {
          "output_type": "stream",
          "name": "stderr",
          "text": [
            " 15%|█▌        | 15/100 [00:23<02:12,  1.55s/it]"
          ]
        },
        {
          "output_type": "stream",
          "name": "stdout",
          "text": [
            "Early stopping\n",
            "Model: 47 best_loss: 0.1476 test_acc: 0.9670\n",
            "-----------------------------\n",
            "Model 48:\n"
          ]
        },
        {
          "output_type": "stream",
          "name": "stderr",
          "text": [
            "\n",
            " 15%|█▌        | 15/100 [00:23<02:15,  1.60s/it]"
          ]
        },
        {
          "output_type": "stream",
          "name": "stdout",
          "text": [
            "Early stopping\n"
          ]
        },
        {
          "output_type": "stream",
          "name": "stderr",
          "text": [
            "\n"
          ]
        },
        {
          "output_type": "stream",
          "name": "stdout",
          "text": [
            "Model: 48 best_loss: 0.1695 test_acc: 0.9640\n",
            "-----------------------------\n",
            "Model 49:\n"
          ]
        },
        {
          "output_type": "stream",
          "name": "stderr",
          "text": [
            " 14%|█▍        | 14/100 [00:22<02:17,  1.60s/it]"
          ]
        },
        {
          "output_type": "stream",
          "name": "stdout",
          "text": [
            "Early stopping\n"
          ]
        },
        {
          "output_type": "stream",
          "name": "stderr",
          "text": [
            "\n"
          ]
        },
        {
          "output_type": "stream",
          "name": "stdout",
          "text": [
            "Model: 49 best_loss: 0.1731 test_acc: 0.9623\n",
            "-----------------------------\n",
            "Model 50:\n"
          ]
        },
        {
          "output_type": "stream",
          "name": "stderr",
          "text": [
            " 16%|█▌        | 16/100 [00:25<02:14,  1.61s/it]"
          ]
        },
        {
          "output_type": "stream",
          "name": "stdout",
          "text": [
            "Early stopping\n"
          ]
        },
        {
          "output_type": "stream",
          "name": "stderr",
          "text": [
            "\n"
          ]
        },
        {
          "output_type": "stream",
          "name": "stdout",
          "text": [
            "Model: 50 best_loss: 0.1697 test_acc: 0.9659\n",
            "-----------------------------\n",
            "Model 51:\n"
          ]
        },
        {
          "output_type": "stream",
          "name": "stderr",
          "text": [
            " 19%|█▉        | 19/100 [00:29<02:06,  1.56s/it]"
          ]
        },
        {
          "output_type": "stream",
          "name": "stdout",
          "text": [
            "Early stopping\n"
          ]
        },
        {
          "output_type": "stream",
          "name": "stderr",
          "text": [
            "\n"
          ]
        },
        {
          "output_type": "stream",
          "name": "stdout",
          "text": [
            "Model: 51 best_loss: 0.2347 test_acc: 0.9501\n",
            "-----------------------------\n",
            "Model 52:\n"
          ]
        },
        {
          "output_type": "stream",
          "name": "stderr",
          "text": [
            " 15%|█▌        | 15/100 [00:24<02:19,  1.64s/it]"
          ]
        },
        {
          "output_type": "stream",
          "name": "stdout",
          "text": [
            "Early stopping\n"
          ]
        },
        {
          "output_type": "stream",
          "name": "stderr",
          "text": [
            "\n"
          ]
        },
        {
          "output_type": "stream",
          "name": "stdout",
          "text": [
            "Model: 52 best_loss: 0.1590 test_acc: 0.9654\n",
            "-----------------------------\n",
            "Model 53:\n"
          ]
        },
        {
          "output_type": "stream",
          "name": "stderr",
          "text": [
            " 14%|█▍        | 14/100 [00:22<02:20,  1.64s/it]"
          ]
        },
        {
          "output_type": "stream",
          "name": "stdout",
          "text": [
            "Early stopping\n"
          ]
        },
        {
          "output_type": "stream",
          "name": "stderr",
          "text": [
            "\n"
          ]
        },
        {
          "output_type": "stream",
          "name": "stdout",
          "text": [
            "Model: 53 best_loss: 0.1632 test_acc: 0.9612\n",
            "-----------------------------\n",
            "Model 54:\n"
          ]
        },
        {
          "output_type": "stream",
          "name": "stderr",
          "text": [
            " 17%|█▋        | 17/100 [00:27<02:12,  1.60s/it]"
          ]
        },
        {
          "output_type": "stream",
          "name": "stdout",
          "text": [
            "Early stopping\n"
          ]
        },
        {
          "output_type": "stream",
          "name": "stderr",
          "text": [
            "\n"
          ]
        },
        {
          "output_type": "stream",
          "name": "stdout",
          "text": [
            "Model: 54 best_loss: 0.1491 test_acc: 0.9676\n",
            "-----------------------------\n",
            "Model 55:\n"
          ]
        },
        {
          "output_type": "stream",
          "name": "stderr",
          "text": [
            " 16%|█▌        | 16/100 [00:24<02:10,  1.55s/it]"
          ]
        },
        {
          "output_type": "stream",
          "name": "stdout",
          "text": [
            "Early stopping\n"
          ]
        },
        {
          "output_type": "stream",
          "name": "stderr",
          "text": [
            "\n"
          ]
        },
        {
          "output_type": "stream",
          "name": "stdout",
          "text": [
            "Model: 55 best_loss: 0.1651 test_acc: 0.9689\n",
            "-----------------------------\n",
            "Model 56:\n"
          ]
        },
        {
          "output_type": "stream",
          "name": "stderr",
          "text": [
            " 12%|█▏        | 12/100 [00:19<02:25,  1.66s/it]"
          ]
        },
        {
          "output_type": "stream",
          "name": "stdout",
          "text": [
            "Early stopping\n"
          ]
        },
        {
          "output_type": "stream",
          "name": "stderr",
          "text": [
            "\n"
          ]
        },
        {
          "output_type": "stream",
          "name": "stdout",
          "text": [
            "Model: 56 best_loss: 0.1735 test_acc: 0.9622\n",
            "-----------------------------\n",
            "Model 57:\n"
          ]
        },
        {
          "output_type": "stream",
          "name": "stderr",
          "text": [
            " 14%|█▍        | 14/100 [00:22<02:20,  1.64s/it]"
          ]
        },
        {
          "output_type": "stream",
          "name": "stdout",
          "text": [
            "Early stopping\n"
          ]
        },
        {
          "output_type": "stream",
          "name": "stderr",
          "text": [
            "\n"
          ]
        },
        {
          "output_type": "stream",
          "name": "stdout",
          "text": [
            "Model: 57 best_loss: 0.1497 test_acc: 0.9671\n",
            "-----------------------------\n",
            "Model 58:\n"
          ]
        },
        {
          "output_type": "stream",
          "name": "stderr",
          "text": [
            " 14%|█▍        | 14/100 [00:22<02:20,  1.63s/it]"
          ]
        },
        {
          "output_type": "stream",
          "name": "stdout",
          "text": [
            "Early stopping\n"
          ]
        },
        {
          "output_type": "stream",
          "name": "stderr",
          "text": [
            "\n"
          ]
        },
        {
          "output_type": "stream",
          "name": "stdout",
          "text": [
            "Model: 58 best_loss: 0.1766 test_acc: 0.9609\n",
            "-----------------------------\n",
            "Model 59:\n"
          ]
        },
        {
          "output_type": "stream",
          "name": "stderr",
          "text": [
            " 14%|█▍        | 14/100 [00:22<02:17,  1.59s/it]"
          ]
        },
        {
          "output_type": "stream",
          "name": "stdout",
          "text": [
            "Early stopping\n",
            "Model: 59 best_loss: 0.1510 test_acc: 0.9653\n",
            "-----------------------------\n",
            "Model 60:\n"
          ]
        },
        {
          "output_type": "stream",
          "name": "stderr",
          "text": [
            "\n",
            " 13%|█▎        | 13/100 [00:21<02:22,  1.64s/it]"
          ]
        },
        {
          "output_type": "stream",
          "name": "stdout",
          "text": [
            "Early stopping\n"
          ]
        },
        {
          "output_type": "stream",
          "name": "stderr",
          "text": [
            "\n"
          ]
        },
        {
          "output_type": "stream",
          "name": "stdout",
          "text": [
            "Model: 60 best_loss: 0.1628 test_acc: 0.9670\n",
            "-----------------------------\n",
            "Model 61:\n"
          ]
        },
        {
          "output_type": "stream",
          "name": "stderr",
          "text": [
            " 14%|█▍        | 14/100 [00:22<02:20,  1.63s/it]"
          ]
        },
        {
          "output_type": "stream",
          "name": "stdout",
          "text": [
            "Early stopping\n"
          ]
        },
        {
          "output_type": "stream",
          "name": "stderr",
          "text": [
            "\n"
          ]
        },
        {
          "output_type": "stream",
          "name": "stdout",
          "text": [
            "Model: 61 best_loss: 0.1528 test_acc: 0.9671\n",
            "-----------------------------\n",
            "Model 62:\n"
          ]
        },
        {
          "output_type": "stream",
          "name": "stderr",
          "text": [
            " 15%|█▌        | 15/100 [00:24<02:16,  1.61s/it]"
          ]
        },
        {
          "output_type": "stream",
          "name": "stdout",
          "text": [
            "Early stopping\n"
          ]
        },
        {
          "output_type": "stream",
          "name": "stderr",
          "text": [
            "\n"
          ]
        },
        {
          "output_type": "stream",
          "name": "stdout",
          "text": [
            "Model: 62 best_loss: 0.1613 test_acc: 0.9687\n",
            "-----------------------------\n",
            "Model 63:\n"
          ]
        },
        {
          "output_type": "stream",
          "name": "stderr",
          "text": [
            " 20%|██        | 20/100 [00:30<02:02,  1.53s/it]"
          ]
        },
        {
          "output_type": "stream",
          "name": "stdout",
          "text": [
            "Early stopping\n"
          ]
        },
        {
          "output_type": "stream",
          "name": "stderr",
          "text": [
            "\n"
          ]
        },
        {
          "output_type": "stream",
          "name": "stdout",
          "text": [
            "Model: 63 best_loss: 0.1779 test_acc: 0.9678\n",
            "-----------------------------\n",
            "Model 64:\n"
          ]
        },
        {
          "output_type": "stream",
          "name": "stderr",
          "text": [
            " 15%|█▌        | 15/100 [00:22<02:09,  1.53s/it]"
          ]
        },
        {
          "output_type": "stream",
          "name": "stdout",
          "text": [
            "Early stopping\n"
          ]
        },
        {
          "output_type": "stream",
          "name": "stderr",
          "text": [
            "\n"
          ]
        },
        {
          "output_type": "stream",
          "name": "stdout",
          "text": [
            "Model: 64 best_loss: 0.1645 test_acc: 0.9648\n",
            "-----------------------------\n",
            "Model 65:\n"
          ]
        },
        {
          "output_type": "stream",
          "name": "stderr",
          "text": [
            " 16%|█▌        | 16/100 [00:25<02:14,  1.61s/it]"
          ]
        },
        {
          "output_type": "stream",
          "name": "stdout",
          "text": [
            "Early stopping\n"
          ]
        },
        {
          "output_type": "stream",
          "name": "stderr",
          "text": [
            "\n"
          ]
        },
        {
          "output_type": "stream",
          "name": "stdout",
          "text": [
            "Model: 65 best_loss: 0.1691 test_acc: 0.9691\n",
            "-----------------------------\n",
            "Model 66:\n"
          ]
        },
        {
          "output_type": "stream",
          "name": "stderr",
          "text": [
            " 15%|█▌        | 15/100 [00:24<02:16,  1.60s/it]"
          ]
        },
        {
          "output_type": "stream",
          "name": "stdout",
          "text": [
            "Early stopping\n"
          ]
        },
        {
          "output_type": "stream",
          "name": "stderr",
          "text": [
            "\n"
          ]
        },
        {
          "output_type": "stream",
          "name": "stdout",
          "text": [
            "Model: 66 best_loss: 0.1584 test_acc: 0.9696\n",
            "-----------------------------\n",
            "Model 67:\n"
          ]
        },
        {
          "output_type": "stream",
          "name": "stderr",
          "text": [
            " 17%|█▋        | 17/100 [00:30<02:29,  1.80s/it]"
          ]
        },
        {
          "output_type": "stream",
          "name": "stdout",
          "text": [
            "Early stopping\n"
          ]
        },
        {
          "output_type": "stream",
          "name": "stderr",
          "text": [
            "\n"
          ]
        },
        {
          "output_type": "stream",
          "name": "stdout",
          "text": [
            "Model: 67 best_loss: 0.1404 test_acc: 0.9685\n",
            "-----------------------------\n",
            "Model 68:\n"
          ]
        },
        {
          "output_type": "stream",
          "name": "stderr",
          "text": [
            " 13%|█▎        | 13/100 [00:23<02:37,  1.81s/it]"
          ]
        },
        {
          "output_type": "stream",
          "name": "stdout",
          "text": [
            "Early stopping\n"
          ]
        },
        {
          "output_type": "stream",
          "name": "stderr",
          "text": [
            "\n"
          ]
        },
        {
          "output_type": "stream",
          "name": "stdout",
          "text": [
            "Model: 68 best_loss: 0.1681 test_acc: 0.9607\n",
            "-----------------------------\n",
            "Model 69:\n"
          ]
        },
        {
          "output_type": "stream",
          "name": "stderr",
          "text": [
            " 26%|██▌       | 26/100 [00:42<02:02,  1.65s/it]"
          ]
        },
        {
          "output_type": "stream",
          "name": "stdout",
          "text": [
            "Early stopping\n"
          ]
        },
        {
          "output_type": "stream",
          "name": "stderr",
          "text": [
            "\n"
          ]
        },
        {
          "output_type": "stream",
          "name": "stdout",
          "text": [
            "Model: 69 best_loss: 0.1537 test_acc: 0.9774\n",
            "-----------------------------\n",
            "Model 70:\n"
          ]
        },
        {
          "output_type": "stream",
          "name": "stderr",
          "text": [
            " 17%|█▋        | 17/100 [00:28<02:18,  1.67s/it]"
          ]
        },
        {
          "output_type": "stream",
          "name": "stdout",
          "text": [
            "Early stopping\n"
          ]
        },
        {
          "output_type": "stream",
          "name": "stderr",
          "text": [
            "\n"
          ]
        },
        {
          "output_type": "stream",
          "name": "stdout",
          "text": [
            "Model: 70 best_loss: 0.1577 test_acc: 0.9684\n",
            "-----------------------------\n",
            "Model 71:\n"
          ]
        },
        {
          "output_type": "stream",
          "name": "stderr",
          "text": [
            " 20%|██        | 20/100 [00:34<02:17,  1.72s/it]"
          ]
        },
        {
          "output_type": "stream",
          "name": "stdout",
          "text": [
            "Early stopping\n"
          ]
        },
        {
          "output_type": "stream",
          "name": "stderr",
          "text": [
            "\n"
          ]
        },
        {
          "output_type": "stream",
          "name": "stdout",
          "text": [
            "Model: 71 best_loss: 0.1416 test_acc: 0.9711\n",
            "-----------------------------\n",
            "Model 72:\n"
          ]
        },
        {
          "output_type": "stream",
          "name": "stderr",
          "text": [
            " 20%|██        | 20/100 [00:34<02:18,  1.73s/it]"
          ]
        },
        {
          "output_type": "stream",
          "name": "stdout",
          "text": [
            "Early stopping\n"
          ]
        },
        {
          "output_type": "stream",
          "name": "stderr",
          "text": [
            "\n"
          ]
        },
        {
          "output_type": "stream",
          "name": "stdout",
          "text": [
            "Model: 72 best_loss: 0.1659 test_acc: 0.9644\n",
            "-----------------------------\n",
            "Model 73:\n"
          ]
        },
        {
          "output_type": "stream",
          "name": "stderr",
          "text": [
            " 16%|█▌        | 16/100 [00:28<02:29,  1.79s/it]"
          ]
        },
        {
          "output_type": "stream",
          "name": "stdout",
          "text": [
            "Early stopping\n"
          ]
        },
        {
          "output_type": "stream",
          "name": "stderr",
          "text": [
            "\n"
          ]
        },
        {
          "output_type": "stream",
          "name": "stdout",
          "text": [
            "Model: 73 best_loss: 0.1539 test_acc: 0.9700\n",
            "-----------------------------\n",
            "Model 74:\n"
          ]
        },
        {
          "output_type": "stream",
          "name": "stderr",
          "text": [
            " 19%|█▉        | 19/100 [00:33<02:21,  1.75s/it]"
          ]
        },
        {
          "output_type": "stream",
          "name": "stdout",
          "text": [
            "Early stopping\n"
          ]
        },
        {
          "output_type": "stream",
          "name": "stderr",
          "text": [
            "\n"
          ]
        },
        {
          "output_type": "stream",
          "name": "stdout",
          "text": [
            "Model: 74 best_loss: 0.1418 test_acc: 0.9711\n",
            "-----------------------------\n",
            "Model 75:\n"
          ]
        },
        {
          "output_type": "stream",
          "name": "stderr",
          "text": [
            " 16%|█▌        | 16/100 [00:28<02:29,  1.78s/it]"
          ]
        },
        {
          "output_type": "stream",
          "name": "stdout",
          "text": [
            "Early stopping\n"
          ]
        },
        {
          "output_type": "stream",
          "name": "stderr",
          "text": [
            "\n"
          ]
        },
        {
          "output_type": "stream",
          "name": "stdout",
          "text": [
            "Model: 75 best_loss: 0.1433 test_acc: 0.9713\n",
            "-----------------------------\n",
            "Model 76:\n"
          ]
        },
        {
          "output_type": "stream",
          "name": "stderr",
          "text": [
            " 21%|██        | 21/100 [00:35<02:13,  1.69s/it]"
          ]
        },
        {
          "output_type": "stream",
          "name": "stdout",
          "text": [
            "Early stopping\n"
          ]
        },
        {
          "output_type": "stream",
          "name": "stderr",
          "text": [
            "\n"
          ]
        },
        {
          "output_type": "stream",
          "name": "stdout",
          "text": [
            "Model: 76 best_loss: 0.1572 test_acc: 0.9728\n",
            "-----------------------------\n",
            "Model 77:\n"
          ]
        },
        {
          "output_type": "stream",
          "name": "stderr",
          "text": [
            " 17%|█▋        | 17/100 [00:29<02:24,  1.74s/it]"
          ]
        },
        {
          "output_type": "stream",
          "name": "stdout",
          "text": [
            "Early stopping\n"
          ]
        },
        {
          "output_type": "stream",
          "name": "stderr",
          "text": [
            "\n"
          ]
        },
        {
          "output_type": "stream",
          "name": "stdout",
          "text": [
            "Model: 77 best_loss: 0.1502 test_acc: 0.9697\n",
            "-----------------------------\n",
            "Model 78:\n"
          ]
        },
        {
          "output_type": "stream",
          "name": "stderr",
          "text": [
            " 16%|█▌        | 16/100 [00:29<02:32,  1.81s/it]"
          ]
        },
        {
          "output_type": "stream",
          "name": "stdout",
          "text": [
            "Early stopping\n"
          ]
        },
        {
          "output_type": "stream",
          "name": "stderr",
          "text": [
            "\n"
          ]
        },
        {
          "output_type": "stream",
          "name": "stdout",
          "text": [
            "Model: 78 best_loss: 0.1645 test_acc: 0.9715\n",
            "-----------------------------\n",
            "Model 79:\n"
          ]
        },
        {
          "output_type": "stream",
          "name": "stderr",
          "text": [
            " 24%|██▍       | 24/100 [00:39<02:05,  1.65s/it]"
          ]
        },
        {
          "output_type": "stream",
          "name": "stdout",
          "text": [
            "Early stopping\n"
          ]
        },
        {
          "output_type": "stream",
          "name": "stderr",
          "text": [
            "\n"
          ]
        },
        {
          "output_type": "stream",
          "name": "stdout",
          "text": [
            "Model: 79 best_loss: 0.1713 test_acc: 0.9730\n",
            "-----------------------------\n",
            "Model 80:\n"
          ]
        },
        {
          "output_type": "stream",
          "name": "stderr",
          "text": [
            " 13%|█▎        | 13/100 [00:23<02:40,  1.84s/it]"
          ]
        },
        {
          "output_type": "stream",
          "name": "stdout",
          "text": [
            "Early stopping\n"
          ]
        },
        {
          "output_type": "stream",
          "name": "stderr",
          "text": [
            "\n"
          ]
        },
        {
          "output_type": "stream",
          "name": "stdout",
          "text": [
            "Model: 80 best_loss: 0.1636 test_acc: 0.9615\n",
            "-----------------------------\n",
            "Model 81:\n"
          ]
        },
        {
          "output_type": "stream",
          "name": "stderr",
          "text": [
            " 14%|█▍        | 14/100 [00:25<02:37,  1.83s/it]"
          ]
        },
        {
          "output_type": "stream",
          "name": "stdout",
          "text": [
            "Early stopping\n"
          ]
        },
        {
          "output_type": "stream",
          "name": "stderr",
          "text": [
            "\n"
          ]
        },
        {
          "output_type": "stream",
          "name": "stdout",
          "text": [
            "Model: 81 best_loss: 0.1497 test_acc: 0.9670\n",
            "-----------------------------\n",
            "Model 82:\n"
          ]
        },
        {
          "output_type": "stream",
          "name": "stderr",
          "text": [
            " 14%|█▍        | 14/100 [00:24<02:30,  1.76s/it]"
          ]
        },
        {
          "output_type": "stream",
          "name": "stdout",
          "text": [
            "Early stopping\n"
          ]
        },
        {
          "output_type": "stream",
          "name": "stderr",
          "text": [
            "\n"
          ]
        },
        {
          "output_type": "stream",
          "name": "stdout",
          "text": [
            "Model: 82 best_loss: 0.1596 test_acc: 0.9652\n",
            "-----------------------------\n",
            "Model 83:\n"
          ]
        },
        {
          "output_type": "stream",
          "name": "stderr",
          "text": [
            " 17%|█▋        | 17/100 [00:29<02:25,  1.75s/it]"
          ]
        },
        {
          "output_type": "stream",
          "name": "stdout",
          "text": [
            "Early stopping\n"
          ]
        },
        {
          "output_type": "stream",
          "name": "stderr",
          "text": [
            "\n"
          ]
        },
        {
          "output_type": "stream",
          "name": "stdout",
          "text": [
            "Model: 83 best_loss: 0.1422 test_acc: 0.9690\n",
            "-----------------------------\n",
            "Model 84:\n"
          ]
        },
        {
          "output_type": "stream",
          "name": "stderr",
          "text": [
            " 17%|█▋        | 17/100 [00:29<02:22,  1.72s/it]"
          ]
        },
        {
          "output_type": "stream",
          "name": "stdout",
          "text": [
            "Early stopping\n"
          ]
        },
        {
          "output_type": "stream",
          "name": "stderr",
          "text": [
            "\n"
          ]
        },
        {
          "output_type": "stream",
          "name": "stdout",
          "text": [
            "Model: 84 best_loss: 0.1612 test_acc: 0.9697\n",
            "-----------------------------\n",
            "Model 85:\n"
          ]
        },
        {
          "output_type": "stream",
          "name": "stderr",
          "text": [
            " 15%|█▌        | 15/100 [00:26<02:28,  1.74s/it]"
          ]
        },
        {
          "output_type": "stream",
          "name": "stdout",
          "text": [
            "Early stopping\n"
          ]
        },
        {
          "output_type": "stream",
          "name": "stderr",
          "text": [
            "\n"
          ]
        },
        {
          "output_type": "stream",
          "name": "stdout",
          "text": [
            "Model: 85 best_loss: 0.1550 test_acc: 0.9676\n",
            "-----------------------------\n",
            "Model 86:\n"
          ]
        },
        {
          "output_type": "stream",
          "name": "stderr",
          "text": [
            " 18%|█▊        | 18/100 [00:31<02:23,  1.75s/it]"
          ]
        },
        {
          "output_type": "stream",
          "name": "stdout",
          "text": [
            "Early stopping\n"
          ]
        },
        {
          "output_type": "stream",
          "name": "stderr",
          "text": [
            "\n"
          ]
        },
        {
          "output_type": "stream",
          "name": "stdout",
          "text": [
            "Model: 86 best_loss: 0.1484 test_acc: 0.9708\n",
            "-----------------------------\n",
            "Model 87:\n"
          ]
        },
        {
          "output_type": "stream",
          "name": "stderr",
          "text": [
            " 14%|█▍        | 14/100 [00:25<02:34,  1.80s/it]"
          ]
        },
        {
          "output_type": "stream",
          "name": "stdout",
          "text": [
            "Early stopping\n"
          ]
        },
        {
          "output_type": "stream",
          "name": "stderr",
          "text": [
            "\n"
          ]
        },
        {
          "output_type": "stream",
          "name": "stdout",
          "text": [
            "Model: 87 best_loss: 0.1429 test_acc: 0.9675\n",
            "-----------------------------\n",
            "Model 88:\n"
          ]
        },
        {
          "output_type": "stream",
          "name": "stderr",
          "text": [
            " 16%|█▌        | 16/100 [00:28<02:28,  1.77s/it]"
          ]
        },
        {
          "output_type": "stream",
          "name": "stdout",
          "text": [
            "Early stopping\n"
          ]
        },
        {
          "output_type": "stream",
          "name": "stderr",
          "text": [
            "\n"
          ]
        },
        {
          "output_type": "stream",
          "name": "stdout",
          "text": [
            "Model: 88 best_loss: 0.1513 test_acc: 0.9674\n",
            "-----------------------------\n",
            "Model 89:\n"
          ]
        },
        {
          "output_type": "stream",
          "name": "stderr",
          "text": [
            " 17%|█▋        | 17/100 [00:29<02:25,  1.75s/it]"
          ]
        },
        {
          "output_type": "stream",
          "name": "stdout",
          "text": [
            "Early stopping\n"
          ]
        },
        {
          "output_type": "stream",
          "name": "stderr",
          "text": [
            "\n"
          ]
        },
        {
          "output_type": "stream",
          "name": "stdout",
          "text": [
            "Model: 89 best_loss: 0.1410 test_acc: 0.9708\n",
            "-----------------------------\n",
            "Model 90:\n"
          ]
        },
        {
          "output_type": "stream",
          "name": "stderr",
          "text": [
            " 21%|██        | 21/100 [00:36<02:16,  1.73s/it]"
          ]
        },
        {
          "output_type": "stream",
          "name": "stdout",
          "text": [
            "Early stopping\n"
          ]
        },
        {
          "output_type": "stream",
          "name": "stderr",
          "text": [
            "\n"
          ]
        },
        {
          "output_type": "stream",
          "name": "stdout",
          "text": [
            "Model: 90 best_loss: 0.1593 test_acc: 0.9726\n",
            "-----------------------------\n",
            "Model 91:\n"
          ]
        },
        {
          "output_type": "stream",
          "name": "stderr",
          "text": [
            " 15%|█▌        | 15/100 [00:26<02:32,  1.80s/it]"
          ]
        },
        {
          "output_type": "stream",
          "name": "stdout",
          "text": [
            "Early stopping\n"
          ]
        },
        {
          "output_type": "stream",
          "name": "stderr",
          "text": [
            "\n"
          ]
        },
        {
          "output_type": "stream",
          "name": "stdout",
          "text": [
            "Model: 91 best_loss: 0.1513 test_acc: 0.9682\n",
            "-----------------------------\n",
            "Model 92:\n"
          ]
        },
        {
          "output_type": "stream",
          "name": "stderr",
          "text": [
            " 18%|█▊        | 18/100 [00:31<02:24,  1.76s/it]"
          ]
        },
        {
          "output_type": "stream",
          "name": "stdout",
          "text": [
            "Early stopping\n"
          ]
        },
        {
          "output_type": "stream",
          "name": "stderr",
          "text": [
            "\n"
          ]
        },
        {
          "output_type": "stream",
          "name": "stdout",
          "text": [
            "Model: 92 best_loss: 0.1649 test_acc: 0.9684\n",
            "-----------------------------\n",
            "Model 93:\n"
          ]
        },
        {
          "output_type": "stream",
          "name": "stderr",
          "text": [
            " 12%|█▏        | 12/100 [00:22<02:44,  1.87s/it]"
          ]
        },
        {
          "output_type": "stream",
          "name": "stdout",
          "text": [
            "Early stopping\n"
          ]
        },
        {
          "output_type": "stream",
          "name": "stderr",
          "text": [
            "\n"
          ]
        },
        {
          "output_type": "stream",
          "name": "stdout",
          "text": [
            "Model: 93 best_loss: 0.1512 test_acc: 0.9618\n",
            "-----------------------------\n",
            "Model 94:\n"
          ]
        },
        {
          "output_type": "stream",
          "name": "stderr",
          "text": [
            " 20%|██        | 20/100 [00:33<02:15,  1.69s/it]"
          ]
        },
        {
          "output_type": "stream",
          "name": "stdout",
          "text": [
            "Early stopping\n"
          ]
        },
        {
          "output_type": "stream",
          "name": "stderr",
          "text": [
            "\n"
          ]
        },
        {
          "output_type": "stream",
          "name": "stdout",
          "text": [
            "Model: 94 best_loss: 0.1500 test_acc: 0.9700\n",
            "-----------------------------\n",
            "Model 95:\n"
          ]
        },
        {
          "output_type": "stream",
          "name": "stderr",
          "text": [
            " 14%|█▍        | 14/100 [00:29<03:02,  2.12s/it]"
          ]
        },
        {
          "output_type": "stream",
          "name": "stdout",
          "text": [
            "Early stopping\n"
          ]
        },
        {
          "output_type": "stream",
          "name": "stderr",
          "text": [
            "\n"
          ]
        },
        {
          "output_type": "stream",
          "name": "stdout",
          "text": [
            "Model: 95 best_loss: 0.1645 test_acc: 0.9650\n",
            "-----------------------------\n",
            "Model 96:\n"
          ]
        },
        {
          "output_type": "stream",
          "name": "stderr",
          "text": [
            " 14%|█▍        | 14/100 [00:27<02:48,  1.96s/it]"
          ]
        },
        {
          "output_type": "stream",
          "name": "stdout",
          "text": [
            "Early stopping\n"
          ]
        },
        {
          "output_type": "stream",
          "name": "stderr",
          "text": [
            "\n"
          ]
        },
        {
          "output_type": "stream",
          "name": "stdout",
          "text": [
            "Model: 96 best_loss: 0.1612 test_acc: 0.9640\n",
            "-----------------------------\n",
            "Model 97:\n"
          ]
        },
        {
          "output_type": "stream",
          "name": "stderr",
          "text": [
            " 19%|█▉        | 19/100 [00:39<02:47,  2.07s/it]"
          ]
        },
        {
          "output_type": "stream",
          "name": "stdout",
          "text": [
            "Early stopping\n"
          ]
        },
        {
          "output_type": "stream",
          "name": "stderr",
          "text": [
            "\n"
          ]
        },
        {
          "output_type": "stream",
          "name": "stdout",
          "text": [
            "Model: 97 best_loss: 0.1366 test_acc: 0.9710\n",
            "-----------------------------\n",
            "Model 98:\n"
          ]
        },
        {
          "output_type": "stream",
          "name": "stderr",
          "text": [
            " 22%|██▏       | 22/100 [00:37<02:13,  1.71s/it]"
          ]
        },
        {
          "output_type": "stream",
          "name": "stdout",
          "text": [
            "Early stopping\n"
          ]
        },
        {
          "output_type": "stream",
          "name": "stderr",
          "text": [
            "\n"
          ]
        },
        {
          "output_type": "stream",
          "name": "stdout",
          "text": [
            "Model: 98 best_loss: 0.1449 test_acc: 0.9720\n",
            "-----------------------------\n",
            "Model 99:\n"
          ]
        },
        {
          "output_type": "stream",
          "name": "stderr",
          "text": [
            " 16%|█▌        | 16/100 [00:28<02:27,  1.76s/it]"
          ]
        },
        {
          "output_type": "stream",
          "name": "stdout",
          "text": [
            "Early stopping\n"
          ]
        },
        {
          "output_type": "stream",
          "name": "stderr",
          "text": [
            "\n"
          ]
        },
        {
          "output_type": "stream",
          "name": "stdout",
          "text": [
            "Model: 99 best_loss: 0.1413 test_acc: 0.9727\n",
            "-----------------------------\n"
          ]
        }
      ]
    },
    {
      "cell_type": "markdown",
      "source": [
        "__parameter projection__"
      ],
      "metadata": {
        "id": "JwBgbUVxu3h0"
      }
    },
    {
      "cell_type": "code",
      "source": [
        "flattened_params = []\n",
        "\n",
        "for param in params:\n",
        "    flat = []\n",
        "    weight = list(param[f'Dense_{len(param) - 1}']['kernel'].flatten())\n",
        "    bias = list(param[f'Dense_{len(param) - 1}']['bias'].flatten())\n",
        "    flat.extend(weight)\n",
        "    flat.extend(bias)\n",
        "    flattened_params.append(flat)"
      ],
      "metadata": {
        "id": "ZgAvwn-6u5Ct"
      },
      "execution_count": null,
      "outputs": []
    },
    {
      "cell_type": "code",
      "source": [
        "pca = PCA(2)\n",
        "params_projection = pca.fit_transform(np.array(flattened_params))\n",
        "plot_params_projection(params_projection, 'PCA parameter projection')"
      ],
      "metadata": {
        "id": "pJTZ83pypd_u",
        "colab": {
          "base_uri": "https://localhost:8080/",
          "height": 571
        },
        "outputId": "67b1c8e8-7c2a-4974-e2b4-9e4b9a56c7ea"
      },
      "execution_count": null,
      "outputs": [
        {
          "output_type": "display_data",
          "data": {
            "text/plain": [
              "<Figure size 1000x600 with 2 Axes>"
            ],
            "image/png": "[encoded data removed]"
          },
          "metadata": {}
        }
      ]
    },
    {
      "cell_type": "code",
      "source": [
        "pca = PCA(50)\n",
        "tsne = TSNE()\n",
        "reduce_params = pca.fit_transform(np.array(flattened_params))\n",
        "params_projection = tsne.fit_transform(reduce_params)"
      ],
      "metadata": {
        "id": "X0TV6-GJr9Cx"
      },
      "execution_count": null,
      "outputs": []
    },
    {
      "cell_type": "code",
      "source": [
        "plot_params_projection(params_projection, 'TSNE parameter projection')"
      ],
      "metadata": {
        "colab": {
          "base_uri": "https://localhost:8080/",
          "height": 571
        },
        "id": "Apuu_uiksAne",
        "outputId": "189fed17-acb0-4243-ce2a-212068d2b117"
      },
      "execution_count": null,
      "outputs": [
        {
          "output_type": "display_data",
          "data": {
            "text/plain": [
              "<Figure size 1000x600 with 2 Axes>"
            ],
            "image/png": "[encoded data removed]"
          },
          "metadata": {}
        }
      ]
    },
    {
      "cell_type": "markdown",
      "source": [
        "## Conclusion"
      ],
      "metadata": {
        "id": "LzHu9nl4mnZ1"
      }
    },
    {
      "cell_type": "markdown",
      "source": [
        "The results obtained are not clear enough to confirm or refute the hypothesis. One of the possible reasons may be the simplicity of the task: despite the attempt to introduce strong randomization into the architecture of the model, the output test quality for them does not differ much, and therefore there is not much difference between the architectures.\n",
        "\n",
        "Thus, it might be worth taking a more complex dataset"
      ],
      "metadata": {
        "id": "89pIRx5Y2-kX"
      }
    }
  ]
}