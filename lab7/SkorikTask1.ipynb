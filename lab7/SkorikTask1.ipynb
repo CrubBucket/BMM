{
  "nbformat": 4,
  "nbformat_minor": 0,
  "metadata": {
    "colab": {
      "provenance": [],
      "gpuType": "T4",
      "toc_visible": true
    },
    "kernelspec": {
      "name": "python3",
      "display_name": "Python 3"
    },
    "language_info": {
      "name": "python"
    },
    "accelerator": "GPU",
    "gpuClass": "standard",
    "widgets": {
      "application/vnd.jupyter.widget-state+json": {
        "9da8bb792c2b4333b563520c8cf252d2": {
          "model_module": "@jupyter-widgets/controls",
          "model_name": "HBoxModel",
          "model_module_version": "1.5.0",
          "state": {
            "_dom_classes": [],
            "_model_module": "@jupyter-widgets/controls",
            "_model_module_version": "1.5.0",
            "_model_name": "HBoxModel",
            "_view_count": null,
            "_view_module": "@jupyter-widgets/controls",
            "_view_module_version": "1.5.0",
            "_view_name": "HBoxView",
            "box_style": "",
            "children": [
              "IPY_MODEL_807f22ddc425489a8600b5cd566cdaff",
              "IPY_MODEL_9485265e37b74e2fa015d022fecdf74b",
              "IPY_MODEL_481216b78c2f445aaa277b081021463a"
            ],
            "layout": "IPY_MODEL_70aa3990f4ad498f85886612922271ba"
          }
        },
        "807f22ddc425489a8600b5cd566cdaff": {
          "model_module": "@jupyter-widgets/controls",
          "model_name": "HTMLModel",
          "model_module_version": "1.5.0",
          "state": {
            "_dom_classes": [],
            "_model_module": "@jupyter-widgets/controls",
            "_model_module_version": "1.5.0",
            "_model_name": "HTMLModel",
            "_view_count": null,
            "_view_module": "@jupyter-widgets/controls",
            "_view_module_version": "1.5.0",
            "_view_name": "HTMLView",
            "description": "",
            "description_tooltip": null,
            "layout": "IPY_MODEL_6a9759b3d1ed43fd89429083f71714bc",
            "placeholder": "​",
            "style": "IPY_MODEL_3d712c83fbfa49a8a933d4b644d0bc34",
            "value": "Dl Completed...: 100%"
          }
        },
        "9485265e37b74e2fa015d022fecdf74b": {
          "model_module": "@jupyter-widgets/controls",
          "model_name": "FloatProgressModel",
          "model_module_version": "1.5.0",
          "state": {
            "_dom_classes": [],
            "_model_module": "@jupyter-widgets/controls",
            "_model_module_version": "1.5.0",
            "_model_name": "FloatProgressModel",
            "_view_count": null,
            "_view_module": "@jupyter-widgets/controls",
            "_view_module_version": "1.5.0",
            "_view_name": "ProgressView",
            "bar_style": "success",
            "description": "",
            "description_tooltip": null,
            "layout": "IPY_MODEL_0413834aa9e04d04b0a8e05a47e58339",
            "max": 5,
            "min": 0,
            "orientation": "horizontal",
            "style": "IPY_MODEL_78f325452a624f10b8920d03d7a1be79",
            "value": 5
          }
        },
        "481216b78c2f445aaa277b081021463a": {
          "model_module": "@jupyter-widgets/controls",
          "model_name": "HTMLModel",
          "model_module_version": "1.5.0",
          "state": {
            "_dom_classes": [],
            "_model_module": "@jupyter-widgets/controls",
            "_model_module_version": "1.5.0",
            "_model_name": "HTMLModel",
            "_view_count": null,
            "_view_module": "@jupyter-widgets/controls",
            "_view_module_version": "1.5.0",
            "_view_name": "HTMLView",
            "description": "",
            "description_tooltip": null,
            "layout": "IPY_MODEL_845b4389626849c49ce0badfb00f6a17",
            "placeholder": "​",
            "style": "IPY_MODEL_d17a6e18b862436685755480597a8da4",
            "value": " 5/5 [00:02&lt;00:00,  2.09 file/s]"
          }
        },
        "70aa3990f4ad498f85886612922271ba": {
          "model_module": "@jupyter-widgets/base",
          "model_name": "LayoutModel",
          "model_module_version": "1.2.0",
          "state": {
            "_model_module": "@jupyter-widgets/base",
            "_model_module_version": "1.2.0",
            "_model_name": "LayoutModel",
            "_view_count": null,
            "_view_module": "@jupyter-widgets/base",
            "_view_module_version": "1.2.0",
            "_view_name": "LayoutView",
            "align_content": null,
            "align_items": null,
            "align_self": null,
            "border": null,
            "bottom": null,
            "display": null,
            "flex": null,
            "flex_flow": null,
            "grid_area": null,
            "grid_auto_columns": null,
            "grid_auto_flow": null,
            "grid_auto_rows": null,
            "grid_column": null,
            "grid_gap": null,
            "grid_row": null,
            "grid_template_areas": null,
            "grid_template_columns": null,
            "grid_template_rows": null,
            "height": null,
            "justify_content": null,
            "justify_items": null,
            "left": null,
            "margin": null,
            "max_height": null,
            "max_width": null,
            "min_height": null,
            "min_width": null,
            "object_fit": null,
            "object_position": null,
            "order": null,
            "overflow": null,
            "overflow_x": null,
            "overflow_y": null,
            "padding": null,
            "right": null,
            "top": null,
            "visibility": null,
            "width": null
          }
        },
        "6a9759b3d1ed43fd89429083f71714bc": {
          "model_module": "@jupyter-widgets/base",
          "model_name": "LayoutModel",
          "model_module_version": "1.2.0",
          "state": {
            "_model_module": "@jupyter-widgets/base",
            "_model_module_version": "1.2.0",
            "_model_name": "LayoutModel",
            "_view_count": null,
            "_view_module": "@jupyter-widgets/base",
            "_view_module_version": "1.2.0",
            "_view_name": "LayoutView",
            "align_content": null,
            "align_items": null,
            "align_self": null,
            "border": null,
            "bottom": null,
            "display": null,
            "flex": null,
            "flex_flow": null,
            "grid_area": null,
            "grid_auto_columns": null,
            "grid_auto_flow": null,
            "grid_auto_rows": null,
            "grid_column": null,
            "grid_gap": null,
            "grid_row": null,
            "grid_template_areas": null,
            "grid_template_columns": null,
            "grid_template_rows": null,
            "height": null,
            "justify_content": null,
            "justify_items": null,
            "left": null,
            "margin": null,
            "max_height": null,
            "max_width": null,
            "min_height": null,
            "min_width": null,
            "object_fit": null,
            "object_position": null,
            "order": null,
            "overflow": null,
            "overflow_x": null,
            "overflow_y": null,
            "padding": null,
            "right": null,
            "top": null,
            "visibility": null,
            "width": null
          }
        },
        "3d712c83fbfa49a8a933d4b644d0bc34": {
          "model_module": "@jupyter-widgets/controls",
          "model_name": "DescriptionStyleModel",
          "model_module_version": "1.5.0",
          "state": {
            "_model_module": "@jupyter-widgets/controls",
            "_model_module_version": "1.5.0",
            "_model_name": "DescriptionStyleModel",
            "_view_count": null,
            "_view_module": "@jupyter-widgets/base",
            "_view_module_version": "1.2.0",
            "_view_name": "StyleView",
            "description_width": ""
          }
        },
        "0413834aa9e04d04b0a8e05a47e58339": {
          "model_module": "@jupyter-widgets/base",
          "model_name": "LayoutModel",
          "model_module_version": "1.2.0",
          "state": {
            "_model_module": "@jupyter-widgets/base",
            "_model_module_version": "1.2.0",
            "_model_name": "LayoutModel",
            "_view_count": null,
            "_view_module": "@jupyter-widgets/base",
            "_view_module_version": "1.2.0",
            "_view_name": "LayoutView",
            "align_content": null,
            "align_items": null,
            "align_self": null,
            "border": null,
            "bottom": null,
            "display": null,
            "flex": null,
            "flex_flow": null,
            "grid_area": null,
            "grid_auto_columns": null,
            "grid_auto_flow": null,
            "grid_auto_rows": null,
            "grid_column": null,
            "grid_gap": null,
            "grid_row": null,
            "grid_template_areas": null,
            "grid_template_columns": null,
            "grid_template_rows": null,
            "height": null,
            "justify_content": null,
            "justify_items": null,
            "left": null,
            "margin": null,
            "max_height": null,
            "max_width": null,
            "min_height": null,
            "min_width": null,
            "object_fit": null,
            "object_position": null,
            "order": null,
            "overflow": null,
            "overflow_x": null,
            "overflow_y": null,
            "padding": null,
            "right": null,
            "top": null,
            "visibility": null,
            "width": null
          }
        },
        "78f325452a624f10b8920d03d7a1be79": {
          "model_module": "@jupyter-widgets/controls",
          "model_name": "ProgressStyleModel",
          "model_module_version": "1.5.0",
          "state": {
            "_model_module": "@jupyter-widgets/controls",
            "_model_module_version": "1.5.0",
            "_model_name": "ProgressStyleModel",
            "_view_count": null,
            "_view_module": "@jupyter-widgets/base",
            "_view_module_version": "1.2.0",
            "_view_name": "StyleView",
            "bar_color": null,
            "description_width": ""
          }
        },
        "845b4389626849c49ce0badfb00f6a17": {
          "model_module": "@jupyter-widgets/base",
          "model_name": "LayoutModel",
          "model_module_version": "1.2.0",
          "state": {
            "_model_module": "@jupyter-widgets/base",
            "_model_module_version": "1.2.0",
            "_model_name": "LayoutModel",
            "_view_count": null,
            "_view_module": "@jupyter-widgets/base",
            "_view_module_version": "1.2.0",
            "_view_name": "LayoutView",
            "align_content": null,
            "align_items": null,
            "align_self": null,
            "border": null,
            "bottom": null,
            "display": null,
            "flex": null,
            "flex_flow": null,
            "grid_area": null,
            "grid_auto_columns": null,
            "grid_auto_flow": null,
            "grid_auto_rows": null,
            "grid_column": null,
            "grid_gap": null,
            "grid_row": null,
            "grid_template_areas": null,
            "grid_template_columns": null,
            "grid_template_rows": null,
            "height": null,
            "justify_content": null,
            "justify_items": null,
            "left": null,
            "margin": null,
            "max_height": null,
            "max_width": null,
            "min_height": null,
            "min_width": null,
            "object_fit": null,
            "object_position": null,
            "order": null,
            "overflow": null,
            "overflow_x": null,
            "overflow_y": null,
            "padding": null,
            "right": null,
            "top": null,
            "visibility": null,
            "width": null
          }
        },
        "d17a6e18b862436685755480597a8da4": {
          "model_module": "@jupyter-widgets/controls",
          "model_name": "DescriptionStyleModel",
          "model_module_version": "1.5.0",
          "state": {
            "_model_module": "@jupyter-widgets/controls",
            "_model_module_version": "1.5.0",
            "_model_name": "DescriptionStyleModel",
            "_view_count": null,
            "_view_module": "@jupyter-widgets/base",
            "_view_module_version": "1.2.0",
            "_view_name": "StyleView",
            "description_width": ""
          }
        }
      }
    }
  },
  "cells": [
    {
      "cell_type": "markdown",
      "source": [
        "# Lab 7\n",
        "\n",
        "**Author: Skorik Sergey**"
      ],
      "metadata": {
        "id": "bJ1UZvHDo0SF"
      }
    },
    {
      "cell_type": "markdown",
      "source": [
        "## The Task\n",
        "\n",
        "Consider [Hinton](https://arxiv.org/pdf/1503.02531.pdf) distillation, but without dataset labels (only teacher output for distillation).\n",
        "Dataset: MNIST. Consider case, when we have two teacher trained only on class subsets (0,..,4) and (5,..,9): Loss = lambda * Dist_1 + (1-lambda) * Dist_2\n",
        "\n",
        "Visualize accuracy of the model with 3 axes:\n",
        "\n",
        "* Accuracy\n",
        "* Temperature\n",
        "* Lambda\n"
      ],
      "metadata": {
        "id": "JU0493sTo7XX"
      }
    },
    {
      "cell_type": "markdown",
      "source": [
        "## Theory\n",
        "\n",
        "Considering Hinton distillation with objective:\n",
        "\n",
        "$$Dist = \\eta\\log p \\left[y \\mid SM(f_{student}(X) / T) \\right] + (1 - \\eta) \\log p \\left[SM(f_{teacher}(X) / T) \\mid SM(f_{student}(X) / T) \\right]$$\n",
        "We consider the case without dataset hard labels, so, the objective:\n",
        "$$Dist = \\log p \\left[SM(f_{teacher}(X) / T) \\mid SM(f_{student}(X) / T) \\right] $$\n",
        "We also consider two teachers, trained only on class subsets $(0, \\ldots, 4)$ and $(5, \\ldots, 9)$. The distilled model objective\n",
        "$$\\mathcal{L}(\\lambda, T) = \\lambda \\cdot Dist_1(T) +  (1 - \\lambda) \\cdot Dist_2(T)$$ \n",
        "Where $Dist_i(T)$ is defined above, $i=\\overline{1,2}$. \n",
        "\n",
        "Thus, experiment consist of following steps:\n",
        "* Train teacher models on subclasses.\n",
        "* Distill student model with different $\\lambda$, $T$ on a whole dataset.\n",
        "* Make a plot dependency of accuracy."
      ],
      "metadata": {
        "id": "U_m88XqRpTm7"
      }
    },
    {
      "cell_type": "markdown",
      "source": [
        "## Experiment"
      ],
      "metadata": {
        "id": "sjKWzfvUrvTZ"
      }
    },
    {
      "cell_type": "markdown",
      "source": [
        "### Imports"
      ],
      "metadata": {
        "id": "p6R5FKp7rxbi"
      }
    },
    {
      "cell_type": "code",
      "execution_count": 66,
      "metadata": {
        "id": "IOwaiv-iosWR"
      },
      "outputs": [],
      "source": [
        "## JAX imports\n",
        "import jax\n",
        "import jax.numpy as jnp\n",
        "from jax import random, jit\n",
        "from jax.tree_util import Partial\n",
        "\n",
        "import numpy as np\n",
        "\n",
        "## Flax (NN in JAX)\n",
        "try:\n",
        "    import flax\n",
        "except ModuleNotFoundError: # Install flax if missing\n",
        "    !pip install --quiet flax\n",
        "    import flax\n",
        "from flax import linen as nn\n",
        "from flax.training.train_state import TrainState\n",
        "\n",
        "## Optax (Optimizers in JAX)\n",
        "try:\n",
        "    import optax\n",
        "except ModuleNotFoundError: # Install optax if missing\n",
        "    !pip install --quiet optax\n",
        "    import optax\n",
        "\n",
        "## import tensorflow dataset\n",
        "import tensorflow_datasets as tfds\n",
        "from sklearn.model_selection import train_test_split\n",
        "\n",
        "##Logging\n",
        "from tqdm import tqdm\n",
        "import matplotlib.pyplot as plt\n",
        "from mpl_toolkits.mplot3d import Axes3D"
      ]
    },
    {
      "cell_type": "markdown",
      "source": [
        "### Load data"
      ],
      "metadata": {
        "id": "z9eKVa5fsD3V"
      }
    },
    {
      "cell_type": "code",
      "source": [
        "data_dir = '/tmp/tfds/'\n",
        "mnist_data, info = tfds.load(name=\"mnist\", batch_size=-1, data_dir=data_dir, with_info=True)\n",
        "mnist_data = tfds.as_numpy(mnist_data)\n",
        "train_data, test_data = mnist_data['train'], mnist_data['test']\n",
        "h, w, c = info.features['image'].shape\n",
        "num_pixels = h * w * c\n",
        "\n",
        "# Full train set\n",
        "X_train, y_train = train_data['image'], train_data['label']\n",
        "X_train = jnp.reshape(X_train, (len(X_train), num_pixels))\n",
        "\n",
        "# Full test set\n",
        "X_test, y_test = test_data['image'], test_data['label']\n",
        "X_test = jnp.reshape(X_test, (len(X_test), num_pixels))\n",
        "\n",
        "# Train val split\n",
        "X_train, X_val, y_train, y_val = train_test_split(X_train, y_train, test_size=0.20, random_state=42)"
      ],
      "metadata": {
        "colab": {
          "base_uri": "https://localhost:8080/",
          "height": 105,
          "referenced_widgets": [
            "9da8bb792c2b4333b563520c8cf252d2",
            "807f22ddc425489a8600b5cd566cdaff",
            "9485265e37b74e2fa015d022fecdf74b",
            "481216b78c2f445aaa277b081021463a",
            "70aa3990f4ad498f85886612922271ba",
            "6a9759b3d1ed43fd89429083f71714bc",
            "3d712c83fbfa49a8a933d4b644d0bc34",
            "0413834aa9e04d04b0a8e05a47e58339",
            "78f325452a624f10b8920d03d7a1be79",
            "845b4389626849c49ce0badfb00f6a17",
            "d17a6e18b862436685755480597a8da4"
          ]
        },
        "id": "n5V-t_rdr8e1",
        "outputId": "73e19feb-3517-405f-93f5-6e136b5ed9f8"
      },
      "execution_count": 2,
      "outputs": [
        {
          "output_type": "stream",
          "name": "stdout",
          "text": [
            "Downloading and preparing dataset 11.06 MiB (download: 11.06 MiB, generated: 21.00 MiB, total: 32.06 MiB) to /tmp/tfds/mnist/3.0.1...\n"
          ]
        },
        {
          "output_type": "display_data",
          "data": {
            "text/plain": [
              "Dl Completed...:   0%|          | 0/5 [00:00<?, ? file/s]"
            ],
            "application/vnd.jupyter.widget-view+json": {
              "version_major": 2,
              "version_minor": 0,
              "model_id": "9da8bb792c2b4333b563520c8cf252d2"
            }
          },
          "metadata": {}
        },
        {
          "output_type": "stream",
          "name": "stdout",
          "text": [
            "Dataset mnist downloaded and prepared to /tmp/tfds/mnist/3.0.1. Subsequent calls will reuse this data.\n"
          ]
        }
      ]
    },
    {
      "cell_type": "code",
      "source": [
        "ids_train = np.random.choice(X_train.shape[0], size=(X_train.shape[0]))\n",
        "ids_val = np.random.choice(X_val.shape[0], size=(X_val.shape[0]))\n",
        "\n",
        "X_train, X_val, y_train, y_val = X_train[ids_train], X_val[ids_val], y_train[ids_train], y_val[ids_val]"
      ],
      "metadata": {
        "id": "4PH0UcxrQDaP"
      },
      "execution_count": 3,
      "outputs": []
    },
    {
      "cell_type": "code",
      "source": [
        "plt.imshow(X_train[0].reshape(28, 28))\n",
        "plt.title(f\"Label: {y_train[0]}\")\n",
        "plt.show()"
      ],
      "metadata": {
        "colab": {
          "base_uri": "https://localhost:8080/",
          "height": 452
        },
        "id": "rAEpTjlLscEF",
        "outputId": "5920a704-6205-4fca-9d6c-052cc0c6e231"
      },
      "execution_count": 4,
      "outputs": [
        {
          "output_type": "display_data",
          "data": {
            "text/plain": [
              "<Figure size 640x480 with 1 Axes>"
            ],
            "image/png": "[encoded data removed]"
          },
          "metadata": {}
        }
      ]
    },
    {
      "cell_type": "code",
      "source": [
        "X_train[0].shape"
      ],
      "metadata": {
        "colab": {
          "base_uri": "https://localhost:8080/"
        },
        "id": "oKvhOi6yu7gq",
        "outputId": "bc8ee50d-fc72-4db6-e950-a80d8f031d55"
      },
      "execution_count": 5,
      "outputs": [
        {
          "output_type": "execute_result",
          "data": {
            "text/plain": [
              "(784,)"
            ]
          },
          "metadata": {},
          "execution_count": 5
        }
      ]
    },
    {
      "cell_type": "code",
      "source": [
        "## Make a subclasses\n",
        "\n",
        "def make_subclass(X, y, subset):\n",
        "    sub_ids = [i for i, label in enumerate(y) if label in subset]\n",
        "    return X[sub_ids], y[sub_ids]\n",
        "\n",
        "subset_1 = [0, 1, 2, 3, 4]\n",
        "subset_2 = [5, 6, 7, 8, 9]\n",
        "\n",
        "sub_1_X_train, sub_1_y_train = make_subclass(X_train, y_train, subset_1)\n",
        "sub_1_X_val, sub_1_y_val = make_subclass(X_val, y_val, subset_1)\n",
        "\n",
        "sub_2_X_train, sub_2_y_train = make_subclass(X_train, y_train, subset_2)\n",
        "sub_2_X_val, sub_2_y_val = make_subclass(X_val, y_val, subset_2)"
      ],
      "metadata": {
        "id": "iLs1tIt5secl"
      },
      "execution_count": 6,
      "outputs": []
    },
    {
      "cell_type": "code",
      "source": [
        "print(f\"Train subclass [0...4] size: {len(sub_1_y_train)}\")\n",
        "print(f\"Train subclass [5...9] size: {len(sub_2_y_train)}\")"
      ],
      "metadata": {
        "colab": {
          "base_uri": "https://localhost:8080/"
        },
        "id": "CfyYeeSruTvX",
        "outputId": "ad6a6e7e-ad6e-49ae-be32-ea1cb926e93d"
      },
      "execution_count": 7,
      "outputs": [
        {
          "output_type": "stream",
          "name": "stdout",
          "text": [
            "Train subclass [0...4] size: 24591\n",
            "Train subclass [5...9] size: 23409\n"
          ]
        }
      ]
    },
    {
      "cell_type": "code",
      "source": [
        "plt.imshow(sub_2_X_train[15].reshape(28, 28))\n",
        "plt.title(f\"Label: {sub_2_y_train[15]}\")\n",
        "plt.show()"
      ],
      "metadata": {
        "colab": {
          "base_uri": "https://localhost:8080/",
          "height": 452
        },
        "id": "MoNyEbiFPS2Q",
        "outputId": "40986c39-085f-4ab3-8095-48c78af2206d"
      },
      "execution_count": 8,
      "outputs": [
        {
          "output_type": "display_data",
          "data": {
            "text/plain": [
              "<Figure size 640x480 with 1 Axes>"
            ],
            "image/png": "[encoded data removed]"
          },
          "metadata": {}
        }
      ]
    },
    {
      "cell_type": "code",
      "source": [
        "# we need to perfom subclass 2 targets to [0...4] range for correct one_hot encoding\n",
        "sub_2_y_train = [i-5 for i in sub_2_y_train]\n",
        "sub_2_y_val = [i-5 for i in sub_2_y_val]"
      ],
      "metadata": {
        "id": "AMBZj9qi5Kzv"
      },
      "execution_count": 9,
      "outputs": []
    },
    {
      "cell_type": "markdown",
      "source": [
        "### Pipeline"
      ],
      "metadata": {
        "id": "NJGd2oJcupS3"
      }
    },
    {
      "cell_type": "code",
      "source": [
        "class MLP(nn.Module):\n",
        "    hiddens: list\n",
        "    model_type: str\n",
        "\n",
        "    @nn.compact\n",
        "    def __call__(self, x, train=True):\n",
        "        for hidden_size in self.hiddens:\n",
        "            x = nn.Dense(hidden_size)(x)\n",
        "            if self.model_type == 'teacher':\n",
        "                x = nn.Dropout(0.5)(x, deterministic=not train)\n",
        "            x = nn.relu(x)\n",
        "        if self.model_type == 'teacher':\n",
        "            output = 5\n",
        "        else:\n",
        "            output = 10\n",
        "        return nn.Dense(output)(x)"
      ],
      "metadata": {
        "id": "VxTiJfcCuqtT"
      },
      "execution_count": 11,
      "outputs": []
    },
    {
      "cell_type": "code",
      "source": [
        "def create_train_state(rng, tx, hiddens, model_type):\n",
        "    \"\"\"Creates initial `TrainState`.\"\"\"\n",
        "    model = MLP(hiddens, model_type)\n",
        "    if model_type == 'teacher':\n",
        "        rng = {'params': rng[0], 'dropout': rng[1]}\n",
        "    params = model.init(rng, jnp.ones(shape=X_train[0].shape))['params'] # initialize parameters by passing a template input\n",
        "    return TrainState.create(apply_fn=model.apply, params=params, tx=tx)"
      ],
      "metadata": {
        "id": "mwzgSt8AxTXo"
      },
      "execution_count": 12,
      "outputs": []
    },
    {
      "cell_type": "code",
      "source": [
        "@jax.jit\n",
        "def teacher_loss(logits, labels):\n",
        "    labels_onehot = jax.nn.one_hot(labels, num_classes=5)\n",
        "    return optax.softmax_cross_entropy(logits=logits, labels=labels_onehot).mean()\n",
        "\n",
        "@Partial(jit, static_argnames=('T', 'slc'))\n",
        "def distillation(tLogits, sLogits, T, slc):\n",
        "    s_lsm = nn.activation.log_softmax(sLogits / T)\n",
        "    t_lsm = nn.activation.softmax(tLogits / T)\n",
        "    if slc == 'first':\n",
        "        s_lsm = s_lsm[:, :5]\n",
        "    else:\n",
        "        s_lsm = s_lsm[:, 5:]\n",
        "    return -jnp.sum(s_lsm*t_lsm, axis=-1).mean()\n",
        "\n",
        "@Partial(jit, static_argnames=('alpha', 'T'))\n",
        "def student_loss(sLogits, t1Logits, t2Logits, alpha, T):\n",
        "    return alpha * distillation(t1Logits, sLogits, T, 'first') + (1 - alpha) * distillation(t2Logits, sLogits, T, 'second')\n",
        "\n",
        "@Partial(jit, static_argnames=('objective', 'alpha', 'T'))\n",
        "def call_objective(logits, labels, objective, alpha, T):\n",
        "    if objective == 'teacher_loss':\n",
        "        loss = teacher_loss(logits, labels)\n",
        "    elif objective == 'student_loss':\n",
        "        assert alpha is not None and T is not None\n",
        "        t1Logits, t2Logits = labels\n",
        "        loss = student_loss(logits, t1Logits, t2Logits, alpha, T)\n",
        "    return loss\n",
        "\n",
        "@Partial(jit, static_argnames=('objective', 'alpha', 'T'))\n",
        "def train_step(state, input, labels, objective, alpha, T):\n",
        "    def loss_f(params):\n",
        "        logits = state.apply_fn({'params': params}, input, rngs={'dropout': random.PRNGKey(42)})\n",
        "        return call_objective(logits, labels, objective, alpha, T)\n",
        "    grad_fn = jax.value_and_grad(loss_f)\n",
        "    loss, grads = grad_fn(state.params)\n",
        "    # print(f\"grads:{grads}\")\n",
        "    # print(f\"train_loss: {loss}\")\n",
        "    state = state.apply_gradients(grads=grads)\n",
        "    return state, loss\n",
        "\n",
        "@Partial(jit, static_argnames=('objective', 'alpha', 'T'))\n",
        "def validate(X_val, y_val, state, objective, alpha, T):\n",
        "    logits = state.apply_fn({'params': state.params}, X_val, train=False)\n",
        "    return call_objective(logits, y_val, objective, alpha, T)\n",
        "\n",
        "def train_epoch(state, epoch, X_train, y_train, bs, objective, alpha, T):\n",
        "    \"\"\"Train for a single epoch.\"\"\"\n",
        "    train_loss = []\n",
        "    # print(f\"Dataset len: {X_train.shape[0]}\")\n",
        "    for it in range(X_train.shape[0] // bs):\n",
        "        input = X_train[it*bs:(it+1)*bs]\n",
        "        if alpha is not None and T is not None:\n",
        "            labels_1 = y_train[0][it*bs:(it+1)*bs]\n",
        "            labels_2 = y_train[1][it*bs:(it+1)*bs]\n",
        "            labels = [labels_1, labels_2]\n",
        "        else:\n",
        "            labels = y_train[it*bs:(it+1)*bs]\n",
        "        state, loss = train_step(state, input, labels, objective, alpha, T)\n",
        "        train_loss.append(loss.item())\n",
        "        if it == 3:\n",
        "            break\n",
        "    return state, train_loss\n",
        "\n",
        "def train_model(X_train, y_train, X_test, y_test, state, objective, batch_size=32, epochs=100, epochs_no_improve=10, alpha=None, T=None):\n",
        "    best_loss = jnp.inf\n",
        "    best_model = None\n",
        "    patience = 0\n",
        "    train_losses = []\n",
        "    for epoch in tqdm(range(epochs)):\n",
        "        # print(\"I'm here\")\n",
        "        state, train_loss = train_epoch(state, epoch, X_train, y_train, batch_size, objective, alpha, T)\n",
        "        validate_loss = validate(X_test, y_test, state, objective, alpha, T)\n",
        "        train_losses.extend(train_loss)\n",
        "        if validate_loss < best_loss:\n",
        "            best_loss = validate_loss\n",
        "            best_model = state.params\n",
        "            patience = 0\n",
        "        if patience == epochs_no_improve:\n",
        "            print(\"Early stopping\")\n",
        "            return best_model, train_losses, best_loss\n",
        "        # break\n",
        "        patience += 1\n",
        "    return best_model, train_losses, best_loss\n",
        "\n",
        "def calculate_acc(params, hidden, x, y, model_type):\n",
        "    model = MLP(hidden, model_type)\n",
        "    preds = nn.activation.softmax(model.apply({'params': params}, x, train=False))\n",
        "    ids = jnp.argmax(preds, axis=-1)\n",
        "    return jnp.mean(ids == y)"
      ],
      "metadata": {
        "id": "I8osBennxq21"
      },
      "execution_count": 55,
      "outputs": []
    },
    {
      "cell_type": "markdown",
      "source": [
        "### Training teacher models"
      ],
      "metadata": {
        "id": "-gWihpq47CuS"
      }
    },
    {
      "cell_type": "code",
      "source": [
        "#Initialize teacher models state\n",
        "state_1 = create_train_state([random.PRNGKey(0), random.PRNGKey(1)], optax.adam(1e-3), [1200, 1200], model_type='teacher')\n",
        "state_2 = create_train_state([random.PRNGKey(2), random.PRNGKey(3)], optax.adam(1e-3), [1200, 1200], model_type='teacher')"
      ],
      "metadata": {
        "id": "TIFNSme8-0zn"
      },
      "execution_count": 34,
      "outputs": []
    },
    {
      "cell_type": "code",
      "source": [
        "# Teacher_1 training\n",
        "best_params_1, train_loss_1, val_loss_1 = train_model(sub_1_X_train, sub_1_y_train, sub_1_X_val, sub_1_y_val, state_1, objective='teacher_loss', batch_size=128)"
      ],
      "metadata": {
        "colab": {
          "base_uri": "https://localhost:8080/"
        },
        "id": "tq0bSXZRIaUv",
        "outputId": "ddc1872e-8a14-4362-cc7d-e99daaa0e569"
      },
      "execution_count": 35,
      "outputs": [
        {
          "output_type": "stream",
          "name": "stderr",
          "text": [
            " 12%|█▏        | 12/100 [00:02<00:14,  5.95it/s]"
          ]
        },
        {
          "output_type": "stream",
          "name": "stdout",
          "text": [
            "Early stopping\n"
          ]
        },
        {
          "output_type": "stream",
          "name": "stderr",
          "text": [
            "\n"
          ]
        }
      ]
    },
    {
      "cell_type": "code",
      "source": [
        "# Teacher_2 training\n",
        "best_params_2, train_loss_2, val_loss_2 = train_model(sub_2_X_train, sub_2_y_train, sub_2_X_val, sub_2_y_val, state_2, objective='teacher_loss', batch_size=128)"
      ],
      "metadata": {
        "colab": {
          "base_uri": "https://localhost:8080/"
        },
        "id": "2ISBdMbkM7xr",
        "outputId": "544d57aa-38d0-47b6-86ed-4d14a12e5a72"
      },
      "execution_count": 36,
      "outputs": [
        {
          "output_type": "stream",
          "name": "stderr",
          "text": [
            " 43%|████▎     | 43/100 [00:29<00:39,  1.44it/s]"
          ]
        },
        {
          "output_type": "stream",
          "name": "stdout",
          "text": [
            "Early stopping\n"
          ]
        },
        {
          "output_type": "stream",
          "name": "stderr",
          "text": [
            "\n"
          ]
        }
      ]
    },
    {
      "cell_type": "code",
      "source": [
        "# Teacher models testing\n",
        "sub_1_X_test, sub_1_y_test = make_subclass(X_test, y_test, subset_1)\n",
        "sub_2_X_test, sub_2_y_test = make_subclass(X_test, y_test, subset_2)\n",
        "sub_2_y_test = jnp.array([i-5 for i in sub_2_y_test])\n",
        "\n",
        "print(f\"Teacher 1 test acc: {calculate_acc(best_params_1, [1200, 1200], sub_1_X_test, sub_1_y_test, model_type='teacher')}\")\n",
        "print(f\"Teacher 2 test acc: {calculate_acc(best_params_2, [1200, 1200], sub_2_X_test, sub_2_y_test, model_type='teacher')}\")"
      ],
      "metadata": {
        "colab": {
          "base_uri": "https://localhost:8080/"
        },
        "id": "mEyqctDONO-6",
        "outputId": "aee8f20d-cd3a-4986-a917-e69065a24a6d"
      },
      "execution_count": 38,
      "outputs": [
        {
          "output_type": "stream",
          "name": "stdout",
          "text": [
            "Teacher 1 test acc: 0.9237205982208252\n",
            "Teacher 2 test acc: 0.8932318091392517\n"
          ]
        }
      ]
    },
    {
      "cell_type": "code",
      "source": [
        "# Make a soft labels\n",
        "\n",
        "model = MLP([1200, 1200], 'teacher')\n",
        "\n",
        "t1Logits_train = model.apply({'params': best_params_1}, X_train, train=False)\n",
        "t2Logits_train  = model.apply({'params': best_params_2}, X_train, train=False)\n",
        "\n",
        "t1Logits_val = model.apply({'params': best_params_1}, X_val, train=False)\n",
        "t2Logits_val  = model.apply({'params': best_params_2}, X_val, train=False)"
      ],
      "metadata": {
        "id": "1ziAQjVb7A_l"
      },
      "execution_count": 41,
      "outputs": []
    },
    {
      "cell_type": "code",
      "source": [
        "student_state = create_train_state(random.PRNGKey(4), optax.adam(1e-3), [100], model_type='student')"
      ],
      "metadata": {
        "id": "GiKbqIDH8OxT"
      },
      "execution_count": 63,
      "outputs": []
    },
    {
      "cell_type": "code",
      "source": [
        "# Sudent training depending on alpha and temperature\n",
        "alphas = np.linspace(0, 1, num=10)\n",
        "temperatures = np.linspace(0.5, 5, num=10)\n",
        "points = []\n",
        "\n",
        "for alpha in alphas:\n",
        "    for temp in temperatures:\n",
        "\n",
        "        s_best_params, s_train_loss, s_val_loss = train_model(X_train, [t1Logits_train, t2Logits_train], \n",
        "                                                            X_val, [t1Logits_val, t2Logits_val], \n",
        "                                                            student_state, objective='student_loss', \n",
        "                                                            batch_size=128, alpha=alpha, T=temp)\n",
        "        acc = calculate_acc(s_best_params, [100], X_test, y_test, model_type='student')\n",
        "        print(f\"Alpha: {alpha:.2f}, T: {temp:.2f}, Accuracy: {acc:.2f}\")\n",
        "        points.append((alpha, temp, acc))"
      ],
      "metadata": {
        "colab": {
          "base_uri": "https://localhost:8080/"
        },
        "id": "jgNL7yUE8nMb",
        "outputId": "ba628506-c6fe-444e-ee84-00bfbbb1f9e2"
      },
      "execution_count": 64,
      "outputs": [
        {
          "output_type": "stream",
          "name": "stderr",
          "text": [
            " 35%|███▌      | 35/100 [00:02<00:03, 16.72it/s]\n"
          ]
        },
        {
          "output_type": "stream",
          "name": "stdout",
          "text": [
            "Early stopping\n",
            "Alpha: 0.00, T: 0.50, Accuracy: 0.41\n"
          ]
        },
        {
          "output_type": "stream",
          "name": "stderr",
          "text": [
            " 53%|█████▎    | 53/100 [00:02<00:02, 19.10it/s]\n"
          ]
        },
        {
          "output_type": "stream",
          "name": "stdout",
          "text": [
            "Early stopping\n",
            "Alpha: 0.00, T: 1.00, Accuracy: 0.41\n"
          ]
        },
        {
          "output_type": "stream",
          "name": "stderr",
          "text": [
            " 54%|█████▍    | 54/100 [00:02<00:01, 26.93it/s]\n"
          ]
        },
        {
          "output_type": "stream",
          "name": "stdout",
          "text": [
            "Early stopping\n",
            "Alpha: 0.00, T: 1.50, Accuracy: 0.41\n"
          ]
        },
        {
          "output_type": "stream",
          "name": "stderr",
          "text": [
            " 37%|███▋      | 37/100 [00:01<00:03, 20.84it/s]\n"
          ]
        },
        {
          "output_type": "stream",
          "name": "stdout",
          "text": [
            "Early stopping\n",
            "Alpha: 0.00, T: 2.00, Accuracy: 0.41\n"
          ]
        },
        {
          "output_type": "stream",
          "name": "stderr",
          "text": [
            " 40%|████      | 40/100 [00:01<00:02, 22.01it/s]\n"
          ]
        },
        {
          "output_type": "stream",
          "name": "stdout",
          "text": [
            "Early stopping\n",
            "Alpha: 0.00, T: 2.50, Accuracy: 0.41\n"
          ]
        },
        {
          "output_type": "stream",
          "name": "stderr",
          "text": [
            " 27%|██▋       | 27/100 [00:01<00:04, 16.54it/s]\n"
          ]
        },
        {
          "output_type": "stream",
          "name": "stdout",
          "text": [
            "Early stopping\n",
            "Alpha: 0.00, T: 3.00, Accuracy: 0.41\n"
          ]
        },
        {
          "output_type": "stream",
          "name": "stderr",
          "text": [
            " 50%|█████     | 50/100 [00:02<00:02, 24.30it/s]\n"
          ]
        },
        {
          "output_type": "stream",
          "name": "stdout",
          "text": [
            "Early stopping\n",
            "Alpha: 0.00, T: 3.50, Accuracy: 0.41\n"
          ]
        },
        {
          "output_type": "stream",
          "name": "stderr",
          "text": [
            "100%|██████████| 100/100 [00:03<00:00, 27.15it/s]\n"
          ]
        },
        {
          "output_type": "stream",
          "name": "stdout",
          "text": [
            "Alpha: 0.00, T: 4.00, Accuracy: 0.41\n"
          ]
        },
        {
          "output_type": "stream",
          "name": "stderr",
          "text": [
            " 93%|█████████▎| 93/100 [00:02<00:00, 36.01it/s]\n"
          ]
        },
        {
          "output_type": "stream",
          "name": "stdout",
          "text": [
            "Early stopping\n",
            "Alpha: 0.00, T: 4.50, Accuracy: 0.42\n"
          ]
        },
        {
          "output_type": "stream",
          "name": "stderr",
          "text": [
            "100%|██████████| 100/100 [00:02<00:00, 39.29it/s]\n"
          ]
        },
        {
          "output_type": "stream",
          "name": "stdout",
          "text": [
            "Alpha: 0.00, T: 5.00, Accuracy: 0.42\n"
          ]
        },
        {
          "output_type": "stream",
          "name": "stderr",
          "text": [
            "100%|██████████| 100/100 [00:02<00:00, 38.00it/s]\n"
          ]
        },
        {
          "output_type": "stream",
          "name": "stdout",
          "text": [
            "Alpha: 0.11, T: 0.50, Accuracy: 0.39\n"
          ]
        },
        {
          "output_type": "stream",
          "name": "stderr",
          "text": [
            " 21%|██        | 21/100 [00:01<00:06, 12.06it/s]\n"
          ]
        },
        {
          "output_type": "stream",
          "name": "stdout",
          "text": [
            "Early stopping\n",
            "Alpha: 0.11, T: 1.00, Accuracy: 0.42\n"
          ]
        },
        {
          "output_type": "stream",
          "name": "stderr",
          "text": [
            " 21%|██        | 21/100 [00:02<00:08,  9.12it/s]\n"
          ]
        },
        {
          "output_type": "stream",
          "name": "stdout",
          "text": [
            "Early stopping\n",
            "Alpha: 0.11, T: 1.50, Accuracy: 0.42\n"
          ]
        },
        {
          "output_type": "stream",
          "name": "stderr",
          "text": [
            " 23%|██▎       | 23/100 [00:01<00:05, 14.87it/s]\n"
          ]
        },
        {
          "output_type": "stream",
          "name": "stdout",
          "text": [
            "Early stopping\n",
            "Alpha: 0.11, T: 2.00, Accuracy: 0.41\n"
          ]
        },
        {
          "output_type": "stream",
          "name": "stderr",
          "text": [
            " 21%|██        | 21/100 [00:01<00:05, 13.80it/s]\n"
          ]
        },
        {
          "output_type": "stream",
          "name": "stdout",
          "text": [
            "Early stopping\n",
            "Alpha: 0.11, T: 2.50, Accuracy: 0.41\n"
          ]
        },
        {
          "output_type": "stream",
          "name": "stderr",
          "text": [
            " 21%|██        | 21/100 [00:01<00:05, 13.82it/s]\n"
          ]
        },
        {
          "output_type": "stream",
          "name": "stdout",
          "text": [
            "Early stopping\n",
            "Alpha: 0.11, T: 3.00, Accuracy: 0.41\n"
          ]
        },
        {
          "output_type": "stream",
          "name": "stderr",
          "text": [
            " 25%|██▌       | 25/100 [00:01<00:04, 15.88it/s]\n"
          ]
        },
        {
          "output_type": "stream",
          "name": "stdout",
          "text": [
            "Early stopping\n",
            "Alpha: 0.11, T: 3.50, Accuracy: 0.42\n"
          ]
        },
        {
          "output_type": "stream",
          "name": "stderr",
          "text": [
            " 24%|██▍       | 24/100 [00:01<00:04, 15.43it/s]\n"
          ]
        },
        {
          "output_type": "stream",
          "name": "stdout",
          "text": [
            "Early stopping\n",
            "Alpha: 0.11, T: 4.00, Accuracy: 0.41\n"
          ]
        },
        {
          "output_type": "stream",
          "name": "stderr",
          "text": [
            " 29%|██▉       | 29/100 [00:01<00:04, 17.56it/s]\n"
          ]
        },
        {
          "output_type": "stream",
          "name": "stdout",
          "text": [
            "Early stopping\n",
            "Alpha: 0.11, T: 4.50, Accuracy: 0.42\n"
          ]
        },
        {
          "output_type": "stream",
          "name": "stderr",
          "text": [
            " 29%|██▉       | 29/100 [00:02<00:06, 11.52it/s]\n"
          ]
        },
        {
          "output_type": "stream",
          "name": "stdout",
          "text": [
            "Early stopping\n",
            "Alpha: 0.11, T: 5.00, Accuracy: 0.42\n"
          ]
        },
        {
          "output_type": "stream",
          "name": "stderr",
          "text": [
            "100%|██████████| 100/100 [00:02<00:00, 37.31it/s]\n"
          ]
        },
        {
          "output_type": "stream",
          "name": "stdout",
          "text": [
            "Alpha: 0.22, T: 0.50, Accuracy: 0.41\n"
          ]
        },
        {
          "output_type": "stream",
          "name": "stderr",
          "text": [
            " 94%|█████████▍| 94/100 [00:02<00:00, 38.10it/s]\n"
          ]
        },
        {
          "output_type": "stream",
          "name": "stdout",
          "text": [
            "Early stopping\n",
            "Alpha: 0.22, T: 1.00, Accuracy: 0.42\n"
          ]
        },
        {
          "output_type": "stream",
          "name": "stderr",
          "text": [
            "100%|██████████| 100/100 [00:02<00:00, 38.15it/s]\n"
          ]
        },
        {
          "output_type": "stream",
          "name": "stdout",
          "text": [
            "Alpha: 0.22, T: 1.50, Accuracy: 0.42\n"
          ]
        },
        {
          "output_type": "stream",
          "name": "stderr",
          "text": [
            " 70%|███████   | 70/100 [00:02<00:00, 32.24it/s]\n"
          ]
        },
        {
          "output_type": "stream",
          "name": "stdout",
          "text": [
            "Early stopping\n",
            "Alpha: 0.22, T: 2.00, Accuracy: 0.43\n"
          ]
        },
        {
          "output_type": "stream",
          "name": "stderr",
          "text": [
            " 63%|██████▎   | 63/100 [00:03<00:01, 20.42it/s]\n"
          ]
        },
        {
          "output_type": "stream",
          "name": "stdout",
          "text": [
            "Early stopping\n",
            "Alpha: 0.22, T: 2.50, Accuracy: 0.45\n"
          ]
        },
        {
          "output_type": "stream",
          "name": "stderr",
          "text": [
            " 77%|███████▋  | 77/100 [00:02<00:00, 34.21it/s]\n"
          ]
        },
        {
          "output_type": "stream",
          "name": "stdout",
          "text": [
            "Early stopping\n",
            "Alpha: 0.22, T: 3.00, Accuracy: 0.46\n"
          ]
        },
        {
          "output_type": "stream",
          "name": "stderr",
          "text": [
            " 65%|██████▌   | 65/100 [00:02<00:01, 30.67it/s]\n"
          ]
        },
        {
          "output_type": "stream",
          "name": "stdout",
          "text": [
            "Early stopping\n",
            "Alpha: 0.22, T: 3.50, Accuracy: 0.44\n"
          ]
        },
        {
          "output_type": "stream",
          "name": "stderr",
          "text": [
            " 53%|█████▎    | 53/100 [00:01<00:01, 27.65it/s]\n"
          ]
        },
        {
          "output_type": "stream",
          "name": "stdout",
          "text": [
            "Early stopping\n",
            "Alpha: 0.22, T: 4.00, Accuracy: 0.44\n"
          ]
        },
        {
          "output_type": "stream",
          "name": "stderr",
          "text": [
            " 66%|██████▌   | 66/100 [00:02<00:01, 31.06it/s]\n"
          ]
        },
        {
          "output_type": "stream",
          "name": "stdout",
          "text": [
            "Early stopping\n",
            "Alpha: 0.22, T: 4.50, Accuracy: 0.45\n"
          ]
        },
        {
          "output_type": "stream",
          "name": "stderr",
          "text": [
            " 58%|█████▊    | 58/100 [00:02<00:01, 25.69it/s]\n"
          ]
        },
        {
          "output_type": "stream",
          "name": "stdout",
          "text": [
            "Early stopping\n",
            "Alpha: 0.22, T: 5.00, Accuracy: 0.45\n"
          ]
        },
        {
          "output_type": "stream",
          "name": "stderr",
          "text": [
            "100%|██████████| 100/100 [00:03<00:00, 30.25it/s]\n"
          ]
        },
        {
          "output_type": "stream",
          "name": "stdout",
          "text": [
            "Alpha: 0.33, T: 0.50, Accuracy: 0.41\n"
          ]
        },
        {
          "output_type": "stream",
          "name": "stderr",
          "text": [
            "100%|██████████| 100/100 [00:02<00:00, 39.08it/s]\n"
          ]
        },
        {
          "output_type": "stream",
          "name": "stdout",
          "text": [
            "Alpha: 0.33, T: 1.00, Accuracy: 0.43\n"
          ]
        },
        {
          "output_type": "stream",
          "name": "stderr",
          "text": [
            "100%|██████████| 100/100 [00:02<00:00, 38.40it/s]\n"
          ]
        },
        {
          "output_type": "stream",
          "name": "stdout",
          "text": [
            "Alpha: 0.33, T: 1.50, Accuracy: 0.43\n"
          ]
        },
        {
          "output_type": "stream",
          "name": "stderr",
          "text": [
            "100%|██████████| 100/100 [00:02<00:00, 38.48it/s]\n"
          ]
        },
        {
          "output_type": "stream",
          "name": "stdout",
          "text": [
            "Alpha: 0.33, T: 2.00, Accuracy: 0.44\n"
          ]
        },
        {
          "output_type": "stream",
          "name": "stderr",
          "text": [
            "100%|██████████| 100/100 [00:03<00:00, 27.59it/s]\n"
          ]
        },
        {
          "output_type": "stream",
          "name": "stdout",
          "text": [
            "Alpha: 0.33, T: 2.50, Accuracy: 0.45\n"
          ]
        },
        {
          "output_type": "stream",
          "name": "stderr",
          "text": [
            "100%|██████████| 100/100 [00:03<00:00, 30.06it/s]\n"
          ]
        },
        {
          "output_type": "stream",
          "name": "stdout",
          "text": [
            "Alpha: 0.33, T: 3.00, Accuracy: 0.45\n"
          ]
        },
        {
          "output_type": "stream",
          "name": "stderr",
          "text": [
            " 82%|████████▏ | 82/100 [00:02<00:00, 29.17it/s]\n"
          ]
        },
        {
          "output_type": "stream",
          "name": "stdout",
          "text": [
            "Early stopping\n",
            "Alpha: 0.33, T: 3.50, Accuracy: 0.45\n"
          ]
        },
        {
          "output_type": "stream",
          "name": "stderr",
          "text": [
            "100%|██████████| 100/100 [00:02<00:00, 38.38it/s]\n"
          ]
        },
        {
          "output_type": "stream",
          "name": "stdout",
          "text": [
            "Alpha: 0.33, T: 4.00, Accuracy: 0.45\n"
          ]
        },
        {
          "output_type": "stream",
          "name": "stderr",
          "text": [
            " 99%|█████████▉| 99/100 [00:03<00:00, 31.36it/s]\n"
          ]
        },
        {
          "output_type": "stream",
          "name": "stdout",
          "text": [
            "Early stopping\n",
            "Alpha: 0.33, T: 4.50, Accuracy: 0.46\n"
          ]
        },
        {
          "output_type": "stream",
          "name": "stderr",
          "text": [
            " 77%|███████▋  | 77/100 [00:02<00:00, 31.79it/s]\n"
          ]
        },
        {
          "output_type": "stream",
          "name": "stdout",
          "text": [
            "Early stopping\n",
            "Alpha: 0.33, T: 5.00, Accuracy: 0.47\n"
          ]
        },
        {
          "output_type": "stream",
          "name": "stderr",
          "text": [
            "100%|██████████| 100/100 [00:02<00:00, 38.11it/s]\n"
          ]
        },
        {
          "output_type": "stream",
          "name": "stdout",
          "text": [
            "Alpha: 0.44, T: 0.50, Accuracy: 0.42\n"
          ]
        },
        {
          "output_type": "stream",
          "name": "stderr",
          "text": [
            "100%|██████████| 100/100 [00:02<00:00, 38.16it/s]\n"
          ]
        },
        {
          "output_type": "stream",
          "name": "stdout",
          "text": [
            "Alpha: 0.44, T: 1.00, Accuracy: 0.43\n"
          ]
        },
        {
          "output_type": "stream",
          "name": "stderr",
          "text": [
            "100%|██████████| 100/100 [00:02<00:00, 38.30it/s]\n"
          ]
        },
        {
          "output_type": "stream",
          "name": "stdout",
          "text": [
            "Alpha: 0.44, T: 1.50, Accuracy: 0.45\n"
          ]
        },
        {
          "output_type": "stream",
          "name": "stderr",
          "text": [
            "100%|██████████| 100/100 [00:03<00:00, 27.92it/s]\n"
          ]
        },
        {
          "output_type": "stream",
          "name": "stdout",
          "text": [
            "Alpha: 0.44, T: 2.00, Accuracy: 0.46\n"
          ]
        },
        {
          "output_type": "stream",
          "name": "stderr",
          "text": [
            "100%|██████████| 100/100 [00:02<00:00, 39.05it/s]\n"
          ]
        },
        {
          "output_type": "stream",
          "name": "stdout",
          "text": [
            "Alpha: 0.44, T: 2.50, Accuracy: 0.46\n"
          ]
        },
        {
          "output_type": "stream",
          "name": "stderr",
          "text": [
            " 80%|████████  | 80/100 [00:02<00:00, 34.67it/s]\n"
          ]
        },
        {
          "output_type": "stream",
          "name": "stdout",
          "text": [
            "Early stopping\n",
            "Alpha: 0.44, T: 3.00, Accuracy: 0.46\n"
          ]
        },
        {
          "output_type": "stream",
          "name": "stderr",
          "text": [
            "100%|██████████| 100/100 [00:02<00:00, 38.77it/s]\n"
          ]
        },
        {
          "output_type": "stream",
          "name": "stdout",
          "text": [
            "Alpha: 0.44, T: 3.50, Accuracy: 0.46\n"
          ]
        },
        {
          "output_type": "stream",
          "name": "stderr",
          "text": [
            " 71%|███████   | 71/100 [00:02<00:00, 29.25it/s]\n"
          ]
        },
        {
          "output_type": "stream",
          "name": "stdout",
          "text": [
            "Early stopping\n",
            "Alpha: 0.44, T: 4.00, Accuracy: 0.47\n"
          ]
        },
        {
          "output_type": "stream",
          "name": "stderr",
          "text": [
            " 84%|████████▍ | 84/100 [00:03<00:00, 27.45it/s]\n"
          ]
        },
        {
          "output_type": "stream",
          "name": "stdout",
          "text": [
            "Early stopping\n",
            "Alpha: 0.44, T: 4.50, Accuracy: 0.48\n"
          ]
        },
        {
          "output_type": "stream",
          "name": "stderr",
          "text": [
            " 83%|████████▎ | 83/100 [00:02<00:00, 35.23it/s]\n"
          ]
        },
        {
          "output_type": "stream",
          "name": "stdout",
          "text": [
            "Early stopping\n",
            "Alpha: 0.44, T: 5.00, Accuracy: 0.49\n"
          ]
        },
        {
          "output_type": "stream",
          "name": "stderr",
          "text": [
            "100%|██████████| 100/100 [00:02<00:00, 39.03it/s]\n"
          ]
        },
        {
          "output_type": "stream",
          "name": "stdout",
          "text": [
            "Alpha: 0.56, T: 0.50, Accuracy: 0.44\n"
          ]
        },
        {
          "output_type": "stream",
          "name": "stderr",
          "text": [
            "100%|██████████| 100/100 [00:02<00:00, 39.14it/s]\n"
          ]
        },
        {
          "output_type": "stream",
          "name": "stdout",
          "text": [
            "Alpha: 0.56, T: 1.00, Accuracy: 0.43\n"
          ]
        },
        {
          "output_type": "stream",
          "name": "stderr",
          "text": [
            "100%|██████████| 100/100 [00:03<00:00, 32.76it/s]\n"
          ]
        },
        {
          "output_type": "stream",
          "name": "stdout",
          "text": [
            "Alpha: 0.56, T: 1.50, Accuracy: 0.45\n"
          ]
        },
        {
          "output_type": "stream",
          "name": "stderr",
          "text": [
            "100%|██████████| 100/100 [00:02<00:00, 34.73it/s]\n"
          ]
        },
        {
          "output_type": "stream",
          "name": "stdout",
          "text": [
            "Alpha: 0.56, T: 2.00, Accuracy: 0.46\n"
          ]
        },
        {
          "output_type": "stream",
          "name": "stderr",
          "text": [
            "100%|██████████| 100/100 [00:02<00:00, 39.22it/s]\n"
          ]
        },
        {
          "output_type": "stream",
          "name": "stdout",
          "text": [
            "Alpha: 0.56, T: 2.50, Accuracy: 0.47\n"
          ]
        },
        {
          "output_type": "stream",
          "name": "stderr",
          "text": [
            "100%|██████████| 100/100 [00:02<00:00, 38.98it/s]\n"
          ]
        },
        {
          "output_type": "stream",
          "name": "stdout",
          "text": [
            "Alpha: 0.56, T: 3.00, Accuracy: 0.47\n"
          ]
        },
        {
          "output_type": "stream",
          "name": "stderr",
          "text": [
            "100%|██████████| 100/100 [00:02<00:00, 39.27it/s]\n"
          ]
        },
        {
          "output_type": "stream",
          "name": "stdout",
          "text": [
            "Alpha: 0.56, T: 3.50, Accuracy: 0.49\n"
          ]
        },
        {
          "output_type": "stream",
          "name": "stderr",
          "text": [
            "100%|██████████| 100/100 [00:03<00:00, 28.49it/s]\n"
          ]
        },
        {
          "output_type": "stream",
          "name": "stdout",
          "text": [
            "Alpha: 0.56, T: 4.00, Accuracy: 0.48\n"
          ]
        },
        {
          "output_type": "stream",
          "name": "stderr",
          "text": [
            "100%|██████████| 100/100 [00:02<00:00, 39.19it/s]\n"
          ]
        },
        {
          "output_type": "stream",
          "name": "stdout",
          "text": [
            "Alpha: 0.56, T: 4.50, Accuracy: 0.48\n"
          ]
        },
        {
          "output_type": "stream",
          "name": "stderr",
          "text": [
            " 88%|████████▊ | 88/100 [00:02<00:00, 36.49it/s]\n"
          ]
        },
        {
          "output_type": "stream",
          "name": "stdout",
          "text": [
            "Early stopping\n",
            "Alpha: 0.56, T: 5.00, Accuracy: 0.49\n"
          ]
        },
        {
          "output_type": "stream",
          "name": "stderr",
          "text": [
            "100%|██████████| 100/100 [00:02<00:00, 38.88it/s]\n"
          ]
        },
        {
          "output_type": "stream",
          "name": "stdout",
          "text": [
            "Alpha: 0.67, T: 0.50, Accuracy: 0.42\n"
          ]
        },
        {
          "output_type": "stream",
          "name": "stderr",
          "text": [
            "100%|██████████| 100/100 [00:02<00:00, 35.96it/s]\n"
          ]
        },
        {
          "output_type": "stream",
          "name": "stdout",
          "text": [
            "Alpha: 0.67, T: 1.00, Accuracy: 0.45\n"
          ]
        },
        {
          "output_type": "stream",
          "name": "stderr",
          "text": [
            "100%|██████████| 100/100 [00:03<00:00, 29.76it/s]\n"
          ]
        },
        {
          "output_type": "stream",
          "name": "stdout",
          "text": [
            "Alpha: 0.67, T: 1.50, Accuracy: 0.46\n"
          ]
        },
        {
          "output_type": "stream",
          "name": "stderr",
          "text": [
            " 47%|████▋     | 47/100 [00:01<00:02, 25.44it/s]\n"
          ]
        },
        {
          "output_type": "stream",
          "name": "stdout",
          "text": [
            "Early stopping\n",
            "Alpha: 0.67, T: 2.00, Accuracy: 0.46\n"
          ]
        },
        {
          "output_type": "stream",
          "name": "stderr",
          "text": [
            "100%|██████████| 100/100 [00:02<00:00, 38.72it/s]\n"
          ]
        },
        {
          "output_type": "stream",
          "name": "stdout",
          "text": [
            "Alpha: 0.67, T: 2.50, Accuracy: 0.48\n"
          ]
        },
        {
          "output_type": "stream",
          "name": "stderr",
          "text": [
            " 85%|████████▌ | 85/100 [00:02<00:00, 35.74it/s]\n"
          ]
        },
        {
          "output_type": "stream",
          "name": "stdout",
          "text": [
            "Early stopping\n",
            "Alpha: 0.67, T: 3.00, Accuracy: 0.48\n"
          ]
        },
        {
          "output_type": "stream",
          "name": "stderr",
          "text": [
            " 90%|█████████ | 90/100 [00:02<00:00, 32.43it/s]\n"
          ]
        },
        {
          "output_type": "stream",
          "name": "stdout",
          "text": [
            "Early stopping\n",
            "Alpha: 0.67, T: 3.50, Accuracy: 0.49\n"
          ]
        },
        {
          "output_type": "stream",
          "name": "stderr",
          "text": [
            " 54%|█████▍    | 54/100 [00:02<00:02, 21.32it/s]\n"
          ]
        },
        {
          "output_type": "stream",
          "name": "stdout",
          "text": [
            "Early stopping\n",
            "Alpha: 0.67, T: 4.00, Accuracy: 0.49\n"
          ]
        },
        {
          "output_type": "stream",
          "name": "stderr",
          "text": [
            "100%|██████████| 100/100 [00:02<00:00, 38.36it/s]\n"
          ]
        },
        {
          "output_type": "stream",
          "name": "stdout",
          "text": [
            "Alpha: 0.67, T: 4.50, Accuracy: 0.49\n"
          ]
        },
        {
          "output_type": "stream",
          "name": "stderr",
          "text": [
            " 46%|████▌     | 46/100 [00:01<00:02, 24.97it/s]\n"
          ]
        },
        {
          "output_type": "stream",
          "name": "stdout",
          "text": [
            "Early stopping\n",
            "Alpha: 0.67, T: 5.00, Accuracy: 0.49\n"
          ]
        },
        {
          "output_type": "stream",
          "name": "stderr",
          "text": [
            "100%|██████████| 100/100 [00:02<00:00, 38.79it/s]\n"
          ]
        },
        {
          "output_type": "stream",
          "name": "stdout",
          "text": [
            "Alpha: 0.78, T: 0.50, Accuracy: 0.42\n"
          ]
        },
        {
          "output_type": "stream",
          "name": "stderr",
          "text": [
            "100%|██████████| 100/100 [00:02<00:00, 35.22it/s]\n"
          ]
        },
        {
          "output_type": "stream",
          "name": "stdout",
          "text": [
            "Alpha: 0.78, T: 1.00, Accuracy: 0.45\n"
          ]
        },
        {
          "output_type": "stream",
          "name": "stderr",
          "text": [
            "100%|██████████| 100/100 [00:03<00:00, 30.81it/s]\n"
          ]
        },
        {
          "output_type": "stream",
          "name": "stdout",
          "text": [
            "Alpha: 0.78, T: 1.50, Accuracy: 0.46\n"
          ]
        },
        {
          "output_type": "stream",
          "name": "stderr",
          "text": [
            " 59%|█████▉    | 59/100 [00:02<00:01, 29.30it/s]\n"
          ]
        },
        {
          "output_type": "stream",
          "name": "stdout",
          "text": [
            "Early stopping\n",
            "Alpha: 0.78, T: 2.00, Accuracy: 0.44\n"
          ]
        },
        {
          "output_type": "stream",
          "name": "stderr",
          "text": [
            " 87%|████████▋ | 87/100 [00:02<00:00, 36.06it/s]\n"
          ]
        },
        {
          "output_type": "stream",
          "name": "stdout",
          "text": [
            "Early stopping\n",
            "Alpha: 0.78, T: 2.50, Accuracy: 0.49\n"
          ]
        },
        {
          "output_type": "stream",
          "name": "stderr",
          "text": [
            " 52%|█████▏    | 52/100 [00:01<00:01, 27.23it/s]\n"
          ]
        },
        {
          "output_type": "stream",
          "name": "stdout",
          "text": [
            "Early stopping\n",
            "Alpha: 0.78, T: 3.00, Accuracy: 0.48\n"
          ]
        },
        {
          "output_type": "stream",
          "name": "stderr",
          "text": [
            " 51%|█████     | 51/100 [00:01<00:01, 26.94it/s]\n"
          ]
        },
        {
          "output_type": "stream",
          "name": "stdout",
          "text": [
            "Early stopping\n",
            "Alpha: 0.78, T: 3.50, Accuracy: 0.48\n"
          ]
        },
        {
          "output_type": "stream",
          "name": "stderr",
          "text": [
            " 82%|████████▏ | 82/100 [00:03<00:00, 24.87it/s]\n"
          ]
        },
        {
          "output_type": "stream",
          "name": "stdout",
          "text": [
            "Early stopping\n",
            "Alpha: 0.78, T: 4.00, Accuracy: 0.50\n"
          ]
        },
        {
          "output_type": "stream",
          "name": "stderr",
          "text": [
            " 57%|█████▋    | 57/100 [00:01<00:01, 28.75it/s]\n"
          ]
        },
        {
          "output_type": "stream",
          "name": "stdout",
          "text": [
            "Early stopping\n",
            "Alpha: 0.78, T: 4.50, Accuracy: 0.51\n"
          ]
        },
        {
          "output_type": "stream",
          "name": "stderr",
          "text": [
            " 45%|████▌     | 45/100 [00:01<00:02, 24.85it/s]\n"
          ]
        },
        {
          "output_type": "stream",
          "name": "stdout",
          "text": [
            "Early stopping\n",
            "Alpha: 0.78, T: 5.00, Accuracy: 0.50\n"
          ]
        },
        {
          "output_type": "stream",
          "name": "stderr",
          "text": [
            " 59%|█████▉    | 59/100 [00:02<00:01, 29.24it/s]\n"
          ]
        },
        {
          "output_type": "stream",
          "name": "stdout",
          "text": [
            "Early stopping\n",
            "Alpha: 0.89, T: 0.50, Accuracy: 0.44\n"
          ]
        },
        {
          "output_type": "stream",
          "name": "stderr",
          "text": [
            " 73%|███████▎  | 73/100 [00:02<00:00, 32.78it/s]\n"
          ]
        },
        {
          "output_type": "stream",
          "name": "stdout",
          "text": [
            "Early stopping\n",
            "Alpha: 0.89, T: 1.00, Accuracy: 0.44\n"
          ]
        },
        {
          "output_type": "stream",
          "name": "stderr",
          "text": [
            " 39%|███▉      | 39/100 [00:01<00:03, 20.30it/s]\n"
          ]
        },
        {
          "output_type": "stream",
          "name": "stdout",
          "text": [
            "Early stopping\n",
            "Alpha: 0.89, T: 1.50, Accuracy: 0.44\n"
          ]
        },
        {
          "output_type": "stream",
          "name": "stderr",
          "text": [
            " 28%|██▊       | 28/100 [00:02<00:06, 11.72it/s]\n"
          ]
        },
        {
          "output_type": "stream",
          "name": "stdout",
          "text": [
            "Early stopping\n",
            "Alpha: 0.89, T: 2.00, Accuracy: 0.47\n"
          ]
        },
        {
          "output_type": "stream",
          "name": "stderr",
          "text": [
            " 70%|███████   | 70/100 [00:02<00:00, 32.40it/s]\n"
          ]
        },
        {
          "output_type": "stream",
          "name": "stdout",
          "text": [
            "Early stopping\n",
            "Alpha: 0.89, T: 2.50, Accuracy: 0.47\n"
          ]
        },
        {
          "output_type": "stream",
          "name": "stderr",
          "text": [
            " 61%|██████    | 61/100 [00:02<00:01, 29.88it/s]\n"
          ]
        },
        {
          "output_type": "stream",
          "name": "stdout",
          "text": [
            "Early stopping\n",
            "Alpha: 0.89, T: 3.00, Accuracy: 0.49\n"
          ]
        },
        {
          "output_type": "stream",
          "name": "stderr",
          "text": [
            " 26%|██▌       | 26/100 [00:01<00:04, 16.53it/s]\n"
          ]
        },
        {
          "output_type": "stream",
          "name": "stdout",
          "text": [
            "Early stopping\n",
            "Alpha: 0.89, T: 3.50, Accuracy: 0.47\n"
          ]
        },
        {
          "output_type": "stream",
          "name": "stderr",
          "text": [
            " 56%|█████▌    | 56/100 [00:01<00:01, 28.25it/s]\n"
          ]
        },
        {
          "output_type": "stream",
          "name": "stdout",
          "text": [
            "Early stopping\n",
            "Alpha: 0.89, T: 4.00, Accuracy: 0.48\n"
          ]
        },
        {
          "output_type": "stream",
          "name": "stderr",
          "text": [
            " 58%|█████▊    | 58/100 [00:02<00:01, 27.51it/s]\n"
          ]
        },
        {
          "output_type": "stream",
          "name": "stdout",
          "text": [
            "Early stopping\n",
            "Alpha: 0.89, T: 4.50, Accuracy: 0.48\n"
          ]
        },
        {
          "output_type": "stream",
          "name": "stderr",
          "text": [
            " 63%|██████▎   | 63/100 [00:03<00:01, 20.92it/s]\n"
          ]
        },
        {
          "output_type": "stream",
          "name": "stdout",
          "text": [
            "Early stopping\n",
            "Alpha: 0.89, T: 5.00, Accuracy: 0.49\n"
          ]
        },
        {
          "output_type": "stream",
          "name": "stderr",
          "text": [
            " 38%|███▊      | 38/100 [00:01<00:02, 22.45it/s]\n"
          ]
        },
        {
          "output_type": "stream",
          "name": "stdout",
          "text": [
            "Early stopping\n",
            "Alpha: 1.00, T: 0.50, Accuracy: 0.46\n"
          ]
        },
        {
          "output_type": "stream",
          "name": "stderr",
          "text": [
            " 40%|████      | 40/100 [00:01<00:02, 22.59it/s]\n"
          ]
        },
        {
          "output_type": "stream",
          "name": "stdout",
          "text": [
            "Early stopping\n",
            "Alpha: 1.00, T: 1.00, Accuracy: 0.45\n"
          ]
        },
        {
          "output_type": "stream",
          "name": "stderr",
          "text": [
            " 66%|██████▌   | 66/100 [00:02<00:01, 30.63it/s]\n"
          ]
        },
        {
          "output_type": "stream",
          "name": "stdout",
          "text": [
            "Early stopping\n",
            "Alpha: 1.00, T: 1.50, Accuracy: 0.46\n"
          ]
        },
        {
          "output_type": "stream",
          "name": "stderr",
          "text": [
            " 64%|██████▍   | 64/100 [00:02<00:01, 31.21it/s]\n"
          ]
        },
        {
          "output_type": "stream",
          "name": "stdout",
          "text": [
            "Early stopping\n",
            "Alpha: 1.00, T: 2.00, Accuracy: 0.46\n"
          ]
        },
        {
          "output_type": "stream",
          "name": "stderr",
          "text": [
            " 63%|██████▎   | 63/100 [00:02<00:01, 28.83it/s]\n"
          ]
        },
        {
          "output_type": "stream",
          "name": "stdout",
          "text": [
            "Early stopping\n",
            "Alpha: 1.00, T: 2.50, Accuracy: 0.46\n"
          ]
        },
        {
          "output_type": "stream",
          "name": "stderr",
          "text": [
            " 68%|██████▊   | 68/100 [00:03<00:01, 22.63it/s]\n"
          ]
        },
        {
          "output_type": "stream",
          "name": "stdout",
          "text": [
            "Early stopping\n",
            "Alpha: 1.00, T: 3.00, Accuracy: 0.46\n"
          ]
        },
        {
          "output_type": "stream",
          "name": "stderr",
          "text": [
            " 70%|███████   | 70/100 [00:02<00:00, 32.71it/s]\n"
          ]
        },
        {
          "output_type": "stream",
          "name": "stdout",
          "text": [
            "Early stopping\n",
            "Alpha: 1.00, T: 3.50, Accuracy: 0.46\n"
          ]
        },
        {
          "output_type": "stream",
          "name": "stderr",
          "text": [
            "100%|██████████| 100/100 [00:02<00:00, 39.43it/s]\n"
          ]
        },
        {
          "output_type": "stream",
          "name": "stdout",
          "text": [
            "Alpha: 1.00, T: 4.00, Accuracy: 0.46\n"
          ]
        },
        {
          "output_type": "stream",
          "name": "stderr",
          "text": [
            " 73%|███████▎  | 73/100 [00:02<00:00, 33.46it/s]\n"
          ]
        },
        {
          "output_type": "stream",
          "name": "stdout",
          "text": [
            "Early stopping\n",
            "Alpha: 1.00, T: 4.50, Accuracy: 0.46\n"
          ]
        },
        {
          "output_type": "stream",
          "name": "stderr",
          "text": [
            "100%|██████████| 100/100 [00:02<00:00, 37.53it/s]"
          ]
        },
        {
          "output_type": "stream",
          "name": "stdout",
          "text": [
            "Alpha: 1.00, T: 5.00, Accuracy: 0.46\n"
          ]
        },
        {
          "output_type": "stream",
          "name": "stderr",
          "text": [
            "\n"
          ]
        }
      ]
    },
    {
      "cell_type": "markdown",
      "source": [
        "### Plot dependency"
      ],
      "metadata": {
        "id": "iR70E49zHr_T"
      }
    },
    {
      "cell_type": "code",
      "source": [
        "# separate the points into separate arrays for each dimension\n",
        "alphas = np.array([point[0] for point in points])\n",
        "Ts = np.array([point[1] for point in points])\n",
        "accs = np.array([point[2] for point in points])\n",
        "\n",
        "# create a 3D plot\n",
        "fig = plt.figure(figsize=(18, 10))\n",
        "ax = fig.add_subplot(111, projection='3d')\n",
        "\n",
        "# plot the points as a scatter plot\n",
        "sc = ax.scatter(alphas, Ts, accs, c=accs, cmap=plt.cm.get_cmap('coolwarm'))\n",
        "\n",
        "# set the axis labels\n",
        "ax.set_xlabel('Alpha')\n",
        "ax.set_ylabel('T')\n",
        "ax.set_zlabel('Accuracy')\n",
        "\n",
        "# set the axis limits\n",
        "ax.set_xlim([0, 1])\n",
        "ax.set_ylim([0.5, 5])\n",
        "ax.set_zlim([0, 1])\n",
        "\n",
        "# add a colorbar to the plot\n",
        "cbar = plt.colorbar(sc)\n",
        "cbar.set_label('Accuracy')\n",
        "\n",
        "plt.title('Accuracy of the model with 3 axes')\n",
        "# show the plot\n",
        "plt.show()"
      ],
      "metadata": {
        "colab": {
          "base_uri": "https://localhost:8080/",
          "height": 885
        },
        "id": "ot2YvkJKHX1Y",
        "outputId": "23bd34a2-cc92-4743-ab5f-b73cf5a02115"
      },
      "execution_count": 72,
      "outputs": [
        {
          "output_type": "stream",
          "name": "stderr",
          "text": [
            "<ipython-input-72-45c41d615d2d>:11: MatplotlibDeprecationWarning: The get_cmap function was deprecated in Matplotlib 3.7 and will be removed two minor releases later. Use ``matplotlib.colormaps[name]`` or ``matplotlib.colormaps.get_cmap(obj)`` instead.\n",
            "  sc = ax.scatter(alphas, Ts, accs, c=accs, cmap=plt.cm.get_cmap('coolwarm'))\n"
          ]
        },
        {
          "output_type": "display_data",
          "data": {
            "text/plain": [
              "<Figure size 1800x1000 with 2 Axes>"
            ],
            "image/png": "[encoded data removed]"
          },
          "metadata": {}
        }
      ]
    },
    {
      "cell_type": "code",
      "source": [
        "# create the first subplot for (Alpha, Accuracy)\n",
        "fig, ax1 = plt.subplots()\n",
        "ax1.scatter(alphas, accs, c=accs, cmap='coolwarm')\n",
        "ax1.set_xlabel('Alpha')\n",
        "ax1.set_ylabel('Accuracy')\n",
        "ax1.set_ylim([0, 1])\n",
        "ax1.set_title('Accuracy vs. Alpha')\n",
        "\n",
        "# create the second subplot for (T, Accuracy)\n",
        "fig, ax2 = plt.subplots()\n",
        "ax2.scatter(Ts, accs, c=accs, cmap='coolwarm')\n",
        "ax2.set_xlabel('T')\n",
        "ax2.set_ylabel('Accuracy')\n",
        "ax2.set_ylim([0, 1])\n",
        "ax2.set_title('Accuracy vs. T')\n",
        "\n",
        "# add a colorbar to the subplots\n",
        "sm = plt.cm.ScalarMappable(cmap='coolwarm', norm=plt.Normalize(vmin=0.3, vmax=0.6))\n",
        "sm._A = []\n",
        "cbar = plt.colorbar(sm)\n",
        "cbar.set_label('Accuracy')\n",
        "\n",
        "# adjust the spacing between subplots\n",
        "plt.subplots_adjust(wspace=0.3)\n",
        "\n",
        "# show the plots\n",
        "plt.show()"
      ],
      "metadata": {
        "colab": {
          "base_uri": "https://localhost:8080/",
          "height": 983
        },
        "id": "YoRV6AdsKzED",
        "outputId": "da0ee7d5-2378-450e-e461-7ec0b8fbc52e"
      },
      "execution_count": 74,
      "outputs": [
        {
          "output_type": "stream",
          "name": "stderr",
          "text": [
            "<ipython-input-74-afa50eed2104>:20: MatplotlibDeprecationWarning: Unable to determine Axes to steal space for Colorbar. Using gca(), but will raise in the future. Either provide the *cax* argument to use as the Axes for the Colorbar, provide the *ax* argument to steal space from it, or add *mappable* to an Axes.\n",
            "  cbar = plt.colorbar(sm)\n"
          ]
        },
        {
          "output_type": "display_data",
          "data": {
            "text/plain": [
              "<Figure size 640x480 with 1 Axes>"
            ],
            "image/png": "[encoded data removed]"
          },
          "metadata": {}
        },
        {
          "output_type": "display_data",
          "data": {
            "text/plain": [
              "<Figure size 640x480 with 2 Axes>"
            ],
            "image/png": "[encoded data removed]"
          },
          "metadata": {}
        }
      ]
    },
    {
      "cell_type": "markdown",
      "source": [
        "## Conclusion"
      ],
      "metadata": {
        "id": "F8-Ar5j_Lubz"
      }
    },
    {
      "cell_type": "markdown",
      "source": [
        "We didn't see strong dependency between accuracy of distilled model and hyperparameters (alpha and T).\n",
        "\n",
        "May be it can be changed by more accurately choosing setup for pretraining and distillation"
      ],
      "metadata": {
        "id": "XGLrRMWULxS4"
      }
    }
  ]
}