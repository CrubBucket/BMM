{
  "nbformat": 4,
  "nbformat_minor": 0,
  "metadata": {
    "colab": {
      "provenance": []
    },
    "kernelspec": {
      "name": "python3",
      "display_name": "Python 3"
    },
    "language_info": {
      "name": "python"
    },
    "widgets": {
      "application/vnd.jupyter.widget-state+json": {
        "68833b3461c949548b5f69299158cb11": {
          "model_module": "@jupyter-widgets/controls",
          "model_name": "HBoxModel",
          "model_module_version": "1.5.0",
          "state": {
            "_dom_classes": [],
            "_model_module": "@jupyter-widgets/controls",
            "_model_module_version": "1.5.0",
            "_model_name": "HBoxModel",
            "_view_count": null,
            "_view_module": "@jupyter-widgets/controls",
            "_view_module_version": "1.5.0",
            "_view_name": "HBoxView",
            "box_style": "",
            "children": [
              "IPY_MODEL_c9e041236c0244bb8337b65466df8cbb",
              "IPY_MODEL_6d04a85f3f044e5094f6ed1909053f6d",
              "IPY_MODEL_41e810c6d5494816b9574e0180069682"
            ],
            "layout": "IPY_MODEL_b963008755c04116aa0af0cc6be76c67"
          }
        },
        "c9e041236c0244bb8337b65466df8cbb": {
          "model_module": "@jupyter-widgets/controls",
          "model_name": "HTMLModel",
          "model_module_version": "1.5.0",
          "state": {
            "_dom_classes": [],
            "_model_module": "@jupyter-widgets/controls",
            "_model_module_version": "1.5.0",
            "_model_name": "HTMLModel",
            "_view_count": null,
            "_view_module": "@jupyter-widgets/controls",
            "_view_module_version": "1.5.0",
            "_view_name": "HTMLView",
            "description": "",
            "description_tooltip": null,
            "layout": "IPY_MODEL_2efd41bd292c40c7a3128a862b0d42fe",
            "placeholder": "​",
            "style": "IPY_MODEL_6fbcd45901de4b629e2d0753956ac005",
            "value": "100%"
          }
        },
        "6d04a85f3f044e5094f6ed1909053f6d": {
          "model_module": "@jupyter-widgets/controls",
          "model_name": "FloatProgressModel",
          "model_module_version": "1.5.0",
          "state": {
            "_dom_classes": [],
            "_model_module": "@jupyter-widgets/controls",
            "_model_module_version": "1.5.0",
            "_model_name": "FloatProgressModel",
            "_view_count": null,
            "_view_module": "@jupyter-widgets/controls",
            "_view_module_version": "1.5.0",
            "_view_name": "ProgressView",
            "bar_style": "success",
            "description": "",
            "description_tooltip": null,
            "layout": "IPY_MODEL_5b09743b9bc1406d82a1529080ed36f1",
            "max": 2000,
            "min": 0,
            "orientation": "horizontal",
            "style": "IPY_MODEL_bc3828deb4d94e7dade64a9b876e1564",
            "value": 2000
          }
        },
        "41e810c6d5494816b9574e0180069682": {
          "model_module": "@jupyter-widgets/controls",
          "model_name": "HTMLModel",
          "model_module_version": "1.5.0",
          "state": {
            "_dom_classes": [],
            "_model_module": "@jupyter-widgets/controls",
            "_model_module_version": "1.5.0",
            "_model_name": "HTMLModel",
            "_view_count": null,
            "_view_module": "@jupyter-widgets/controls",
            "_view_module_version": "1.5.0",
            "_view_name": "HTMLView",
            "description": "",
            "description_tooltip": null,
            "layout": "IPY_MODEL_9694e799a7944fe68bc6fd97c895b085",
            "placeholder": "​",
            "style": "IPY_MODEL_f650e15ce315411a8c5aae9b233a3e6a",
            "value": " 2000/2000 [01:18&lt;00:00, 24.09it/s]"
          }
        },
        "b963008755c04116aa0af0cc6be76c67": {
          "model_module": "@jupyter-widgets/base",
          "model_name": "LayoutModel",
          "model_module_version": "1.2.0",
          "state": {
            "_model_module": "@jupyter-widgets/base",
            "_model_module_version": "1.2.0",
            "_model_name": "LayoutModel",
            "_view_count": null,
            "_view_module": "@jupyter-widgets/base",
            "_view_module_version": "1.2.0",
            "_view_name": "LayoutView",
            "align_content": null,
            "align_items": null,
            "align_self": null,
            "border": null,
            "bottom": null,
            "display": null,
            "flex": null,
            "flex_flow": null,
            "grid_area": null,
            "grid_auto_columns": null,
            "grid_auto_flow": null,
            "grid_auto_rows": null,
            "grid_column": null,
            "grid_gap": null,
            "grid_row": null,
            "grid_template_areas": null,
            "grid_template_columns": null,
            "grid_template_rows": null,
            "height": null,
            "justify_content": null,
            "justify_items": null,
            "left": null,
            "margin": null,
            "max_height": null,
            "max_width": null,
            "min_height": null,
            "min_width": null,
            "object_fit": null,
            "object_position": null,
            "order": null,
            "overflow": null,
            "overflow_x": null,
            "overflow_y": null,
            "padding": null,
            "right": null,
            "top": null,
            "visibility": null,
            "width": null
          }
        },
        "2efd41bd292c40c7a3128a862b0d42fe": {
          "model_module": "@jupyter-widgets/base",
          "model_name": "LayoutModel",
          "model_module_version": "1.2.0",
          "state": {
            "_model_module": "@jupyter-widgets/base",
            "_model_module_version": "1.2.0",
            "_model_name": "LayoutModel",
            "_view_count": null,
            "_view_module": "@jupyter-widgets/base",
            "_view_module_version": "1.2.0",
            "_view_name": "LayoutView",
            "align_content": null,
            "align_items": null,
            "align_self": null,
            "border": null,
            "bottom": null,
            "display": null,
            "flex": null,
            "flex_flow": null,
            "grid_area": null,
            "grid_auto_columns": null,
            "grid_auto_flow": null,
            "grid_auto_rows": null,
            "grid_column": null,
            "grid_gap": null,
            "grid_row": null,
            "grid_template_areas": null,
            "grid_template_columns": null,
            "grid_template_rows": null,
            "height": null,
            "justify_content": null,
            "justify_items": null,
            "left": null,
            "margin": null,
            "max_height": null,
            "max_width": null,
            "min_height": null,
            "min_width": null,
            "object_fit": null,
            "object_position": null,
            "order": null,
            "overflow": null,
            "overflow_x": null,
            "overflow_y": null,
            "padding": null,
            "right": null,
            "top": null,
            "visibility": null,
            "width": null
          }
        },
        "6fbcd45901de4b629e2d0753956ac005": {
          "model_module": "@jupyter-widgets/controls",
          "model_name": "DescriptionStyleModel",
          "model_module_version": "1.5.0",
          "state": {
            "_model_module": "@jupyter-widgets/controls",
            "_model_module_version": "1.5.0",
            "_model_name": "DescriptionStyleModel",
            "_view_count": null,
            "_view_module": "@jupyter-widgets/base",
            "_view_module_version": "1.2.0",
            "_view_name": "StyleView",
            "description_width": ""
          }
        },
        "5b09743b9bc1406d82a1529080ed36f1": {
          "model_module": "@jupyter-widgets/base",
          "model_name": "LayoutModel",
          "model_module_version": "1.2.0",
          "state": {
            "_model_module": "@jupyter-widgets/base",
            "_model_module_version": "1.2.0",
            "_model_name": "LayoutModel",
            "_view_count": null,
            "_view_module": "@jupyter-widgets/base",
            "_view_module_version": "1.2.0",
            "_view_name": "LayoutView",
            "align_content": null,
            "align_items": null,
            "align_self": null,
            "border": null,
            "bottom": null,
            "display": null,
            "flex": null,
            "flex_flow": null,
            "grid_area": null,
            "grid_auto_columns": null,
            "grid_auto_flow": null,
            "grid_auto_rows": null,
            "grid_column": null,
            "grid_gap": null,
            "grid_row": null,
            "grid_template_areas": null,
            "grid_template_columns": null,
            "grid_template_rows": null,
            "height": null,
            "justify_content": null,
            "justify_items": null,
            "left": null,
            "margin": null,
            "max_height": null,
            "max_width": null,
            "min_height": null,
            "min_width": null,
            "object_fit": null,
            "object_position": null,
            "order": null,
            "overflow": null,
            "overflow_x": null,
            "overflow_y": null,
            "padding": null,
            "right": null,
            "top": null,
            "visibility": null,
            "width": null
          }
        },
        "bc3828deb4d94e7dade64a9b876e1564": {
          "model_module": "@jupyter-widgets/controls",
          "model_name": "ProgressStyleModel",
          "model_module_version": "1.5.0",
          "state": {
            "_model_module": "@jupyter-widgets/controls",
            "_model_module_version": "1.5.0",
            "_model_name": "ProgressStyleModel",
            "_view_count": null,
            "_view_module": "@jupyter-widgets/base",
            "_view_module_version": "1.2.0",
            "_view_name": "StyleView",
            "bar_color": null,
            "description_width": ""
          }
        },
        "9694e799a7944fe68bc6fd97c895b085": {
          "model_module": "@jupyter-widgets/base",
          "model_name": "LayoutModel",
          "model_module_version": "1.2.0",
          "state": {
            "_model_module": "@jupyter-widgets/base",
            "_model_module_version": "1.2.0",
            "_model_name": "LayoutModel",
            "_view_count": null,
            "_view_module": "@jupyter-widgets/base",
            "_view_module_version": "1.2.0",
            "_view_name": "LayoutView",
            "align_content": null,
            "align_items": null,
            "align_self": null,
            "border": null,
            "bottom": null,
            "display": null,
            "flex": null,
            "flex_flow": null,
            "grid_area": null,
            "grid_auto_columns": null,
            "grid_auto_flow": null,
            "grid_auto_rows": null,
            "grid_column": null,
            "grid_gap": null,
            "grid_row": null,
            "grid_template_areas": null,
            "grid_template_columns": null,
            "grid_template_rows": null,
            "height": null,
            "justify_content": null,
            "justify_items": null,
            "left": null,
            "margin": null,
            "max_height": null,
            "max_width": null,
            "min_height": null,
            "min_width": null,
            "object_fit": null,
            "object_position": null,
            "order": null,
            "overflow": null,
            "overflow_x": null,
            "overflow_y": null,
            "padding": null,
            "right": null,
            "top": null,
            "visibility": null,
            "width": null
          }
        },
        "f650e15ce315411a8c5aae9b233a3e6a": {
          "model_module": "@jupyter-widgets/controls",
          "model_name": "DescriptionStyleModel",
          "model_module_version": "1.5.0",
          "state": {
            "_model_module": "@jupyter-widgets/controls",
            "_model_module_version": "1.5.0",
            "_model_name": "DescriptionStyleModel",
            "_view_count": null,
            "_view_module": "@jupyter-widgets/base",
            "_view_module_version": "1.2.0",
            "_view_name": "StyleView",
            "description_width": ""
          }
        },
        "160289ec90c7407581db053b977ead3f": {
          "model_module": "@jupyter-widgets/controls",
          "model_name": "HBoxModel",
          "model_module_version": "1.5.0",
          "state": {
            "_dom_classes": [],
            "_model_module": "@jupyter-widgets/controls",
            "_model_module_version": "1.5.0",
            "_model_name": "HBoxModel",
            "_view_count": null,
            "_view_module": "@jupyter-widgets/controls",
            "_view_module_version": "1.5.0",
            "_view_name": "HBoxView",
            "box_style": "",
            "children": [
              "IPY_MODEL_8a0c1df1f3eb453e96c363008fbc0478",
              "IPY_MODEL_fed6701a90494af68cb2a66784545894",
              "IPY_MODEL_2848a6759b96428c98d46d10f1802f64"
            ],
            "layout": "IPY_MODEL_f6646bf837d14e56afeee362f388090a"
          }
        },
        "8a0c1df1f3eb453e96c363008fbc0478": {
          "model_module": "@jupyter-widgets/controls",
          "model_name": "HTMLModel",
          "model_module_version": "1.5.0",
          "state": {
            "_dom_classes": [],
            "_model_module": "@jupyter-widgets/controls",
            "_model_module_version": "1.5.0",
            "_model_name": "HTMLModel",
            "_view_count": null,
            "_view_module": "@jupyter-widgets/controls",
            "_view_module_version": "1.5.0",
            "_view_name": "HTMLView",
            "description": "",
            "description_tooltip": null,
            "layout": "IPY_MODEL_ea63af5ca49b41dfa518803d5720f72f",
            "placeholder": "​",
            "style": "IPY_MODEL_f72337b98a5747b2a3ef2f4c238ab68d",
            "value": "100%"
          }
        },
        "fed6701a90494af68cb2a66784545894": {
          "model_module": "@jupyter-widgets/controls",
          "model_name": "FloatProgressModel",
          "model_module_version": "1.5.0",
          "state": {
            "_dom_classes": [],
            "_model_module": "@jupyter-widgets/controls",
            "_model_module_version": "1.5.0",
            "_model_name": "FloatProgressModel",
            "_view_count": null,
            "_view_module": "@jupyter-widgets/controls",
            "_view_module_version": "1.5.0",
            "_view_name": "ProgressView",
            "bar_style": "success",
            "description": "",
            "description_tooltip": null,
            "layout": "IPY_MODEL_7f998b90b3004ce690c8ad5e95b94148",
            "max": 2000,
            "min": 0,
            "orientation": "horizontal",
            "style": "IPY_MODEL_6c9008be3f854829a058e8d9f50ebe4e",
            "value": 2000
          }
        },
        "2848a6759b96428c98d46d10f1802f64": {
          "model_module": "@jupyter-widgets/controls",
          "model_name": "HTMLModel",
          "model_module_version": "1.5.0",
          "state": {
            "_dom_classes": [],
            "_model_module": "@jupyter-widgets/controls",
            "_model_module_version": "1.5.0",
            "_model_name": "HTMLModel",
            "_view_count": null,
            "_view_module": "@jupyter-widgets/controls",
            "_view_module_version": "1.5.0",
            "_view_name": "HTMLView",
            "description": "",
            "description_tooltip": null,
            "layout": "IPY_MODEL_8277bf5ec6f44eca94caf0ff2c5a7134",
            "placeholder": "​",
            "style": "IPY_MODEL_0a8067b9c0a94b59b9e3d7cd5fa3d1a5",
            "value": " 2000/2000 [01:13&lt;00:00, 39.97it/s]"
          }
        },
        "f6646bf837d14e56afeee362f388090a": {
          "model_module": "@jupyter-widgets/base",
          "model_name": "LayoutModel",
          "model_module_version": "1.2.0",
          "state": {
            "_model_module": "@jupyter-widgets/base",
            "_model_module_version": "1.2.0",
            "_model_name": "LayoutModel",
            "_view_count": null,
            "_view_module": "@jupyter-widgets/base",
            "_view_module_version": "1.2.0",
            "_view_name": "LayoutView",
            "align_content": null,
            "align_items": null,
            "align_self": null,
            "border": null,
            "bottom": null,
            "display": null,
            "flex": null,
            "flex_flow": null,
            "grid_area": null,
            "grid_auto_columns": null,
            "grid_auto_flow": null,
            "grid_auto_rows": null,
            "grid_column": null,
            "grid_gap": null,
            "grid_row": null,
            "grid_template_areas": null,
            "grid_template_columns": null,
            "grid_template_rows": null,
            "height": null,
            "justify_content": null,
            "justify_items": null,
            "left": null,
            "margin": null,
            "max_height": null,
            "max_width": null,
            "min_height": null,
            "min_width": null,
            "object_fit": null,
            "object_position": null,
            "order": null,
            "overflow": null,
            "overflow_x": null,
            "overflow_y": null,
            "padding": null,
            "right": null,
            "top": null,
            "visibility": null,
            "width": null
          }
        },
        "ea63af5ca49b41dfa518803d5720f72f": {
          "model_module": "@jupyter-widgets/base",
          "model_name": "LayoutModel",
          "model_module_version": "1.2.0",
          "state": {
            "_model_module": "@jupyter-widgets/base",
            "_model_module_version": "1.2.0",
            "_model_name": "LayoutModel",
            "_view_count": null,
            "_view_module": "@jupyter-widgets/base",
            "_view_module_version": "1.2.0",
            "_view_name": "LayoutView",
            "align_content": null,
            "align_items": null,
            "align_self": null,
            "border": null,
            "bottom": null,
            "display": null,
            "flex": null,
            "flex_flow": null,
            "grid_area": null,
            "grid_auto_columns": null,
            "grid_auto_flow": null,
            "grid_auto_rows": null,
            "grid_column": null,
            "grid_gap": null,
            "grid_row": null,
            "grid_template_areas": null,
            "grid_template_columns": null,
            "grid_template_rows": null,
            "height": null,
            "justify_content": null,
            "justify_items": null,
            "left": null,
            "margin": null,
            "max_height": null,
            "max_width": null,
            "min_height": null,
            "min_width": null,
            "object_fit": null,
            "object_position": null,
            "order": null,
            "overflow": null,
            "overflow_x": null,
            "overflow_y": null,
            "padding": null,
            "right": null,
            "top": null,
            "visibility": null,
            "width": null
          }
        },
        "f72337b98a5747b2a3ef2f4c238ab68d": {
          "model_module": "@jupyter-widgets/controls",
          "model_name": "DescriptionStyleModel",
          "model_module_version": "1.5.0",
          "state": {
            "_model_module": "@jupyter-widgets/controls",
            "_model_module_version": "1.5.0",
            "_model_name": "DescriptionStyleModel",
            "_view_count": null,
            "_view_module": "@jupyter-widgets/base",
            "_view_module_version": "1.2.0",
            "_view_name": "StyleView",
            "description_width": ""
          }
        },
        "7f998b90b3004ce690c8ad5e95b94148": {
          "model_module": "@jupyter-widgets/base",
          "model_name": "LayoutModel",
          "model_module_version": "1.2.0",
          "state": {
            "_model_module": "@jupyter-widgets/base",
            "_model_module_version": "1.2.0",
            "_model_name": "LayoutModel",
            "_view_count": null,
            "_view_module": "@jupyter-widgets/base",
            "_view_module_version": "1.2.0",
            "_view_name": "LayoutView",
            "align_content": null,
            "align_items": null,
            "align_self": null,
            "border": null,
            "bottom": null,
            "display": null,
            "flex": null,
            "flex_flow": null,
            "grid_area": null,
            "grid_auto_columns": null,
            "grid_auto_flow": null,
            "grid_auto_rows": null,
            "grid_column": null,
            "grid_gap": null,
            "grid_row": null,
            "grid_template_areas": null,
            "grid_template_columns": null,
            "grid_template_rows": null,
            "height": null,
            "justify_content": null,
            "justify_items": null,
            "left": null,
            "margin": null,
            "max_height": null,
            "max_width": null,
            "min_height": null,
            "min_width": null,
            "object_fit": null,
            "object_position": null,
            "order": null,
            "overflow": null,
            "overflow_x": null,
            "overflow_y": null,
            "padding": null,
            "right": null,
            "top": null,
            "visibility": null,
            "width": null
          }
        },
        "6c9008be3f854829a058e8d9f50ebe4e": {
          "model_module": "@jupyter-widgets/controls",
          "model_name": "ProgressStyleModel",
          "model_module_version": "1.5.0",
          "state": {
            "_model_module": "@jupyter-widgets/controls",
            "_model_module_version": "1.5.0",
            "_model_name": "ProgressStyleModel",
            "_view_count": null,
            "_view_module": "@jupyter-widgets/base",
            "_view_module_version": "1.2.0",
            "_view_name": "StyleView",
            "bar_color": null,
            "description_width": ""
          }
        },
        "8277bf5ec6f44eca94caf0ff2c5a7134": {
          "model_module": "@jupyter-widgets/base",
          "model_name": "LayoutModel",
          "model_module_version": "1.2.0",
          "state": {
            "_model_module": "@jupyter-widgets/base",
            "_model_module_version": "1.2.0",
            "_model_name": "LayoutModel",
            "_view_count": null,
            "_view_module": "@jupyter-widgets/base",
            "_view_module_version": "1.2.0",
            "_view_name": "LayoutView",
            "align_content": null,
            "align_items": null,
            "align_self": null,
            "border": null,
            "bottom": null,
            "display": null,
            "flex": null,
            "flex_flow": null,
            "grid_area": null,
            "grid_auto_columns": null,
            "grid_auto_flow": null,
            "grid_auto_rows": null,
            "grid_column": null,
            "grid_gap": null,
            "grid_row": null,
            "grid_template_areas": null,
            "grid_template_columns": null,
            "grid_template_rows": null,
            "height": null,
            "justify_content": null,
            "justify_items": null,
            "left": null,
            "margin": null,
            "max_height": null,
            "max_width": null,
            "min_height": null,
            "min_width": null,
            "object_fit": null,
            "object_position": null,
            "order": null,
            "overflow": null,
            "overflow_x": null,
            "overflow_y": null,
            "padding": null,
            "right": null,
            "top": null,
            "visibility": null,
            "width": null
          }
        },
        "0a8067b9c0a94b59b9e3d7cd5fa3d1a5": {
          "model_module": "@jupyter-widgets/controls",
          "model_name": "DescriptionStyleModel",
          "model_module_version": "1.5.0",
          "state": {
            "_model_module": "@jupyter-widgets/controls",
            "_model_module_version": "1.5.0",
            "_model_name": "DescriptionStyleModel",
            "_view_count": null,
            "_view_module": "@jupyter-widgets/base",
            "_view_module_version": "1.2.0",
            "_view_name": "StyleView",
            "description_width": ""
          }
        }
      }
    }
  },
  "cells": [
    {
      "cell_type": "markdown",
      "source": [
        "# Lab 7. Task 4\n",
        "\n",
        "## Author: Konstantin Yakovlev\n",
        "\n",
        "\n",
        "Visualize repeat-copy task using LSTM with schedules: from large length to small length and vice versa. Number of repeats is constant, set to 1. Visualize model performance wrt optimization iterations.\n",
        "\n",
        "\n",
        "### Experimantal setup\n",
        "\n",
        "1. As for the data, we used randomly generated sequences. Vcabulary size is 10.\n",
        "\n",
        "2. We consider the following lengths: 5, 10, 12, 15.\n",
        "\n",
        "3. We use piece-wise constant length scheduler.\n",
        "\n"
      ],
      "metadata": {
        "id": "b-sTvgl31SEM"
      }
    },
    {
      "cell_type": "code",
      "source": [
        "! pip install -q jax jaxlib flax optax"
      ],
      "metadata": {
        "id": "5ghLCnhy1QtR"
      },
      "execution_count": 1,
      "outputs": []
    },
    {
      "cell_type": "code",
      "source": [
        "import jax\n",
        "from flax import linen as nn\n",
        "from flax.training.train_state import TrainState\n",
        "import optax\n",
        "import jax.numpy as jnp\n",
        "import numpy as np\n",
        "from functools import partial\n",
        "\n",
        "from matplotlib import pyplot as plt\n",
        "from tqdm.notebook import tqdm"
      ],
      "metadata": {
        "id": "TJoLaclTvdMS"
      },
      "execution_count": 2,
      "outputs": []
    },
    {
      "cell_type": "code",
      "source": [
        "class LSTMModel(nn.Module):\n",
        "    d_model: int = 50\n",
        "    n_tokens: int = 10\n",
        "    def setup(self):\n",
        "        self.embedding = nn.Embed(self.d_model, self.n_tokens)\n",
        "        lstm_layer = nn.scan(nn.OptimizedLSTMCell,\n",
        "                               variable_broadcast=\"params\",\n",
        "                               split_rngs={\"params\": False},\n",
        "                               in_axes=1, \n",
        "                               out_axes=1,\n",
        "                               reverse=False)\n",
        "        self.lstm = lstm_layer()\n",
        "        self.dense = nn.Dense(self.n_tokens)\n",
        "        \n",
        "    @nn.compact    \n",
        "    def __call__(self, x_batch):\n",
        "        x = self.embedding(x_batch)\n",
        "        \n",
        "        carry, hidden = nn.OptimizedLSTMCell.initialize_carry(jax.random.PRNGKey(0),\n",
        "                                                              batch_dims=(x_batch.shape[0],),\n",
        "                                                              size=self.d_model)\n",
        "        _, x = self.lstm((carry, hidden), x)\n",
        "        x = self.dense(x)\n",
        "       \n",
        "        return nn.log_softmax(x, axis=-1)\n",
        "\n",
        "\n",
        "@jax.jit\n",
        "def lm_loss(logits, target):\n",
        "    \"\"\"\n",
        "    logits (bs, seq_len, n_tokens)\n",
        "    target (bs, seq_len, n_tokens)\n",
        "    \"\"\"\n",
        "    return -(logits * target).mean()\n",
        "\n",
        "\n",
        "@partial(jax.jit, static_argnums=2)\n",
        "def loss_fn(logits, init_seq, seq_len):\n",
        "    \"\"\"\n",
        "    :param logits: (bs, 2 * seq_len, hidden)\n",
        "    :param init_seq: (bs, seq_len)\n",
        "    \"\"\"\n",
        "    corr_logits = logits[:, -seq_len - 1: -1, :]\n",
        "    target = jax.nn.one_hot(init_seq, logits.shape[-1])\n",
        "    return lm_loss(corr_logits, target) \n",
        "\n",
        "\n",
        "def model_loss(apply_fn, params, init_seq):\n",
        "    double_seq = jnp.concatenate([init_seq, init_seq], axis=-1)\n",
        "    logits = apply_fn(params, double_seq)\n",
        "    return loss_fn(logits, init_seq, init_seq.shape[-1])\n"
      ],
      "metadata": {
        "id": "Sw6BSJEZuuKP"
      },
      "execution_count": 3,
      "outputs": []
    },
    {
      "cell_type": "code",
      "source": [
        "def schedule_len(step, reverse=False):\n",
        "    lengths = [5, 10, 12, 15]\n",
        "    if reverse:\n",
        "        lengths = lengths[::-1]\n",
        "    if step <= 500:\n",
        "        return lengths[0]\n",
        "    elif step <= 1000:\n",
        "        return lengths[1]\n",
        "    elif step <= 1500:\n",
        "        return lengths[2]\n",
        "    else:\n",
        "        return lengths[3]\n",
        "\n",
        "def eval(apply_fn, params, eval_bs):\n",
        "    d = {}\n",
        "    for l in [15, 12, 10, 5]:\n",
        "        tokens = jnp.asarray(np.random.randint(0, 10, size=(eval_bs, l)))\n",
        "        loss = model_loss(apply_fn, params, tokens)\n",
        "        d[l] = loss.item()\n",
        "    return d\n"
      ],
      "metadata": {
        "id": "W5wBueEHEs5F"
      },
      "execution_count": 4,
      "outputs": []
    },
    {
      "cell_type": "code",
      "source": [
        "\n",
        "batch_size = 32\n",
        "eval_bs = 70\n",
        "losses = []\n",
        "val_dicts = {'short_to_long': [], 'long_to_short': []}\n",
        "\n",
        "for rev, key in zip([False, True], val_dicts.keys()):\n",
        "    tokens = jnp.asarray(np.random.randint(0, 10, size=(16, 35))) # bs, seq_len\n",
        "    model = LSTMModel()\n",
        "    params = model.init({'params': jax.random.PRNGKey(0)}, tokens)\n",
        "\n",
        "\n",
        "    state = TrainState.create(\n",
        "        apply_fn=jax.jit(model.apply),\n",
        "        params=params,\n",
        "        tx=optax.adam(1e-3)\n",
        "        )\n",
        "\n",
        "    np.random.seed(0)\n",
        "\n",
        "    for i in tqdm(range(2_000)):\n",
        "        l = schedule_len(i, reverse=rev)\n",
        "        tokens = jnp.asarray(np.random.randint(0, 10, size=(batch_size, l)))\n",
        "        loss, grads = jax.value_and_grad(lambda p: model_loss(state.apply_fn, p, tokens))(state.params)\n",
        "        losses.append(loss.item())\n",
        "        state = state.apply_gradients(grads=grads)\n",
        "        if i % 100 == 0 and i > 0:\n",
        "            d_val = eval(state.apply_fn, state.params, eval_bs)\n",
        "            val_dicts[key].append(d_val)"
      ],
      "metadata": {
        "colab": {
          "base_uri": "https://localhost:8080/",
          "height": 98,
          "referenced_widgets": [
            "68833b3461c949548b5f69299158cb11",
            "c9e041236c0244bb8337b65466df8cbb",
            "6d04a85f3f044e5094f6ed1909053f6d",
            "41e810c6d5494816b9574e0180069682",
            "b963008755c04116aa0af0cc6be76c67",
            "2efd41bd292c40c7a3128a862b0d42fe",
            "6fbcd45901de4b629e2d0753956ac005",
            "5b09743b9bc1406d82a1529080ed36f1",
            "bc3828deb4d94e7dade64a9b876e1564",
            "9694e799a7944fe68bc6fd97c895b085",
            "f650e15ce315411a8c5aae9b233a3e6a",
            "160289ec90c7407581db053b977ead3f",
            "8a0c1df1f3eb453e96c363008fbc0478",
            "fed6701a90494af68cb2a66784545894",
            "2848a6759b96428c98d46d10f1802f64",
            "f6646bf837d14e56afeee362f388090a",
            "ea63af5ca49b41dfa518803d5720f72f",
            "f72337b98a5747b2a3ef2f4c238ab68d",
            "7f998b90b3004ce690c8ad5e95b94148",
            "6c9008be3f854829a058e8d9f50ebe4e",
            "8277bf5ec6f44eca94caf0ff2c5a7134",
            "0a8067b9c0a94b59b9e3d7cd5fa3d1a5"
          ]
        },
        "id": "im-IQxl8xDPj",
        "outputId": "76fa320f-3bd4-4a2e-d9b7-ad0c5b8f1b8f"
      },
      "execution_count": 5,
      "outputs": [
        {
          "output_type": "stream",
          "name": "stderr",
          "text": [
            "WARNING:jax._src.xla_bridge:No GPU/TPU found, falling back to CPU. (Set TF_CPP_MIN_LOG_LEVEL=0 and rerun for more info.)\n"
          ]
        },
        {
          "output_type": "display_data",
          "data": {
            "text/plain": [
              "  0%|          | 0/2000 [00:00<?, ?it/s]"
            ],
            "application/vnd.jupyter.widget-view+json": {
              "version_major": 2,
              "version_minor": 0,
              "model_id": "68833b3461c949548b5f69299158cb11"
            }
          },
          "metadata": {}
        },
        {
          "output_type": "display_data",
          "data": {
            "text/plain": [
              "  0%|          | 0/2000 [00:00<?, ?it/s]"
            ],
            "application/vnd.jupyter.widget-view+json": {
              "version_major": 2,
              "version_minor": 0,
              "model_id": "160289ec90c7407581db053b977ead3f"
            }
          },
          "metadata": {}
        }
      ]
    },
    {
      "cell_type": "code",
      "source": [
        "plt.plot(losses)\n",
        "plt.show()"
      ],
      "metadata": {
        "colab": {
          "base_uri": "https://localhost:8080/",
          "height": 430
        },
        "id": "C4BCgOyb4669",
        "outputId": "dc4d0559-0e90-4202-f452-d472bb50348a"
      },
      "execution_count": 9,
      "outputs": [
        {
          "output_type": "display_data",
          "data": {
            "text/plain": [
              "<Figure size 640x480 with 1 Axes>"
            ],
            "image/png": "[encoded data removed]"
          },
          "metadata": {}
        }
      ]
    },
    {
      "cell_type": "code",
      "source": [
        "fig, axs = plt.subplots(1, 2, figsize=(12, 5))\n",
        "for i, exp_key in enumerate(val_dicts):\n",
        "    for key in val_dicts[exp_key][0]:\n",
        "        values = [d[key] for d in val_dicts[exp_key]]\n",
        "        axs[i].plot([i * 100 for i in range(1, len(values) + 1)], values, label=f'Seq. len: {key}')\n",
        "        axs[i].set_title(exp_key)\n",
        "        axs[i].set_xlabel('step')\n",
        "        axs[i].set_ylabel('minus log likelihood')\n",
        "        for switch in [500, 1000, 1500]:\n",
        "            axs[i].axvline(x=switch, color='black', linestyle='--')\n",
        "\n",
        "handles, labels = axs[0].get_legend_handles_labels()\n",
        "fig.legend(handles, labels, loc='upper center')\n",
        "plt.show()"
      ],
      "metadata": {
        "colab": {
          "base_uri": "https://localhost:8080/",
          "height": 518
        },
        "id": "omcyP8HL6mZn",
        "outputId": "e551a80b-b8e7-45fa-9443-f6e722be7253"
      },
      "execution_count": 10,
      "outputs": [
        {
          "output_type": "display_data",
          "data": {
            "text/plain": [
              "<Figure size 1200x500 with 2 Axes>"
            ],
            "image/png": "[encoded data removed]"
          },
          "metadata": {}
        }
      ]
    },
    {
      "cell_type": "markdown",
      "source": [
        "### Conclusion\n",
        "\n",
        "1. We see that catastrophic forgetting is more evident in the training from long sequences to short sequences.\n",
        "\n",
        "2. We also see that when training on a specific sequence length, negative log likelihood on close lengths also improves.\n"
      ],
      "metadata": {
        "id": "fI7SH0BAziBu"
      }
    },
    {
      "cell_type": "code",
      "source": [],
      "metadata": {
        "id": "5MaWGMtGz19L"
      },
      "execution_count": 7,
      "outputs": []
    }
  ]
}