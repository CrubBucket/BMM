{
  "nbformat": 4,
  "nbformat_minor": 0,
  "metadata": {
    "colab": {
      "provenance": []
    },
    "kernelspec": {
      "name": "python3",
      "display_name": "Python 3"
    },
    "language_info": {
      "name": "python"
    },
    "gpuClass": "standard",
    "accelerator": "GPU",
    "widgets": {
      "application/vnd.jupyter.widget-state+json": {
        "c0fa560d5f464944a991175ffd3493ae": {
          "model_module": "@jupyter-widgets/controls",
          "model_name": "HBoxModel",
          "model_module_version": "1.5.0",
          "state": {
            "_dom_classes": [],
            "_model_module": "@jupyter-widgets/controls",
            "_model_module_version": "1.5.0",
            "_model_name": "HBoxModel",
            "_view_count": null,
            "_view_module": "@jupyter-widgets/controls",
            "_view_module_version": "1.5.0",
            "_view_name": "HBoxView",
            "box_style": "",
            "children": [
              "IPY_MODEL_35b107075bd64bcb829866c1a50e77a8",
              "IPY_MODEL_1b2219e8bf0b4c448a1cdaebe59d8301",
              "IPY_MODEL_c2c3696a14a44ac790d671a2d3a3c36e"
            ],
            "layout": "IPY_MODEL_42de9e28c57f497bb3d89d236c827bad"
          }
        },
        "35b107075bd64bcb829866c1a50e77a8": {
          "model_module": "@jupyter-widgets/controls",
          "model_name": "HTMLModel",
          "model_module_version": "1.5.0",
          "state": {
            "_dom_classes": [],
            "_model_module": "@jupyter-widgets/controls",
            "_model_module_version": "1.5.0",
            "_model_name": "HTMLModel",
            "_view_count": null,
            "_view_module": "@jupyter-widgets/controls",
            "_view_module_version": "1.5.0",
            "_view_name": "HTMLView",
            "description": "",
            "description_tooltip": null,
            "layout": "IPY_MODEL_3372eb8c33d24a9fb4ba199dad5b0ed3",
            "placeholder": "​",
            "style": "IPY_MODEL_22e3975ec02c42b2a0d397222658f2c5",
            "value": "Dl Completed...: 100%"
          }
        },
        "1b2219e8bf0b4c448a1cdaebe59d8301": {
          "model_module": "@jupyter-widgets/controls",
          "model_name": "FloatProgressModel",
          "model_module_version": "1.5.0",
          "state": {
            "_dom_classes": [],
            "_model_module": "@jupyter-widgets/controls",
            "_model_module_version": "1.5.0",
            "_model_name": "FloatProgressModel",
            "_view_count": null,
            "_view_module": "@jupyter-widgets/controls",
            "_view_module_version": "1.5.0",
            "_view_name": "ProgressView",
            "bar_style": "success",
            "description": "",
            "description_tooltip": null,
            "layout": "IPY_MODEL_959a935ebe554ceebb1286c042b4f530",
            "max": 5,
            "min": 0,
            "orientation": "horizontal",
            "style": "IPY_MODEL_f1eeb3c72a7343e38993a351a85a20b5",
            "value": 5
          }
        },
        "c2c3696a14a44ac790d671a2d3a3c36e": {
          "model_module": "@jupyter-widgets/controls",
          "model_name": "HTMLModel",
          "model_module_version": "1.5.0",
          "state": {
            "_dom_classes": [],
            "_model_module": "@jupyter-widgets/controls",
            "_model_module_version": "1.5.0",
            "_model_name": "HTMLModel",
            "_view_count": null,
            "_view_module": "@jupyter-widgets/controls",
            "_view_module_version": "1.5.0",
            "_view_name": "HTMLView",
            "description": "",
            "description_tooltip": null,
            "layout": "IPY_MODEL_1e15d5870b274d7fa663b508c740040a",
            "placeholder": "​",
            "style": "IPY_MODEL_2026573a9f114d469e43121461204931",
            "value": " 5/5 [00:01&lt;00:00,  4.64 file/s]"
          }
        },
        "42de9e28c57f497bb3d89d236c827bad": {
          "model_module": "@jupyter-widgets/base",
          "model_name": "LayoutModel",
          "model_module_version": "1.2.0",
          "state": {
            "_model_module": "@jupyter-widgets/base",
            "_model_module_version": "1.2.0",
            "_model_name": "LayoutModel",
            "_view_count": null,
            "_view_module": "@jupyter-widgets/base",
            "_view_module_version": "1.2.0",
            "_view_name": "LayoutView",
            "align_content": null,
            "align_items": null,
            "align_self": null,
            "border": null,
            "bottom": null,
            "display": null,
            "flex": null,
            "flex_flow": null,
            "grid_area": null,
            "grid_auto_columns": null,
            "grid_auto_flow": null,
            "grid_auto_rows": null,
            "grid_column": null,
            "grid_gap": null,
            "grid_row": null,
            "grid_template_areas": null,
            "grid_template_columns": null,
            "grid_template_rows": null,
            "height": null,
            "justify_content": null,
            "justify_items": null,
            "left": null,
            "margin": null,
            "max_height": null,
            "max_width": null,
            "min_height": null,
            "min_width": null,
            "object_fit": null,
            "object_position": null,
            "order": null,
            "overflow": null,
            "overflow_x": null,
            "overflow_y": null,
            "padding": null,
            "right": null,
            "top": null,
            "visibility": null,
            "width": null
          }
        },
        "3372eb8c33d24a9fb4ba199dad5b0ed3": {
          "model_module": "@jupyter-widgets/base",
          "model_name": "LayoutModel",
          "model_module_version": "1.2.0",
          "state": {
            "_model_module": "@jupyter-widgets/base",
            "_model_module_version": "1.2.0",
            "_model_name": "LayoutModel",
            "_view_count": null,
            "_view_module": "@jupyter-widgets/base",
            "_view_module_version": "1.2.0",
            "_view_name": "LayoutView",
            "align_content": null,
            "align_items": null,
            "align_self": null,
            "border": null,
            "bottom": null,
            "display": null,
            "flex": null,
            "flex_flow": null,
            "grid_area": null,
            "grid_auto_columns": null,
            "grid_auto_flow": null,
            "grid_auto_rows": null,
            "grid_column": null,
            "grid_gap": null,
            "grid_row": null,
            "grid_template_areas": null,
            "grid_template_columns": null,
            "grid_template_rows": null,
            "height": null,
            "justify_content": null,
            "justify_items": null,
            "left": null,
            "margin": null,
            "max_height": null,
            "max_width": null,
            "min_height": null,
            "min_width": null,
            "object_fit": null,
            "object_position": null,
            "order": null,
            "overflow": null,
            "overflow_x": null,
            "overflow_y": null,
            "padding": null,
            "right": null,
            "top": null,
            "visibility": null,
            "width": null
          }
        },
        "22e3975ec02c42b2a0d397222658f2c5": {
          "model_module": "@jupyter-widgets/controls",
          "model_name": "DescriptionStyleModel",
          "model_module_version": "1.5.0",
          "state": {
            "_model_module": "@jupyter-widgets/controls",
            "_model_module_version": "1.5.0",
            "_model_name": "DescriptionStyleModel",
            "_view_count": null,
            "_view_module": "@jupyter-widgets/base",
            "_view_module_version": "1.2.0",
            "_view_name": "StyleView",
            "description_width": ""
          }
        },
        "959a935ebe554ceebb1286c042b4f530": {
          "model_module": "@jupyter-widgets/base",
          "model_name": "LayoutModel",
          "model_module_version": "1.2.0",
          "state": {
            "_model_module": "@jupyter-widgets/base",
            "_model_module_version": "1.2.0",
            "_model_name": "LayoutModel",
            "_view_count": null,
            "_view_module": "@jupyter-widgets/base",
            "_view_module_version": "1.2.0",
            "_view_name": "LayoutView",
            "align_content": null,
            "align_items": null,
            "align_self": null,
            "border": null,
            "bottom": null,
            "display": null,
            "flex": null,
            "flex_flow": null,
            "grid_area": null,
            "grid_auto_columns": null,
            "grid_auto_flow": null,
            "grid_auto_rows": null,
            "grid_column": null,
            "grid_gap": null,
            "grid_row": null,
            "grid_template_areas": null,
            "grid_template_columns": null,
            "grid_template_rows": null,
            "height": null,
            "justify_content": null,
            "justify_items": null,
            "left": null,
            "margin": null,
            "max_height": null,
            "max_width": null,
            "min_height": null,
            "min_width": null,
            "object_fit": null,
            "object_position": null,
            "order": null,
            "overflow": null,
            "overflow_x": null,
            "overflow_y": null,
            "padding": null,
            "right": null,
            "top": null,
            "visibility": null,
            "width": null
          }
        },
        "f1eeb3c72a7343e38993a351a85a20b5": {
          "model_module": "@jupyter-widgets/controls",
          "model_name": "ProgressStyleModel",
          "model_module_version": "1.5.0",
          "state": {
            "_model_module": "@jupyter-widgets/controls",
            "_model_module_version": "1.5.0",
            "_model_name": "ProgressStyleModel",
            "_view_count": null,
            "_view_module": "@jupyter-widgets/base",
            "_view_module_version": "1.2.0",
            "_view_name": "StyleView",
            "bar_color": null,
            "description_width": ""
          }
        },
        "1e15d5870b274d7fa663b508c740040a": {
          "model_module": "@jupyter-widgets/base",
          "model_name": "LayoutModel",
          "model_module_version": "1.2.0",
          "state": {
            "_model_module": "@jupyter-widgets/base",
            "_model_module_version": "1.2.0",
            "_model_name": "LayoutModel",
            "_view_count": null,
            "_view_module": "@jupyter-widgets/base",
            "_view_module_version": "1.2.0",
            "_view_name": "LayoutView",
            "align_content": null,
            "align_items": null,
            "align_self": null,
            "border": null,
            "bottom": null,
            "display": null,
            "flex": null,
            "flex_flow": null,
            "grid_area": null,
            "grid_auto_columns": null,
            "grid_auto_flow": null,
            "grid_auto_rows": null,
            "grid_column": null,
            "grid_gap": null,
            "grid_row": null,
            "grid_template_areas": null,
            "grid_template_columns": null,
            "grid_template_rows": null,
            "height": null,
            "justify_content": null,
            "justify_items": null,
            "left": null,
            "margin": null,
            "max_height": null,
            "max_width": null,
            "min_height": null,
            "min_width": null,
            "object_fit": null,
            "object_position": null,
            "order": null,
            "overflow": null,
            "overflow_x": null,
            "overflow_y": null,
            "padding": null,
            "right": null,
            "top": null,
            "visibility": null,
            "width": null
          }
        },
        "2026573a9f114d469e43121461204931": {
          "model_module": "@jupyter-widgets/controls",
          "model_name": "DescriptionStyleModel",
          "model_module_version": "1.5.0",
          "state": {
            "_model_module": "@jupyter-widgets/controls",
            "_model_module_version": "1.5.0",
            "_model_name": "DescriptionStyleModel",
            "_view_count": null,
            "_view_module": "@jupyter-widgets/base",
            "_view_module_version": "1.2.0",
            "_view_name": "StyleView",
            "description_width": ""
          }
        }
      }
    }
  },
  "cells": [
    {
      "cell_type": "markdown",
      "source": [
        "## Theory\n",
        "\n",
        "In this lab work I reproduce experiments from article \"Learning to learn by gradient descent by gradient descent\".\n",
        "\n",
        "Code based on [github](https://github.com/teddykoker/learning-to-learn-jax) and [jax tutorial](https://jax.readthedocs.io/en/latest/notebooks/neural_network_with_tfds_data.html#data-loading-with-tensorflow-datasets)."
      ],
      "metadata": {
        "id": "7pmJJNT0xmXn"
      }
    },
    {
      "cell_type": "markdown",
      "source": [
        "Frequently, tasks in machine learning can be expressed as the problem of optimizing an objective function $f(\\theta)$ defined over some domain $\\theta \\in \\Theta$.  The goal in this case is to find the minimizer\n",
        "$\\theta^* = \\underset{\\theta \\in \\Theta}{\\operatorname{argmin}} f(\\theta)$ While any method capable of minimizing this objective function can be applied, the standard approach for differentiable functions is some form of gradient descent, resulting in a sequence of updates $$ \\theta_{t+1} = \\theta_t - \\alpha \\nabla f(\\theta_t).$$\n",
        "\n",
        "\n"
      ],
      "metadata": {
        "id": "n1wgeZOjxqeK"
      }
    },
    {
      "cell_type": "markdown",
      "source": [
        "In this work authors take a different tack and instead propose to replace hand-designed update rules with a learned update rule, which they call the optimizer $g$, specified by its own set of parameters $\\phi$. This results in updates to the optimizee $f$ of the form $$\\theta_{t+1} = \\theta_t + g_t(\\nabla f(\\theta_t), \\phi).$$"
      ],
      "metadata": {
        "id": "012Rq_Z50VBb"
      }
    },
    {
      "cell_type": "markdown",
      "source": [
        "In experiments loss function for optimizer $$ \\mathcal{L}(\\phi) = E_f \\sum_{i=1}^T f(\\theta_i),$$ where $\\{\\theta_i\\}_{i=1}^T$ is trajectory under optimization."
      ],
      "metadata": {
        "id": "Kjf9i_V-03k4"
      }
    },
    {
      "cell_type": "markdown",
      "source": [
        "## Imports"
      ],
      "metadata": {
        "id": "mfkDGhOGEvJN"
      }
    },
    {
      "cell_type": "code",
      "source": [
        "import jax\n",
        "import jax.numpy as jnp\n",
        "import matplotlib.pyplot as plt\n",
        "import optax\n",
        "import tensorflow as tf\n",
        "import tensorflow_datasets as tfds\n",
        "\n",
        "from jax import random\n",
        "from jax import vmap\n",
        "from jax.scipy.special import logsumexp\n",
        "from flax import serialization\n",
        "from flax import linen as nn\n",
        "from functools import partial\n",
        "from tqdm import tqdm\n"
      ],
      "metadata": {
        "id": "xSfQ82K_EyM9"
      },
      "execution_count": 1,
      "outputs": []
    },
    {
      "cell_type": "markdown",
      "source": [
        "## The Task: Quadratic Function"
      ],
      "metadata": {
        "id": "O8t7qhqdEH_h"
      }
    },
    {
      "cell_type": "code",
      "execution_count": 2,
      "metadata": {
        "id": "zEUqLQ3C5kTE"
      },
      "outputs": [],
      "source": [
        "def quadratic_data(rng):\n",
        "    batch_size=128\n",
        "    dim=10\n",
        "    keys = jax.random.split(rng, 2)\n",
        "    w = jax.random.normal(keys[0], (batch_size, dim, dim))\n",
        "    y = jax.random.normal(keys[1], (batch_size, dim))\n",
        "    return w, y\n",
        "\n",
        "def quadratic_theta(rng):\n",
        "    batch_size = 128\n",
        "    dim = 10\n",
        "    theta = jax.random.normal(rng, (batch_size, dim))\n",
        "    return theta\n",
        "\n",
        "def quadratic_task(w, y, theta, opt_fn, opt_state, steps=100):\n",
        "    @jax.jit\n",
        "    def f(theta):\n",
        "        product = vmap(jnp.matmul)(w, theta)\n",
        "        return jnp.mean(jnp.sum((product - y) ** 2, axis=1))\n",
        "\n",
        "    losses = []\n",
        "    for _ in range(steps):\n",
        "        loss, grads = jax.value_and_grad(f)(theta)\n",
        "        updates, opt_state = opt_fn(grads, opt_state)\n",
        "        theta += updates\n",
        "        losses.append(loss)\n",
        "\n",
        "    return jnp.stack(losses), theta, opt_state"
      ]
    },
    {
      "cell_type": "markdown",
      "source": [
        "## Create and train LSTM"
      ],
      "metadata": {
        "id": "rxnzc7Ki-L97"
      }
    },
    {
      "cell_type": "code",
      "source": [
        "class LSTMOptimizer(nn.Module):\n",
        "    hidden_units: int = 20\n",
        "\n",
        "    def setup(self):\n",
        "        self.lstm1 = nn.recurrent.LSTMCell()\n",
        "        self.lstm2 = nn.recurrent.LSTMCell()\n",
        "        self.fc = nn.Dense(1)\n",
        "\n",
        "    def __call__(self, gradient, state):\n",
        "        # gradients of optimizee do not depend on optimizer\n",
        "        gradient = jax.lax.stop_gradient(gradient)\n",
        "\n",
        "        # expand parameter dimension to extra batch dimension so that network\n",
        "        # is \"coodinatewise\"\n",
        "        gradient = gradient[..., None]\n",
        "\n",
        "        carry1, carry2 = state\n",
        "        carry1, x = self.lstm1(carry1, gradient)\n",
        "        carry2, x = self.lstm2(carry2, x)\n",
        "        update = self.fc(x)\n",
        "        update = update[..., 0]  # remove last dimension\n",
        "        return update, (carry1, carry2)\n",
        "\n",
        "    def initialize_carry(self, rng, params):\n",
        "        return (\n",
        "            nn.LSTMCell.initialize_carry(rng, params.shape, self.hidden_units),\n",
        "            nn.LSTMCell.initialize_carry(rng, params.shape, self.hidden_units),\n",
        "        )"
      ],
      "metadata": {
        "id": "eURCTohXKXpO"
      },
      "execution_count": 3,
      "outputs": []
    },
    {
      "cell_type": "code",
      "source": [
        "def train(data_fn, task_fn, theta_init, args):\n",
        "\n",
        "    rng = jax.random.PRNGKey(seed=args[\"seed\"])\n",
        "\n",
        "    example_input = jnp.zeros((args[\"batch_size\"], args[\"dim\"]))\n",
        "    lstm_opt = LSTMOptimizer()\n",
        "    lstm_state = lstm_opt.initialize_carry(rng, example_input)\n",
        "    params = lstm_opt.init(rng, example_input, lstm_state)\n",
        "\n",
        "    meta_opt = optax.adam(learning_rate=args[\"learning_rate\"])\n",
        "    meta_opt_state = meta_opt.init(params)\n",
        "\n",
        "    @jax.jit\n",
        "    def train_step(params, w, y, theta, state):\n",
        "        def loss_fn(params):\n",
        "            update = partial(lstm_opt.apply, params)\n",
        "            losses, _theta, _state = task_fn(\n",
        "                w, y, theta, update, state, args[\"unroll_steps\"]\n",
        "            )\n",
        "            return losses.sum(), (_theta, _state)\n",
        "\n",
        "        (loss, (_theta, _state)), grads = jax.value_and_grad(loss_fn, has_aux=True)(params)\n",
        "        return loss, grads, _theta, _state\n",
        "\n",
        "    best_loss = jnp.inf\n",
        "\n",
        "    tqdm_range = tqdm(range(args[\"steps\"]))\n",
        "    for _ in tqdm_range:\n",
        "        rng, subkey = jax.random.split(rng)\n",
        "        theta = theta_init(subkey)\n",
        "        w, y = data_fn(subkey)\n",
        "        lstm_state = lstm_opt.initialize_carry(rng, theta)\n",
        "        meta_loss = 0.0\n",
        "\n",
        "        for _ in range(args[\"unrolls\"]):\n",
        "            loss, grads, theta, lstm_state = train_step(params, w, y, theta, lstm_state)\n",
        "            updates, meta_opt_state = meta_opt.update(grads, meta_opt_state)\n",
        "            params = optax.apply_updates(params, updates)\n",
        "            meta_loss += loss\n",
        "\n",
        "        if meta_loss < best_loss:\n",
        "            best_loss = meta_loss\n",
        "            with open(args[\"model_path\"], \"wb\") as f:\n",
        "                f.write(serialization.to_bytes(params))\n",
        "\n",
        "        tqdm_range.set_postfix({\"loss\": meta_loss})\n",
        "\n",
        "args = {\n",
        "    \"seed\": 0, \n",
        "    \"batch_size\": 128,\n",
        "    \"dim\": 10,\n",
        "    \"unroll_steps\": 20,\n",
        "    \"unrolls\": 5,\n",
        "    \"learning_rate\": 1e-2,\n",
        "    \"steps\": 1000,\n",
        "    \"model_path\": \"params.mp\"\n",
        "}\n",
        "\n",
        "train(quadratic_data, quadratic_task, quadratic_theta, args)"
      ],
      "metadata": {
        "colab": {
          "base_uri": "https://localhost:8080/"
        },
        "id": "3QIJVJiaLbpP",
        "outputId": "a9d44d33-9945-4849-e379-f11660616c99"
      },
      "execution_count": 4,
      "outputs": [
        {
          "output_type": "stream",
          "name": "stderr",
          "text": [
            "100%|██████████| 1000/1000 [07:00<00:00,  2.38it/s, loss=236.24963]\n"
          ]
        }
      ]
    },
    {
      "cell_type": "markdown",
      "source": [
        "## Results"
      ],
      "metadata": {
        "id": "lRLAv2TZLLK8"
      }
    },
    {
      "cell_type": "code",
      "source": [
        "HAND_OPTIMIZERS = {\n",
        "    \"sgd\": optax.sgd,\n",
        "    \"adam\": optax.adam,\n",
        "    \"rmsprop\": partial(optax.rmsprop),\n",
        "    \"nag\": partial(optax.sgd, momentum=0.9, nesterov=True),\n",
        "}"
      ],
      "metadata": {
        "id": "nNf8Y3KaI-XZ"
      },
      "execution_count": 7,
      "outputs": []
    },
    {
      "cell_type": "code",
      "source": [
        "def eval_(data_fn, task_fn, theta_init, args):\n",
        "    \n",
        "    rng = jax.random.PRNGKey(args[\"seed\"])\n",
        "    theta = theta_init(rng)\n",
        "    w, y = data_fn(rng)\n",
        "\n",
        "    plt.figure(dpi=150, figsize=(5, 3))\n",
        "\n",
        "    for name, optimizer in HAND_OPTIMIZERS.items():\n",
        "        best_losses = None\n",
        "        for learning_rate in jnp.logspace(-2, 1, num=7):\n",
        "            opt = optimizer(learning_rate=learning_rate)\n",
        "            opt_state = opt.init(theta)\n",
        "            losses, *_ = task_fn(w, y, theta, opt_state=opt_state, opt_fn=opt.update)\n",
        "\n",
        "            if best_losses is None or losses[-1] < best_losses[-1]:\n",
        "                best_losses = losses\n",
        "                # print(f\"{name}, best lr: {learning_rate:.0e}\")\n",
        "\n",
        "        plt.plot(best_losses, label=name, linestyle=\"--\")\n",
        "\n",
        "    lstm_opt = LSTMOptimizer()\n",
        "    lstm_state = lstm_opt.initialize_carry(rng, theta)\n",
        "    params = lstm_opt.init(rng, theta, lstm_state)\n",
        "\n",
        "    with open(args[\"model_path\"], \"rb\") as f:\n",
        "        params = serialization.from_bytes(params, f.read())\n",
        "\n",
        "    update = partial(lstm_opt.apply, params)\n",
        "    losses, *_ = task_fn(w, y, theta, opt_state=lstm_state, opt_fn=update)\n",
        "    plt.plot(losses, label=\"lstm\")\n",
        "\n",
        "    plt.legend()\n",
        "    plt.title(\"losses\")\n",
        "    plt.xlabel(\"steps ($t$)\")\n",
        "    plt.ylabel(\"$f(\\\\theta)$\")\n",
        "    plt.yscale(\"log\")\n",
        "\n",
        "eval_(quadratic_data, quadratic_task, quadratic_theta, args)"
      ],
      "metadata": {
        "colab": {
          "base_uri": "https://localhost:8080/",
          "height": 491
        },
        "id": "XBy0Aoj4JFIl",
        "outputId": "1f3831d2-36c1-4dc5-e9d5-106d7bc3b750"
      },
      "execution_count": 10,
      "outputs": [
        {
          "output_type": "display_data",
          "data": {
            "text/plain": [
              "<Figure size 750x450 with 1 Axes>"
            ],
            "image/png": "[encoded data removed]"
          },
          "metadata": {}
        }
      ]
    },
    {
      "cell_type": "markdown",
      "source": [
        "## MNIST"
      ],
      "metadata": {
        "id": "pAwUIKDA6mzT"
      }
    },
    {
      "cell_type": "markdown",
      "source": [
        "### Load data"
      ],
      "metadata": {
        "id": "4T9J1YUmGqyC"
      }
    },
    {
      "cell_type": "code",
      "source": [
        "def one_hot(x, k, dtype=jnp.float32):\n",
        "  \"\"\"Create a one-hot encoding of x of size k.\"\"\"\n",
        "  return jnp.array(x[:, None] == jnp.arange(k), dtype)"
      ],
      "metadata": {
        "id": "2HQ6WA6gwtge"
      },
      "execution_count": 7,
      "outputs": []
    },
    {
      "cell_type": "code",
      "source": [
        "data_dir = '/tmp/tfds'\n",
        "\n",
        "# Fetch full datasets for evaluation\n",
        "# tfds.load returns tf.Tensors (or tf.data.Datasets if batch_size != -1)\n",
        "# You can convert them to NumPy arrays (or iterables of NumPy arrays) with tfds.dataset_as_numpy\n",
        "mnist_data, info = tfds.load(name=\"mnist\", batch_size=-1, data_dir=data_dir, with_info=True)\n",
        "mnist_data = tfds.as_numpy(mnist_data)\n",
        "train_data, test_data = mnist_data['train'], mnist_data['test']\n",
        "num_labels = info.features['label'].num_classes\n",
        "h, w, c = info.features['image'].shape\n",
        "num_pixels = h * w * c\n",
        "\n",
        "# Full train set\n",
        "train_images, train_labels = train_data['image'], train_data['label']\n",
        "train_images = jnp.reshape(train_images, (len(train_images), num_pixels))\n",
        "train_labels = one_hot(train_labels, num_labels)\n",
        "\n",
        "# Full test set\n",
        "test_images, test_labels = test_data['image'], test_data['label']\n",
        "test_images = jnp.reshape(test_images, (len(test_images), num_pixels))\n",
        "test_labels = one_hot(test_labels, num_labels)"
      ],
      "metadata": {
        "colab": {
          "base_uri": "https://localhost:8080/",
          "height": 0,
          "referenced_widgets": [
            "c0fa560d5f464944a991175ffd3493ae",
            "35b107075bd64bcb829866c1a50e77a8",
            "1b2219e8bf0b4c448a1cdaebe59d8301",
            "c2c3696a14a44ac790d671a2d3a3c36e",
            "42de9e28c57f497bb3d89d236c827bad",
            "3372eb8c33d24a9fb4ba199dad5b0ed3",
            "22e3975ec02c42b2a0d397222658f2c5",
            "959a935ebe554ceebb1286c042b4f530",
            "f1eeb3c72a7343e38993a351a85a20b5",
            "1e15d5870b274d7fa663b508c740040a",
            "2026573a9f114d469e43121461204931"
          ]
        },
        "id": "iWWZZrnTwU-3",
        "outputId": "69374648-503e-4093-8263-1d1fe43473e4"
      },
      "execution_count": 8,
      "outputs": [
        {
          "output_type": "stream",
          "name": "stdout",
          "text": [
            "Downloading and preparing dataset Unknown size (download: Unknown size, generated: Unknown size, total: Unknown size) to /tmp/tfds/mnist/3.0.1...\n"
          ]
        },
        {
          "output_type": "display_data",
          "data": {
            "text/plain": [
              "Dl Completed...:   0%|          | 0/5 [00:00<?, ? file/s]"
            ],
            "application/vnd.jupyter.widget-view+json": {
              "version_major": 2,
              "version_minor": 0,
              "model_id": "c0fa560d5f464944a991175ffd3493ae"
            }
          },
          "metadata": {}
        },
        {
          "output_type": "stream",
          "name": "stdout",
          "text": [
            "Dataset mnist downloaded and prepared to /tmp/tfds/mnist/3.0.1. Subsequent calls will reuse this data.\n"
          ]
        },
        {
          "output_type": "stream",
          "name": "stderr",
          "text": [
            "WARNING:jax._src.xla_bridge:No GPU/TPU found, falling back to CPU. (Set TF_CPP_MIN_LOG_LEVEL=0 and rerun for more info.)\n"
          ]
        }
      ]
    },
    {
      "cell_type": "code",
      "source": [
        "print('Train:', train_images.shape, train_labels.shape)\n",
        "print('Test:', test_images.shape, test_labels.shape)"
      ],
      "metadata": {
        "colab": {
          "base_uri": "https://localhost:8080/"
        },
        "id": "zqJnNJL3wbv9",
        "outputId": "ad538710-ec1e-4e82-8ee9-f26113b34ca7"
      },
      "execution_count": 9,
      "outputs": [
        {
          "output_type": "stream",
          "name": "stdout",
          "text": [
            "Train: (60000, 784) (60000, 10)\n",
            "Test: (10000, 784) (10000, 10)\n"
          ]
        }
      ]
    },
    {
      "cell_type": "markdown",
      "source": [
        "### Create model"
      ],
      "metadata": {
        "id": "YNWSfXkCGte7"
      }
    },
    {
      "cell_type": "code",
      "source": [
        "# A helper function to randomly initialize weights and biases\n",
        "# for a dense neural network layer\n",
        "def random_layer_params(m, n, key, scale=1e-2):\n",
        "  w_key, b_key = random.split(key)\n",
        "  return scale * random.normal(w_key, (n, m)), scale * random.normal(b_key, (n,))\n",
        "\n",
        "# Initialize all layers for a fully-connected neural network with sizes \"sizes\"\n",
        "def init_network_params(key, sizes):\n",
        "  keys = random.split(key, len(sizes))\n",
        "  return [random_layer_params(m, n, k) for m, n, k in zip(sizes[:-1], sizes[1:], keys)]\n",
        "\n",
        "# layer_sizes = [784, 20, 10]\n",
        "# step_size = 0.01\n",
        "# num_epochs = 10\n",
        "# batch_size = 128\n",
        "# n_targets = 10\n",
        "# params = init_network_params(layer_sizes, random.PRNGKey(0))"
      ],
      "metadata": {
        "id": "hhtqzZxbGxKn"
      },
      "execution_count": 13,
      "outputs": []
    },
    {
      "cell_type": "code",
      "source": [
        "def mnist_data(rng):\n",
        "    batch_size = 128\n",
        "    indices = random.randint(rng, shape=(batch_size,), minval=0, maxval=train_images.shape[0])\n",
        "    X = train_images[indices]\n",
        "    y = train_labels[indices]\n",
        "    return X, y\n",
        "\n",
        "def mnist_theta(rng):\n",
        "    return init_network_params(rng, [784, 20, 10])\n",
        "\n",
        "def mnist_task(image, y, theta, opt_fn, opt_state, steps=100):\n",
        "    def relu(x):\n",
        "        return jnp.maximum(0, x)\n",
        "\n",
        "    def f_(theta):\n",
        "        # per-example predictions\n",
        "        activations = image\n",
        "        for w, b in theta[:-1]:\n",
        "          outputs = jnp.dot(w, activations) + b\n",
        "          activations = relu(outputs)\n",
        "        \n",
        "        final_w, final_b = theta[-1]\n",
        "        logits = jnp.dot(final_w, activations) + final_b\n",
        "        return logits - logsumexp(logits)\n",
        "        \n",
        "    @jax.jit\n",
        "    def f(theta):\n",
        "        # product = vmap(f_)(theta)\n",
        "        product = vmap(f_, in_axes=(None, 0))(theta)\n",
        "        return -jnp.mean(product * y)\n",
        "\n",
        "    losses = []\n",
        "    for _ in range(steps):\n",
        "        loss, grads = jax.value_and_grad(f)(theta)\n",
        "        updates, opt_state = opt_fn(grads, opt_state)\n",
        "        theta += updates\n",
        "        losses.append(loss)\n",
        "\n",
        "    return jnp.stack(losses), theta, opt_state"
      ],
      "metadata": {
        "id": "XlgdlelbHAFd"
      },
      "execution_count": 14,
      "outputs": []
    },
    {
      "cell_type": "code",
      "source": [
        "args = {\n",
        "    \"seed\": 0, \n",
        "    \"batch_size\": 128,\n",
        "    \"dim\": 10,\n",
        "    \"unroll_steps\": 20,\n",
        "    \"unrolls\": 5,\n",
        "    \"learning_rate\": 1e-2,\n",
        "    \"steps\": 1000,\n",
        "    \"model_path\": \"params.mp\"\n",
        "}\n",
        "\n",
        "train(mnist_data, mnist_task, mnist_theta, args)"
      ],
      "metadata": {
        "id": "74cVKlYL9dzp"
      },
      "execution_count": null,
      "outputs": []
    },
    {
      "cell_type": "code",
      "source": [
        "eval_(mnist_data, mnist_task, mnist_theta, args)"
      ],
      "metadata": {
        "id": "5ux2K2fC-NfH"
      },
      "execution_count": null,
      "outputs": []
    }
  ]
}