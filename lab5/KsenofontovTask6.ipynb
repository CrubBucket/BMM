{
  "nbformat": 4,
  "nbformat_minor": 0,
  "metadata": {
    "colab": {
      "provenance": []
    },
    "kernelspec": {
      "name": "python3",
      "display_name": "Python 3"
    },
    "language_info": {
      "name": "python"
    },
    "gpuClass": "standard"
  },
  "cells": [
    {
      "cell_type": "markdown",
      "source": [
        "# Lab 5\n",
        "Author: Ksenofontov Gregory\n",
        "\n",
        "* Model: linear regression with 10 features.\n",
        "* Hyperparameter: covariance matrix\n",
        "* Plots: \n",
        "  * convergence rate of random search for different ranks.\n",
        "  * distance from true matrix to the best found\n",
        "\n",
        "Consider hyperparameter random search problem for given model with different rank of covariance matrix: from 1 to 10. \n"
      ],
      "metadata": {
        "id": "Kjcq5dm7btY5"
      }
    },
    {
      "cell_type": "markdown",
      "source": [
        "## Theory\n",
        "Semi-defined covariance matrix **A** of normally distributed parameters is a **hyperparameter**\n",
        "\n",
        "The main idea of experiment: How works random search while alternating rank of hyperparameter from full 10 to 1?\n",
        "\n",
        "Random search **space** is from 0 to 1 for each element of hyperparameter"
      ],
      "metadata": {
        "id": "B0C8u0YjcEf9"
      }
    },
    {
      "cell_type": "markdown",
      "source": [
        "## Implementation"
      ],
      "metadata": {
        "id": "iWXLk3FMcLlk"
      }
    },
    {
      "cell_type": "markdown",
      "source": [
        "Imports and global parameters"
      ],
      "metadata": {
        "id": "5-SyQjJgcS8K"
      }
    },
    {
      "cell_type": "code",
      "source": [
        "!pip install flax optax distrax"
      ],
      "metadata": {
        "id": "AolCJProcKJe"
      },
      "execution_count": null,
      "outputs": []
    },
    {
      "cell_type": "markdown",
      "source": [
        "## Imports and constants"
      ],
      "metadata": {
        "id": "CPIjYvBgVtOD"
      }
    },
    {
      "cell_type": "code",
      "execution_count": 72,
      "metadata": {
        "id": "DB1_FfdRbWUf"
      },
      "outputs": [],
      "source": [
        "import jax.numpy as jnp\n",
        "from jax import random, value_and_grad, jit\n",
        "\n",
        "from flax import linen as nn\n",
        "\n",
        "import optax\n",
        "\n",
        "import matplotlib.pyplot as plt\n",
        "from tqdm import tqdm\n",
        "import seaborn as sns"
      ]
    },
    {
      "cell_type": "code",
      "source": [
        "SEED = random.PRNGKey(42)\n",
        "features = 10\n",
        "train_size = 25\n",
        "data_noise = 1"
      ],
      "metadata": {
        "id": "Y4o9-NgVcYFy"
      },
      "execution_count": 73,
      "outputs": []
    },
    {
      "cell_type": "markdown",
      "source": [
        "## Supplementary functions"
      ],
      "metadata": {
        "id": "LdmUlR2WVzDm"
      }
    },
    {
      "cell_type": "code",
      "source": [
        "def conv_rate(losses):\n",
        "    rate = 0\n",
        "    for i, loss in enumerate(losses[1:]):\n",
        "        rate += loss / losses[i - 1]\n",
        "    return rate / (i + 1)"
      ],
      "metadata": {
        "id": "fIzScvbzVp6R"
      },
      "execution_count": 115,
      "outputs": []
    },
    {
      "cell_type": "markdown",
      "source": [
        "## Generate data"
      ],
      "metadata": {
        "id": "GGCL86mvV9FR"
      }
    },
    {
      "cell_type": "code",
      "source": [
        "X = jnp.concatenate([random.normal(SEED, shape=(train_size, features - 1)),\n",
        "                     jnp.ones((train_size, 1))], axis=1)\n",
        "\n",
        "# A_true - true positive semi-definite covariance matrix\n",
        "A_true = random.normal(SEED, shape=(features, features))\n",
        "A_true = jnp.dot(A_true, A_true.T)\n",
        "\n",
        "# Generate true parameters with A_true\n",
        "W_true = random.multivariate_normal(SEED, jnp.zeros(features), A_true)\n",
        "\n",
        "# Generate Y where y_i = f(w, x_i) + ε(x_i) for all i∈(0,train_size)\n",
        "Y = X @ W_true + data_noise * random.normal(SEED, shape=(train_size, 1))"
      ],
      "metadata": {
        "id": "QlmDhdvYXJ_j"
      },
      "execution_count": 110,
      "outputs": []
    },
    {
      "cell_type": "markdown",
      "source": [
        "## Linear model and train function"
      ],
      "metadata": {
        "id": "Mo9YKD9BPCbS"
      }
    },
    {
      "cell_type": "code",
      "source": [
        "class LinearRegression:\n",
        "\n",
        "  def predict(self, W, X):\n",
        "      \"\"\" Realisation of Linear Regression \"\"\"\n",
        "      return jnp.dot(X, W)\n",
        "\n",
        "  def criterion(self, W, X, Y):\n",
        "      \"\"\" Default MSE loss \"\"\"\n",
        "      preds = self.predict(W, X)\n",
        "      return jnp.mean((preds - Y)**2)\n",
        "\n",
        "linear = LinearRegression()"
      ],
      "metadata": {
        "id": "rWtZuh58PB_a"
      },
      "execution_count": 111,
      "outputs": []
    },
    {
      "cell_type": "code",
      "source": [
        "def train(model, epochs, W, optimizer, verbose=True):\n",
        "    losses = []\n",
        "    opt_state = optimizer.init(W)\n",
        "\n",
        "    @jit\n",
        "    def step(batch, W, opt_state):\n",
        "        # Calculate loss and grads\n",
        "        loss, grads = value_and_grad(model.criterion)(W, batch[0], batch[1])\n",
        "        # Update params\n",
        "        updates, opt_state = optimizer.update(grads, opt_state, W)\n",
        "        W = optax.apply_updates(W, updates)\n",
        "        return W, opt_state, loss\n",
        "\n",
        "    for epoch in range(1, epochs + 1):\n",
        "        avg_loss = 0\n",
        "        for i, batch in enumerate(zip(X, Y)):\n",
        "            W, opt_state, loss = step(batch, W, opt_state)\n",
        "            avg_loss += loss\n",
        "        losses.append(avg_loss/(i+1))\n",
        "        if verbose and epoch % 20 == 0: # Print loss every 20 epochs\n",
        "            print(f\"epoch: {epoch}, loss: {avg_loss.mean():.8f}\")\n",
        "    return losses"
      ],
      "metadata": {
        "id": "fr-s09Gkkkz6"
      },
      "execution_count": 112,
      "outputs": []
    },
    {
      "cell_type": "markdown",
      "source": [
        "## Main experiment"
      ],
      "metadata": {
        "id": "dHKtcIzRWHFN"
      }
    },
    {
      "cell_type": "code",
      "source": [
        "lr = 1e-2\n",
        "epochs = 100\n",
        "random_search_tries = 20\n",
        "ranks = features # Ranks to reduce\n",
        "optimizer = optax.adam(learning_rate=lr)\n",
        "\n",
        "best_loss = float('inf')\n",
        "best_hyperparameter = 0\n",
        "best_rank = 0\n",
        "\n",
        "conv_rates = []\n",
        "\n",
        "for rank in reversed(range(1, ranks + 1)):\n",
        "    avg_conv_rate = 0\n",
        "    for i in range(random_search_tries):\n",
        "        # Define hyperparameter\n",
        "        A = random.normal(random.PRNGKey(i), shape=(features, rank))\n",
        "        A = jnp.dot(A, A.T)\n",
        "\n",
        "        # Print A rank\n",
        "        if i == 0:\n",
        "          print(f\"===== rank {jnp.linalg.matrix_rank(A)} =====\")\n",
        "\n",
        "        # Generate parameters using defined hyperparameter A using SVD method (cholesky decomposition returns NaNs)\n",
        "        W = random.multivariate_normal(SEED, jnp.zeros(features), A, method='svd')\n",
        "\n",
        "        # Train model\n",
        "        losses = train(linear, epochs, W, optimizer, verbose=False)\n",
        "\n",
        "        # Calculate convergence rate\n",
        "        avg_conv_rate += conv_rate(losses)\n",
        "        \n",
        "        if losses[-1] < best_loss:\n",
        "            print(f'Best loss improved from {best_loss:.4f} to {losses[-1]:.4f} on try {i + 1}')\n",
        "            print(f'Distance between A and A_true: {jnp.linalg.norm(A - A_true):.4f}')\n",
        "            best_rank = rank\n",
        "            best_loss = losses[-1]\n",
        "            best_hyperparameter = A\n",
        "\n",
        "    # Append average convergence rate for given rank        \n",
        "    conv_rates.append(avg_conv_rate/random_search_tries)\n",
        "    print(f'~~~~~ convergence rate {conv_rates[-1]:.4f} ~~~~~\\n')"
      ],
      "metadata": {
        "id": "mAArrzJANeSl",
        "colab": {
          "base_uri": "https://localhost:8080/"
        },
        "outputId": "b9415443-bf1f-4e97-d07b-a8515bfcd94c"
      },
      "execution_count": 122,
      "outputs": [
        {
          "output_type": "stream",
          "name": "stdout",
          "text": [
            "===== rank 10 =====\n",
            "Best loss improved from inf to 82.2792 on try 1\n",
            "Distance between A and A_true: 36.1660\n",
            "~~~~~ convergence rate 0.9963 ~~~~~\n",
            "\n",
            "===== rank 9 =====\n",
            "~~~~~ convergence rate 0.9966 ~~~~~\n",
            "\n",
            "===== rank 8 =====\n",
            "Best loss improved from 82.2792 to 82.2781 on try 15\n",
            "Distance between A and A_true: 36.5881\n",
            "~~~~~ convergence rate 0.9966 ~~~~~\n",
            "\n",
            "===== rank 7 =====\n",
            "Best loss improved from 82.2781 to 82.2766 on try 2\n",
            "Distance between A and A_true: 46.2643\n",
            "Best loss improved from 82.2766 to 82.2756 on try 4\n",
            "Distance between A and A_true: 34.6203\n",
            "Best loss improved from 82.2756 to 82.2755 on try 6\n",
            "Distance between A and A_true: 43.4325\n",
            "Best loss improved from 82.2755 to 82.2753 on try 16\n",
            "Distance between A and A_true: 41.5694\n",
            "~~~~~ convergence rate 0.9967 ~~~~~\n",
            "\n",
            "===== rank 6 =====\n",
            "Best loss improved from 82.2753 to 82.2748 on try 10\n",
            "Distance between A and A_true: 35.1540\n",
            "~~~~~ convergence rate 0.9968 ~~~~~\n",
            "\n",
            "===== rank 5 =====\n",
            "~~~~~ convergence rate 0.9969 ~~~~~\n",
            "\n",
            "===== rank 4 =====\n",
            "~~~~~ convergence rate 0.9972 ~~~~~\n",
            "\n",
            "===== rank 3 =====\n",
            "~~~~~ convergence rate 0.9975 ~~~~~\n",
            "\n",
            "===== rank 2 =====\n",
            "~~~~~ convergence rate 0.9977 ~~~~~\n",
            "\n",
            "===== rank 1 =====\n",
            "~~~~~ convergence rate 0.9979 ~~~~~\n",
            "\n"
          ]
        }
      ]
    },
    {
      "cell_type": "code",
      "source": [
        "sns.heatmap(A - A_true)"
      ],
      "metadata": {
        "colab": {
          "base_uri": "https://localhost:8080/",
          "height": 448
        },
        "id": "NEauEQk2jqcX",
        "outputId": "f481b582-ce41-443d-e129-a91dad183598"
      },
      "execution_count": 124,
      "outputs": [
        {
          "output_type": "execute_result",
          "data": {
            "text/plain": [
              "<Axes: >"
            ]
          },
          "metadata": {},
          "execution_count": 124
        },
        {
          "output_type": "display_data",
          "data": {
            "text/plain": [
              "<Figure size 640x480 with 2 Axes>"
            ],
            "image/png": "[encoded data removed]"
          },
          "metadata": {}
        }
      ]
    },
    {
      "cell_type": "code",
      "source": [],
      "metadata": {
        "id": "9TUQfdE43zZp"
      },
      "execution_count": null,
      "outputs": []
    }
  ]
}