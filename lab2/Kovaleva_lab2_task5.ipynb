{
  "cells": [
    {
      "cell_type": "markdown",
      "id": "7350e22d",
      "metadata": {
        "id": "7350e22d"
      },
      "source": [
        "# Lab2 IGR Visualization\n",
        "\n",
        "## Reporter:  Kovaleva Maria\n",
        "\n",
        "## Task\n",
        "Visualize (using interactive plots) convergence of invertible gaussian reparametrization (IGR). Optimize KL(q|p) -> min, where q and p are IGR, the parameters of IGR are sampled randomly each run. Plot: simplex (triangle) with PDF changes during optimization.\n",
        "\n",
        "## Theory\n",
        "\n",
        "\n",
        "### The reparameterization trick\n",
        "\n",
        "Many problems in machine learning can be formulated as optimizing parameters of a distribution over an expectation:\n",
        "\\begin{equation}\n",
        "\\phi^* = argmax_{\\phi} L(\\phi) := argmax_\\phi \\mathbb{E}_{q_\\phi(z)}[f(z)]\n",
        "\\end{equation}\n",
        "where $q_\\phi$ is a distribution over $\\mathcal{S}$ parameterized by $\\phi$ and $f: \\mathcal{S}\n",
        "\\rightarrow \\mathbb{R}$. \n",
        "\n",
        "In order to use stochastic gradient methods, the gradient of $L$ has to be estimated. \n",
        "A first option is to use score estimators. \n",
        "However, in practice score estimators usually exhibit high variance. \n",
        "The reparameterization trick provides an alternative estimate of this gradient which empirically has less\n",
        "variance, resulting in more efficient optimization. The reparameterization trick consists of finding a function $g(\\epsilon, \\phi)$ such that $g$ is differentiable with respect to $\\phi$ and if $z \\sim q_\\phi$, then:\n",
        "\n",
        "\\begin{equation}\n",
        " z =g(\\epsilon, \\phi)\n",
        "\\end{equation}\n",
        "where $\\epsilon$ is a continuous random variable whose distribution does not depend on $\\phi$ and is\n",
        "easy to sample from. The gradient is then estimated by:\n",
        "\\begin{equation}\n",
        " \\nabla_\\phi L(\\phi) \\approx \\dfrac{1}{B} \\displaystyle \\sum_{b=1}^B \\nabla_\\phi f(g(\\epsilon_b,\n",
        " \\phi))\n",
        "\\end{equation}\n",
        "\n",
        "where $\\epsilon_1,\\dots, \\epsilon_B$ are iid samples from the distribution of $\\epsilon$. \n",
        "For example, if $\\phi=(\\mu, \\sigma)$ and $q_\\phi = \\mathcal{N}(\\mu, \\sigma^2)$ then the reparameterization trick is given by $g(\\epsilon, \\phi)=\\mu + \\sigma\\epsilon$ with $\\epsilon \\sim \\mathcal{N}(0,1)$.\n",
        "\n",
        "### Continuous relaxations\n",
        "\n",
        "While we can use score estimators whether $q_\\phi$ has continuous or discrete support, the reparameterization gradient of previous equation is only valid when $q_\\phi$ has continuous support. \n",
        "To extend the reparameterization trick to the discrete setting, thus avoiding the high variance issues of score estimators, suppose $q_\\phi$ is a distribution over the set $\\mathcal{S}=\\{1,2,\\dots, K\\}$. \n",
        "We use one-hot representations of length $K$ for the elements of $\\mathcal{S}$, so that $\\mathcal{S}$ can be interpreted as the vertices of the $(K-1)$-simplex, $\\Delta^{(K-1)}=\\{z \\in \\mathbb{R}^K: z_k \\geq 0 \\text{ and }\\sum_{k=1}^K z_k=1\\}$.\n",
        "The idea is to now place a continuous distribution over $\\Delta^{(K-1)}$ that approximates $q_\\phi$.\n",
        "Note that placing a distribution over $\\Delta^{(K-1)}$ is equivalent to placing a distribution over $\\mathcal{S}^{(K-1)}=\\{z \\in \\mathbb{R}^{K-1}: z_k > 0 \\text{ and }\\sum_{k=1}^{K-1} z_k < 1\\}$, as the last coordinate can\n",
        "be obtained from the previous ones: $z_K = 1-\\sum_{k=1}^{K-1}z_k$. Placing a distribution over $\\mathcal{S}^{(K-1)}$ is mathematically convenient as $\\mathcal{S}^{(K-1)} \\subset \\mathbb{R}^{K-1}$ has positive Lebesgue measure, while $\\Delta^{(K-1)} \\subset \\mathbb{R}^K$ does not. \n",
        "Although this distinction might appear as an irrelevant technicality, it allows us to correctly compute our Jacobians. \n",
        "We will thus interchangeably think of distributions over $\\mathcal{S}$ as points in either $\\mathcal{S}^{(K-1)}$ or $\\Delta^{(K-1)}$. The optimization problem of the first equation is then relaxed to:\n",
        "\n",
        "\\begin{equation}\n",
        " \\tilde{\\phi}^* = argmax_{\\tilde{\\phi}} \\tilde{L}(\\tilde{\\phi}) :=\n",
        " argmax_{\\tilde{\\phi}}\\mathbb{E}_{\\tilde{q}_{\\tilde{\\phi}}(\\tilde{z})}[\\tilde{f}(\\tilde{z})]\n",
        "\\end{equation}\n",
        "\n",
        "where $\\tilde{q}_{\\tilde{\\phi}}$ is a distribution over $\\mathcal{S}^{(K-1)}$ and the function\n",
        "$\\tilde{f}:\\mathcal{S}^{(K-1)} \\rightarrow \\mathbb{R}$ is a relaxation of $f$ to\n",
        "$\\mathcal{S}^{(K-1)}$. As long as $\\tilde{q}_{\\tilde{\\phi}}$ concentrates most of its mass around\n",
        "$\\mathcal{S}$ and $\\tilde{f}$ is smooth, this relaxation is sensible. If $\\tilde{q}_{\\tilde{\\phi}}$\n",
        "can be reparameterized, then we can use the reparameterization trick.\n",
        "We make two important notes: first, not only the distribution is relaxed, the function $f$ also has\n",
        "to be relaxed to $\\tilde{f}$ because it now needs to take inputs in $\\mathcal{S}^{(K-1)}$ and not\n",
        "just $\\mathcal{S}$. In other words, the objective must also be relaxed, not just the distribution.\n",
        "Second, the parameters $\\tilde{\\phi}$ of the relaxed distribution need not match the parameters\n",
        "$\\phi$ of the original distribution.\n",
        "\n",
        " \n",
        " ### IGR\n",
        " The IGR distribution on $\\mathcal{S}^{(K-1)}$, which is parameterized by $(\\mu, \\sigma)$, where $\\mu \\in \\mathbb{R}^{K-1}$ and\n",
        " $\\sigma \\in (0, \\infty)^{K-1}$. Gaussian noise $\\epsilon = (\\epsilon_1,\\dots, \\epsilon_{K-1}) \\sim\n",
        " \\mathcal{N}(0, I_{K-1})$ is transformed in the following way:\n",
        "\n",
        " \\begin{align}\n",
        " y & = \\mu + \\text{diag}(\\sigma) \\epsilon \\\\ \\tilde{z} & = g(y, \\tau)\n",
        " \\end{align}\n",
        " \n",
        " where $\\text{diag}(\\sigma)$ is a diagonal matrix whose nonzero elements are given by $\\sigma$,\n",
        " $g(\\cdot, \\tau)$ is an invertible smooth function and $\\tau > 0$ is a temperature hyperparameter.\n",
        " The first advantage of choosing $g$ to be an invertible function\n",
        " is that the density of $\\tilde{z}$ can be computed in closed form with the change of variable\n",
        " formula:\n",
        "\n",
        " \\begin{equation}\n",
        " \\tilde{q}_{\\mu, \\sigma, \\tau}(\\tilde{z}) = \\mathcal{N}(y|\\mu, \\sigma)|\\det J_{g}(y,\n",
        " \\tau)|^{-1}\n",
        " \\end{equation}\n",
        "\n",
        " where $J_{g}(\\cdot, \\tau)$ is the Jacobian of $g(\\cdot, \\tau)$. The second advantage of this choice\n",
        " is that it allows us to compute the $\\mathbb{KL}$ in closed form (as the Jacobian terms cancel out\n",
        " in the ratio):\n",
        "\\begin{equation}\n",
        "  \\mathbb{KL}\\left(\\tilde{q}_{\\mu, \\sigma, \\tau}(\\tilde{z})||\\tilde{q}_{\\mu_0, \\sigma_0, \\tau}(\\tilde{z})\\right)\n",
        "  =\n",
        "  \\mathbb{KL}\\left(\\mathcal{N}(\\mu, \\sigma^2)||\\mathcal{N}(\\mu_0, \\sigma^2_0)\\right)\n",
        "\\end{equation}\n"
      ]
    },
    {
      "cell_type": "code",
      "execution_count": 1,
      "id": "0d1dad42",
      "metadata": {
        "id": "0d1dad42"
      },
      "outputs": [],
      "source": [
        "import numpy as np\n",
        "from scipy.special import rel_entr\n",
        "\n",
        "from ipywidgets import interact\n",
        "import matplotlib.pyplot as plt"
      ]
    },
    {
      "cell_type": "markdown",
      "id": "0caa4f8d",
      "metadata": {
        "id": "0caa4f8d"
      },
      "source": [
        "## KL divergence and it's derivative\n",
        "\n",
        "KL divergence between two normal distributions.\n",
        "\n",
        "$KL\\left(\\mathcal{N}(m_0,\\Sigma_0)||\\mathcal{N}(m_1,\\Sigma_1)\\right) = \\frac{1}{2}\\left( tr\\left(\\Sigma_1^{-1} \\Sigma_0\\right) + \\left(\\mu_1 - \\mu_0\\right)^T \\Sigma_1^{-1} \\left(\\mu_1 - \\mu_0\\right) - k + \\ln{\\frac{\\det{\\Sigma_1}}{\\det{\\Sigma_0}}}\\right)$\n",
        "\n",
        "We need to calculate its deriavative:\n",
        "\n",
        "$\\frac{\\partial}{\\partial \\Sigma_1} \\left(\\mu_1 - \\mu_0\\right)^T \\Sigma_1^{-1} \\left(\\mu_1 - \\mu_0\\right) = -\\left(\\Sigma_1^{-1}\\right)^T \\left(\\mu_1 - \\mu_0\\right) \\left(\\mu_1 - \\mu_0\\right)^T \\left(\\Sigma_1^{-1}\\right)^T$\n",
        "\n",
        "$\\frac{\\partial}{\\partial \\Sigma_1} tr\\left(\\Sigma_1^{-1} \\Sigma_0\\right) = - \\left(\\Sigma_1^{-1} \\Sigma_0\\Sigma_1^{-1}\\right)^T$\n",
        "\n",
        "$\\frac{\\partial}{\\partial \\Sigma_1} \\left(\\ln{\\frac{\\det{\\Sigma_1}}{\\det{\\Sigma_0}}}\\right) = \\frac{1}{\\det{\\Sigma_1}}\\frac{\\partial}{\\partial \\Sigma_1} \\det{\\Sigma_1} = \\left(\\Sigma_1^{-1}\\right)^T$\n",
        "\n",
        "$\\frac{\\partial}{\\partial \\mu_1}\\left(\\mu_1 - \\mu_0\\right)^T \\Sigma_1^{-1} \\left(\\mu_1 - \\mu_0\\right) = \\left(\\Sigma_1^{-1} + \\left(\\Sigma_1^{-1}\\right)^T\\right) \\left(\\mu_1 - \\mu_0\\right)$\n",
        "\n",
        "And finaly:\n",
        "\n",
        "$\\frac{\\partial}{\\partial \\mu_1}KL\\left(\\mathcal{N}(m_0,\\Sigma_0)||\\mathcal{N}(m_1,\\Sigma_1)\\right) = \\frac{1}{2}\\left(\\Sigma_1^{-1} + \\left(\\Sigma_1^{-1}\\right)^T\\right) \\left(\\mu_1 - \\mu_0\\right)$\n",
        "\n",
        "$\\frac{\\partial}{\\partial \\Sigma_1}KL\\left(\\mathcal{N}(m_0,\\Sigma_0)||\\mathcal{N}(m_1,\\Sigma_1)\\right)  = \\frac{1}{2}\\left(-\\left(\\Sigma_1^{-1}\\right)^T \\left(\\mu_1 - \\mu_0\\right) \\left(\\mu_1 - \\mu_0\\right)^T \\left(\\Sigma_1^{-1}\\right)^T- \\left(\\Sigma_1^{-1} \\Sigma_0\\Sigma_1^{-1}\\right)^T + \\left(\\Sigma_1^{-1}\\right)^T\\right)$\n",
        "\n",
        "Function iterate make gradient step and change $Q = \\mathcal{N}(m_1,\\Sigma_1)$ distribution in order to be closer to $P = \\mathcal{N}(m_0, \\Sigma_0)$ distribution by minimazing of KL divergense between them."
      ]
    },
    {
      "cell_type": "code",
      "execution_count": 26,
      "id": "8ed86803",
      "metadata": {
        "id": "8ed86803"
      },
      "outputs": [],
      "source": [
        "def kl_div(m0, S0, m1, S1):\n",
        "    \"\"\"\n",
        "    KL(P||Q)\n",
        "    Kullback-Liebler divergence from Gaussian pm,pv to Gaussian qm,qv.\n",
        "    Also computes KL divergence from a single Gaussian pm,pv to a set\n",
        "    of Gaussians qm,qv.\n",
        "    \n",
        "\n",
        "    From wikipedia\n",
        "    KL( (m0, S0) || (m1, S1))\n",
        "         = 0.5 * ( tr(S1^{-1} S0) + log |S1|/|S0| + \n",
        "                  (m1 - m0)^T S1^{-1} (m1 - m0) - N )\n",
        "    \"\"\"\n",
        "    N = m0.shape[0]\n",
        "    iS1 = np.linalg.inv(S1)\n",
        "    diff = m1 - m0\n",
        "\n",
        "    tr_term   = np.trace(iS1 @ S0)\n",
        "    det_term  = np.log(np.linalg.det(S1)/np.linalg.det(S0))\n",
        "    quad_term = diff.T @ np.linalg.inv(S1) @ diff\n",
        "    return 0.5 * (tr_term + det_term + quad_term - N) \n",
        "\n",
        "\n",
        "def der_kl_div_m1(m0, S0, m1, S1):\n",
        "    \"\"\"\n",
        "    d(KL((m0, S0)||(m1,S1)))/d(m1)\n",
        "    Derivative from Kullback-Liebler divergence from two Gaussians with respect to m1.\n",
        "\n",
        "    d(KL((m0, S0)||(m1,S1)))/d(m1) = \n",
        "         = 0.5 * (S1^{-1} + (S1^{-1}^T)*(m1-m0))\n",
        "    \"\"\"\n",
        "    iS1 = np.linalg.inv(S1)\n",
        "    diff = m1 - m0\n",
        "    return 0.5 * ((iS1+iS1.T) @ diff)\n",
        "\n",
        "def der_kl_div_S1(m0, m1, S0, S1):\n",
        "    \"\"\"\n",
        "    d(KL((m0, S0)||(m1,S1)))/d(m1)\n",
        "    Derivative from Kullback-Liebler divergence from two Gaussians with respect to S1.\n",
        "\n",
        "    d(KL((m0, S0)||(m1,S1)))/d(m1) = \n",
        "         = 0.5 * (-(S1^{-1} S0 S1^{-1})^T - (S1^{-1})^T (m1-m0) (m1-m0)^T (S1^{-1})^T + (S1^{-1})^T)\n",
        "    \"\"\"\n",
        "    iS1 = np.linalg.inv(S1)\n",
        "    diff = m1 - m0\n",
        "    term1 = -(iS1 @ S0 @ iS1).T\n",
        "    term2 = -iS1.T @ diff @ diff.T @ iS1.T\n",
        "    return 0.5 * ( term1 + term2 + iS1.T)\n",
        "\n",
        "\n",
        "def iterate(m0, m1, S0, S1, a = 1e-2, t = 1e-3):\n",
        "    \"\"\"\n",
        "    iteration step where m1 and S1 is changing to be closer to (m0, S0)\n",
        "    return: m1 and S1 from all iteration steps\n",
        "    \"\"\"\n",
        "    m, S = m1, S1\n",
        "    ms = []\n",
        "    Ss = []\n",
        "    while kl_div(m0, S0, m, S) > t:\n",
        "        #print(kl_div(m0, S0, m, S))\n",
        "        #print(m)\n",
        "        #print(S)\n",
        "        m = m - a * der_kl_div_m1(m0, S0, m, S)\n",
        "        S = S - a * der_kl_div_S1(m0, S0, m, S)\n",
        "        \n",
        "        ms.append(m)\n",
        "        Ss.append(S)\n",
        "    return ms, Ss "
      ]
    },
    {
      "cell_type": "markdown",
      "id": "27516d01",
      "metadata": {
        "id": "27516d01"
      },
      "source": [
        "### Visualization of example"
      ]
    },
    {
      "cell_type": "code",
      "execution_count": 27,
      "id": "abad5bee",
      "metadata": {
        "scrolled": false,
        "colab": {
          "base_uri": "https://localhost:8080/"
        },
        "id": "abad5bee",
        "outputId": "a1b6ba44-b220-4ff3-fa8b-b8dd724e1b14"
      },
      "outputs": [
        {
          "output_type": "stream",
          "name": "stdout",
          "text": [
            "(35719, 1000, 2) (35719, 1000, 2)\n"
          ]
        }
      ],
      "source": [
        "m0 = np.zeros(2)\n",
        "m1 = 10 * np.ones(2)\n",
        "\n",
        "S0 = np.eye(2)\n",
        "S1 = S0\n",
        "#print(kl_div(m0, S0, m1, S1), der_kl_div_m1(m0, S0, m1, S1), der_kl_div_S1(m0, S0, m1, S1))\n",
        "\n",
        "ms, Ss = iterate(m0, m1, S0, S1, a = 1e-3, t = 1e-3)\n",
        "qs = np.array([np.random.multivariate_normal(ms[step], Ss[step], 1000) for step in range(len(ms))])\n",
        "ps = np.array([np.random.multivariate_normal(m0, S0, 1000) for step in range(len(ms))])\n",
        "print(qs.shape, ps.shape)"
      ]
    },
    {
      "cell_type": "code",
      "execution_count": 28,
      "id": "8f3f6255",
      "metadata": {
        "id": "8f3f6255"
      },
      "outputs": [],
      "source": [
        "from ipywidgets import interact, interactive, fixed, interact_manual\n",
        "import ipywidgets as widgets\n",
        "from IPython.display import display\n",
        "\n",
        "def step_slice(lst, step):\n",
        "    return lst[step]\n",
        "\n",
        "def animate_list(lst, play=False, interval=200):\n",
        "    slider = widgets.IntSlider(min=0, max=len(lst) - 1, step=1, value=0)\n",
        "    if play:\n",
        "        play_widjet = widgets.Play(interval=interval)\n",
        "        widgets.jslink((play_widjet, 'value'), (slider, 'value'))\n",
        "        display(play_widjet)\n",
        "        #slider = widgets.Box([play_widject, slider])\n",
        "    return interact(step_slice,\n",
        "                    lst=fixed(lst),\n",
        "                    step=slider)"
      ]
    },
    {
      "cell_type": "code",
      "execution_count": 48,
      "id": "a59c09f6",
      "metadata": {
        "colab": {
          "base_uri": "https://localhost:8080/",
          "height": 620,
          "referenced_widgets": [
            "d6a989455269425599d2e8f545df4568",
            "b6fb44626ece45f1a9cdc3bac00bcd4b",
            "ea72c2a1eb354786a1d746f7b9628314",
            "aa1177986db3442094393532563e1b12",
            "13aad0afdb8d4c4287b93c91577d5080",
            "3f7441d204314e24b1be8ee42c8e444f",
            "c9ee6569379145cf8597252f747bbacc",
            "616f24ceb71441d1abdd4b7c53c33e2a",
            "d89b32fe52524a1099f19480a1080613",
            "274f7574e27a40ec954e232bcecc213a"
          ]
        },
        "id": "a59c09f6",
        "outputId": "99753c25-b1e5-4cc8-f36c-67b469a1d544"
      },
      "outputs": [
        {
          "output_type": "display_data",
          "data": {
            "text/plain": [
              "Play(value=0, interval=400)"
            ],
            "application/vnd.jupyter.widget-view+json": {
              "version_major": 2,
              "version_minor": 0,
              "model_id": "d6a989455269425599d2e8f545df4568"
            }
          },
          "metadata": {}
        },
        {
          "output_type": "display_data",
          "data": {
            "text/plain": [
              "interactive(children=(IntSlider(value=0, description='step', max=357), Output()), _dom_classes=('widget-intera…"
            ],
            "application/vnd.jupyter.widget-view+json": {
              "version_major": 2,
              "version_minor": 0,
              "model_id": "c9ee6569379145cf8597252f747bbacc"
            }
          },
          "metadata": {}
        }
      ],
      "source": [
        "%matplotlib inline\n",
        "\n",
        "def step_figure(Q, P, label=True):\n",
        "    fig = plt.figure(figsize=(7, 7))\n",
        "    ax = fig.add_axes([0, 0, 1, 1])\n",
        "    p = np.random.multivariate_normal(m0, S0, 1000)\n",
        "    ax.set_xlim([-4, 14])\n",
        "    ax.set_ylim([-4, 14])\n",
        "    ax.scatter(P[:, 0], P[:, 1])\n",
        "    ax.scatter(Q[:, 0], Q[:, 1])\n",
        "    plt.close(fig)\n",
        "    return fig\n",
        "\n",
        "steps = []   \n",
        "for i in range(len(ms)):\n",
        "    if i % 100 == 0:\n",
        "        q = qs[i]\n",
        "        p = ps[i]\n",
        "        steps.append(step_figure(q, p))\n",
        "animate_list(steps, play=True, interval=400);"
      ]
    },
    {
      "cell_type": "markdown",
      "id": "ee9d8997",
      "metadata": {
        "id": "ee9d8997"
      },
      "source": [
        "### Code for visualization of simplex\n",
        "taken from: https://blog.bogatron.net/blog/2014/02/02/visualizing-dirichlet-distributions/"
      ]
    },
    {
      "cell_type": "code",
      "execution_count": 6,
      "id": "bad7a28b",
      "metadata": {
        "id": "bad7a28b"
      },
      "outputs": [],
      "source": [
        "%matplotlib inline\n",
        "import numpy as np\n",
        "import matplotlib.pyplot as plt\n",
        "import matplotlib.tri as tri\n",
        "\n",
        "corners = np.array([[0, 0], [1, 0], [0.5, 0.75**0.5]])\n",
        "AREA = 0.5 * 1 * 0.75**0.5\n",
        "triangle = tri.Triangulation(corners[:, 0], corners[:, 1])\n",
        "refiner = tri.UniformTriRefiner(triangle)\n",
        "trimesh = refiner.refine_triangulation(subdiv=4)\n",
        "\n",
        "pairs = [corners[np.roll(range(3), -i)[1:]] for i in range(3)]\n",
        "tri_area = lambda xy, pair: 0.5 * np.linalg.norm(np.cross(*(pair - xy)))\n",
        "\n",
        "def xy2bc(xy, tol=1.e-4):\n",
        "    '''Converts 2D Cartesian coordinates to barycentric.'''\n",
        "    coords = np.array([tri_area(xy, p) for p in pairs]) / AREA\n",
        "    return np.clip(coords, tol, 1.0 - tol)\n",
        "    \n",
        "def draw_pdf_contours(dist, nlevels=200, subdiv=8, **kwargs):\n",
        "    import math\n",
        "\n",
        "    refiner = tri.UniformTriRefiner(triangle)\n",
        "    trimesh = refiner.refine_triangulation(subdiv=subdiv)\n",
        "    pvals = [dist.pdf(xy2bc(xy)) for xy in zip(trimesh.x, trimesh.y)]\n",
        "\n",
        "    plt.tricontourf(trimesh, pvals, nlevels, cmap='jet', **kwargs)\n",
        "    plt.axis('equal')\n",
        "    plt.xlim(0, 1)\n",
        "    plt.ylim(0, 0.75**0.5)\n",
        "    plt.axis('off')"
      ]
    },
    {
      "cell_type": "code",
      "execution_count": 51,
      "id": "a563de3b",
      "metadata": {
        "colab": {
          "base_uri": "https://localhost:8080/"
        },
        "id": "a563de3b",
        "outputId": "b1150d0e-8e38-4fff-e60a-f4331abd183d"
      },
      "outputs": [
        {
          "output_type": "execute_result",
          "data": {
            "text/plain": [
              "array([1.0001, 1.0001, 1.0001, ..., 1.    , 1.    , 1.    ])"
            ]
          },
          "metadata": {},
          "execution_count": 51
        }
      ],
      "source": [
        "pvals = np.array([xy2bc(xy) for xy in zip(trimesh.x, trimesh.y)])\n",
        "pvals.sum(axis = 1)"
      ]
    },
    {
      "cell_type": "markdown",
      "id": "520d0936",
      "metadata": {
        "id": "520d0936"
      },
      "source": [
        "## IGR "
      ]
    },
    {
      "cell_type": "markdown",
      "source": [
        "### Reminder\n",
        "The IGR distribution on $\\mathcal{S}^{(K-1)}$, which is parameterized by $(\\mu, \\sigma)$, where $\\mu \\in \\mathbb{R}^{K-1}$ and\n",
        " $\\sigma \\in (0, \\infty)^{K-1}$. Gaussian noise $\\epsilon = (\\epsilon_1,\\dots, \\epsilon_{K-1}) \\sim\n",
        " \\mathcal{N}(0, I_{K-1})$ is transformed in the following way:\n",
        "\n",
        " \\begin{align}\n",
        " y & = \\mu + \\text{diag}(\\sigma) \\epsilon \\\\ \\tilde{z} & = g(y, \\tau)\n",
        " \\end{align}\n",
        "\n",
        " where $\\text{diag}(\\sigma)$ is a diagonal matrix whose nonzero elements are given by $\\sigma$,\n",
        " $g(\\cdot, \\tau)$ is an invertible smooth function and $\\tau > 0$ is a temperature hyperparameter.\n",
        " Note that IGR is not only more natural than the GS, but is is also more flexible, having\n",
        " $2K-2$ parameters instead of $K$. The first advantage of choosing $g$ to be an invertible function\n",
        " is that the density of $\\tilde{z}$ can be computed in closed form with the change of variable\n",
        " formula:\n",
        "\n",
        " \\begin{equation}\n",
        " \\tilde{q}_{\\mu, \\sigma, \\tau}(\\tilde{z}) = \\mathcal{N}(y|\\mu, \\sigma)|\\det J_{g}(y,\n",
        " \\tau)|^{-1}\n",
        " \\end{equation}\n",
        "\n",
        " where $J_{g}(\\cdot, \\tau)$ is the Jacobian of $g(\\cdot, \\tau)$. The second advantage of this choice\n",
        " is that it allows us to compute the $\\mathbb{KL}$ in closed form (as the Jacobian terms cancel out\n",
        " in the ratio):\n",
        "\\begin{equation}\n",
        "  \\mathbb{KL}\\left(\\tilde{q}_{\\mu, \\sigma, \\tau}(\\tilde{z})||\\tilde{q}_{\\mu_0, \\sigma_0, \\tau}(\\tilde{z})\\right)\n",
        "  =\n",
        "  \\mathbb{KL}\\left(\\mathcal{N}(\\mu, \\sigma^2)||\\mathcal{N}(\\mu_0, \\sigma^2_0)\\right)\n",
        "\\end{equation}\n",
        "\n",
        "In our case  $g(y, \\tau)_k = \\frac{\\exp(y_k / \\tau)} {\\sum_{j=1}^{K-1} \\exp(y_j / \\tau)) + \\delta}$ is $\\text{softmax}_{++}$.\n",
        "\n",
        "\n",
        "### New part\n",
        "\n",
        "So we need to calculate $\\tilde{q}_{\\mu, \\sigma, \\tau}(\\tilde{z}) = \\mathcal{N}(y|\\mu, \\sigma)|\\det J_{g}(y,\\tau)|^{-1}$. \n",
        "We can't find $y = y(z)$ analiticaly. Because of that I will sample many points $y \\sim \\mathcal{N(\\mu, \\sigma)}$ after that compute $z = \\text{softmax}_{++}(y)$ and find distribution of z via histagrams. Also we need to find the closest $z$ from our distribution by given $z$ to compute $|\\det J_{g}(y,\\tau)|^{-1}$."
      ],
      "metadata": {
        "id": "41bzrT9-lGDt"
      },
      "id": "41bzrT9-lGDt"
    },
    {
      "cell_type": "code",
      "execution_count": 8,
      "id": "5d7475b1",
      "metadata": {
        "id": "5d7475b1"
      },
      "outputs": [],
      "source": [
        "def softmax(y, t):\n",
        "    \"\"\"Compute softmax values for each sets of scores in x.\n",
        "    t - temperature\"\"\"\n",
        "    e = 1e-10\n",
        "    return np.exp(y/t) / np.sum(np.exp(y/t), axis=0) + e\n",
        "\n",
        "def J_softmax(y, t):\n",
        "    g = softmax(y, t)\n",
        "    return 1/t * (np.diag(g) - np.expand_dims(g, 0).T @ np.expand_dims(g, 0))\n",
        "\n",
        "def det_J_softmax(y, t):\n",
        "    g = softmax(y, t)\n",
        "    return 1/(t**(len(g))) * (1-np.sum(g)) * np.prod(g)"
      ]
    },
    {
      "cell_type": "code",
      "source": [
        "class IGR(object):\n",
        "    def __init__(self, mu = np.zeros(3), sigma = np.eye(3), tau = 1):\n",
        "        self.mu = mu\n",
        "        self.sigma = sigma\n",
        "        self.tau = tau\n",
        "        self.y = np.random.multivariate_normal(self.mu, self.sigma, 10000000)\n",
        "        self.z = softmax(self.y, self.tau)\n",
        "        hist = np.histogramdd(self.z, bins=500)\n",
        "        self.H = hist[0]\n",
        "        self.edges = np.array(hist[1])\n",
        "\n",
        "    def pdf(self, z0):\n",
        "        h = []\n",
        "        for cord in range(len(z0)):\n",
        "            if z0[cord] < self.edges[cord][0]:\n",
        "                return 0\n",
        "            k = np.where(self.edges[cord] <= z0[cord])[0][-1]\n",
        "            if k >= len(self.H):\n",
        "                return 0\n",
        "            h.append(k)\n",
        "\n",
        "        res = self.H\n",
        "        for i in range(len(h)):\n",
        "            res = res[h[i]]\n",
        "        closest_y = self.y[np.argmin(np.sum((igr.z - z0) **2, axis = 1))]\n",
        "\n",
        "        return res / np.sum(self.H) / det_J_softmax(closest_y, self.tau)\n"
      ],
      "metadata": {
        "id": "4CUKyJtnwfsj"
      },
      "id": "4CUKyJtnwfsj",
      "execution_count": 56,
      "outputs": []
    },
    {
      "cell_type": "code",
      "source": [
        "draw_pdf_contours(IGR())"
      ],
      "metadata": {
        "colab": {
          "base_uri": "https://localhost:8080/",
          "height": 248
        },
        "id": "W1Zw1lwJarHs",
        "outputId": "709f4677-e365-4c3a-d1a1-d8ad2b7aad5f"
      },
      "id": "W1Zw1lwJarHs",
      "execution_count": 57,
      "outputs": [
        {
          "output_type": "display_data",
          "data": {
            "text/plain": [
              "<Figure size 432x288 with 1 Axes>"
            ],
            "image/png": "[encoded data removed]"
          },
          "metadata": {
            "needs_background": "light"
          }
        }
      ]
    },
    {
      "cell_type": "code",
      "source": [
        "draw_pdf_contours(IGR(mu = np.array([1,0,0])))"
      ],
      "metadata": {
        "colab": {
          "base_uri": "https://localhost:8080/",
          "height": 248
        },
        "id": "AB8_W-IccPqe",
        "outputId": "2483005c-3531-4400-daab-33c90436d39f"
      },
      "id": "AB8_W-IccPqe",
      "execution_count": 58,
      "outputs": [
        {
          "output_type": "display_data",
          "data": {
            "text/plain": [
              "<Figure size 432x288 with 1 Axes>"
            ],
            "image/png": "[encoded data removed]"
          },
          "metadata": {
            "needs_background": "light"
          }
        }
      ]
    },
    {
      "cell_type": "code",
      "source": [
        "draw_pdf_contours(IGR(mu = np.array([1,0,0]), sigma = np.array([[10,0,0], \n",
        "                                                                [0,5,0], \n",
        "                                                                [0,0,0.5]])))"
      ],
      "metadata": {
        "colab": {
          "base_uri": "https://localhost:8080/",
          "height": 248
        },
        "id": "WCLQ3IBhwtnb",
        "outputId": "820bf65f-a727-4694-f59a-1a927b37e953"
      },
      "id": "WCLQ3IBhwtnb",
      "execution_count": 60,
      "outputs": [
        {
          "output_type": "display_data",
          "data": {
            "text/plain": [
              "<Figure size 432x288 with 1 Axes>"
            ],
            "image/png": "[encoded data removed]"
          },
          "metadata": {
            "needs_background": "light"
          }
        }
      ]
    }
  ],
  "metadata": {
    "kernelspec": {
      "display_name": "Python 3 (ipykernel)",
      "language": "python",
      "name": "python3"
    },
    "language_info": {
      "codemirror_mode": {
        "name": "ipython",
        "version": 3
      },
      "file_extension": ".py",
      "mimetype": "text/x-python",
      "name": "python",
      "nbconvert_exporter": "python",
      "pygments_lexer": "ipython3",
      "version": "3.8.6"
    },
    "colab": {
      "provenance": []
    },
    "widgets": {
      "application/vnd.jupyter.widget-state+json": {
        "d6a989455269425599d2e8f545df4568": {
          "model_module": "@jupyter-widgets/controls",
          "model_name": "PlayModel",
          "model_module_version": "1.5.0",
          "state": {
            "_dom_classes": [],
            "_model_module": "@jupyter-widgets/controls",
            "_model_module_version": "1.5.0",
            "_model_name": "PlayModel",
            "_playing": false,
            "_repeat": false,
            "_view_count": null,
            "_view_module": "@jupyter-widgets/controls",
            "_view_module_version": "1.5.0",
            "_view_name": "PlayView",
            "description": "",
            "description_tooltip": null,
            "disabled": false,
            "interval": 400,
            "layout": "IPY_MODEL_ea72c2a1eb354786a1d746f7b9628314",
            "max": 100,
            "min": 0,
            "show_repeat": true,
            "step": 1,
            "style": "IPY_MODEL_aa1177986db3442094393532563e1b12",
            "value": 100
          }
        },
        "b6fb44626ece45f1a9cdc3bac00bcd4b": {
          "model_module": "@jupyter-widgets/controls",
          "model_name": "IntSliderModel",
          "model_module_version": "1.5.0",
          "state": {
            "_dom_classes": [],
            "_model_module": "@jupyter-widgets/controls",
            "_model_module_version": "1.5.0",
            "_model_name": "IntSliderModel",
            "_view_count": null,
            "_view_module": "@jupyter-widgets/controls",
            "_view_module_version": "1.5.0",
            "_view_name": "IntSliderView",
            "continuous_update": true,
            "description": "step",
            "description_tooltip": null,
            "disabled": false,
            "layout": "IPY_MODEL_13aad0afdb8d4c4287b93c91577d5080",
            "max": 357,
            "min": 0,
            "orientation": "horizontal",
            "readout": true,
            "readout_format": "d",
            "step": 1,
            "style": "IPY_MODEL_3f7441d204314e24b1be8ee42c8e444f",
            "value": 100
          }
        },
        "ea72c2a1eb354786a1d746f7b9628314": {
          "model_module": "@jupyter-widgets/base",
          "model_name": "LayoutModel",
          "model_module_version": "1.2.0",
          "state": {
            "_model_module": "@jupyter-widgets/base",
            "_model_module_version": "1.2.0",
            "_model_name": "LayoutModel",
            "_view_count": null,
            "_view_module": "@jupyter-widgets/base",
            "_view_module_version": "1.2.0",
            "_view_name": "LayoutView",
            "align_content": null,
            "align_items": null,
            "align_self": null,
            "border": null,
            "bottom": null,
            "display": null,
            "flex": null,
            "flex_flow": null,
            "grid_area": null,
            "grid_auto_columns": null,
            "grid_auto_flow": null,
            "grid_auto_rows": null,
            "grid_column": null,
            "grid_gap": null,
            "grid_row": null,
            "grid_template_areas": null,
            "grid_template_columns": null,
            "grid_template_rows": null,
            "height": null,
            "justify_content": null,
            "justify_items": null,
            "left": null,
            "margin": null,
            "max_height": null,
            "max_width": null,
            "min_height": null,
            "min_width": null,
            "object_fit": null,
            "object_position": null,
            "order": null,
            "overflow": null,
            "overflow_x": null,
            "overflow_y": null,
            "padding": null,
            "right": null,
            "top": null,
            "visibility": null,
            "width": null
          }
        },
        "aa1177986db3442094393532563e1b12": {
          "model_module": "@jupyter-widgets/controls",
          "model_name": "DescriptionStyleModel",
          "model_module_version": "1.5.0",
          "state": {
            "_model_module": "@jupyter-widgets/controls",
            "_model_module_version": "1.5.0",
            "_model_name": "DescriptionStyleModel",
            "_view_count": null,
            "_view_module": "@jupyter-widgets/base",
            "_view_module_version": "1.2.0",
            "_view_name": "StyleView",
            "description_width": ""
          }
        },
        "13aad0afdb8d4c4287b93c91577d5080": {
          "model_module": "@jupyter-widgets/base",
          "model_name": "LayoutModel",
          "model_module_version": "1.2.0",
          "state": {
            "_model_module": "@jupyter-widgets/base",
            "_model_module_version": "1.2.0",
            "_model_name": "LayoutModel",
            "_view_count": null,
            "_view_module": "@jupyter-widgets/base",
            "_view_module_version": "1.2.0",
            "_view_name": "LayoutView",
            "align_content": null,
            "align_items": null,
            "align_self": null,
            "border": null,
            "bottom": null,
            "display": null,
            "flex": null,
            "flex_flow": null,
            "grid_area": null,
            "grid_auto_columns": null,
            "grid_auto_flow": null,
            "grid_auto_rows": null,
            "grid_column": null,
            "grid_gap": null,
            "grid_row": null,
            "grid_template_areas": null,
            "grid_template_columns": null,
            "grid_template_rows": null,
            "height": null,
            "justify_content": null,
            "justify_items": null,
            "left": null,
            "margin": null,
            "max_height": null,
            "max_width": null,
            "min_height": null,
            "min_width": null,
            "object_fit": null,
            "object_position": null,
            "order": null,
            "overflow": null,
            "overflow_x": null,
            "overflow_y": null,
            "padding": null,
            "right": null,
            "top": null,
            "visibility": null,
            "width": null
          }
        },
        "3f7441d204314e24b1be8ee42c8e444f": {
          "model_module": "@jupyter-widgets/controls",
          "model_name": "SliderStyleModel",
          "model_module_version": "1.5.0",
          "state": {
            "_model_module": "@jupyter-widgets/controls",
            "_model_module_version": "1.5.0",
            "_model_name": "SliderStyleModel",
            "_view_count": null,
            "_view_module": "@jupyter-widgets/base",
            "_view_module_version": "1.2.0",
            "_view_name": "StyleView",
            "description_width": "",
            "handle_color": null
          }
        },
        "c9ee6569379145cf8597252f747bbacc": {
          "model_module": "@jupyter-widgets/controls",
          "model_name": "VBoxModel",
          "model_module_version": "1.5.0",
          "state": {
            "_dom_classes": [
              "widget-interact"
            ],
            "_model_module": "@jupyter-widgets/controls",
            "_model_module_version": "1.5.0",
            "_model_name": "VBoxModel",
            "_view_count": null,
            "_view_module": "@jupyter-widgets/controls",
            "_view_module_version": "1.5.0",
            "_view_name": "VBoxView",
            "box_style": "",
            "children": [
              "IPY_MODEL_b6fb44626ece45f1a9cdc3bac00bcd4b",
              "IPY_MODEL_616f24ceb71441d1abdd4b7c53c33e2a"
            ],
            "layout": "IPY_MODEL_d89b32fe52524a1099f19480a1080613"
          }
        },
        "616f24ceb71441d1abdd4b7c53c33e2a": {
          "model_module": "@jupyter-widgets/output",
          "model_name": "OutputModel",
          "model_module_version": "1.0.0",
          "state": {
            "_dom_classes": [],
            "_model_module": "@jupyter-widgets/output",
            "_model_module_version": "1.0.0",
            "_model_name": "OutputModel",
            "_view_count": null,
            "_view_module": "@jupyter-widgets/output",
            "_view_module_version": "1.0.0",
            "_view_name": "OutputView",
            "layout": "IPY_MODEL_274f7574e27a40ec954e232bcecc213a",
            "msg_id": "",
            "outputs": [
              {
                "output_type": "display_data",
                "data": {
                  "text/plain": "<Figure size 504x504 with 1 Axes>",
                  "image/png": "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\n"
                },
                "metadata": {}
              }
            ]
          }
        },
        "d89b32fe52524a1099f19480a1080613": {
          "model_module": "@jupyter-widgets/base",
          "model_name": "LayoutModel",
          "model_module_version": "1.2.0",
          "state": {
            "_model_module": "@jupyter-widgets/base",
            "_model_module_version": "1.2.0",
            "_model_name": "LayoutModel",
            "_view_count": null,
            "_view_module": "@jupyter-widgets/base",
            "_view_module_version": "1.2.0",
            "_view_name": "LayoutView",
            "align_content": null,
            "align_items": null,
            "align_self": null,
            "border": null,
            "bottom": null,
            "display": null,
            "flex": null,
            "flex_flow": null,
            "grid_area": null,
            "grid_auto_columns": null,
            "grid_auto_flow": null,
            "grid_auto_rows": null,
            "grid_column": null,
            "grid_gap": null,
            "grid_row": null,
            "grid_template_areas": null,
            "grid_template_columns": null,
            "grid_template_rows": null,
            "height": null,
            "justify_content": null,
            "justify_items": null,
            "left": null,
            "margin": null,
            "max_height": null,
            "max_width": null,
            "min_height": null,
            "min_width": null,
            "object_fit": null,
            "object_position": null,
            "order": null,
            "overflow": null,
            "overflow_x": null,
            "overflow_y": null,
            "padding": null,
            "right": null,
            "top": null,
            "visibility": null,
            "width": null
          }
        },
        "274f7574e27a40ec954e232bcecc213a": {
          "model_module": "@jupyter-widgets/base",
          "model_name": "LayoutModel",
          "model_module_version": "1.2.0",
          "state": {
            "_model_module": "@jupyter-widgets/base",
            "_model_module_version": "1.2.0",
            "_model_name": "LayoutModel",
            "_view_count": null,
            "_view_module": "@jupyter-widgets/base",
            "_view_module_version": "1.2.0",
            "_view_name": "LayoutView",
            "align_content": null,
            "align_items": null,
            "align_self": null,
            "border": null,
            "bottom": null,
            "display": null,
            "flex": null,
            "flex_flow": null,
            "grid_area": null,
            "grid_auto_columns": null,
            "grid_auto_flow": null,
            "grid_auto_rows": null,
            "grid_column": null,
            "grid_gap": null,
            "grid_row": null,
            "grid_template_areas": null,
            "grid_template_columns": null,
            "grid_template_rows": null,
            "height": null,
            "justify_content": null,
            "justify_items": null,
            "left": null,
            "margin": null,
            "max_height": null,
            "max_width": null,
            "min_height": null,
            "min_width": null,
            "object_fit": null,
            "object_position": null,
            "order": null,
            "overflow": null,
            "overflow_x": null,
            "overflow_y": null,
            "padding": null,
            "right": null,
            "top": null,
            "visibility": null,
            "width": null
          }
        }
      }
    }
  },
  "nbformat": 4,
  "nbformat_minor": 5
}