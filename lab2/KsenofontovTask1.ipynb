{
  "cells": [
    {
      "cell_type": "markdown",
      "source": [
        "# Lab 2\n",
        "Reporter: Ksenofontov Grigorii"
      ],
      "metadata": {
        "id": "C_ui6hpsAvXH"
      }
    },
    {
      "cell_type": "markdown",
      "source": [
        "Task: Visualize posterior covariance matrix for each extremum of mult-extremal classification model. Model: 1-layer neural network. Dataset: on your choice (synthetic dataset is allowed). Use normal distribution with diagonal covariance prior. For posterior distribution use Laplace approximation."
      ],
      "metadata": {
        "id": "W1FjJtTSA3KW"
      }
    },
    {
      "cell_type": "markdown",
      "source": [
        "## Theory"
      ],
      "metadata": {
        "id": "CPTuWmoIA6zo"
      }
    },
    {
      "cell_type": "markdown",
      "source": [
        "We know likelihood of MLP and prior, so we can calculate posterior:<br>\n",
        "$p(y, \\omega|X, A) = p(y| \\omega, X)p(\\omega|A) = \\prod_{j=1}^{n} \\sigma(y_{j}w^{T} x_{j})$ $\\mathcal{N} (0,A^{-1})$, where $A = diag(\\alpha)$, $n$ - number of feauters <br>"
      ],
      "metadata": {
        "id": "keysF50WBcK3"
      }
    },
    {
      "cell_type": "markdown",
      "source": [
        "To evaluate covariance matrix we maximize evidace using Laplace approximation: <br>\n",
        "$A^{*} = \\arg \\max_{A} \\int p(y|X,\\omega) p(\\omega|A) d\\omega$ <br>\n",
        "Let $S(\\omega) = p(y|X,\\omega) p(\\omega|A)$, so, <br> $\\log S(\\omega) = \\sum_{j=1}^{n} \\log\\sigma(y_{j}w^{T} x_{j}) + \\log\\mathcal{N} (0,A^{-1})$ <br> Then using using Laplace approximation for linear model case:<br>\n",
        "$ \\log S(\\omega) \\sim \\log S(\\omega^{MAP}) + \\frac{n}{2}\\log(2\\pi) + \\frac{1}{2}\\log\\mathbf{\\det H^{-1}}$, where $\\mathbf{H} = \\nabla \\nabla \\log S(\\omega^{MAP}) $ <br><br>\n",
        "Fianlly, we can estimate $A^*$: <br>\n",
        "$A^{*} = \\arg \\max_{A} \\left( \\log S(\\omega^{MAP}) + \\frac{n}{2}\\log(2\\pi) + \\frac{1}{2}\\log\\mathbf{\\det H^{-1}} \\right)$ <br><br>\n",
        "\n",
        "To find $\\omega^{MAP}$ we need to minimize $S(\\omega)$:<br>\n",
        "$\\omega^{MAP} = \\arg \\min_{\\omega} \\log S(\\omega)$"
      ],
      "metadata": {
        "id": "63aH-o88C1GQ"
      }
    },
    {
      "cell_type": "code",
      "execution_count": null,
      "metadata": {
        "id": "KuogAXJz12EV"
      },
      "outputs": [],
      "source": [
        "import numpy as np\n",
        "\n",
        "from sklearn.datasets import load_digits\n",
        "from sklearn.model_selection import train_test_split\n",
        "\n",
        "import jax.numpy as jnp\n",
        "from jax import nn, random, grad, hessian\n",
        "from jax.scipy import stats as sp\n",
        "from jax.scipy import linalg\n",
        "\n",
        "import matplotlib.pyplot as plt\n",
        "from tqdm import tqdm"
      ]
    },
    {
      "cell_type": "markdown",
      "metadata": {
        "id": "-AYMf9xZ19Dd"
      },
      "source": [
        "### Dataset\n"
      ]
    },
    {
      "cell_type": "code",
      "execution_count": null,
      "metadata": {
        "colab": {
          "base_uri": "https://localhost:8080/"
        },
        "id": "GA2aBkUE14fv",
        "outputId": "18bd2484-79dd-46b6-c4ab-f9595f4b6f21"
      },
      "outputs": [
        {
          "output_type": "stream",
          "name": "stderr",
          "text": [
            "WARNING:absl:No GPU/TPU found, falling back to CPU. (Set TF_CPP_MIN_LOG_LEVEL=0 and rerun for more info.)\n"
          ]
        },
        {
          "output_type": "execute_result",
          "data": {
            "text/plain": [
              "((1437, 65), (360, 65), (1437,), (360,))"
            ]
          },
          "metadata": {},
          "execution_count": 2
        }
      ],
      "source": [
        "X, Y = load_digits(return_X_y=True)\n",
        "X = np.append(X, np.ones((X.shape[0], 1)), axis=1)\n",
        "\n",
        "X_train, X_test, Y_train, Y_test = train_test_split(X, Y, train_size=0.8, random_state=42)\n",
        "\n",
        "X_train, X_test, Y_train, Y_test = jnp.array(X_train, dtype=jnp.float32),\\\n",
        "                                   jnp.array(X_test, dtype=jnp.float32),\\\n",
        "                                   jnp.array(Y_train, dtype=jnp.float32),\\\n",
        "                                   jnp.array(Y_test, dtype=jnp.float32),\\\n",
        "\n",
        "samples, features = X_train.shape\n",
        "\n",
        "X_train.shape, X_test.shape, Y_train.shape, Y_test.shape"
      ]
    },
    {
      "cell_type": "code",
      "execution_count": null,
      "metadata": {
        "colab": {
          "base_uri": "https://localhost:8080/"
        },
        "id": "DF7s19Zp4ZMu",
        "outputId": "07d78bce-3be1-42cb-aade-466f296fceb4"
      },
      "outputs": [
        {
          "output_type": "execute_result",
          "data": {
            "text/plain": [
              "(1437, 65)"
            ]
          },
          "metadata": {},
          "execution_count": 3
        }
      ],
      "source": [
        "samples, features"
      ]
    },
    {
      "cell_type": "code",
      "execution_count": null,
      "metadata": {
        "id": "WocTR29i4WTr"
      },
      "outputs": [],
      "source": [
        "mean = X_train.mean(axis=0)\n",
        "std = X_train.std(axis=0)\n",
        "X_train = (X_train - mean) / std\n",
        "X_test = (X_test - mean) / std\n",
        "X_train = jnp.nan_to_num(X_train, 0.)\n",
        "X_test = jnp.nan_to_num(X_test, 0.)"
      ]
    },
    {
      "cell_type": "markdown",
      "metadata": {
        "id": "-CvmDf4q1-oD"
      },
      "source": [
        "### $\\omega^{MAP}$ evaluation\n"
      ]
    },
    {
      "cell_type": "code",
      "execution_count": null,
      "metadata": {
        "colab": {
          "base_uri": "https://localhost:8080/"
        },
        "id": "wfXvkkvA1_Lv",
        "outputId": "bf73120c-acae-4612-c300-ff36e09e80fe"
      },
      "outputs": [
        {
          "output_type": "execute_result",
          "data": {
            "text/plain": [
              "(1, 65)"
            ]
          },
          "metadata": {},
          "execution_count": 5
        }
      ],
      "source": [
        "def initialize_weights(layer_size, seed, alphas=jnp.array([1] * (features))):\n",
        "    A = jnp.diag(alphas)\n",
        "    invA = jnp.linalg.inv(A)\n",
        "    weights = random.multivariate_normal(key=seed, mean=jnp.zeros(features), cov=invA, shape=(layer_size,), dtype=jnp.float32)\n",
        "    return weights\n",
        "\n",
        "\n",
        "######## TEST ########\n",
        "\n",
        "test_weights = initialize_weights(1, random.PRNGKey(42))\n",
        "test_weights.shape"
      ]
    },
    {
      "cell_type": "code",
      "execution_count": null,
      "metadata": {
        "id": "3Ufe1FVv6Kv_"
      },
      "outputs": [],
      "source": [
        "def linear_layer(weights, x, activation=lambda x: x):\n",
        "    out = jnp.dot(x, weights.T)\n",
        "    return activation(out)\n",
        "\n",
        "def log_probs(weights, alphas=jnp.array([1] * (features))):\n",
        "    invA = jnp.linalg.inv(jnp.diag(alphas))\n",
        "    log_prob = sp.multivariate_normal.logpdf(weights.squeeze(), jnp.zeros(features),  invA)\n",
        "    return log_prob\n",
        "    \n",
        "\n",
        "def criterion(weights, x, y):\n",
        "    preds = linear_layer(weights, x, nn.sigmoid).squeeze()\n",
        "    log_preds = jnp.log(jnp.where(preds > 0., preds, 1.))\n",
        "    return - jnp.sum(y * log_preds) + log_probs(weights)\n",
        "\n",
        "def calculate_grad(weights, x, y):\n",
        "    grad_loss = grad(criterion)\n",
        "    grads = grad_loss(weights, x, y)\n",
        "    return grads\n",
        "\n",
        "def train(weights, X, Y, learning_rate, epochs, verbose=True):\n",
        "    losses = []\n",
        "    for i in range(1, epochs + 1):\n",
        "        loss = criterion(weights, X, Y)\n",
        "        grads = calculate_grad(weights, X, Y)\n",
        "        # Update weights\n",
        "        weights -= learning_rate * grads\n",
        "        losses.append(loss)\n",
        "\n",
        "        if verbose and i % 20 == 0: ## Print loss every 20 epochs\n",
        "          print(f\"epoch: {i}, loss: {loss:.8f}\")\n",
        "    return weights, losses"
      ]
    },
    {
      "cell_type": "code",
      "execution_count": null,
      "metadata": {
        "colab": {
          "base_uri": "https://localhost:8080/",
          "height": 356
        },
        "id": "tJfjubR_f2xx",
        "outputId": "4c8c85a7-4af8-499e-b213-2b61d4df4e93"
      },
      "outputs": [
        {
          "output_type": "stream",
          "name": "stdout",
          "text": [
            "epoch: 20, loss: 4241.05908203\n",
            "epoch: 40, loss: 3474.59008789\n",
            "epoch: 60, loss: 3281.36523438\n",
            "epoch: 80, loss: 3219.92138672\n",
            "epoch: 100, loss: 3195.87866211\n"
          ]
        },
        {
          "output_type": "display_data",
          "data": {
            "text/plain": [
              "<Figure size 432x288 with 1 Axes>"
            ],
            "image/png": "[encoded data removed]"
          },
          "metadata": {
            "needs_background": "light"
          }
        }
      ],
      "source": [
        "seed = random.PRNGKey(42)\n",
        "learning_rate = jnp.array(2e-4)\n",
        "epochs = 100\n",
        "layer_size = 1\n",
        "\n",
        "weights = initialize_weights(layer_size, seed)\n",
        "weights_map, losses = train(weights, X_train, Y_train, learning_rate, epochs)\n",
        "plt.grid()\n",
        "plt.plot(losses[1:])\n",
        "plt.show()"
      ]
    },
    {
      "cell_type": "markdown",
      "metadata": {
        "id": "CxDs37M9pTKx"
      },
      "source": [
        "### Laplace approximation of $A$"
      ]
    },
    {
      "cell_type": "code",
      "execution_count": null,
      "metadata": {
        "id": "QHjMGS12TWUW"
      },
      "outputs": [],
      "source": [
        "def criterion_laplace(alphas, x, y):\n",
        "    preds = linear_layer(weights_map, x, nn.sigmoid).squeeze()\n",
        "    log_preds = jnp.log(jnp.where(preds > 0., preds, 1.))\n",
        "    error_func = lambda weights: - jnp.sum(y * jnp.log(linear_layer(weights, x, nn.sigmoid).squeeze())) + log_probs(weights, alphas)\n",
        "    hessian_computed = hessian(error_func)(weights_map).squeeze()\n",
        "    return - jnp.sum(y * log_preds) + log_probs(weights_map, alphas) + features/2 * jnp.log(jnp.pi) + 0.5 * jnp.linalg.det(jnp.linalg.inv(hessian_computed))\n",
        "\n",
        "def calculate_grad_laplace(alphas, x, y):\n",
        "    grad_loss = grad(criterion_laplace)\n",
        "    grads = grad_loss(alphas, x, y)\n",
        "    return grads\n",
        "\n",
        "def train_laplace(alphas, X, Y, learning_rate, epochs, verbose=True):\n",
        "    losses = []\n",
        "    for i in range(1, epochs + 1):\n",
        "        loss = criterion_laplace(alphas, X, Y)\n",
        "        grads = calculate_grad_laplace(alphas, X, Y)\n",
        "        # Update weights\n",
        "        alphas += learning_rate * grads.squeeze()\n",
        "        losses.append(loss)\n",
        "\n",
        "        if verbose and i % 20 == 0: ## Print loss every 20 epochs\n",
        "          print(f\"epoch: {i}, loss: {loss:.8f}\")\n",
        "    return alphas.squeeze(), losses\n"
      ]
    },
    {
      "cell_type": "code",
      "source": [
        "learning_rate = jnp.array(5e-1)\n",
        "epochs = 100\n",
        "layer_size = 1\n",
        "\n",
        "alphas = jnp.ones(features)\n",
        "alphas_opt, losses = train_laplace(alphas, X_train, Y_train, learning_rate, epochs)\n",
        "\n",
        "plt.grid()\n",
        "plt.plot(losses)\n",
        "plt.show()"
      ],
      "metadata": {
        "id": "toC09l5U51Pq",
        "colab": {
          "base_uri": "https://localhost:8080/",
          "height": 356
        },
        "outputId": "e5dc4e4e-52c4-4b74-ea74-5c7553a432c1"
      },
      "execution_count": null,
      "outputs": [
        {
          "output_type": "stream",
          "name": "stdout",
          "text": [
            "epoch: 20, loss: 3323.20214844\n",
            "epoch: 40, loss: 3330.57519531\n",
            "epoch: 60, loss: 3334.67724609\n",
            "epoch: 80, loss: 3337.47045898\n",
            "epoch: 100, loss: 3339.56372070\n"
          ]
        },
        {
          "output_type": "display_data",
          "data": {
            "text/plain": [
              "<Figure size 432x288 with 1 Axes>"
            ],
            "image/png": "[encoded data removed]"
          },
          "metadata": {
            "needs_background": "light"
          }
        }
      ]
    },
    {
      "cell_type": "code",
      "execution_count": null,
      "metadata": {
        "id": "yiEfP4PDtvU6",
        "colab": {
          "base_uri": "https://localhost:8080/",
          "height": 505
        },
        "outputId": "415b25d6-adee-44fa-82ce-a80e58439a7e"
      },
      "outputs": [
        {
          "output_type": "execute_result",
          "data": {
            "text/plain": [
              "DeviceArray([[5.6656137, 0.       , 0.       , ..., 0.       , 0.       ,\n",
              "              0.       ],\n",
              "             [0.       , 6.3512993, 0.       , ..., 0.       , 0.       ,\n",
              "              0.       ],\n",
              "             [0.       , 0.       , 5.9616876, ..., 0.       , 0.       ,\n",
              "              0.       ],\n",
              "             ...,\n",
              "             [0.       , 0.       , 0.       , ..., 7.176712 , 0.       ,\n",
              "              0.       ],\n",
              "             [0.       , 0.       , 0.       , ..., 0.       , 3.9963732,\n",
              "              0.       ],\n",
              "             [0.       , 0.       , 0.       , ..., 0.       , 0.       ,\n",
              "              6.9613967]], dtype=float32)"
            ]
          },
          "metadata": {},
          "execution_count": 53
        },
        {
          "output_type": "display_data",
          "data": {
            "text/plain": [
              "<Figure size 432x288 with 2 Axes>"
            ],
            "image/png": "[encoded data removed]"
          },
          "metadata": {
            "needs_background": "light"
          }
        }
      ],
      "source": [
        "plt.imshow(jnp.diag(alphas_opt))\n",
        "plt.colorbar()\n",
        "jnp.diag(alphas_opt)"
      ]
    },
    {
      "cell_type": "markdown",
      "source": [
        "### Covariance matrixes for several extremes"
      ],
      "metadata": {
        "id": "qHcD5ZvVALtR"
      }
    },
    {
      "cell_type": "code",
      "source": [
        "fig, axs = plt.subplots(nrows=2, ncols=5, figsize=(25, 25))\n",
        "epochs = 100\n",
        "layer_size = 1\n",
        "\n",
        "for seed_id, ax in tqdm(zip(range(10), axs.ravel())):\n",
        "    seed = random.PRNGKey(seed_id)\n",
        "\n",
        "    weights = initialize_weights(layer_size, seed)\n",
        "    alphas = jnp.ones(features)\n",
        "\n",
        "    learning_rate = jnp.array(2e-4)\n",
        "    weights_map, losses = train(weights, X_train, Y_train, learning_rate, epochs, verbose=False)\n",
        "    learning_rate = jnp.array(1e-1)\n",
        "    alphas_opt, losses = train_laplace(alphas, X_train, Y_train, learning_rate, epochs, verbose=False)\n",
        "\n",
        "    ax.set_title(f'seed: {seed_id}')\n",
        "    ax.imshow(jnp.diag(alphas_opt))\n",
        "    ax.axis('off')"
      ],
      "metadata": {
        "id": "eEtVuTHa1RhF",
        "colab": {
          "base_uri": "https://localhost:8080/",
          "height": 1000
        },
        "outputId": "f09c992c-9b4c-4e30-bf55-efdcce24b5e0"
      },
      "execution_count": 57,
      "outputs": [
        {
          "output_type": "stream",
          "name": "stderr",
          "text": [
            "10it [05:15, 31.51s/it]\n"
          ]
        },
        {
          "output_type": "display_data",
          "data": {
            "text/plain": [
              "<Figure size 1800x1800 with 10 Axes>"
            ],
            "image/png": "[encoded data removed]"
          },
          "metadata": {
            "needs_background": "light"
          }
        }
      ]
    },
    {
      "cell_type": "code",
      "source": [],
      "metadata": {
        "id": "wVysN0EL90Xl"
      },
      "execution_count": null,
      "outputs": []
    }
  ],
  "metadata": {
    "colab": {
      "provenance": []
    },
    "kernelspec": {
      "display_name": "Python 3",
      "name": "python3"
    },
    "language_info": {
      "name": "python"
    }
  },
  "nbformat": 4,
  "nbformat_minor": 0
}