{
 "cells": [
  {
   "cell_type": "markdown",
   "id": "cf70f98a-ffdc-498f-b3ba-de4f697ab0fa",
   "metadata": {},
   "source": [
    "# Lab 3\n",
    "\n",
    "## Author: Konstantin Yakovlev\n",
    "\n",
    "### Description:\n",
    "\n",
    "Reimplement experiment from the article \"Early stopping as nonparametric variational inference\". Compare the results with the results from article.\n",
    "\n",
    "* [article](https://arxiv.org/pdf/1504.01344.pdf)\n",
    "\n",
    "\n",
    "### Notes\n",
    "\n",
    "* Implementation of MLP and data preparation was taken from the\n",
    "[official tutorial](https://jax.readthedocs.io/en/latest/notebooks/Neural_Network_and_Data_Loading.html).\n",
    "\n",
    "\n",
    "\n",
    "## Theory\n",
    "\n",
    "First, write down ELBO in the following way:\n",
    "\n",
    "$$\\log p(x) \\geq S(q(\\theta)) + \\mathbb{E}_{q(\\theta)} \\log p(x, \\theta).$$\n",
    "\n",
    "\n",
    "Parameters $\\theta$ are updated according to the rule:\n",
    "\n",
    "$$\\theta_{t + 1} = T(\\theta_t) = \\theta_t - \\alpha \\nabla_\\theta L(\\theta, x),$$\n",
    "\n",
    "where $L(\\theta, x) = -\\log p(x, \\theta)$. We also have an unbiased estimator for the\n",
    "change in intropy at each iteration:\n",
    "\n",
    "$$S(q_{t+1}) - S(q_t) = \\log \\det(I - \\alpha H(\\theta_t)),$$\n",
    "\n",
    "where $H(\\theta_t)$ is hessian of $L(\\theta, x)$ w.r.t. model parameters $\\theta$. Note that there is a linear\n",
    "time esimate of $\\log \\det(I - \\alpha H(\\theta_t))$. See Algorithm 2 from the paper.\n",
    "\n",
    "\n",
    "We are aimed to show that marginal likelihood estimation can be used to determine the number of iterations before\n",
    "overfitting happens.\n",
    "\n",
    "\n",
    "## Experimental setup\n",
    "\n",
    "1. The model is an ordinary MLP with one hidden layer.\n",
    "\n",
    "2. We perform a classification task on a subsample of MNIST dataset.\n",
    "\n",
    "3. We use improper prior on model parameters $\\theta$, i.e. $p(\\theta) \\propto 1$.\n",
    "\n",
    "\n"
   ]
  },
  {
   "cell_type": "code",
   "execution_count": 1,
   "id": "afc214aa-d175-4ff4-aaae-6dd010aba328",
   "metadata": {},
   "outputs": [],
   "source": [
    "import jax.numpy as jnp\n",
    "from jax import grad, jit, vmap\n",
    "from jax import random\n",
    "from jax.scipy.special import logsumexp\n",
    "\n",
    "key = random.PRNGKey(0)\n",
    "\n",
    "from dataclasses import dataclass\n",
    "from typing import Tuple\n",
    "\n",
    "from tqdm import tqdm\n",
    "from matplotlib import pyplot as plt\n",
    "\n",
    "import numpy as np\n",
    "from torch.utils import data\n",
    "from torchvision.datasets import MNIST"
   ]
  },
  {
   "cell_type": "code",
   "execution_count": 2,
   "id": "368781a2-d86e-4f54-89a6-f8992c925904",
   "metadata": {},
   "outputs": [],
   "source": [
    "@dataclass\n",
    "class Config:\n",
    "    step_size: float = 1e-3  # learning rate\n",
    "    num_epochs: int = 200\n",
    "    batch_size: int = 32\n",
    "    layer_sizes: Tuple[int] = (784, 300, 10)  # layer sizes\n",
    "    train_size: int = 5 * 32  # train data size\n",
    "    test_size: int = 20 * 32  # test data size\n",
    "    \n",
    "cfg = Config()"
   ]
  },
  {
   "cell_type": "markdown",
   "id": "8f9dd9bd-37fe-4a43-8eb3-ba2e2716615b",
   "metadata": {},
   "source": [
    "### Data preparation"
   ]
  },
  {
   "cell_type": "code",
   "execution_count": 3,
   "id": "1a4f0d74-2c33-4849-9440-cdd9c1f23864",
   "metadata": {},
   "outputs": [],
   "source": [
    "def numpy_collate(batch):\n",
    "    if isinstance(batch[0], np.ndarray):\n",
    "        return np.stack(batch)\n",
    "    elif isinstance(batch[0], (tuple,list)):\n",
    "        transposed = zip(*batch)\n",
    "        return [numpy_collate(samples) for samples in transposed]\n",
    "    else:\n",
    "        return np.array(batch)\n",
    "\n",
    "class NumpyLoader(data.DataLoader):\n",
    "    def __init__(self, dataset, batch_size=1,\n",
    "                shuffle=False, sampler=None,\n",
    "                batch_sampler=None, num_workers=0,\n",
    "                pin_memory=False, drop_last=False,\n",
    "                timeout=0, worker_init_fn=None):\n",
    "        super(self.__class__, self).__init__(dataset,\n",
    "            batch_size=batch_size,\n",
    "            shuffle=shuffle,\n",
    "            sampler=sampler,\n",
    "            batch_sampler=batch_sampler,\n",
    "            num_workers=num_workers,\n",
    "            collate_fn=numpy_collate,\n",
    "            pin_memory=pin_memory,\n",
    "            drop_last=drop_last,\n",
    "            timeout=timeout,\n",
    "            worker_init_fn=worker_init_fn)\n",
    "\n",
    "class FlattenAndCast(object):\n",
    "    def __call__(self, pic):\n",
    "        return np.ravel(np.array(pic, dtype=jnp.float32))\n",
    "    "
   ]
  },
  {
   "cell_type": "code",
   "execution_count": 4,
   "id": "069ca3ae-6462-4863-998c-6224b3f61bd3",
   "metadata": {},
   "outputs": [],
   "source": [
    "mnist_dataset = MNIST('./data', download=True, transform=FlattenAndCast())\n",
    "training_generator = NumpyLoader([mnist_dataset[i] for i in range(cfg.train_size)],\n",
    "                                 batch_size=cfg.batch_size, num_workers=2)"
   ]
  },
  {
   "cell_type": "code",
   "execution_count": 5,
   "id": "76a30eef-9dc0-4e3c-b798-32b2a6036abb",
   "metadata": {},
   "outputs": [],
   "source": [
    "# Get full test dataset\n",
    "mnist_dataset_test = MNIST('./data', download=True, train=False, transform=FlattenAndCast())\n",
    "testing_generator = NumpyLoader([mnist_dataset_test[i] for i in range(cfg.train_size,\n",
    "                                                                      cfg.train_size + cfg.test_size)],\n",
    "                                batch_size=cfg.batch_size, num_workers=0, shuffle=False)"
   ]
  },
  {
   "cell_type": "markdown",
   "id": "62fb7bde-afde-444b-b7ac-6313dde3c943",
   "metadata": {},
   "source": [
    "### Model preparation"
   ]
  },
  {
   "cell_type": "code",
   "execution_count": 6,
   "id": "fd359885-442e-41d8-b252-83f1280d91b2",
   "metadata": {},
   "outputs": [],
   "source": [
    "def random_layer_params(m, n, key, scale=1e-2):\n",
    "    \"\"\"Creates MLP layer weight and bias\"\"\"\n",
    "    w_key, b_key = random.split(key)\n",
    "    return scale * random.normal(w_key, (n, m)), scale * random.normal(b_key, (n,))\n",
    "\n",
    "def init_network_params(sizes, key):\n",
    "    \"\"\"Creates a sequence of parameters for each layer\"\"\"\n",
    "    keys = random.split(key, len(sizes))\n",
    "    return [random_layer_params(m, n, k) for m, n, k in zip(sizes[:-1], sizes[1:], keys)]\n",
    "\n",
    "params = init_network_params(cfg.layer_sizes, random.PRNGKey(0))"
   ]
  },
  {
   "cell_type": "code",
   "execution_count": 7,
   "id": "6b7e5b9e-a7ff-4653-a1b6-d613947aad07",
   "metadata": {},
   "outputs": [],
   "source": [
    "@jit\n",
    "def relu(x):\n",
    "    return jnp.maximum(0, x)\n",
    "\n",
    "def predict(params, image):\n",
    "    \"\"\"Forward pass\"\"\"\n",
    "    activations = image\n",
    "    for w, b in params[:-1]:\n",
    "        outputs = jnp.dot(w, activations) + b\n",
    "        activations = relu(outputs)\n",
    "\n",
    "    final_w, final_b = params[-1]\n",
    "    logits = jnp.dot(final_w, activations) + final_b\n",
    "    return logits - logsumexp(logits)"
   ]
  },
  {
   "cell_type": "code",
   "execution_count": 8,
   "id": "c43a26ff-0bc3-4206-bf22-14bcc52c1a95",
   "metadata": {},
   "outputs": [
    {
     "name": "stdout",
     "output_type": "stream",
     "text": [
      "(784,)\n",
      "(10,)\n"
     ]
    }
   ],
   "source": [
    "### TEST\n",
    "random_flattened_image = random.normal(random.PRNGKey(1), (28 * 28,))\n",
    "print(random_flattened_image.shape)\n",
    "preds = predict(params, random_flattened_image)\n",
    "print(preds.shape)"
   ]
  },
  {
   "cell_type": "code",
   "execution_count": 9,
   "id": "1413fbb9-6c48-46d5-be66-fea5b07361a5",
   "metadata": {},
   "outputs": [
    {
     "name": "stdout",
     "output_type": "stream",
     "text": [
      "(3, 10)\n"
     ]
    }
   ],
   "source": [
    "batched_predict = vmap(predict, in_axes=(None, 0))\n",
    "\n",
    "random_flattened_images = random.normal(random.PRNGKey(1), (3, 28 * 28))\n",
    "batched_preds = batched_predict(params, random_flattened_images)\n",
    "print(batched_preds.shape)"
   ]
  },
  {
   "cell_type": "code",
   "execution_count": 10,
   "id": "28d748ff-0e8d-4f4d-a5e9-7bfcdbd10e4a",
   "metadata": {},
   "outputs": [],
   "source": [
    "def one_hot(x, k, dtype=jnp.float32):\n",
    "    \"\"\"Create a one-hot encoding of x of size k.\"\"\"\n",
    "    return jnp.array(x[:, None] == jnp.arange(k), dtype)\n",
    "\n",
    "@jit\n",
    "def loss(params, images, targets):\n",
    "    \"\"\"Cross-entropy loss\"\"\"\n",
    "    preds = batched_predict(params, images)\n",
    "    return -jnp.mean(preds * targets)\n",
    "\n",
    "@jit\n",
    "def update(params, x, y):\n",
    "    \"\"\"Gradient step\"\"\"\n",
    "    grads = grad(loss)(params, x, y)\n",
    "    return [(w - cfg.step_size * dw, b - cfg.step_size * db) for (w, b), (dw, db) in zip(params, grads)]"
   ]
  },
  {
   "cell_type": "markdown",
   "id": "2543f763-9cd9-4c96-b24f-d467aa0961c8",
   "metadata": {},
   "source": [
    "### Training loop"
   ]
  },
  {
   "cell_type": "code",
   "execution_count": 11,
   "id": "4f98d374-0993-4db0-b4cf-3d1db8689c49",
   "metadata": {},
   "outputs": [],
   "source": [
    "params = init_network_params(cfg.layer_sizes, random.PRNGKey(0))"
   ]
  },
  {
   "cell_type": "code",
   "execution_count": 12,
   "id": "c7b29c62-f29b-43ef-87f3-c7ff0fac26a8",
   "metadata": {},
   "outputs": [
    {
     "name": "stderr",
     "output_type": "stream",
     "text": [
      "100%|█████████████████████████████████████████████████████████████| 200/200 [00:14<00:00, 14.14it/s]\n"
     ]
    }
   ],
   "source": [
    "train_losses = []\n",
    "test_losses = []\n",
    "\n",
    "global_step = 1\n",
    "for epoch in tqdm(range(cfg.num_epochs)):\n",
    "    total_loss = jnp.array(0.0)\n",
    "    for x, y in testing_generator:\n",
    "        y = one_hot(y, 10)\n",
    "        total_loss += loss(params, x, y)\n",
    "    test_losses.append((global_step, total_loss.item() / len(testing_generator)))\n",
    "    \n",
    "    for x, y in training_generator:\n",
    "        y = one_hot(y, 10)\n",
    "        train_losses.append((global_step, loss(params, x, y).item()))\n",
    "        params = update(params, x, y)\n",
    "        global_step += 1\n",
    "    \n",
    "total_loss = jnp.array(0.0)\n",
    "for x, y in testing_generator:\n",
    "    y = one_hot(y, 10)\n",
    "    total_loss += loss(params, x, y)\n",
    "test_losses.append((global_step, total_loss.item() / len(testing_generator)))"
   ]
  },
  {
   "cell_type": "markdown",
   "id": "2499cfae-6dca-45f5-8ce8-aa186ae22a07",
   "metadata": {},
   "source": [
    "### Estimate of log-determinant of Jabobian"
   ]
  },
  {
   "cell_type": "code",
   "execution_count": 14,
   "id": "1228dabb-3b5f-42f4-abf8-4f12ce4baa6f",
   "metadata": {},
   "outputs": [],
   "source": [
    "@jit\n",
    "def dot_product(p1, p2):\n",
    "    res = jnp.array(0.0)\n",
    "    for (w1, b1), (w2, b2) in zip(p1, p2):\n",
    "        res += (w1 * w2).sum()\n",
    "        res += (b1 * b2).sum()\n",
    "    return res\n",
    "\n",
    "def hvp(params, images, targets, vector):\n",
    "    \"\"\"Hessian (w.r.t. parameters) - vector product\"\"\"\n",
    "    return grad(lambda theta : dot_product(vector, grad(loss, 0)(theta, images, targets)))(params)\n",
    "    "
   ]
  },
  {
   "cell_type": "code",
   "execution_count": 15,
   "id": "01ad74e3-32cd-46af-b784-296fbf58815a",
   "metadata": {},
   "outputs": [],
   "source": [
    "def log_det_jac(params, images, targets):\n",
    "    \"\"\"log det jacobian estimation\"\"\"\n",
    "    r_0 = init_network_params(cfg.layer_sizes, random.PRNGKey(0))\n",
    "    r_0_hvp = hvp(params, images, targets, r_0)\n",
    "    r_1 = [(w - cfg.step_size * g_w, b - cfg.step_size * g_b) for (w, b), (g_w, g_b) in zip(r_0, r_0_hvp)]\n",
    "    r_1_hvp = hvp(params, images, targets, r_1)\n",
    "    r_2 = [(w - cfg.step_size * g_w, b - cfg.step_size * g_b) for (w, b), (g_w, g_b) in zip(r_1, r_1_hvp)]\n",
    "    res = jnp.array(0.0)\n",
    "    for (w_0, b_0), (w_1, b_1), (w_2, b_2) in zip(r_0, r_1, r_2):\n",
    "        res += (w_0 * (-2 * w_0 + 3 * w_1 - w_2)).sum()\n",
    "        res += (b_0 * (-2 * b_0 + 3 * b_1 - b_2)).sum()\n",
    "    return res\n"
   ]
  },
  {
   "cell_type": "markdown",
   "id": "21e74cfb-6510-4fc8-b802-cc2f13741a53",
   "metadata": {},
   "source": [
    "### Training loop"
   ]
  },
  {
   "cell_type": "code",
   "execution_count": 16,
   "id": "ad3d38f1-9cee-40ff-8cc3-2c0e5e764735",
   "metadata": {},
   "outputs": [],
   "source": [
    "params = init_network_params(cfg.layer_sizes, random.PRNGKey(0))"
   ]
  },
  {
   "cell_type": "code",
   "execution_count": 17,
   "id": "a58c8c75-9359-4320-8490-cc1b3b6f75a3",
   "metadata": {},
   "outputs": [
    {
     "name": "stderr",
     "output_type": "stream",
     "text": [
      "100%|█████████████████████████████████████████████████████████████| 200/200 [00:37<00:00,  5.30it/s]\n"
     ]
    }
   ],
   "source": [
    "marg_likely = []\n",
    "\n",
    "H = jnp.array(0.0)\n",
    "\n",
    "for epoch in tqdm(range(cfg.num_epochs)):\n",
    "    for x, y in training_generator:\n",
    "        y = one_hot(y, 10)\n",
    "        H += log_det_jac(params, x, y)\n",
    "        marg_likely.append(-loss(params, x, y).item() + H.item())\n",
    "        params = update(params, x, y)"
   ]
  },
  {
   "cell_type": "markdown",
   "id": "b54164b2-5183-4b03-9e15-4a105d0b5522",
   "metadata": {},
   "source": [
    "### Visualization"
   ]
  },
  {
   "cell_type": "code",
   "execution_count": 19,
   "id": "59367226-9052-4d88-bf52-6d5acef55ab8",
   "metadata": {},
   "outputs": [
    {
     "data": {
      "image/png": "[encoded data removed]",
      "text/plain": [
       "<Figure size 1000x500 with 2 Axes>"
      ]
     },
     "metadata": {},
     "output_type": "display_data"
    }
   ],
   "source": [
    "_, axs = plt.subplots(2, 1, figsize=(10, 5))\n",
    "\n",
    "axs[0].plot([el[0] for el in train_losses], [el[1] for el in train_losses], label='train loss', color='b')\n",
    "axs[0].plot([el[0] for el in test_losses], [el[1] for el in test_losses], label='test loss', color='g')\n",
    "axs[0].set_ylabel('Cross-entropy loss')\n",
    "axs[0].legend()\n",
    "\n",
    "axs[1].plot(marg_likely, label='marginal likelihood', color='r')\n",
    "axs[1].set_ylabel('ELBO')\n",
    "axs[1].legend()\n",
    "axs[1].set_xlabel('Training iteration')\n",
    "\n",
    "argmax = np.argmax(marg_likely)\n",
    "axs[1].axvline(x=argmax, color='black', ls='--')\n",
    "axs[0].axvline(x=argmax, color='black', ls='--')\n",
    "\n",
    "plt.show()"
   ]
  },
  {
   "cell_type": "markdown",
   "id": "104ab0e9-b71c-433f-86c7-5328b8f2e47b",
   "metadata": {},
   "source": [
    "### Conclusion\n",
    "\n",
    "\n",
    "As we can see, we have managed to reproduce the results from the paper (see Figure 3). The iteration with\n",
    "maximal ELBO corresponds to the start of overfitting.\n",
    "\n"
   ]
  },
  {
   "cell_type": "code",
   "execution_count": null,
   "id": "9bcc1999-115d-4fd4-9e3b-962dc89b0491",
   "metadata": {},
   "outputs": [],
   "source": []
  }
 ],
 "metadata": {
  "kernelspec": {
   "display_name": "Python 3 (ipykernel)",
   "language": "python",
   "name": "python3"
  },
  "language_info": {
   "codemirror_mode": {
    "name": "ipython",
    "version": 3
   },
   "file_extension": ".py",
   "mimetype": "text/x-python",
   "name": "python",
   "nbconvert_exporter": "python",
   "pygments_lexer": "ipython3",
   "version": "3.7.13"
  }
 },
 "nbformat": 4,
 "nbformat_minor": 5
}
