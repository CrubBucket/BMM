{
  "nbformat": 4,
  "nbformat_minor": 0,
  "metadata": {
    "colab": {
      "provenance": []
    },
    "kernelspec": {
      "name": "python3",
      "display_name": "Python 3"
    },
    "language_info": {
      "name": "python"
    }
  },
  "cells": [
    {
      "cell_type": "markdown",
      "source": [
        "# Lab 4\n",
        "Author: Ksenofontov Gregory\n",
        "\n",
        "Compare [optimal brain damage](https://proceedings.neurips.cc/paper/1989/file/6c9882bbac1c7093bd25041881277658-Paper.pdf) procdure using diagonal hessian and full-rank hessian. \n",
        "*   Model: linear regression model.\n",
        "*   Data: simple dataset (not more than 50 variables).\n",
        "*   Plot: dependence of the model performance on the number of removed features."
      ],
      "metadata": {
        "id": "9WzmFCEr-vO8"
      }
    },
    {
      "cell_type": "markdown",
      "source": [
        "### Theory"
      ],
      "metadata": {
        "id": "pCW373Ni_fRp"
      }
    },
    {
      "cell_type": "markdown",
      "source": [
        "To find parameter to remove we can measure the difference of a losses $\\Delta L$ of loss with zeroed parameter $L({\\bf w} + \\Delta {\\bf w})$ and not-zeroed parameter loss $L({\\bf w})$. To find it we approximate the objective function $L$ by a Taylor series at the otimized parameters ${\\bf w}$ $$L({\\bf w} + \\Delta {\\bf w}) = L({\\bf w}) + {\\bf g}^T\\Delta {\\bf w} + \\frac12\\Delta {\\bf w}^T{\\bf H}\\Delta {\\bf w} + \\dots$$"
      ],
      "metadata": {
        "id": "p3ETpEWB4E84"
      }
    },
    {
      "cell_type": "markdown",
      "source": [
        "First term ${\\bf g}^T\\Delta {\\bf w}$ can be removed, because the training has converged"
      ],
      "metadata": {
        "id": "BHSsw-V37Tq7"
      }
    },
    {
      "cell_type": "markdown",
      "source": [
        "So, for full-rank Hessian $\\Delta L$ is\n",
        "$$\\Delta L = L({\\bf w} + \\Delta {\\bf w}) - L({\\bf w}) = \\frac12\\Delta {\\bf w}^T{\\bf H}\\Delta {\\bf w} = \\frac12\\sum_{i, j}h_{ij}\\Delta w_i\\Delta w_j$$\n",
        "And if Hessian is diagonal, $\\Delta L$ is\n",
        "$$\\Delta L = \\frac12\\sum_{i}h_{ii}\\Delta w_i^2$$"
      ],
      "metadata": {
        "id": "1dV6z2Kn5VPx"
      }
    },
    {
      "cell_type": "markdown",
      "source": [
        "Having such equasions, we can measure the impact (salience) of the parameters, for full-rank and diagonal Hessian, respectively\n",
        "$$s_k = \\frac12\\sum_{j}h_{kj} w_k w_j$$\n",
        "$$s_k = \\frac12h_{kk} w_k^2$$\n"
      ],
      "metadata": {
        "id": "PDU2jqT76l75"
      }
    },
    {
      "cell_type": "markdown",
      "source": [
        "Choosing $N$ parameters with lowest saliences, we can remove them with lowest impact on loss function."
      ],
      "metadata": {
        "id": "bOCMdUWm7A8q"
      }
    },
    {
      "cell_type": "markdown",
      "source": [
        "### Implemetation\n",
        "Imports and global parameters"
      ],
      "metadata": {
        "id": "TDUmgTvx_lPI"
      }
    },
    {
      "cell_type": "code",
      "source": [
        "!pip install flax optax distrax"
      ],
      "metadata": {
        "id": "HF6Vps5DFee4",
        "colab": {
          "base_uri": "https://localhost:8080/"
        },
        "outputId": "abc31e7a-2af2-4ddd-d9a9-ef64fbd9af67"
      },
      "execution_count": 315,
      "outputs": [
        {
          "output_type": "stream",
          "name": "stdout",
          "text": [
            "Looking in indexes: https://pypi.org/simple, https://us-python.pkg.dev/colab-wheels/public/simple/\n",
            "Requirement already satisfied: flax in /usr/local/lib/python3.9/dist-packages (0.6.7)\n",
            "Requirement already satisfied: optax in /usr/local/lib/python3.9/dist-packages (0.1.4)\n",
            "Requirement already satisfied: distrax in /usr/local/lib/python3.9/dist-packages (0.1.3)\n",
            "Requirement already satisfied: PyYAML>=5.4.1 in /usr/local/lib/python3.9/dist-packages (from flax) (6.0)\n",
            "Requirement already satisfied: typing-extensions>=4.1.1 in /usr/local/lib/python3.9/dist-packages (from flax) (4.5.0)\n",
            "Requirement already satisfied: numpy>=1.12 in /usr/local/lib/python3.9/dist-packages (from flax) (1.22.4)\n",
            "Requirement already satisfied: msgpack in /usr/local/lib/python3.9/dist-packages (from flax) (1.0.5)\n",
            "Requirement already satisfied: rich>=11.1 in /usr/local/lib/python3.9/dist-packages (from flax) (13.3.2)\n",
            "Requirement already satisfied: tensorstore in /usr/local/lib/python3.9/dist-packages (from flax) (0.1.33)\n",
            "Requirement already satisfied: orbax in /usr/local/lib/python3.9/dist-packages (from flax) (0.1.3)\n",
            "Requirement already satisfied: jax>=0.4.2 in /usr/local/lib/python3.9/dist-packages (from flax) (0.4.4)\n",
            "Requirement already satisfied: jaxlib>=0.1.37 in /usr/local/lib/python3.9/dist-packages (from optax) (0.4.4+cuda11.cudnn82)\n",
            "Requirement already satisfied: chex>=0.1.5 in /usr/local/lib/python3.9/dist-packages (from optax) (0.1.6)\n",
            "Requirement already satisfied: absl-py>=0.7.1 in /usr/local/lib/python3.9/dist-packages (from optax) (1.4.0)\n",
            "Requirement already satisfied: tensorflow-probability>=0.15.0 in /usr/local/lib/python3.9/dist-packages (from distrax) (0.19.0)\n",
            "Requirement already satisfied: dm-tree>=0.1.5 in /usr/local/lib/python3.9/dist-packages (from chex>=0.1.5->optax) (0.1.8)\n",
            "Requirement already satisfied: toolz>=0.9.0 in /usr/local/lib/python3.9/dist-packages (from chex>=0.1.5->optax) (0.12.0)\n",
            "Requirement already satisfied: opt-einsum in /usr/local/lib/python3.9/dist-packages (from jax>=0.4.2->flax) (3.3.0)\n",
            "Requirement already satisfied: scipy>=1.5 in /usr/local/lib/python3.9/dist-packages (from jax>=0.4.2->flax) (1.10.1)\n",
            "Requirement already satisfied: markdown-it-py<3.0.0,>=2.2.0 in /usr/local/lib/python3.9/dist-packages (from rich>=11.1->flax) (2.2.0)\n",
            "Requirement already satisfied: pygments<3.0.0,>=2.13.0 in /usr/local/lib/python3.9/dist-packages (from rich>=11.1->flax) (2.14.0)\n",
            "Requirement already satisfied: gast>=0.3.2 in /usr/local/lib/python3.9/dist-packages (from tensorflow-probability>=0.15.0->distrax) (0.4.0)\n",
            "Requirement already satisfied: decorator in /usr/local/lib/python3.9/dist-packages (from tensorflow-probability>=0.15.0->distrax) (4.4.2)\n",
            "Requirement already satisfied: cloudpickle>=1.3 in /usr/local/lib/python3.9/dist-packages (from tensorflow-probability>=0.15.0->distrax) (2.2.1)\n",
            "Requirement already satisfied: six>=1.10.0 in /usr/local/lib/python3.9/dist-packages (from tensorflow-probability>=0.15.0->distrax) (1.15.0)\n",
            "Requirement already satisfied: importlib_resources in /usr/local/lib/python3.9/dist-packages (from orbax->flax) (5.12.0)\n",
            "Requirement already satisfied: etils in /usr/local/lib/python3.9/dist-packages (from orbax->flax) (1.0.0)\n",
            "Requirement already satisfied: cached_property in /usr/local/lib/python3.9/dist-packages (from orbax->flax) (1.5.2)\n",
            "Requirement already satisfied: mdurl~=0.1 in /usr/local/lib/python3.9/dist-packages (from markdown-it-py<3.0.0,>=2.2.0->rich>=11.1->flax) (0.1.2)\n",
            "Requirement already satisfied: zipp>=3.1.0 in /usr/local/lib/python3.9/dist-packages (from importlib_resources->orbax->flax) (3.15.0)\n"
          ]
        }
      ]
    },
    {
      "cell_type": "code",
      "execution_count": 316,
      "metadata": {
        "id": "UuXHThS4-nOQ"
      },
      "outputs": [],
      "source": [
        "import jax.numpy as jnp\n",
        "from jax import random, grad, jit, hessian\n",
        "\n",
        "import optax\n",
        "\n",
        "import matplotlib.pyplot as plt\n",
        "from tqdm import tqdm"
      ]
    },
    {
      "cell_type": "code",
      "source": [
        "SEED = random.PRNGKey(42)\n",
        "features = 99\n",
        "train_size = 25\n",
        "data_noise = 1"
      ],
      "metadata": {
        "id": "hXM3as3L_rpU"
      },
      "execution_count": 317,
      "outputs": []
    },
    {
      "cell_type": "code",
      "source": [
        "def plot_grid(values, x_scale=1):\n",
        "    plt.grid()\n",
        "    X = jnp.linspace(0, len(values) * x_scale, len(values))\n",
        "    plt.plot(X, values)\n",
        "    plt.show()"
      ],
      "metadata": {
        "id": "_4xMYzlKZXzD"
      },
      "execution_count": 318,
      "outputs": []
    },
    {
      "cell_type": "markdown",
      "source": [
        "Generating the data"
      ],
      "metadata": {
        "id": "F6fPoI_dBht2"
      }
    },
    {
      "cell_type": "code",
      "source": [
        "X = jnp.concatenate([random.normal(SEED, shape=(train_size, features)), jnp.ones((train_size, 1))], axis=1)\n",
        "W_true = random.normal(SEED, shape=(features + 1, 1))\n",
        "Y = X @ W_true + data_noise * random.normal(SEED, shape=(train_size, 1))"
      ],
      "metadata": {
        "id": "QUIr8LzT-9pl"
      },
      "execution_count": 319,
      "outputs": []
    },
    {
      "cell_type": "code",
      "source": [
        "print(jnp.linalg.det(X.T @ X))\n",
        "\n",
        "W = jnp.linalg.inv(X.T @ X) @ X.T @ Y\n",
        "((W - W_true)**2).mean()"
      ],
      "metadata": {
        "colab": {
          "base_uri": "https://localhost:8080/"
        },
        "id": "HqfVBeTmRrbJ",
        "outputId": "22060ae3-368f-43b4-9d1a-ec165a7b30c1"
      },
      "execution_count": 320,
      "outputs": [
        {
          "output_type": "stream",
          "name": "stdout",
          "text": [
            "-0.0\n"
          ]
        },
        {
          "output_type": "execute_result",
          "data": {
            "text/plain": [
              "Array(52295.777, dtype=float32)"
            ]
          },
          "metadata": {},
          "execution_count": 320
        }
      ]
    },
    {
      "cell_type": "markdown",
      "source": [
        "With a large number of parameters, the determinant is close to zero, so we will optimize the model using SGD"
      ],
      "metadata": {
        "id": "8El2MYzLTrle"
      }
    },
    {
      "cell_type": "code",
      "source": [
        "class LinearRegression:\n",
        "\n",
        "  def predict(self, W, X):\n",
        "      return jnp.dot(X, W)\n",
        "\n",
        "  # Training loss is MSE\n",
        "  def criterion(self, W, X, Y):\n",
        "      preds = self.predict(W, X)\n",
        "      return jnp.mean((preds - Y)**2)\n",
        "\n",
        "linear = LinearRegression()"
      ],
      "metadata": {
        "id": "DQOIy9sOuUv5"
      },
      "execution_count": 321,
      "outputs": []
    },
    {
      "cell_type": "code",
      "source": [
        "def fit(model, epochs, W, optimizer, mask, verbose=True):\n",
        "      losses = []\n",
        "      W *= mask\n",
        "      opt_state = optimizer.init(W)\n",
        "\n",
        "      @jit\n",
        "      def step(batch, W, opt_state):\n",
        "        loss = model.criterion(W, batch[0], batch[1])\n",
        "        grad_loss = grad(model.criterion)\n",
        "        grads = grad_loss(W, batch[0], batch[1]).mean(0)\n",
        "        updates, opt_state = optimizer.update(grads, opt_state, W)\n",
        "        W = optax.apply_updates(W, updates)\n",
        "        return W * mask, opt_state, loss\n",
        "\n",
        "      for epoch in range(1, epochs + 1):\n",
        "        avg_loss = 0\n",
        "        for i, batch in enumerate(zip(X, Y)):\n",
        "          W, opt_state, loss = step(batch, W, opt_state)\n",
        "          avg_loss += loss\n",
        "        losses.append(avg_loss/(i+1))\n",
        "        if verbose and epoch % 20 == 0: # Print loss every 20 epochs\n",
        "          print(f\"epoch: {epoch}, loss: {avg_loss.mean():.8f}\")\n",
        "      return W * mask, losses"
      ],
      "metadata": {
        "id": "V0G3CKBCypd5"
      },
      "execution_count": 322,
      "outputs": []
    },
    {
      "cell_type": "code",
      "source": [
        "f = lambda W: linear.criterion(W, X, Y)\n",
        "H = X.T @ X"
      ],
      "metadata": {
        "id": "xmWq_pJrk3qd"
      },
      "execution_count": 323,
      "outputs": []
    },
    {
      "cell_type": "code",
      "source": [
        "import seaborn as sns\n",
        "\n",
        "print(sns.heatmap(H))\n",
        "print(H[0][1:].mean())\n",
        "print((H[1][0] + H[1][2:].mean())/2)\n",
        "print((H[2][:2].mean() + H[1][3:].mean())/2)"
      ],
      "metadata": {
        "colab": {
          "base_uri": "https://localhost:8080/",
          "height": 341
        },
        "id": "qHnkbzwj1e9o",
        "outputId": "fce95d00-404d-4f73-9bc6-b5fa0a75e188"
      },
      "execution_count": 335,
      "outputs": [
        {
          "output_type": "stream",
          "name": "stdout",
          "text": [
            "AxesSubplot(0.125,0.125;0.62x0.755)\n",
            "-0.2837785\n",
            "-3.1247406\n",
            "-0.0687747\n"
          ]
        },
        {
          "output_type": "display_data",
          "data": {
            "text/plain": [
              "<Figure size 432x288 with 2 Axes>"
            ],
            "image/png": "[encoded data removed]"
          },
          "metadata": {
            "needs_background": "light"
          }
        }
      ]
    },
    {
      "cell_type": "code",
      "source": [
        "hyper_params =[\n",
        "    (5e-4, 20),\n",
        "    (1e-2, 5),\n",
        "    (1e-2, 20),\n",
        "    (1e-2, 10),\n",
        "    (1e-3, 30),\n",
        "    (1e-2, 20),\n",
        "    (5e-3, 20),\n",
        "    (1e-2, 20),\n",
        "    (1e-2, 20),\n",
        "    (1e-2, 20),\n",
        "]\n",
        "\n",
        "# N - amount parameters to remove in each step\n",
        "N = int((features + 1) / (len(hyper_params)))"
      ],
      "metadata": {
        "id": "X5boLE7O0FVT"
      },
      "execution_count": 325,
      "outputs": []
    },
    {
      "cell_type": "code",
      "source": [
        "errors_full_rank = []\n",
        "mask = jnp.ones((features + 1,))\n",
        "W_start = random.normal(SEED, (features + 1,))\n",
        "\n",
        "for step, (lr, epochs) in enumerate(hyper_params):\n",
        "    # Init params and optimizer\n",
        "    W = W_start\n",
        "    optimizer = optax.adam(learning_rate=lr)\n",
        "\n",
        "    # Train model with specific mask\n",
        "    W, losses = fit(linear, epochs, W, optimizer, mask, verbose=False)\n",
        "    errors_full_rank.append(losses[-1].item())\n",
        "    \n",
        "    # Computing saliences\n",
        "    saliences = []\n",
        "    for w_num in range(W.shape[0]):\n",
        "        saliences.append((W * H[w_num]).sum())\n",
        "    saliences = jnp.stack(saliences) * W\n",
        "    if step == 4:\n",
        "        saliences_full_rank = saliences\n",
        "\n",
        "    # Finding N parameters with the smallest saliences\n",
        "    idx = saliences.argsort()\n",
        "\n",
        "    # Check if parameter is not removed\n",
        "    for i in range(N):\n",
        "      for w_remove in range(W.shape[0]):\n",
        "        if mask[w_remove] == 1:\n",
        "            break\n",
        "      # Remove parameter\n",
        "      mask -= jnp.eye(1, mask.shape[0], w_remove).squeeze()"
      ],
      "metadata": {
        "id": "o287n-5RWvTA"
      },
      "execution_count": 326,
      "outputs": []
    },
    {
      "cell_type": "code",
      "source": [
        "plot_grid(errors_full_rank, x_scale=N - 1)"
      ],
      "metadata": {
        "colab": {
          "base_uri": "https://localhost:8080/",
          "height": 265
        },
        "id": "pYVYGnafX2Cx",
        "outputId": "36fa6143-884a-49b9-897b-c7b1bc6b2fb9"
      },
      "execution_count": 327,
      "outputs": [
        {
          "output_type": "display_data",
          "data": {
            "text/plain": [
              "<Figure size 432x288 with 1 Axes>"
            ],
            "image/png": "[encoded data removed]"
          },
          "metadata": {
            "needs_background": "light"
          }
        }
      ]
    },
    {
      "cell_type": "code",
      "source": [
        "hyper_params =[\n",
        "    (1e-2, 15),\n",
        "    (1e-3, 10),\n",
        "    (1e-3, 15),\n",
        "    (1e-3, 15),\n",
        "    (1e-3, 15),\n",
        "    (1e-3, 15),\n",
        "    (1e-3, 15),\n",
        "    (1e-3, 15),\n",
        "    (1e-3, 15),\n",
        "    (1e-3, 10),\n",
        "]"
      ],
      "metadata": {
        "id": "ypZp4SAYU3tx"
      },
      "execution_count": 328,
      "outputs": []
    },
    {
      "cell_type": "code",
      "source": [
        "errors_diag = []\n",
        "mask = jnp.ones((features + 1,))\n",
        "W_start = random.normal(SEED, (features + 1,))\n",
        "\n",
        "for step, (lr, epochs) in enumerate(hyper_params):\n",
        "    # Init params and optimizer\n",
        "    optimizer = optax.adam(learning_rate=lr)\n",
        "    W = W_start\n",
        "\n",
        "    # Train model with specific mask\n",
        "    W, losses = fit(linear, epochs, W, optimizer, mask, verbose=False)\n",
        "    errors_diag.append(losses[-1].item())\n",
        "    \n",
        "    # Computing saliences\n",
        "    saliences = W**2 * jnp.diag(H)\n",
        "    if step == 4:\n",
        "        saliences_diag = saliences\n",
        "    # Finding N parameters with the smallest saliences\n",
        "    idx = saliences.argsort()\n",
        "    # Check if parameter is not removed\n",
        "    for i in range(N):\n",
        "      for w_remove in range(W.shape[0]):\n",
        "        if mask[w_remove] == 1:\n",
        "            break\n",
        "      # Remove parameter\n",
        "      mask -= jnp.eye(1, mask.shape[0], w_remove).squeeze()"
      ],
      "metadata": {
        "id": "nqFRHR_AUYCX"
      },
      "execution_count": 329,
      "outputs": []
    },
    {
      "cell_type": "code",
      "source": [
        "plot_grid(errors_diag, x_scale=N)\n",
        "plot_grid(errors_full_rank, x_scale=N)"
      ],
      "metadata": {
        "id": "BVVRYoPTK6KE",
        "colab": {
          "base_uri": "https://localhost:8080/",
          "height": 513
        },
        "outputId": "b80773c7-3ff7-41b2-f43c-60953efe5dbc"
      },
      "execution_count": 330,
      "outputs": [
        {
          "output_type": "display_data",
          "data": {
            "text/plain": [
              "<Figure size 432x288 with 1 Axes>"
            ],
            "image/png": "[encoded data removed]"
          },
          "metadata": {
            "needs_background": "light"
          }
        },
        {
          "output_type": "display_data",
          "data": {
            "text/plain": [
              "<Figure size 432x288 with 1 Axes>"
            ],
            "image/png": "[encoded data removed]"
          },
          "metadata": {
            "needs_background": "light"
          }
        }
      ]
    },
    {
      "cell_type": "code",
      "source": [
        "jnp.isclose(saliences_full_rank, saliences_diag)"
      ],
      "metadata": {
        "colab": {
          "base_uri": "https://localhost:8080/"
        },
        "id": "tU2XdedEbBvF",
        "outputId": "21ce3e68-cf9f-4ba2-ecbd-70ac0b9ac27a"
      },
      "execution_count": 331,
      "outputs": [
        {
          "output_type": "execute_result",
          "data": {
            "text/plain": [
              "Array([ True,  True,  True,  True,  True,  True,  True,  True,  True,\n",
              "        True,  True,  True,  True,  True,  True,  True,  True,  True,\n",
              "        True,  True,  True,  True,  True,  True,  True,  True,  True,\n",
              "        True,  True,  True,  True,  True,  True,  True,  True,  True,\n",
              "        True,  True,  True,  True, False, False, False, False, False,\n",
              "       False, False, False, False, False, False, False, False, False,\n",
              "       False, False, False, False, False, False, False, False, False,\n",
              "       False, False, False, False, False, False, False, False, False,\n",
              "       False, False, False, False, False, False, False, False, False,\n",
              "       False, False, False, False, False, False, False, False, False,\n",
              "       False, False, False, False, False, False, False, False, False,\n",
              "       False], dtype=bool)"
            ]
          },
          "metadata": {},
          "execution_count": 331
        }
      ]
    },
    {
      "cell_type": "markdown",
      "source": [
        "## Conclusions\n",
        "Because of calculated Hessian is diagonal matrix, results with full-rank and diagonal Hessian are almost the same."
      ],
      "metadata": {
        "id": "0e6DpoEY2xCQ"
      }
    }
  ]
}