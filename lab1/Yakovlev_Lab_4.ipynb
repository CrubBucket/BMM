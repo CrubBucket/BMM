{
 "cells": [
  {
   "cell_type": "markdown",
   "metadata": {},
   "source": [
    "# Lab 4\n",
    "\n",
    "## Author: Konstantin Yakovlev\n",
    "\n",
    "### Description:\n",
    "Visualize Evidence similar to slide 7 from the MDL lecture. The visualization must show the dependence between complexity and hidden layer number. Model: 1-layer neural network. Dataset: sklearn dataset. Use normal distribution with scalar covariance prior. For posterior distribution use Laplace approximation."
   ]
  },
  {
   "cell_type": "code",
   "execution_count": 1,
   "metadata": {},
   "outputs": [],
   "source": [
    "import numpy as np\n",
    "import torch\n",
    "import torch.nn as nn\n",
    "from torch.utils.data import TensorDataset, DataLoader\n",
    "from torch.distributions import Normal\n",
    "from torch.autograd.functional import hessian\n",
    "\n",
    "from sklearn.datasets import load_diabetes\n",
    "from dataclasses import dataclass\n",
    "from typing import Tuple\n",
    "\n",
    "from matplotlib import pyplot as plt\n",
    "import seaborn as sns\n",
    "sns.set()\n",
    "\n",
    "SMALL_SIZE = 12\n",
    "MEDIUM_SIZE = 16\n",
    "BIGGER_SIZE = 20\n",
    "\n",
    "plt.rc('font', size=SMALL_SIZE)          # controls default text sizes\n",
    "plt.rc('axes', titlesize=SMALL_SIZE)     # fontsize of the axes title\n",
    "plt.rc('axes', labelsize=MEDIUM_SIZE)    # fontsize of the x and y labels\n",
    "plt.rc('xtick', labelsize=SMALL_SIZE)    # fontsize of the tick labels\n",
    "plt.rc('ytick', labelsize=SMALL_SIZE)    # fontsize of the tick labels\n",
    "plt.rc('legend', fontsize=SMALL_SIZE)    # legend fontsize\n",
    "plt.rc('figure', titlesize=BIGGER_SIZE)  # fontsize of the figure title"
   ]
  },
  {
   "cell_type": "markdown",
   "metadata": {},
   "source": [
    "## Laplace approximation\n",
    "\n",
    "See the derivation of  the following approximation here [BIC](https://github.com/intsystems/BMM/blob/main-22/student_talks/week_3_bic/main.pdf).\n",
    "$$\n",
    "\\log(\\mathbf{X}|M_i) \\approx \\log p(\\mathbf{X}|\\theta) + \\log p(\\theta) + \\frac{1}{2}(|\\theta|(\\log 2\\pi - \\log n) - \n",
    "\\log |I_\\theta|).\n",
    "$$\n",
    "\n",
    "MDL says that:\n",
    "\n",
    "$$\n",
    "L(f, D) = L(f) + L(D|\\theta, f) + L(\\theta|f),\n",
    "$$\n",
    "where $\\theta$ are parameters of model $f$.\n",
    "\n",
    "After grouping the terms we get:\n",
    "\n",
    "$$\n",
    "L(f) = -\\frac{1}{2}(|\\theta|(\\log 2\\pi - \\log n))\n",
    "$$\n",
    "\n",
    "$$\n",
    "L(D|\\theta, f) = -\\log p(\\mathbf{X}|\\theta)\n",
    "$$\n",
    "\n",
    "$$\n",
    "L(\\theta|f) = -\\log p(\\theta) + \\frac{1}{2}\\log|I_\\theta|\n",
    "$$\n"
   ]
  },
  {
   "cell_type": "markdown",
   "metadata": {},
   "source": [
    "### Global config"
   ]
  },
  {
   "cell_type": "code",
   "execution_count": 2,
   "metadata": {},
   "outputs": [],
   "source": [
    "@dataclass\n",
    "class Config:\n",
    "    # prior and data\n",
    "    sigma_prior: float = 0.01  # prior variance of network weights\n",
    "    input_size: int = 10  # the number of features of the data\n",
    "    data_size: int = 442  # the number of samples in the data\n",
    "    sigma_likelihood: float = 1  # the variance parameter of the likelihood\n",
    "    \n",
    "    # experiment params\n",
    "    hidden_list: Tuple[int] = (1, 2, 5, 10)  # considered network hidden sizes\n",
    "    \n",
    "    # optim\n",
    "    lr: float = 1e-3\n",
    "    batch_size: int = 16\n",
    "    n_epochs: int = 50\n",
    "\n",
    "config = Config()"
   ]
  },
  {
   "cell_type": "markdown",
   "metadata": {},
   "source": [
    "### Loading and scaling the data"
   ]
  },
  {
   "cell_type": "code",
   "execution_count": 3,
   "metadata": {},
   "outputs": [],
   "source": [
    "X, Y = load_diabetes(return_X_y=True)\n",
    "Y = (Y - Y.mean()) / Y.std()\n",
    "X = (X - X.mean()) / X.std()"
   ]
  },
  {
   "cell_type": "markdown",
   "metadata": {},
   "source": [
    "### Creating datasets and dataloaders"
   ]
  },
  {
   "cell_type": "code",
   "execution_count": 4,
   "metadata": {},
   "outputs": [],
   "source": [
    "ds = TensorDataset(torch.tensor(X).float(), torch.tensor(Y).float())\n",
    "dl = DataLoader(ds, batch_size=config.batch_size, shuffle=True)"
   ]
  },
  {
   "cell_type": "markdown",
   "metadata": {},
   "source": [
    "### The MLP model"
   ]
  },
  {
   "cell_type": "code",
   "execution_count": 5,
   "metadata": {},
   "outputs": [],
   "source": [
    "class MLP(nn.Module):\n",
    "    def __init__(self, hidden_size: int = 5):\n",
    "        super().__init__()\n",
    "        self.net = nn.Sequential(\n",
    "            nn.BatchNorm1d(config.input_size),\n",
    "            nn.Linear(config.input_size, hidden_size),\n",
    "            nn.ReLU(),\n",
    "            nn.Linear(hidden_size, 1)\n",
    "        )\n",
    "        \n",
    "    \n",
    "    def forward(self, x: torch.Tensor):\n",
    "        return self.net(x)\n",
    "    \n",
    "    def vectorize_params(self) -> torch.Tensor:\n",
    "        \"\"\"Returns a vector of params\"\"\"\n",
    "        return torch.cat([p.reshape(-1) for p in self.parameters()])\n",
    "    \n",
    "    def min_log_likeli(self, x, y) -> torch.Tensor:\n",
    "        \"\"\"Implements mini-batch approximation of -log p(Y|X, theta)\"\"\"\n",
    "        return ((self(x) - y) ** 2 / (2 * config.sigma_likelihood ** 2)).sum() * config.data_size / config.batch_size\n",
    "    \n",
    "    def min_log_prior(self) -> torch.Tensor:\n",
    "        \"\"\"Implements -log p(theta)\"\"\"\n",
    "        return 1 / (2 * config.sigma_prior ** 2) * (self.vectorize_params() ** 2).sum()\n",
    "    \n",
    "    def loss(self, x, y) -> torch.Tensor:\n",
    "        \"\"\"Computes mini-batch approximation of -log p(Y|X, theta) - log p(theta)\"\"\"\n",
    "        return self.min_log_likeli(x, y) + self.min_log_prior()\n",
    "        \n",
    "    def model_length(self) -> int:\n",
    "        \"\"\"Computes the number of model parameters\"\"\"\n",
    "        return sum([p.numel() for p in self.parameters()])\n",
    "    \n",
    "    def model_grad(self) -> torch.Tensor:\n",
    "        \"\"\"Returns the accumulated gradient w.r.t. model parameters\"\"\"\n",
    "        return torch.cat([p.grad.reshape(-1) for p in self.parameters()])\n",
    "    \n",
    "    def get_log_det(self, x, y) -> torch.Tensor:\n",
    "        \"\"\"Computes a mini-batch approximation of log det Fisher matrix\"\"\"\n",
    "        accum_sequare_grad = torch.zeros(self.model_length())\n",
    "        for p in self.parameters():\n",
    "            p.grad = torch.zeros_like(p)\n",
    "        for i in range(x.shape[0]):\n",
    "            self.min_log_likeli(x[i][None], y[i][None]).backward()\n",
    "            accum_sequare_grad += self.model_grad() ** 2\n",
    "        \n",
    "        accum_sequare_grad += 1 / config.sigma_prior ** 2\n",
    "        return torch.log(accum_sequare_grad).sum()\n"
   ]
  },
  {
   "cell_type": "code",
   "execution_count": 6,
   "metadata": {},
   "outputs": [
    {
     "data": {
      "text/plain": [
       "(tensor(62557.5039, grad_fn=<AddBackward0>), 81)"
      ]
     },
     "execution_count": 6,
     "metadata": {},
     "output_type": "execute_result"
    }
   ],
   "source": [
    "### TEST\n",
    "mlp = MLP(5)\n",
    "x = torch.rand(3, 10)\n",
    "mlp(x).shape\n",
    "mlp.loss(x, torch.randint(2, size=(3,))), mlp.model_length()"
   ]
  },
  {
   "cell_type": "code",
   "execution_count": 7,
   "metadata": {},
   "outputs": [],
   "source": [
    "def train_model(model):\n",
    "    \"\"\"Performs a training loop\"\"\"\n",
    "    model.train()\n",
    "    opt = torch.optim.Adam(model.parameters(), lr=config.lr)\n",
    "\n",
    "    losses = []\n",
    "\n",
    "    for _ in range(config.n_epochs):\n",
    "        for batch in dl:\n",
    "            x, y = batch\n",
    "            opt.zero_grad()\n",
    "            loss = model.loss(x, y)\n",
    "            losses.append(loss.item())\n",
    "            loss.backward()\n",
    "            opt.step()\n",
    "            \n",
    "    return losses\n"
   ]
  },
  {
   "cell_type": "markdown",
   "metadata": {},
   "source": [
    "### Train the models"
   ]
  },
  {
   "cell_type": "code",
   "execution_count": 8,
   "metadata": {},
   "outputs": [],
   "source": [
    "report = {\n",
    "    'lengths': [],\n",
    "    'log_dets': [],\n",
    "    'min_log_likeli': [],\n",
    "    'min_log_prior': [],\n",
    "}\n",
    "losses_arr = []\n",
    "\n",
    "X_tensor = torch.stack([el[0] for el in ds])\n",
    "y_tensor = torch.stack([el[1] for el in ds])\n",
    "\n",
    "for hidden_size in config.hidden_list:\n",
    "    model = MLP(hidden_size=hidden_size)\n",
    "    report['lengths'].append(model.model_length())\n",
    "    losses = train_model(model)\n",
    "    losses_arr.append(losses)\n",
    "    model.eval()\n",
    "    report['log_dets'].append(model.get_log_det(X_tensor, y_tensor).detach().cpu().numpy())\n",
    "    report['min_log_likeli'].append(model.min_log_likeli(X_tensor, y_tensor).detach().cpu().numpy())\n",
    "    report['min_log_prior'].append(model.min_log_prior().detach().cpu().numpy())\n",
    "    "
   ]
  },
  {
   "cell_type": "markdown",
   "metadata": {},
   "source": [
    "### Visualize training\n",
    "Make sure that all models have successfully converged"
   ]
  },
  {
   "cell_type": "code",
   "execution_count": 9,
   "metadata": {},
   "outputs": [
    {
     "data": {
      "image/png": "[encoded data removed]",
      "text/plain": [
       "<Figure size 1200x200 with 4 Axes>"
      ]
     },
     "metadata": {},
     "output_type": "display_data"
    }
   ],
   "source": [
    "fig, axs = plt.subplots(1, len(config.hidden_list), figsize=(12, 2), sharey=True)\n",
    "for i in range(len(config.hidden_list)):\n",
    "    axs[i].plot(losses_arr[i])\n",
    "    axs[i].set_xlabel('Iteration')\n",
    "    axs[i].set_title(f'hidden_size = {config.hidden_list[i]}')\n",
    "axs[0].set_ylabel('Loss')\n",
    "plt.show()"
   ]
  },
  {
   "cell_type": "code",
   "execution_count": 10,
   "metadata": {},
   "outputs": [],
   "source": [
    "def l_f(length: int):\n",
    "    \"\"\"Computes L(f) term\"\"\"\n",
    "    return -0.5 * length * (np.log(2 * np.pi) - np.log(config.data_size))\n",
    "\n",
    "def l_d_f(min_log_likeli):\n",
    "    \"\"\"Computes L(d|f) term\"\"\"\n",
    "    return min_log_likeli\n",
    "\n",
    "def l_theta_f(min_log_prior, log_det_fisher):\n",
    "    \"\"\"Computes L(theta|f) term\"\"\"\n",
    "    return min_log_prior + 1/2 * log_det_fisher"
   ]
  },
  {
   "cell_type": "code",
   "execution_count": 11,
   "metadata": {},
   "outputs": [],
   "source": [
    "final_report = {'l_f': [], 'l_d_f': [], 'l_theta_f': []}\n",
    "\n",
    "for i in range(len(report['lengths'])):\n",
    "    final_report['l_f'].append(l_f(report['lengths'][i]))\n",
    "    final_report['l_d_f'].append(l_d_f(report['min_log_likeli'][i]))\n",
    "    final_report['l_theta_f'].append(l_theta_f(report['min_log_prior'][i], report['log_dets'][i]))\n",
    "    \n",
    "for key in final_report:\n",
    "    final_report[key] = np.array(final_report[key]).astype(np.float32)\n",
    "    final_report[key] /= final_report[key].max()"
   ]
  },
  {
   "cell_type": "markdown",
   "metadata": {},
   "source": [
    "### Final visualization"
   ]
  },
  {
   "cell_type": "code",
   "execution_count": 12,
   "metadata": {},
   "outputs": [
    {
     "data": {
      "image/png": "[encoded data removed]",
      "text/plain": [
       "<Figure size 1000x300 with 1 Axes>"
      ]
     },
     "metadata": {},
     "output_type": "display_data"
    }
   ],
   "source": [
    "plt.figure(figsize=(10, 3))\n",
    "\n",
    "plt.tick_params(labelbottom = False, bottom = False)\n",
    "\n",
    "vis_mapping = {'l_f': r'$L(f)$', 'l_d_f': r'$L(D|f, \\theta)$', 'l_theta_f': r'$L(\\theta|f)$'}\n",
    "\n",
    "values = np.zeros_like(report['lengths']).astype(np.float32)\n",
    "for key in final_report:\n",
    "    plt.barh([str(l) for l in config.hidden_list], final_report[key], label=vis_mapping[key], left=values)\n",
    "    values += final_report[key]\n",
    "plt.legend()\n",
    "plt.xlabel('description length')\n",
    "plt.ylabel('hidden size')\n",
    "plt.show()"
   ]
  },
  {
   "cell_type": "markdown",
   "metadata": {},
   "source": [
    "### Conclusion\n",
    "\n",
    "As we can see from the diagram, a neural network with only one neuron in the hidden layer has the\n",
    "shortest description lengths. This suggests that such simple MLP are over-parametrized."
   ]
  },
  {
   "cell_type": "code",
   "execution_count": null,
   "metadata": {},
   "outputs": [],
   "source": []
  }
 ],
 "metadata": {
  "kernelspec": {
   "display_name": "Python 3 (ipykernel)",
   "language": "python",
   "name": "python3"
  },
  "language_info": {
   "codemirror_mode": {
    "name": "ipython",
    "version": 3
   },
   "file_extension": ".py",
   "mimetype": "text/x-python",
   "name": "python",
   "nbconvert_exporter": "python",
   "pygments_lexer": "ipython3",
   "version": "3.7.13"
  },
  "vscode": {
   "interpreter": {
    "hash": "1320fef64f0fd41207ed64042faa8147d553d2c82713baaf86dd1e4e1622b08b"
   }
  }
 },
 "nbformat": 4,
 "nbformat_minor": 4
}
